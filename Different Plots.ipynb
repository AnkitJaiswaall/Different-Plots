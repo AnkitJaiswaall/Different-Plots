{
 "cells": [
  {
   "cell_type": "code",
   "execution_count": 1,
   "id": "a4ab0ce4",
   "metadata": {},
   "outputs": [],
   "source": [
    "import pandas as pd\n",
    "import numpy as np"
   ]
  },
  {
   "cell_type": "code",
   "execution_count": 2,
   "id": "098b92c1",
   "metadata": {},
   "outputs": [],
   "source": [
    "%matplotlib inline"
   ]
  },
  {
   "cell_type": "code",
   "execution_count": 3,
   "id": "f9ae8e75",
   "metadata": {},
   "outputs": [],
   "source": [
    "from plotly import __version__"
   ]
  },
  {
   "cell_type": "code",
   "execution_count": 4,
   "id": "e9e527c8",
   "metadata": {},
   "outputs": [],
   "source": [
    "import cufflinks as cf"
   ]
  },
  {
   "cell_type": "code",
   "execution_count": 5,
   "id": "953b0d05",
   "metadata": {},
   "outputs": [],
   "source": [
    "from plotly.offline import download_plotlyjs,init_notebook_mode,plot,iplot"
   ]
  },
  {
   "cell_type": "code",
   "execution_count": 6,
   "id": "3d062c67",
   "metadata": {},
   "outputs": [
    {
     "data": {
      "text/html": [
       "        <script type=\"text/javascript\">\n",
       "        window.PlotlyConfig = {MathJaxConfig: 'local'};\n",
       "        if (window.MathJax) {MathJax.Hub.Config({SVG: {font: \"STIX-Web\"}});}\n",
       "        if (typeof require !== 'undefined') {\n",
       "        require.undef(\"plotly\");\n",
       "        requirejs.config({\n",
       "            paths: {\n",
       "                'plotly': ['https://cdn.plot.ly/plotly-2.4.2.min']\n",
       "            }\n",
       "        });\n",
       "        require(['plotly'], function(Plotly) {\n",
       "            window._Plotly = Plotly;\n",
       "        });\n",
       "        }\n",
       "        </script>\n",
       "        "
      ]
     },
     "metadata": {},
     "output_type": "display_data"
    }
   ],
   "source": [
    "init_notebook_mode(connected=True)"
   ]
  },
  {
   "cell_type": "code",
   "execution_count": 7,
   "id": "8c1a607d",
   "metadata": {},
   "outputs": [
    {
     "data": {
      "text/html": [
       "        <script type=\"text/javascript\">\n",
       "        window.PlotlyConfig = {MathJaxConfig: 'local'};\n",
       "        if (window.MathJax) {MathJax.Hub.Config({SVG: {font: \"STIX-Web\"}});}\n",
       "        if (typeof require !== 'undefined') {\n",
       "        require.undef(\"plotly\");\n",
       "        requirejs.config({\n",
       "            paths: {\n",
       "                'plotly': ['https://cdn.plot.ly/plotly-2.4.2.min']\n",
       "            }\n",
       "        });\n",
       "        require(['plotly'], function(Plotly) {\n",
       "            window._Plotly = Plotly;\n",
       "        });\n",
       "        }\n",
       "        </script>\n",
       "        "
      ]
     },
     "metadata": {},
     "output_type": "display_data"
    }
   ],
   "source": [
    "cf.go_offline()"
   ]
  },
  {
   "cell_type": "code",
   "execution_count": 8,
   "id": "1a1b1c1a",
   "metadata": {},
   "outputs": [],
   "source": [
    "df=pd.DataFrame(np.random.randn(100,4),columns='A B C D'.split())"
   ]
  },
  {
   "cell_type": "code",
   "execution_count": 9,
   "id": "2fb1ae34",
   "metadata": {},
   "outputs": [
    {
     "data": {
      "text/html": [
       "<div>\n",
       "<style scoped>\n",
       "    .dataframe tbody tr th:only-of-type {\n",
       "        vertical-align: middle;\n",
       "    }\n",
       "\n",
       "    .dataframe tbody tr th {\n",
       "        vertical-align: top;\n",
       "    }\n",
       "\n",
       "    .dataframe thead th {\n",
       "        text-align: right;\n",
       "    }\n",
       "</style>\n",
       "<table border=\"1\" class=\"dataframe\">\n",
       "  <thead>\n",
       "    <tr style=\"text-align: right;\">\n",
       "      <th></th>\n",
       "      <th>A</th>\n",
       "      <th>B</th>\n",
       "      <th>C</th>\n",
       "      <th>D</th>\n",
       "    </tr>\n",
       "  </thead>\n",
       "  <tbody>\n",
       "    <tr>\n",
       "      <th>0</th>\n",
       "      <td>0.581697</td>\n",
       "      <td>-0.569638</td>\n",
       "      <td>-0.945927</td>\n",
       "      <td>-0.640411</td>\n",
       "    </tr>\n",
       "    <tr>\n",
       "      <th>1</th>\n",
       "      <td>0.123164</td>\n",
       "      <td>1.135173</td>\n",
       "      <td>0.195311</td>\n",
       "      <td>-1.203617</td>\n",
       "    </tr>\n",
       "    <tr>\n",
       "      <th>2</th>\n",
       "      <td>-0.223982</td>\n",
       "      <td>0.915200</td>\n",
       "      <td>1.430386</td>\n",
       "      <td>-0.265453</td>\n",
       "    </tr>\n",
       "    <tr>\n",
       "      <th>3</th>\n",
       "      <td>-0.889593</td>\n",
       "      <td>-0.008442</td>\n",
       "      <td>0.036675</td>\n",
       "      <td>0.734633</td>\n",
       "    </tr>\n",
       "    <tr>\n",
       "      <th>4</th>\n",
       "      <td>0.275219</td>\n",
       "      <td>-0.062582</td>\n",
       "      <td>1.632692</td>\n",
       "      <td>0.480787</td>\n",
       "    </tr>\n",
       "  </tbody>\n",
       "</table>\n",
       "</div>"
      ],
      "text/plain": [
       "          A         B         C         D\n",
       "0  0.581697 -0.569638 -0.945927 -0.640411\n",
       "1  0.123164  1.135173  0.195311 -1.203617\n",
       "2 -0.223982  0.915200  1.430386 -0.265453\n",
       "3 -0.889593 -0.008442  0.036675  0.734633\n",
       "4  0.275219 -0.062582  1.632692  0.480787"
      ]
     },
     "execution_count": 9,
     "metadata": {},
     "output_type": "execute_result"
    }
   ],
   "source": [
    "df.head()"
   ]
  },
  {
   "cell_type": "code",
   "execution_count": 10,
   "id": "48ba23c1",
   "metadata": {},
   "outputs": [],
   "source": [
    "df2=pd.DataFrame({'Category':['A','B','C'],'Values':[32,10,43]})"
   ]
  },
  {
   "cell_type": "code",
   "execution_count": 11,
   "id": "4a9c4471",
   "metadata": {},
   "outputs": [
    {
     "data": {
      "text/html": [
       "<div>\n",
       "<style scoped>\n",
       "    .dataframe tbody tr th:only-of-type {\n",
       "        vertical-align: middle;\n",
       "    }\n",
       "\n",
       "    .dataframe tbody tr th {\n",
       "        vertical-align: top;\n",
       "    }\n",
       "\n",
       "    .dataframe thead th {\n",
       "        text-align: right;\n",
       "    }\n",
       "</style>\n",
       "<table border=\"1\" class=\"dataframe\">\n",
       "  <thead>\n",
       "    <tr style=\"text-align: right;\">\n",
       "      <th></th>\n",
       "      <th>Category</th>\n",
       "      <th>Values</th>\n",
       "    </tr>\n",
       "  </thead>\n",
       "  <tbody>\n",
       "    <tr>\n",
       "      <th>0</th>\n",
       "      <td>A</td>\n",
       "      <td>32</td>\n",
       "    </tr>\n",
       "    <tr>\n",
       "      <th>1</th>\n",
       "      <td>B</td>\n",
       "      <td>10</td>\n",
       "    </tr>\n",
       "    <tr>\n",
       "      <th>2</th>\n",
       "      <td>C</td>\n",
       "      <td>43</td>\n",
       "    </tr>\n",
       "  </tbody>\n",
       "</table>\n",
       "</div>"
      ],
      "text/plain": [
       "  Category  Values\n",
       "0        A      32\n",
       "1        B      10\n",
       "2        C      43"
      ]
     },
     "execution_count": 11,
     "metadata": {},
     "output_type": "execute_result"
    }
   ],
   "source": [
    "df2"
   ]
  },
  {
   "cell_type": "code",
   "execution_count": 12,
   "id": "502b4d6d",
   "metadata": {},
   "outputs": [
    {
     "data": {
      "text/plain": [
       "<AxesSubplot:>"
      ]
     },
     "execution_count": 12,
     "metadata": {},
     "output_type": "execute_result"
    },
    {
     "data": {
      "image/png": "[encoded data removed]",
      "text/plain": [
       "<Figure size 432x288 with 1 Axes>"
      ]
     },
     "metadata": {
      "needs_background": "light"
     },
     "output_type": "display_data"
    }
   ],
   "source": [
    "df.plot()"
   ]
  },
  {
   "cell_type": "code",
   "execution_count": 13,
   "id": "bb6118b2",
   "metadata": {},
   "outputs": [
    {
     "data": {
      "application/vnd.plotly.v1+json": {
       "config": {
        "linkText": "Export to plot.ly",
        "plotlyServerURL": "https://plot.ly",
        "showLink": true
       },
       "data": [
        {
         "line": {
          "color": "rgba(255, 153, 51, 1.0)",
          "dash": "solid",
          "shape": "linear",
          "width": 1.3
         },
         "marker": {
          "size": 12,
          "symbol": "circle"
         },
         "mode": "markers",
         "name": "B",
         "text": "",
         "type": "scatter",
         "x": [
          0.5816966956153499,
          0.12316386314759027,
          -0.22398171843685152,
          -0.8895932385975902,
          0.2752188676636905,
          -0.2043642311215671,
          0.3948123118583736,
          0.48645630871897805,
          1.5739071788301084,
          2.1488658396531037,
          -0.31708220249715474,
          -0.9711842754967692,
          1.2628175279667635,
          -1.1834028893365194,
          1.6944271259868855,
          -0.5931338474672299,
          0.0027807338470003007,
          -0.6818703057681064,
          0.6628178049410343,
          0.03540578774837641,
          0.732895635310974,
          -0.4275137954232451,
          1.320181769808673,
          -1.482472611175471,
          2.071582002661825,
          -0.01967219630635455,
          1.209423427603569,
          1.6610041759226586,
          -0.5453412431129742,
          0.3258745239218415,
          -0.27722164238155605,
          0.6478830076709254,
          0.9950648418037051,
          -0.48714277801385814,
          -0.4436228773791175,
          0.11702106920114262,
          -0.5740663577799426,
          2.002122515184173,
          0.014114137435172026,
          0.2517242524460662,
          -0.11235543580606286,
          0.5375253295601139,
          -0.5968833989130355,
          0.048054972651586265,
          -1.123202596891187,
          0.004196248013858794,
          0.661815828049052,
          -1.2980041274097809,
          0.3744164921338543,
          -0.17708144186725294,
          0.2076525777904713,
          -1.3025365058856804,
          -1.5590190180060983,
          0.6248400236247296,
          0.7911141185158476,
          -0.49037525611041033,
          1.2330545424386792,
          0.6709923076578755,
          -0.5331723733231042,
          0.10228037344181613,
          -0.1363508547845355,
          2.218762225844916,
          0.5446047848971652,
          -0.08107298699081342,
          0.585020407460338,
          0.7651851072247567,
          0.5140874559311198,
          -0.5527227666251414,
          0.328474992492661,
          1.7157964042871225,
          -0.4754802351708734,
          -0.2393856771841323,
          1.0401174604876424,
          1.4134185841189972,
          -0.665029001262137,
          -1.122798015523656,
          -0.5260727243464802,
          -2.6006280522817535,
          1.0467518800084306,
          0.39306453239966815,
          -0.33878690050097,
          -1.7677071848964492,
          0.23253039445027843,
          -0.6199365487060867,
          1.4471217025997936,
          -0.507721592541854,
          0.14885342347303643,
          0.5986738883632382,
          0.16912484206819606,
          0.9555600442980435,
          -1.0980989001705028,
          -0.020763816433263235,
          0.6062071067217284,
          -0.8319213017686466,
          1.0144730260507537,
          1.458043788509651,
          -1.4586298959821542,
          -1.3109773870068864,
          -1.9505596262167764,
          1.1103572219598006
         ],
         "y": [
          -0.5696383137081489,
          1.1351734827535165,
          0.9152001917611036,
          -0.00844155094580938,
          -0.06258170188690283,
          -1.397960774408616,
          0.3435980433431662,
          1.9771984759663241,
          0.7980962552551226,
          0.5099384295338028,
          0.6953264740395925,
          -0.050924092129710836,
          -0.6895188701915604,
          0.915616107381015,
          0.02037246592326186,
          -1.1576373722887503,
          -0.2887963256996219,
          0.4796209590156369,
          -1.2707481935591634,
          -1.0331744754868155,
          -1.6716818578114625,
          1.2795257614096645,
          -0.04397638767144347,
          -1.516411895677526,
          -0.5005577684774363,
          0.5504292610693635,
          0.5207414902462956,
          -1.0748864153982811,
          0.42032320246494,
          1.1925244880627393,
          -1.1332177751503012,
          -0.24171705755197975,
          0.1584254681040101,
          -0.32122177949433656,
          1.1041953084365854,
          0.08917121729266873,
          1.3853616467346457,
          -0.3212564324754563,
          -0.6905917343160966,
          -1.9487907074894022,
          -0.31918002995573874,
          1.0099101012017528,
          -0.23567285927983872,
          0.786843177647913,
          0.3801931489000957,
          0.06733360341928074,
          -0.4182380904879572,
          0.448230605012123,
          1.1428226019923269,
          -0.7008002812067107,
          -0.9528265960823682,
          0.16921409666104573,
          -0.2321189369103486,
          1.4067150981879595,
          -0.8996080725849857,
          -0.020364228761414607,
          -0.6051186814565923,
          -0.4542178787439367,
          0.8902985465091476,
          1.4360863024404278,
          0.6424637101068639,
          -0.24572297220482406,
          -1.144635878568656,
          -0.3104964171676207,
          -1.8442320270700612,
          -0.402890083735357,
          0.3096071207553138,
          -1.3247774875957332,
          -0.5749890046206451,
          -2.5623083464476264,
          2.0939381145938447,
          -1.4627844809059278,
          -1.04506207721916,
          -1.1635640272612695,
          0.8498142990554263,
          0.5790979612786291,
          -0.8035121129131575,
          0.6915682382008483,
          0.9887753358120481,
          0.5725170736416944,
          0.637381534075287,
          -1.2161750257605888,
          -0.7287165307989403,
          -0.5464232876632266,
          -0.3649806962939663,
          1.3472364069340996,
          1.3415149669927902,
          -0.7423986256356838,
          0.3235175537655451,
          0.01830620317089403,
          -0.21560964163712618,
          -0.6799803836072068,
          -1.4445582587569874,
          1.2488961247500823,
          0.06940321488678963,
          0.048331872198486114,
          -0.9251927212592852,
          -1.629426086050211,
          0.9752502823722285,
          1.2294186690010769
         ]
        }
       ],
       "layout": {
        "legend": {
         "bgcolor": "#F5F6F9",
         "font": {
          "color": "#4D5663"
         }
        },
        "paper_bgcolor": "#F5F6F9",
        "plot_bgcolor": "#F5F6F9",
        "template": {
         "data": {
          "bar": [
           {
            "error_x": {
             "color": "#2a3f5f"
            },
            "error_y": {
             "color": "#2a3f5f"
            },
            "marker": {
             "line": {
              "color": "#E5ECF6",
              "width": 0.5
             },
             "pattern": {
              "fillmode": "overlay",
              "size": 10,
              "solidity": 0.2
             }
            },
            "type": "bar"
           }
          ],
          "barpolar": [
           {
            "marker": {
             "line": {
              "color": "#E5ECF6",
              "width": 0.5
             },
             "pattern": {
              "fillmode": "overlay",
              "size": 10,
              "solidity": 0.2
             }
            },
            "type": "barpolar"
           }
          ],
          "carpet": [
           {
            "aaxis": {
             "endlinecolor": "#2a3f5f",
             "gridcolor": "white",
             "linecolor": "white",
             "minorgridcolor": "white",
             "startlinecolor": "#2a3f5f"
            },
            "baxis": {
             "endlinecolor": "#2a3f5f",
             "gridcolor": "white",
             "linecolor": "white",
             "minorgridcolor": "white",
             "startlinecolor": "#2a3f5f"
            },
            "type": "carpet"
           }
          ],
          "choropleth": [
           {
            "colorbar": {
             "outlinewidth": 0,
             "ticks": ""
            },
            "type": "choropleth"
           }
          ],
          "contour": [
           {
            "colorbar": {
             "outlinewidth": 0,
             "ticks": ""
            },
            "colorscale": [
             [
              0,
              "#0d0887"
             ],
             [
              0.1111111111111111,
              "#46039f"
             ],
             [
              0.2222222222222222,
              "#7201a8"
             ],
             [
              0.3333333333333333,
              "#9c179e"
             ],
             [
              0.4444444444444444,
              "#bd3786"
             ],
             [
              0.5555555555555556,
              "#d8576b"
             ],
             [
              0.6666666666666666,
              "#ed7953"
             ],
             [
              0.7777777777777778,
              "#fb9f3a"
             ],
             [
              0.8888888888888888,
              "#fdca26"
             ],
             [
              1,
              "#f0f921"
             ]
            ],
            "type": "contour"
           }
          ],
          "contourcarpet": [
           {
            "colorbar": {
             "outlinewidth": 0,
             "ticks": ""
            },
            "type": "contourcarpet"
           }
          ],
          "heatmap": [
           {
            "colorbar": {
             "outlinewidth": 0,
             "ticks": ""
            },
            "colorscale": [
             [
              0,
              "#0d0887"
             ],
             [
              0.1111111111111111,
              "#46039f"
             ],
             [
              0.2222222222222222,
              "#7201a8"
             ],
             [
              0.3333333333333333,
              "#9c179e"
             ],
             [
              0.4444444444444444,
              "#bd3786"
             ],
             [
              0.5555555555555556,
              "#d8576b"
             ],
             [
              0.6666666666666666,
              "#ed7953"
             ],
             [
              0.7777777777777778,
              "#fb9f3a"
             ],
             [
              0.8888888888888888,
              "#fdca26"
             ],
             [
              1,
              "#f0f921"
             ]
            ],
            "type": "heatmap"
           }
          ],
          "heatmapgl": [
           {
            "colorbar": {
             "outlinewidth": 0,
             "ticks": ""
            },
            "colorscale": [
             [
              0,
              "#0d0887"
             ],
             [
              0.1111111111111111,
              "#46039f"
             ],
             [
              0.2222222222222222,
              "#7201a8"
             ],
             [
              0.3333333333333333,
              "#9c179e"
             ],
             [
              0.4444444444444444,
              "#bd3786"
             ],
             [
              0.5555555555555556,
              "#d8576b"
             ],
             [
              0.6666666666666666,
              "#ed7953"
             ],
             [
              0.7777777777777778,
              "#fb9f3a"
             ],
             [
              0.8888888888888888,
              "#fdca26"
             ],
             [
              1,
              "#f0f921"
             ]
            ],
            "type": "heatmapgl"
           }
          ],
          "histogram": [
           {
            "marker": {
             "pattern": {
              "fillmode": "overlay",
              "size": 10,
              "solidity": 0.2
             }
            },
            "type": "histogram"
           }
          ],
          "histogram2d": [
           {
            "colorbar": {
             "outlinewidth": 0,
             "ticks": ""
            },
            "colorscale": [
             [
              0,
              "#0d0887"
             ],
             [
              0.1111111111111111,
              "#46039f"
             ],
             [
              0.2222222222222222,
              "#7201a8"
             ],
             [
              0.3333333333333333,
              "#9c179e"
             ],
             [
              0.4444444444444444,
              "#bd3786"
             ],
             [
              0.5555555555555556,
              "#d8576b"
             ],
             [
              0.6666666666666666,
              "#ed7953"
             ],
             [
              0.7777777777777778,
              "#fb9f3a"
             ],
             [
              0.8888888888888888,
              "#fdca26"
             ],
             [
              1,
              "#f0f921"
             ]
            ],
            "type": "histogram2d"
           }
          ],
          "histogram2dcontour": [
           {
            "colorbar": {
             "outlinewidth": 0,
             "ticks": ""
            },
            "colorscale": [
             [
              0,
              "#0d0887"
             ],
             [
              0.1111111111111111,
              "#46039f"
             ],
             [
              0.2222222222222222,
              "#7201a8"
             ],
             [
              0.3333333333333333,
              "#9c179e"
             ],
             [
              0.4444444444444444,
              "#bd3786"
             ],
             [
              0.5555555555555556,
              "#d8576b"
             ],
             [
              0.6666666666666666,
              "#ed7953"
             ],
             [
              0.7777777777777778,
              "#fb9f3a"
             ],
             [
              0.8888888888888888,
              "#fdca26"
             ],
             [
              1,
              "#f0f921"
             ]
            ],
            "type": "histogram2dcontour"
           }
          ],
          "mesh3d": [
           {
            "colorbar": {
             "outlinewidth": 0,
             "ticks": ""
            },
            "type": "mesh3d"
           }
          ],
          "parcoords": [
           {
            "line": {
             "colorbar": {
              "outlinewidth": 0,
              "ticks": ""
             }
            },
            "type": "parcoords"
           }
          ],
          "pie": [
           {
            "automargin": true,
            "type": "pie"
           }
          ],
          "scatter": [
           {
            "marker": {
             "colorbar": {
              "outlinewidth": 0,
              "ticks": ""
             }
            },
            "type": "scatter"
           }
          ],
          "scatter3d": [
           {
            "line": {
             "colorbar": {
              "outlinewidth": 0,
              "ticks": ""
             }
            },
            "marker": {
             "colorbar": {
              "outlinewidth": 0,
              "ticks": ""
             }
            },
            "type": "scatter3d"
           }
          ],
          "scattercarpet": [
           {
            "marker": {
             "colorbar": {
              "outlinewidth": 0,
              "ticks": ""
             }
            },
            "type": "scattercarpet"
           }
          ],
          "scattergeo": [
           {
            "marker": {
             "colorbar": {
              "outlinewidth": 0,
              "ticks": ""
             }
            },
            "type": "scattergeo"
           }
          ],
          "scattergl": [
           {
            "marker": {
             "colorbar": {
              "outlinewidth": 0,
              "ticks": ""
             }
            },
            "type": "scattergl"
           }
          ],
          "scattermapbox": [
           {
            "marker": {
             "colorbar": {
              "outlinewidth": 0,
              "ticks": ""
             }
            },
            "type": "scattermapbox"
           }
          ],
          "scatterpolar": [
           {
            "marker": {
             "colorbar": {
              "outlinewidth": 0,
              "ticks": ""
             }
            },
            "type": "scatterpolar"
           }
          ],
          "scatterpolargl": [
           {
            "marker": {
             "colorbar": {
              "outlinewidth": 0,
              "ticks": ""
             }
            },
            "type": "scatterpolargl"
           }
          ],
          "scatterternary": [
           {
            "marker": {
             "colorbar": {
              "outlinewidth": 0,
              "ticks": ""
             }
            },
            "type": "scatterternary"
           }
          ],
          "surface": [
           {
            "colorbar": {
             "outlinewidth": 0,
             "ticks": ""
            },
            "colorscale": [
             [
              0,
              "#0d0887"
             ],
             [
              0.1111111111111111,
              "#46039f"
             ],
             [
              0.2222222222222222,
              "#7201a8"
             ],
             [
              0.3333333333333333,
              "#9c179e"
             ],
             [
              0.4444444444444444,
              "#bd3786"
             ],
             [
              0.5555555555555556,
              "#d8576b"
             ],
             [
              0.6666666666666666,
              "#ed7953"
             ],
             [
              0.7777777777777778,
              "#fb9f3a"
             ],
             [
              0.8888888888888888,
              "#fdca26"
             ],
             [
              1,
              "#f0f921"
             ]
            ],
            "type": "surface"
           }
          ],
          "table": [
           {
            "cells": {
             "fill": {
              "color": "#EBF0F8"
             },
             "line": {
              "color": "white"
             }
            },
            "header": {
             "fill": {
              "color": "#C8D4E3"
             },
             "line": {
              "color": "white"
             }
            },
            "type": "table"
           }
          ]
         },
         "layout": {
          "annotationdefaults": {
           "arrowcolor": "#2a3f5f",
           "arrowhead": 0,
           "arrowwidth": 1
          },
          "autotypenumbers": "strict",
          "coloraxis": {
           "colorbar": {
            "outlinewidth": 0,
            "ticks": ""
           }
          },
          "colorscale": {
           "diverging": [
            [
             0,
             "#8e0152"
            ],
            [
             0.1,
             "#c51b7d"
            ],
            [
             0.2,
             "#de77ae"
            ],
            [
             0.3,
             "#f1b6da"
            ],
            [
             0.4,
             "#fde0ef"
            ],
            [
             0.5,
             "#f7f7f7"
            ],
            [
             0.6,
             "#e6f5d0"
            ],
            [
             0.7,
             "#b8e186"
            ],
            [
             0.8,
             "#7fbc41"
            ],
            [
             0.9,
             "#4d9221"
            ],
            [
             1,
             "#276419"
            ]
           ],
           "sequential": [
            [
             0,
             "#0d0887"
            ],
            [
             0.1111111111111111,
             "#46039f"
            ],
            [
             0.2222222222222222,
             "#7201a8"
            ],
            [
             0.3333333333333333,
             "#9c179e"
            ],
            [
             0.4444444444444444,
             "#bd3786"
            ],
            [
             0.5555555555555556,
             "#d8576b"
            ],
            [
             0.6666666666666666,
             "#ed7953"
            ],
            [
             0.7777777777777778,
             "#fb9f3a"
            ],
            [
             0.8888888888888888,
             "#fdca26"
            ],
            [
             1,
             "#f0f921"
            ]
           ],
           "sequentialminus": [
            [
             0,
             "#0d0887"
            ],
            [
             0.1111111111111111,
             "#46039f"
            ],
            [
             0.2222222222222222,
             "#7201a8"
            ],
            [
             0.3333333333333333,
             "#9c179e"
            ],
            [
             0.4444444444444444,
             "#bd3786"
            ],
            [
             0.5555555555555556,
             "#d8576b"
            ],
            [
             0.6666666666666666,
             "#ed7953"
            ],
            [
             0.7777777777777778,
             "#fb9f3a"
            ],
            [
             0.8888888888888888,
             "#fdca26"
            ],
            [
             1,
             "#f0f921"
            ]
           ]
          },
          "colorway": [
           "#636efa",
           "#EF553B",
           "#00cc96",
           "#ab63fa",
           "#FFA15A",
           "#19d3f3",
           "#FF6692",
           "#B6E880",
           "#FF97FF",
           "#FECB52"
          ],
          "font": {
           "color": "#2a3f5f"
          },
          "geo": {
           "bgcolor": "white",
           "lakecolor": "white",
           "landcolor": "#E5ECF6",
           "showlakes": true,
           "showland": true,
           "subunitcolor": "white"
          },
          "hoverlabel": {
           "align": "left"
          },
          "hovermode": "closest",
          "mapbox": {
           "style": "light"
          },
          "paper_bgcolor": "white",
          "plot_bgcolor": "#E5ECF6",
          "polar": {
           "angularaxis": {
            "gridcolor": "white",
            "linecolor": "white",
            "ticks": ""
           },
           "bgcolor": "#E5ECF6",
           "radialaxis": {
            "gridcolor": "white",
            "linecolor": "white",
            "ticks": ""
           }
          },
          "scene": {
           "xaxis": {
            "backgroundcolor": "#E5ECF6",
            "gridcolor": "white",
            "gridwidth": 2,
            "linecolor": "white",
            "showbackground": true,
            "ticks": "",
            "zerolinecolor": "white"
           },
           "yaxis": {
            "backgroundcolor": "#E5ECF6",
            "gridcolor": "white",
            "gridwidth": 2,
            "linecolor": "white",
            "showbackground": true,
            "ticks": "",
            "zerolinecolor": "white"
           },
           "zaxis": {
            "backgroundcolor": "#E5ECF6",
            "gridcolor": "white",
            "gridwidth": 2,
            "linecolor": "white",
            "showbackground": true,
            "ticks": "",
            "zerolinecolor": "white"
           }
          },
          "shapedefaults": {
           "line": {
            "color": "#2a3f5f"
           }
          },
          "ternary": {
           "aaxis": {
            "gridcolor": "white",
            "linecolor": "white",
            "ticks": ""
           },
           "baxis": {
            "gridcolor": "white",
            "linecolor": "white",
            "ticks": ""
           },
           "bgcolor": "#E5ECF6",
           "caxis": {
            "gridcolor": "white",
            "linecolor": "white",
            "ticks": ""
           }
          },
          "title": {
           "x": 0.05
          },
          "xaxis": {
           "automargin": true,
           "gridcolor": "white",
           "linecolor": "white",
           "ticks": "",
           "title": {
            "standoff": 15
           },
           "zerolinecolor": "white",
           "zerolinewidth": 2
          },
          "yaxis": {
           "automargin": true,
           "gridcolor": "white",
           "linecolor": "white",
           "ticks": "",
           "title": {
            "standoff": 15
           },
           "zerolinecolor": "white",
           "zerolinewidth": 2
          }
         }
        },
        "title": {
         "font": {
          "color": "#4D5663"
         }
        },
        "xaxis": {
         "gridcolor": "#E1E5ED",
         "showgrid": true,
         "tickfont": {
          "color": "#4D5663"
         },
         "title": {
          "font": {
           "color": "#4D5663"
          },
          "text": ""
         },
         "zerolinecolor": "#E1E5ED"
        },
        "yaxis": {
         "gridcolor": "#E1E5ED",
         "showgrid": true,
         "tickfont": {
          "color": "#4D5663"
         },
         "title": {
          "font": {
           "color": "#4D5663"
          },
          "text": ""
         },
         "zerolinecolor": "#E1E5ED"
        }
       }
      },
      "text/html": [
       "<div>                            <div id=\"6c176453-349a-433e-95a1-8388c2d699b9\" class=\"plotly-graph-div\" style=\"height:525px; width:100%;\"></div>            <script type=\"text/javascript\">                require([\"plotly\"], function(Plotly) {                    window.PLOTLYENV=window.PLOTLYENV || {};\n",
       "                    window.PLOTLYENV.BASE_URL='https://plot.ly';                                    if (document.getElementById(\"6c176453-349a-433e-95a1-8388c2d699b9\")) {                    Plotly.newPlot(                        \"6c176453-349a-433e-95a1-8388c2d699b9\",                        [{\"line\":{\"color\":\"rgba(255, 153, 51, 1.0)\",\"dash\":\"solid\",\"shape\":\"linear\",\"width\":1.3},\"marker\":{\"size\":12,\"symbol\":\"circle\"},\"mode\":\"markers\",\"name\":\"B\",\"text\":\"\",\"type\":\"scatter\",\"x\":[0.5816966956153499,0.12316386314759027,-0.22398171843685152,-0.8895932385975902,0.2752188676636905,-0.2043642311215671,0.3948123118583736,0.48645630871897805,1.5739071788301084,2.1488658396531037,-0.31708220249715474,-0.9711842754967692,1.2628175279667635,-1.1834028893365194,1.6944271259868855,-0.5931338474672299,0.0027807338470003007,-0.6818703057681064,0.6628178049410343,0.03540578774837641,0.732895635310974,-0.4275137954232451,1.320181769808673,-1.482472611175471,2.071582002661825,-0.01967219630635455,1.209423427603569,1.6610041759226586,-0.5453412431129742,0.3258745239218415,-0.27722164238155605,0.6478830076709254,0.9950648418037051,-0.48714277801385814,-0.4436228773791175,0.11702106920114262,-0.5740663577799426,2.002122515184173,0.014114137435172026,0.2517242524460662,-0.11235543580606286,0.5375253295601139,-0.5968833989130355,0.048054972651586265,-1.123202596891187,0.004196248013858794,0.661815828049052,-1.2980041274097809,0.3744164921338543,-0.17708144186725294,0.2076525777904713,-1.3025365058856804,-1.5590190180060983,0.6248400236247296,0.7911141185158476,-0.49037525611041033,1.2330545424386792,0.6709923076578755,-0.5331723733231042,0.10228037344181613,-0.1363508547845355,2.218762225844916,0.5446047848971652,-0.08107298699081342,0.585020407460338,0.7651851072247567,0.5140874559311198,-0.5527227666251414,0.328474992492661,1.7157964042871225,-0.4754802351708734,-0.2393856771841323,1.0401174604876424,1.4134185841189972,-0.665029001262137,-1.122798015523656,-0.5260727243464802,-2.6006280522817535,1.0467518800084306,0.39306453239966815,-0.33878690050097,-1.7677071848964492,0.23253039445027843,-0.6199365487060867,1.4471217025997936,-0.507721592541854,0.14885342347303643,0.5986738883632382,0.16912484206819606,0.9555600442980435,-1.0980989001705028,-0.020763816433263235,0.6062071067217284,-0.8319213017686466,1.0144730260507537,1.458043788509651,-1.4586298959821542,-1.3109773870068864,-1.9505596262167764,1.1103572219598006],\"y\":[-0.5696383137081489,1.1351734827535165,0.9152001917611036,-0.00844155094580938,-0.06258170188690283,-1.397960774408616,0.3435980433431662,1.9771984759663241,0.7980962552551226,0.5099384295338028,0.6953264740395925,-0.050924092129710836,-0.6895188701915604,0.915616107381015,0.02037246592326186,-1.1576373722887503,-0.2887963256996219,0.4796209590156369,-1.2707481935591634,-1.0331744754868155,-1.6716818578114625,1.2795257614096645,-0.04397638767144347,-1.516411895677526,-0.5005577684774363,0.5504292610693635,0.5207414902462956,-1.0748864153982811,0.42032320246494,1.1925244880627393,-1.1332177751503012,-0.24171705755197975,0.1584254681040101,-0.32122177949433656,1.1041953084365854,0.08917121729266873,1.3853616467346457,-0.3212564324754563,-0.6905917343160966,-1.9487907074894022,-0.31918002995573874,1.0099101012017528,-0.23567285927983872,0.786843177647913,0.3801931489000957,0.06733360341928074,-0.4182380904879572,0.448230605012123,1.1428226019923269,-0.7008002812067107,-0.9528265960823682,0.16921409666104573,-0.2321189369103486,1.4067150981879595,-0.8996080725849857,-0.020364228761414607,-0.6051186814565923,-0.4542178787439367,0.8902985465091476,1.4360863024404278,0.6424637101068639,-0.24572297220482406,-1.144635878568656,-0.3104964171676207,-1.8442320270700612,-0.402890083735357,0.3096071207553138,-1.3247774875957332,-0.5749890046206451,-2.5623083464476264,2.0939381145938447,-1.4627844809059278,-1.04506207721916,-1.1635640272612695,0.8498142990554263,0.5790979612786291,-0.8035121129131575,0.6915682382008483,0.9887753358120481,0.5725170736416944,0.637381534075287,-1.2161750257605888,-0.7287165307989403,-0.5464232876632266,-0.3649806962939663,1.3472364069340996,1.3415149669927902,-0.7423986256356838,0.3235175537655451,0.01830620317089403,-0.21560964163712618,-0.6799803836072068,-1.4445582587569874,1.2488961247500823,0.06940321488678963,0.048331872198486114,-0.9251927212592852,-1.629426086050211,0.9752502823722285,1.2294186690010769]}],                        {\"legend\":{\"bgcolor\":\"#F5F6F9\",\"font\":{\"color\":\"#4D5663\"}},\"paper_bgcolor\":\"#F5F6F9\",\"plot_bgcolor\":\"#F5F6F9\",\"template\":{\"data\":{\"bar\":[{\"error_x\":{\"color\":\"#2a3f5f\"},\"error_y\":{\"color\":\"#2a3f5f\"},\"marker\":{\"line\":{\"color\":\"#E5ECF6\",\"width\":0.5},\"pattern\":{\"fillmode\":\"overlay\",\"size\":10,\"solidity\":0.2}},\"type\":\"bar\"}],\"barpolar\":[{\"marker\":{\"line\":{\"color\":\"#E5ECF6\",\"width\":0.5},\"pattern\":{\"fillmode\":\"overlay\",\"size\":10,\"solidity\":0.2}},\"type\":\"barpolar\"}],\"carpet\":[{\"aaxis\":{\"endlinecolor\":\"#2a3f5f\",\"gridcolor\":\"white\",\"linecolor\":\"white\",\"minorgridcolor\":\"white\",\"startlinecolor\":\"#2a3f5f\"},\"baxis\":{\"endlinecolor\":\"#2a3f5f\",\"gridcolor\":\"white\",\"linecolor\":\"white\",\"minorgridcolor\":\"white\",\"startlinecolor\":\"#2a3f5f\"},\"type\":\"carpet\"}],\"choropleth\":[{\"colorbar\":{\"outlinewidth\":0,\"ticks\":\"\"},\"type\":\"choropleth\"}],\"contour\":[{\"colorbar\":{\"outlinewidth\":0,\"ticks\":\"\"},\"colorscale\":[[0.0,\"#0d0887\"],[0.1111111111111111,\"#46039f\"],[0.2222222222222222,\"#7201a8\"],[0.3333333333333333,\"#9c179e\"],[0.4444444444444444,\"#bd3786\"],[0.5555555555555556,\"#d8576b\"],[0.6666666666666666,\"#ed7953\"],[0.7777777777777778,\"#fb9f3a\"],[0.8888888888888888,\"#fdca26\"],[1.0,\"#f0f921\"]],\"type\":\"contour\"}],\"contourcarpet\":[{\"colorbar\":{\"outlinewidth\":0,\"ticks\":\"\"},\"type\":\"contourcarpet\"}],\"heatmap\":[{\"colorbar\":{\"outlinewidth\":0,\"ticks\":\"\"},\"colorscale\":[[0.0,\"#0d0887\"],[0.1111111111111111,\"#46039f\"],[0.2222222222222222,\"#7201a8\"],[0.3333333333333333,\"#9c179e\"],[0.4444444444444444,\"#bd3786\"],[0.5555555555555556,\"#d8576b\"],[0.6666666666666666,\"#ed7953\"],[0.7777777777777778,\"#fb9f3a\"],[0.8888888888888888,\"#fdca26\"],[1.0,\"#f0f921\"]],\"type\":\"heatmap\"}],\"heatmapgl\":[{\"colorbar\":{\"outlinewidth\":0,\"ticks\":\"\"},\"colorscale\":[[0.0,\"#0d0887\"],[0.1111111111111111,\"#46039f\"],[0.2222222222222222,\"#7201a8\"],[0.3333333333333333,\"#9c179e\"],[0.4444444444444444,\"#bd3786\"],[0.5555555555555556,\"#d8576b\"],[0.6666666666666666,\"#ed7953\"],[0.7777777777777778,\"#fb9f3a\"],[0.8888888888888888,\"#fdca26\"],[1.0,\"#f0f921\"]],\"type\":\"heatmapgl\"}],\"histogram\":[{\"marker\":{\"pattern\":{\"fillmode\":\"overlay\",\"size\":10,\"solidity\":0.2}},\"type\":\"histogram\"}],\"histogram2d\":[{\"colorbar\":{\"outlinewidth\":0,\"ticks\":\"\"},\"colorscale\":[[0.0,\"#0d0887\"],[0.1111111111111111,\"#46039f\"],[0.2222222222222222,\"#7201a8\"],[0.3333333333333333,\"#9c179e\"],[0.4444444444444444,\"#bd3786\"],[0.5555555555555556,\"#d8576b\"],[0.6666666666666666,\"#ed7953\"],[0.7777777777777778,\"#fb9f3a\"],[0.8888888888888888,\"#fdca26\"],[1.0,\"#f0f921\"]],\"type\":\"histogram2d\"}],\"histogram2dcontour\":[{\"colorbar\":{\"outlinewidth\":0,\"ticks\":\"\"},\"colorscale\":[[0.0,\"#0d0887\"],[0.1111111111111111,\"#46039f\"],[0.2222222222222222,\"#7201a8\"],[0.3333333333333333,\"#9c179e\"],[0.4444444444444444,\"#bd3786\"],[0.5555555555555556,\"#d8576b\"],[0.6666666666666666,\"#ed7953\"],[0.7777777777777778,\"#fb9f3a\"],[0.8888888888888888,\"#fdca26\"],[1.0,\"#f0f921\"]],\"type\":\"histogram2dcontour\"}],\"mesh3d\":[{\"colorbar\":{\"outlinewidth\":0,\"ticks\":\"\"},\"type\":\"mesh3d\"}],\"parcoords\":[{\"line\":{\"colorbar\":{\"outlinewidth\":0,\"ticks\":\"\"}},\"type\":\"parcoords\"}],\"pie\":[{\"automargin\":true,\"type\":\"pie\"}],\"scatter\":[{\"marker\":{\"colorbar\":{\"outlinewidth\":0,\"ticks\":\"\"}},\"type\":\"scatter\"}],\"scatter3d\":[{\"line\":{\"colorbar\":{\"outlinewidth\":0,\"ticks\":\"\"}},\"marker\":{\"colorbar\":{\"outlinewidth\":0,\"ticks\":\"\"}},\"type\":\"scatter3d\"}],\"scattercarpet\":[{\"marker\":{\"colorbar\":{\"outlinewidth\":0,\"ticks\":\"\"}},\"type\":\"scattercarpet\"}],\"scattergeo\":[{\"marker\":{\"colorbar\":{\"outlinewidth\":0,\"ticks\":\"\"}},\"type\":\"scattergeo\"}],\"scattergl\":[{\"marker\":{\"colorbar\":{\"outlinewidth\":0,\"ticks\":\"\"}},\"type\":\"scattergl\"}],\"scattermapbox\":[{\"marker\":{\"colorbar\":{\"outlinewidth\":0,\"ticks\":\"\"}},\"type\":\"scattermapbox\"}],\"scatterpolar\":[{\"marker\":{\"colorbar\":{\"outlinewidth\":0,\"ticks\":\"\"}},\"type\":\"scatterpolar\"}],\"scatterpolargl\":[{\"marker\":{\"colorbar\":{\"outlinewidth\":0,\"ticks\":\"\"}},\"type\":\"scatterpolargl\"}],\"scatterternary\":[{\"marker\":{\"colorbar\":{\"outlinewidth\":0,\"ticks\":\"\"}},\"type\":\"scatterternary\"}],\"surface\":[{\"colorbar\":{\"outlinewidth\":0,\"ticks\":\"\"},\"colorscale\":[[0.0,\"#0d0887\"],[0.1111111111111111,\"#46039f\"],[0.2222222222222222,\"#7201a8\"],[0.3333333333333333,\"#9c179e\"],[0.4444444444444444,\"#bd3786\"],[0.5555555555555556,\"#d8576b\"],[0.6666666666666666,\"#ed7953\"],[0.7777777777777778,\"#fb9f3a\"],[0.8888888888888888,\"#fdca26\"],[1.0,\"#f0f921\"]],\"type\":\"surface\"}],\"table\":[{\"cells\":{\"fill\":{\"color\":\"#EBF0F8\"},\"line\":{\"color\":\"white\"}},\"header\":{\"fill\":{\"color\":\"#C8D4E3\"},\"line\":{\"color\":\"white\"}},\"type\":\"table\"}]},\"layout\":{\"annotationdefaults\":{\"arrowcolor\":\"#2a3f5f\",\"arrowhead\":0,\"arrowwidth\":1},\"autotypenumbers\":\"strict\",\"coloraxis\":{\"colorbar\":{\"outlinewidth\":0,\"ticks\":\"\"}},\"colorscale\":{\"diverging\":[[0,\"#8e0152\"],[0.1,\"#c51b7d\"],[0.2,\"#de77ae\"],[0.3,\"#f1b6da\"],[0.4,\"#fde0ef\"],[0.5,\"#f7f7f7\"],[0.6,\"#e6f5d0\"],[0.7,\"#b8e186\"],[0.8,\"#7fbc41\"],[0.9,\"#4d9221\"],[1,\"#276419\"]],\"sequential\":[[0.0,\"#0d0887\"],[0.1111111111111111,\"#46039f\"],[0.2222222222222222,\"#7201a8\"],[0.3333333333333333,\"#9c179e\"],[0.4444444444444444,\"#bd3786\"],[0.5555555555555556,\"#d8576b\"],[0.6666666666666666,\"#ed7953\"],[0.7777777777777778,\"#fb9f3a\"],[0.8888888888888888,\"#fdca26\"],[1.0,\"#f0f921\"]],\"sequentialminus\":[[0.0,\"#0d0887\"],[0.1111111111111111,\"#46039f\"],[0.2222222222222222,\"#7201a8\"],[0.3333333333333333,\"#9c179e\"],[0.4444444444444444,\"#bd3786\"],[0.5555555555555556,\"#d8576b\"],[0.6666666666666666,\"#ed7953\"],[0.7777777777777778,\"#fb9f3a\"],[0.8888888888888888,\"#fdca26\"],[1.0,\"#f0f921\"]]},\"colorway\":[\"#636efa\",\"#EF553B\",\"#00cc96\",\"#ab63fa\",\"#FFA15A\",\"#19d3f3\",\"#FF6692\",\"#B6E880\",\"#FF97FF\",\"#FECB52\"],\"font\":{\"color\":\"#2a3f5f\"},\"geo\":{\"bgcolor\":\"white\",\"lakecolor\":\"white\",\"landcolor\":\"#E5ECF6\",\"showlakes\":true,\"showland\":true,\"subunitcolor\":\"white\"},\"hoverlabel\":{\"align\":\"left\"},\"hovermode\":\"closest\",\"mapbox\":{\"style\":\"light\"},\"paper_bgcolor\":\"white\",\"plot_bgcolor\":\"#E5ECF6\",\"polar\":{\"angularaxis\":{\"gridcolor\":\"white\",\"linecolor\":\"white\",\"ticks\":\"\"},\"bgcolor\":\"#E5ECF6\",\"radialaxis\":{\"gridcolor\":\"white\",\"linecolor\":\"white\",\"ticks\":\"\"}},\"scene\":{\"xaxis\":{\"backgroundcolor\":\"#E5ECF6\",\"gridcolor\":\"white\",\"gridwidth\":2,\"linecolor\":\"white\",\"showbackground\":true,\"ticks\":\"\",\"zerolinecolor\":\"white\"},\"yaxis\":{\"backgroundcolor\":\"#E5ECF6\",\"gridcolor\":\"white\",\"gridwidth\":2,\"linecolor\":\"white\",\"showbackground\":true,\"ticks\":\"\",\"zerolinecolor\":\"white\"},\"zaxis\":{\"backgroundcolor\":\"#E5ECF6\",\"gridcolor\":\"white\",\"gridwidth\":2,\"linecolor\":\"white\",\"showbackground\":true,\"ticks\":\"\",\"zerolinecolor\":\"white\"}},\"shapedefaults\":{\"line\":{\"color\":\"#2a3f5f\"}},\"ternary\":{\"aaxis\":{\"gridcolor\":\"white\",\"linecolor\":\"white\",\"ticks\":\"\"},\"baxis\":{\"gridcolor\":\"white\",\"linecolor\":\"white\",\"ticks\":\"\"},\"bgcolor\":\"#E5ECF6\",\"caxis\":{\"gridcolor\":\"white\",\"linecolor\":\"white\",\"ticks\":\"\"}},\"title\":{\"x\":0.05},\"xaxis\":{\"automargin\":true,\"gridcolor\":\"white\",\"linecolor\":\"white\",\"ticks\":\"\",\"title\":{\"standoff\":15},\"zerolinecolor\":\"white\",\"zerolinewidth\":2},\"yaxis\":{\"automargin\":true,\"gridcolor\":\"white\",\"linecolor\":\"white\",\"ticks\":\"\",\"title\":{\"standoff\":15},\"zerolinecolor\":\"white\",\"zerolinewidth\":2}}},\"title\":{\"font\":{\"color\":\"#4D5663\"}},\"xaxis\":{\"gridcolor\":\"#E1E5ED\",\"showgrid\":true,\"tickfont\":{\"color\":\"#4D5663\"},\"title\":{\"font\":{\"color\":\"#4D5663\"},\"text\":\"\"},\"zerolinecolor\":\"#E1E5ED\"},\"yaxis\":{\"gridcolor\":\"#E1E5ED\",\"showgrid\":true,\"tickfont\":{\"color\":\"#4D5663\"},\"title\":{\"font\":{\"color\":\"#4D5663\"},\"text\":\"\"},\"zerolinecolor\":\"#E1E5ED\"}},                        {\"showLink\": true, \"linkText\": \"Export to plot.ly\", \"plotlyServerURL\": \"https://plot.ly\", \"responsive\": true}                    ).then(function(){\n",
       "                            \n",
       "var gd = document.getElementById('6c176453-349a-433e-95a1-8388c2d699b9');\n",
       "var x = new MutationObserver(function (mutations, observer) {{\n",
       "        var display = window.getComputedStyle(gd).display;\n",
       "        if (!display || display === 'none') {{\n",
       "            console.log([gd, 'removed!']);\n",
       "            Plotly.purge(gd);\n",
       "            observer.disconnect();\n",
       "        }}\n",
       "}});\n",
       "\n",
       "// Listen for the removal of the full notebook cells\n",
       "var notebookContainer = gd.closest('#notebook-container');\n",
       "if (notebookContainer) {{\n",
       "    x.observe(notebookContainer, {childList: true});\n",
       "}}\n",
       "\n",
       "// Listen for the clearing of the current output cell\n",
       "var outputEl = gd.closest('.output');\n",
       "if (outputEl) {{\n",
       "    x.observe(outputEl, {childList: true});\n",
       "}}\n",
       "\n",
       "                        })                };                });            </script>        </div>"
      ]
     },
     "metadata": {},
     "output_type": "display_data"
    }
   ],
   "source": [
    "df.iplot(kind='scatter',x='A',y='B',mode='markers')"
   ]
  },
  {
   "cell_type": "code",
   "execution_count": 14,
   "id": "e9376205",
   "metadata": {},
   "outputs": [
    {
     "data": {
      "application/vnd.plotly.v1+json": {
       "config": {
        "linkText": "Export to plot.ly",
        "plotlyServerURL": "https://plot.ly",
        "showLink": true
       },
       "data": [
        {
         "marker": {
          "color": "rgba(255, 153, 51, 0.6)",
          "line": {
           "color": "rgba(255, 153, 51, 1.0)",
           "width": 1
          }
         },
         "name": "Values",
         "orientation": "v",
         "text": "",
         "type": "bar",
         "x": [
          "A",
          "B",
          "C"
         ],
         "y": [
          32,
          10,
          43
         ]
        }
       ],
       "layout": {
        "legend": {
         "bgcolor": "#F5F6F9",
         "font": {
          "color": "#4D5663"
         }
        },
        "paper_bgcolor": "#F5F6F9",
        "plot_bgcolor": "#F5F6F9",
        "template": {
         "data": {
          "bar": [
           {
            "error_x": {
             "color": "#2a3f5f"
            },
            "error_y": {
             "color": "#2a3f5f"
            },
            "marker": {
             "line": {
              "color": "#E5ECF6",
              "width": 0.5
             },
             "pattern": {
              "fillmode": "overlay",
              "size": 10,
              "solidity": 0.2
             }
            },
            "type": "bar"
           }
          ],
          "barpolar": [
           {
            "marker": {
             "line": {
              "color": "#E5ECF6",
              "width": 0.5
             },
             "pattern": {
              "fillmode": "overlay",
              "size": 10,
              "solidity": 0.2
             }
            },
            "type": "barpolar"
           }
          ],
          "carpet": [
           {
            "aaxis": {
             "endlinecolor": "#2a3f5f",
             "gridcolor": "white",
             "linecolor": "white",
             "minorgridcolor": "white",
             "startlinecolor": "#2a3f5f"
            },
            "baxis": {
             "endlinecolor": "#2a3f5f",
             "gridcolor": "white",
             "linecolor": "white",
             "minorgridcolor": "white",
             "startlinecolor": "#2a3f5f"
            },
            "type": "carpet"
           }
          ],
          "choropleth": [
           {
            "colorbar": {
             "outlinewidth": 0,
             "ticks": ""
            },
            "type": "choropleth"
           }
          ],
          "contour": [
           {
            "colorbar": {
             "outlinewidth": 0,
             "ticks": ""
            },
            "colorscale": [
             [
              0,
              "#0d0887"
             ],
             [
              0.1111111111111111,
              "#46039f"
             ],
             [
              0.2222222222222222,
              "#7201a8"
             ],
             [
              0.3333333333333333,
              "#9c179e"
             ],
             [
              0.4444444444444444,
              "#bd3786"
             ],
             [
              0.5555555555555556,
              "#d8576b"
             ],
             [
              0.6666666666666666,
              "#ed7953"
             ],
             [
              0.7777777777777778,
              "#fb9f3a"
             ],
             [
              0.8888888888888888,
              "#fdca26"
             ],
             [
              1,
              "#f0f921"
             ]
            ],
            "type": "contour"
           }
          ],
          "contourcarpet": [
           {
            "colorbar": {
             "outlinewidth": 0,
             "ticks": ""
            },
            "type": "contourcarpet"
           }
          ],
          "heatmap": [
           {
            "colorbar": {
             "outlinewidth": 0,
             "ticks": ""
            },
            "colorscale": [
             [
              0,
              "#0d0887"
             ],
             [
              0.1111111111111111,
              "#46039f"
             ],
             [
              0.2222222222222222,
              "#7201a8"
             ],
             [
              0.3333333333333333,
              "#9c179e"
             ],
             [
              0.4444444444444444,
              "#bd3786"
             ],
             [
              0.5555555555555556,
              "#d8576b"
             ],
             [
              0.6666666666666666,
              "#ed7953"
             ],
             [
              0.7777777777777778,
              "#fb9f3a"
             ],
             [
              0.8888888888888888,
              "#fdca26"
             ],
             [
              1,
              "#f0f921"
             ]
            ],
            "type": "heatmap"
           }
          ],
          "heatmapgl": [
           {
            "colorbar": {
             "outlinewidth": 0,
             "ticks": ""
            },
            "colorscale": [
             [
              0,
              "#0d0887"
             ],
             [
              0.1111111111111111,
              "#46039f"
             ],
             [
              0.2222222222222222,
              "#7201a8"
             ],
             [
              0.3333333333333333,
              "#9c179e"
             ],
             [
              0.4444444444444444,
              "#bd3786"
             ],
             [
              0.5555555555555556,
              "#d8576b"
             ],
             [
              0.6666666666666666,
              "#ed7953"
             ],
             [
              0.7777777777777778,
              "#fb9f3a"
             ],
             [
              0.8888888888888888,
              "#fdca26"
             ],
             [
              1,
              "#f0f921"
             ]
            ],
            "type": "heatmapgl"
           }
          ],
          "histogram": [
           {
            "marker": {
             "pattern": {
              "fillmode": "overlay",
              "size": 10,
              "solidity": 0.2
             }
            },
            "type": "histogram"
           }
          ],
          "histogram2d": [
           {
            "colorbar": {
             "outlinewidth": 0,
             "ticks": ""
            },
            "colorscale": [
             [
              0,
              "#0d0887"
             ],
             [
              0.1111111111111111,
              "#46039f"
             ],
             [
              0.2222222222222222,
              "#7201a8"
             ],
             [
              0.3333333333333333,
              "#9c179e"
             ],
             [
              0.4444444444444444,
              "#bd3786"
             ],
             [
              0.5555555555555556,
              "#d8576b"
             ],
             [
              0.6666666666666666,
              "#ed7953"
             ],
             [
              0.7777777777777778,
              "#fb9f3a"
             ],
             [
              0.8888888888888888,
              "#fdca26"
             ],
             [
              1,
              "#f0f921"
             ]
            ],
            "type": "histogram2d"
           }
          ],
          "histogram2dcontour": [
           {
            "colorbar": {
             "outlinewidth": 0,
             "ticks": ""
            },
            "colorscale": [
             [
              0,
              "#0d0887"
             ],
             [
              0.1111111111111111,
              "#46039f"
             ],
             [
              0.2222222222222222,
              "#7201a8"
             ],
             [
              0.3333333333333333,
              "#9c179e"
             ],
             [
              0.4444444444444444,
              "#bd3786"
             ],
             [
              0.5555555555555556,
              "#d8576b"
             ],
             [
              0.6666666666666666,
              "#ed7953"
             ],
             [
              0.7777777777777778,
              "#fb9f3a"
             ],
             [
              0.8888888888888888,
              "#fdca26"
             ],
             [
              1,
              "#f0f921"
             ]
            ],
            "type": "histogram2dcontour"
           }
          ],
          "mesh3d": [
           {
            "colorbar": {
             "outlinewidth": 0,
             "ticks": ""
            },
            "type": "mesh3d"
           }
          ],
          "parcoords": [
           {
            "line": {
             "colorbar": {
              "outlinewidth": 0,
              "ticks": ""
             }
            },
            "type": "parcoords"
           }
          ],
          "pie": [
           {
            "automargin": true,
            "type": "pie"
           }
          ],
          "scatter": [
           {
            "marker": {
             "colorbar": {
              "outlinewidth": 0,
              "ticks": ""
             }
            },
            "type": "scatter"
           }
          ],
          "scatter3d": [
           {
            "line": {
             "colorbar": {
              "outlinewidth": 0,
              "ticks": ""
             }
            },
            "marker": {
             "colorbar": {
              "outlinewidth": 0,
              "ticks": ""
             }
            },
            "type": "scatter3d"
           }
          ],
          "scattercarpet": [
           {
            "marker": {
             "colorbar": {
              "outlinewidth": 0,
              "ticks": ""
             }
            },
            "type": "scattercarpet"
           }
          ],
          "scattergeo": [
           {
            "marker": {
             "colorbar": {
              "outlinewidth": 0,
              "ticks": ""
             }
            },
            "type": "scattergeo"
           }
          ],
          "scattergl": [
           {
            "marker": {
             "colorbar": {
              "outlinewidth": 0,
              "ticks": ""
             }
            },
            "type": "scattergl"
           }
          ],
          "scattermapbox": [
           {
            "marker": {
             "colorbar": {
              "outlinewidth": 0,
              "ticks": ""
             }
            },
            "type": "scattermapbox"
           }
          ],
          "scatterpolar": [
           {
            "marker": {
             "colorbar": {
              "outlinewidth": 0,
              "ticks": ""
             }
            },
            "type": "scatterpolar"
           }
          ],
          "scatterpolargl": [
           {
            "marker": {
             "colorbar": {
              "outlinewidth": 0,
              "ticks": ""
             }
            },
            "type": "scatterpolargl"
           }
          ],
          "scatterternary": [
           {
            "marker": {
             "colorbar": {
              "outlinewidth": 0,
              "ticks": ""
             }
            },
            "type": "scatterternary"
           }
          ],
          "surface": [
           {
            "colorbar": {
             "outlinewidth": 0,
             "ticks": ""
            },
            "colorscale": [
             [
              0,
              "#0d0887"
             ],
             [
              0.1111111111111111,
              "#46039f"
             ],
             [
              0.2222222222222222,
              "#7201a8"
             ],
             [
              0.3333333333333333,
              "#9c179e"
             ],
             [
              0.4444444444444444,
              "#bd3786"
             ],
             [
              0.5555555555555556,
              "#d8576b"
             ],
             [
              0.6666666666666666,
              "#ed7953"
             ],
             [
              0.7777777777777778,
              "#fb9f3a"
             ],
             [
              0.8888888888888888,
              "#fdca26"
             ],
             [
              1,
              "#f0f921"
             ]
            ],
            "type": "surface"
           }
          ],
          "table": [
           {
            "cells": {
             "fill": {
              "color": "#EBF0F8"
             },
             "line": {
              "color": "white"
             }
            },
            "header": {
             "fill": {
              "color": "#C8D4E3"
             },
             "line": {
              "color": "white"
             }
            },
            "type": "table"
           }
          ]
         },
         "layout": {
          "annotationdefaults": {
           "arrowcolor": "#2a3f5f",
           "arrowhead": 0,
           "arrowwidth": 1
          },
          "autotypenumbers": "strict",
          "coloraxis": {
           "colorbar": {
            "outlinewidth": 0,
            "ticks": ""
           }
          },
          "colorscale": {
           "diverging": [
            [
             0,
             "#8e0152"
            ],
            [
             0.1,
             "#c51b7d"
            ],
            [
             0.2,
             "#de77ae"
            ],
            [
             0.3,
             "#f1b6da"
            ],
            [
             0.4,
             "#fde0ef"
            ],
            [
             0.5,
             "#f7f7f7"
            ],
            [
             0.6,
             "#e6f5d0"
            ],
            [
             0.7,
             "#b8e186"
            ],
            [
             0.8,
             "#7fbc41"
            ],
            [
             0.9,
             "#4d9221"
            ],
            [
             1,
             "#276419"
            ]
           ],
           "sequential": [
            [
             0,
             "#0d0887"
            ],
            [
             0.1111111111111111,
             "#46039f"
            ],
            [
             0.2222222222222222,
             "#7201a8"
            ],
            [
             0.3333333333333333,
             "#9c179e"
            ],
            [
             0.4444444444444444,
             "#bd3786"
            ],
            [
             0.5555555555555556,
             "#d8576b"
            ],
            [
             0.6666666666666666,
             "#ed7953"
            ],
            [
             0.7777777777777778,
             "#fb9f3a"
            ],
            [
             0.8888888888888888,
             "#fdca26"
            ],
            [
             1,
             "#f0f921"
            ]
           ],
           "sequentialminus": [
            [
             0,
             "#0d0887"
            ],
            [
             0.1111111111111111,
             "#46039f"
            ],
            [
             0.2222222222222222,
             "#7201a8"
            ],
            [
             0.3333333333333333,
             "#9c179e"
            ],
            [
             0.4444444444444444,
             "#bd3786"
            ],
            [
             0.5555555555555556,
             "#d8576b"
            ],
            [
             0.6666666666666666,
             "#ed7953"
            ],
            [
             0.7777777777777778,
             "#fb9f3a"
            ],
            [
             0.8888888888888888,
             "#fdca26"
            ],
            [
             1,
             "#f0f921"
            ]
           ]
          },
          "colorway": [
           "#636efa",
           "#EF553B",
           "#00cc96",
           "#ab63fa",
           "#FFA15A",
           "#19d3f3",
           "#FF6692",
           "#B6E880",
           "#FF97FF",
           "#FECB52"
          ],
          "font": {
           "color": "#2a3f5f"
          },
          "geo": {
           "bgcolor": "white",
           "lakecolor": "white",
           "landcolor": "#E5ECF6",
           "showlakes": true,
           "showland": true,
           "subunitcolor": "white"
          },
          "hoverlabel": {
           "align": "left"
          },
          "hovermode": "closest",
          "mapbox": {
           "style": "light"
          },
          "paper_bgcolor": "white",
          "plot_bgcolor": "#E5ECF6",
          "polar": {
           "angularaxis": {
            "gridcolor": "white",
            "linecolor": "white",
            "ticks": ""
           },
           "bgcolor": "#E5ECF6",
           "radialaxis": {
            "gridcolor": "white",
            "linecolor": "white",
            "ticks": ""
           }
          },
          "scene": {
           "xaxis": {
            "backgroundcolor": "#E5ECF6",
            "gridcolor": "white",
            "gridwidth": 2,
            "linecolor": "white",
            "showbackground": true,
            "ticks": "",
            "zerolinecolor": "white"
           },
           "yaxis": {
            "backgroundcolor": "#E5ECF6",
            "gridcolor": "white",
            "gridwidth": 2,
            "linecolor": "white",
            "showbackground": true,
            "ticks": "",
            "zerolinecolor": "white"
           },
           "zaxis": {
            "backgroundcolor": "#E5ECF6",
            "gridcolor": "white",
            "gridwidth": 2,
            "linecolor": "white",
            "showbackground": true,
            "ticks": "",
            "zerolinecolor": "white"
           }
          },
          "shapedefaults": {
           "line": {
            "color": "#2a3f5f"
           }
          },
          "ternary": {
           "aaxis": {
            "gridcolor": "white",
            "linecolor": "white",
            "ticks": ""
           },
           "baxis": {
            "gridcolor": "white",
            "linecolor": "white",
            "ticks": ""
           },
           "bgcolor": "#E5ECF6",
           "caxis": {
            "gridcolor": "white",
            "linecolor": "white",
            "ticks": ""
           }
          },
          "title": {
           "x": 0.05
          },
          "xaxis": {
           "automargin": true,
           "gridcolor": "white",
           "linecolor": "white",
           "ticks": "",
           "title": {
            "standoff": 15
           },
           "zerolinecolor": "white",
           "zerolinewidth": 2
          },
          "yaxis": {
           "automargin": true,
           "gridcolor": "white",
           "linecolor": "white",
           "ticks": "",
           "title": {
            "standoff": 15
           },
           "zerolinecolor": "white",
           "zerolinewidth": 2
          }
         }
        },
        "title": {
         "font": {
          "color": "#4D5663"
         }
        },
        "xaxis": {
         "gridcolor": "#E1E5ED",
         "showgrid": true,
         "tickfont": {
          "color": "#4D5663"
         },
         "title": {
          "font": {
           "color": "#4D5663"
          },
          "text": ""
         },
         "zerolinecolor": "#E1E5ED"
        },
        "yaxis": {
         "gridcolor": "#E1E5ED",
         "showgrid": true,
         "tickfont": {
          "color": "#4D5663"
         },
         "title": {
          "font": {
           "color": "#4D5663"
          },
          "text": ""
         },
         "zerolinecolor": "#E1E5ED"
        }
       }
      },
      "text/html": [
       "<div>                            <div id=\"a5c6c842-cb82-4882-b912-bd7e6ab06627\" class=\"plotly-graph-div\" style=\"height:525px; width:100%;\"></div>            <script type=\"text/javascript\">                require([\"plotly\"], function(Plotly) {                    window.PLOTLYENV=window.PLOTLYENV || {};\n",
       "                    window.PLOTLYENV.BASE_URL='https://plot.ly';                                    if (document.getElementById(\"a5c6c842-cb82-4882-b912-bd7e6ab06627\")) {                    Plotly.newPlot(                        \"a5c6c842-cb82-4882-b912-bd7e6ab06627\",                        [{\"marker\":{\"color\":\"rgba(255, 153, 51, 0.6)\",\"line\":{\"color\":\"rgba(255, 153, 51, 1.0)\",\"width\":1}},\"name\":\"Values\",\"orientation\":\"v\",\"text\":\"\",\"type\":\"bar\",\"x\":[\"A\",\"B\",\"C\"],\"y\":[32,10,43]}],                        {\"legend\":{\"bgcolor\":\"#F5F6F9\",\"font\":{\"color\":\"#4D5663\"}},\"paper_bgcolor\":\"#F5F6F9\",\"plot_bgcolor\":\"#F5F6F9\",\"template\":{\"data\":{\"bar\":[{\"error_x\":{\"color\":\"#2a3f5f\"},\"error_y\":{\"color\":\"#2a3f5f\"},\"marker\":{\"line\":{\"color\":\"#E5ECF6\",\"width\":0.5},\"pattern\":{\"fillmode\":\"overlay\",\"size\":10,\"solidity\":0.2}},\"type\":\"bar\"}],\"barpolar\":[{\"marker\":{\"line\":{\"color\":\"#E5ECF6\",\"width\":0.5},\"pattern\":{\"fillmode\":\"overlay\",\"size\":10,\"solidity\":0.2}},\"type\":\"barpolar\"}],\"carpet\":[{\"aaxis\":{\"endlinecolor\":\"#2a3f5f\",\"gridcolor\":\"white\",\"linecolor\":\"white\",\"minorgridcolor\":\"white\",\"startlinecolor\":\"#2a3f5f\"},\"baxis\":{\"endlinecolor\":\"#2a3f5f\",\"gridcolor\":\"white\",\"linecolor\":\"white\",\"minorgridcolor\":\"white\",\"startlinecolor\":\"#2a3f5f\"},\"type\":\"carpet\"}],\"choropleth\":[{\"colorbar\":{\"outlinewidth\":0,\"ticks\":\"\"},\"type\":\"choropleth\"}],\"contour\":[{\"colorbar\":{\"outlinewidth\":0,\"ticks\":\"\"},\"colorscale\":[[0.0,\"#0d0887\"],[0.1111111111111111,\"#46039f\"],[0.2222222222222222,\"#7201a8\"],[0.3333333333333333,\"#9c179e\"],[0.4444444444444444,\"#bd3786\"],[0.5555555555555556,\"#d8576b\"],[0.6666666666666666,\"#ed7953\"],[0.7777777777777778,\"#fb9f3a\"],[0.8888888888888888,\"#fdca26\"],[1.0,\"#f0f921\"]],\"type\":\"contour\"}],\"contourcarpet\":[{\"colorbar\":{\"outlinewidth\":0,\"ticks\":\"\"},\"type\":\"contourcarpet\"}],\"heatmap\":[{\"colorbar\":{\"outlinewidth\":0,\"ticks\":\"\"},\"colorscale\":[[0.0,\"#0d0887\"],[0.1111111111111111,\"#46039f\"],[0.2222222222222222,\"#7201a8\"],[0.3333333333333333,\"#9c179e\"],[0.4444444444444444,\"#bd3786\"],[0.5555555555555556,\"#d8576b\"],[0.6666666666666666,\"#ed7953\"],[0.7777777777777778,\"#fb9f3a\"],[0.8888888888888888,\"#fdca26\"],[1.0,\"#f0f921\"]],\"type\":\"heatmap\"}],\"heatmapgl\":[{\"colorbar\":{\"outlinewidth\":0,\"ticks\":\"\"},\"colorscale\":[[0.0,\"#0d0887\"],[0.1111111111111111,\"#46039f\"],[0.2222222222222222,\"#7201a8\"],[0.3333333333333333,\"#9c179e\"],[0.4444444444444444,\"#bd3786\"],[0.5555555555555556,\"#d8576b\"],[0.6666666666666666,\"#ed7953\"],[0.7777777777777778,\"#fb9f3a\"],[0.8888888888888888,\"#fdca26\"],[1.0,\"#f0f921\"]],\"type\":\"heatmapgl\"}],\"histogram\":[{\"marker\":{\"pattern\":{\"fillmode\":\"overlay\",\"size\":10,\"solidity\":0.2}},\"type\":\"histogram\"}],\"histogram2d\":[{\"colorbar\":{\"outlinewidth\":0,\"ticks\":\"\"},\"colorscale\":[[0.0,\"#0d0887\"],[0.1111111111111111,\"#46039f\"],[0.2222222222222222,\"#7201a8\"],[0.3333333333333333,\"#9c179e\"],[0.4444444444444444,\"#bd3786\"],[0.5555555555555556,\"#d8576b\"],[0.6666666666666666,\"#ed7953\"],[0.7777777777777778,\"#fb9f3a\"],[0.8888888888888888,\"#fdca26\"],[1.0,\"#f0f921\"]],\"type\":\"histogram2d\"}],\"histogram2dcontour\":[{\"colorbar\":{\"outlinewidth\":0,\"ticks\":\"\"},\"colorscale\":[[0.0,\"#0d0887\"],[0.1111111111111111,\"#46039f\"],[0.2222222222222222,\"#7201a8\"],[0.3333333333333333,\"#9c179e\"],[0.4444444444444444,\"#bd3786\"],[0.5555555555555556,\"#d8576b\"],[0.6666666666666666,\"#ed7953\"],[0.7777777777777778,\"#fb9f3a\"],[0.8888888888888888,\"#fdca26\"],[1.0,\"#f0f921\"]],\"type\":\"histogram2dcontour\"}],\"mesh3d\":[{\"colorbar\":{\"outlinewidth\":0,\"ticks\":\"\"},\"type\":\"mesh3d\"}],\"parcoords\":[{\"line\":{\"colorbar\":{\"outlinewidth\":0,\"ticks\":\"\"}},\"type\":\"parcoords\"}],\"pie\":[{\"automargin\":true,\"type\":\"pie\"}],\"scatter\":[{\"marker\":{\"colorbar\":{\"outlinewidth\":0,\"ticks\":\"\"}},\"type\":\"scatter\"}],\"scatter3d\":[{\"line\":{\"colorbar\":{\"outlinewidth\":0,\"ticks\":\"\"}},\"marker\":{\"colorbar\":{\"outlinewidth\":0,\"ticks\":\"\"}},\"type\":\"scatter3d\"}],\"scattercarpet\":[{\"marker\":{\"colorbar\":{\"outlinewidth\":0,\"ticks\":\"\"}},\"type\":\"scattercarpet\"}],\"scattergeo\":[{\"marker\":{\"colorbar\":{\"outlinewidth\":0,\"ticks\":\"\"}},\"type\":\"scattergeo\"}],\"scattergl\":[{\"marker\":{\"colorbar\":{\"outlinewidth\":0,\"ticks\":\"\"}},\"type\":\"scattergl\"}],\"scattermapbox\":[{\"marker\":{\"colorbar\":{\"outlinewidth\":0,\"ticks\":\"\"}},\"type\":\"scattermapbox\"}],\"scatterpolar\":[{\"marker\":{\"colorbar\":{\"outlinewidth\":0,\"ticks\":\"\"}},\"type\":\"scatterpolar\"}],\"scatterpolargl\":[{\"marker\":{\"colorbar\":{\"outlinewidth\":0,\"ticks\":\"\"}},\"type\":\"scatterpolargl\"}],\"scatterternary\":[{\"marker\":{\"colorbar\":{\"outlinewidth\":0,\"ticks\":\"\"}},\"type\":\"scatterternary\"}],\"surface\":[{\"colorbar\":{\"outlinewidth\":0,\"ticks\":\"\"},\"colorscale\":[[0.0,\"#0d0887\"],[0.1111111111111111,\"#46039f\"],[0.2222222222222222,\"#7201a8\"],[0.3333333333333333,\"#9c179e\"],[0.4444444444444444,\"#bd3786\"],[0.5555555555555556,\"#d8576b\"],[0.6666666666666666,\"#ed7953\"],[0.7777777777777778,\"#fb9f3a\"],[0.8888888888888888,\"#fdca26\"],[1.0,\"#f0f921\"]],\"type\":\"surface\"}],\"table\":[{\"cells\":{\"fill\":{\"color\":\"#EBF0F8\"},\"line\":{\"color\":\"white\"}},\"header\":{\"fill\":{\"color\":\"#C8D4E3\"},\"line\":{\"color\":\"white\"}},\"type\":\"table\"}]},\"layout\":{\"annotationdefaults\":{\"arrowcolor\":\"#2a3f5f\",\"arrowhead\":0,\"arrowwidth\":1},\"autotypenumbers\":\"strict\",\"coloraxis\":{\"colorbar\":{\"outlinewidth\":0,\"ticks\":\"\"}},\"colorscale\":{\"diverging\":[[0,\"#8e0152\"],[0.1,\"#c51b7d\"],[0.2,\"#de77ae\"],[0.3,\"#f1b6da\"],[0.4,\"#fde0ef\"],[0.5,\"#f7f7f7\"],[0.6,\"#e6f5d0\"],[0.7,\"#b8e186\"],[0.8,\"#7fbc41\"],[0.9,\"#4d9221\"],[1,\"#276419\"]],\"sequential\":[[0.0,\"#0d0887\"],[0.1111111111111111,\"#46039f\"],[0.2222222222222222,\"#7201a8\"],[0.3333333333333333,\"#9c179e\"],[0.4444444444444444,\"#bd3786\"],[0.5555555555555556,\"#d8576b\"],[0.6666666666666666,\"#ed7953\"],[0.7777777777777778,\"#fb9f3a\"],[0.8888888888888888,\"#fdca26\"],[1.0,\"#f0f921\"]],\"sequentialminus\":[[0.0,\"#0d0887\"],[0.1111111111111111,\"#46039f\"],[0.2222222222222222,\"#7201a8\"],[0.3333333333333333,\"#9c179e\"],[0.4444444444444444,\"#bd3786\"],[0.5555555555555556,\"#d8576b\"],[0.6666666666666666,\"#ed7953\"],[0.7777777777777778,\"#fb9f3a\"],[0.8888888888888888,\"#fdca26\"],[1.0,\"#f0f921\"]]},\"colorway\":[\"#636efa\",\"#EF553B\",\"#00cc96\",\"#ab63fa\",\"#FFA15A\",\"#19d3f3\",\"#FF6692\",\"#B6E880\",\"#FF97FF\",\"#FECB52\"],\"font\":{\"color\":\"#2a3f5f\"},\"geo\":{\"bgcolor\":\"white\",\"lakecolor\":\"white\",\"landcolor\":\"#E5ECF6\",\"showlakes\":true,\"showland\":true,\"subunitcolor\":\"white\"},\"hoverlabel\":{\"align\":\"left\"},\"hovermode\":\"closest\",\"mapbox\":{\"style\":\"light\"},\"paper_bgcolor\":\"white\",\"plot_bgcolor\":\"#E5ECF6\",\"polar\":{\"angularaxis\":{\"gridcolor\":\"white\",\"linecolor\":\"white\",\"ticks\":\"\"},\"bgcolor\":\"#E5ECF6\",\"radialaxis\":{\"gridcolor\":\"white\",\"linecolor\":\"white\",\"ticks\":\"\"}},\"scene\":{\"xaxis\":{\"backgroundcolor\":\"#E5ECF6\",\"gridcolor\":\"white\",\"gridwidth\":2,\"linecolor\":\"white\",\"showbackground\":true,\"ticks\":\"\",\"zerolinecolor\":\"white\"},\"yaxis\":{\"backgroundcolor\":\"#E5ECF6\",\"gridcolor\":\"white\",\"gridwidth\":2,\"linecolor\":\"white\",\"showbackground\":true,\"ticks\":\"\",\"zerolinecolor\":\"white\"},\"zaxis\":{\"backgroundcolor\":\"#E5ECF6\",\"gridcolor\":\"white\",\"gridwidth\":2,\"linecolor\":\"white\",\"showbackground\":true,\"ticks\":\"\",\"zerolinecolor\":\"white\"}},\"shapedefaults\":{\"line\":{\"color\":\"#2a3f5f\"}},\"ternary\":{\"aaxis\":{\"gridcolor\":\"white\",\"linecolor\":\"white\",\"ticks\":\"\"},\"baxis\":{\"gridcolor\":\"white\",\"linecolor\":\"white\",\"ticks\":\"\"},\"bgcolor\":\"#E5ECF6\",\"caxis\":{\"gridcolor\":\"white\",\"linecolor\":\"white\",\"ticks\":\"\"}},\"title\":{\"x\":0.05},\"xaxis\":{\"automargin\":true,\"gridcolor\":\"white\",\"linecolor\":\"white\",\"ticks\":\"\",\"title\":{\"standoff\":15},\"zerolinecolor\":\"white\",\"zerolinewidth\":2},\"yaxis\":{\"automargin\":true,\"gridcolor\":\"white\",\"linecolor\":\"white\",\"ticks\":\"\",\"title\":{\"standoff\":15},\"zerolinecolor\":\"white\",\"zerolinewidth\":2}}},\"title\":{\"font\":{\"color\":\"#4D5663\"}},\"xaxis\":{\"gridcolor\":\"#E1E5ED\",\"showgrid\":true,\"tickfont\":{\"color\":\"#4D5663\"},\"title\":{\"font\":{\"color\":\"#4D5663\"},\"text\":\"\"},\"zerolinecolor\":\"#E1E5ED\"},\"yaxis\":{\"gridcolor\":\"#E1E5ED\",\"showgrid\":true,\"tickfont\":{\"color\":\"#4D5663\"},\"title\":{\"font\":{\"color\":\"#4D5663\"},\"text\":\"\"},\"zerolinecolor\":\"#E1E5ED\"}},                        {\"showLink\": true, \"linkText\": \"Export to plot.ly\", \"plotlyServerURL\": \"https://plot.ly\", \"responsive\": true}                    ).then(function(){\n",
       "                            \n",
       "var gd = document.getElementById('a5c6c842-cb82-4882-b912-bd7e6ab06627');\n",
       "var x = new MutationObserver(function (mutations, observer) {{\n",
       "        var display = window.getComputedStyle(gd).display;\n",
       "        if (!display || display === 'none') {{\n",
       "            console.log([gd, 'removed!']);\n",
       "            Plotly.purge(gd);\n",
       "            observer.disconnect();\n",
       "        }}\n",
       "}});\n",
       "\n",
       "// Listen for the removal of the full notebook cells\n",
       "var notebookContainer = gd.closest('#notebook-container');\n",
       "if (notebookContainer) {{\n",
       "    x.observe(notebookContainer, {childList: true});\n",
       "}}\n",
       "\n",
       "// Listen for the clearing of the current output cell\n",
       "var outputEl = gd.closest('.output');\n",
       "if (outputEl) {{\n",
       "    x.observe(outputEl, {childList: true});\n",
       "}}\n",
       "\n",
       "                        })                };                });            </script>        </div>"
      ]
     },
     "metadata": {},
     "output_type": "display_data"
    }
   ],
   "source": [
    "df2.iplot(kind='bar',x='Category',y='Values')"
   ]
  },
  {
   "cell_type": "code",
   "execution_count": 15,
   "id": "bfca578f",
   "metadata": {},
   "outputs": [
    {
     "data": {
      "application/vnd.plotly.v1+json": {
       "config": {
        "linkText": "Export to plot.ly",
        "plotlyServerURL": "https://plot.ly",
        "showLink": true
       },
       "data": [
        {
         "marker": {
          "color": "rgba(255, 153, 51, 0.6)",
          "line": {
           "color": "rgba(255, 153, 51, 1.0)",
           "width": 1
          }
         },
         "name": "A",
         "orientation": "v",
         "text": "",
         "type": "bar",
         "x": [
          0,
          1,
          2,
          3,
          4,
          5,
          6,
          7,
          8,
          9,
          10,
          11,
          12,
          13,
          14,
          15,
          16,
          17,
          18,
          19,
          20,
          21,
          22,
          23,
          24,
          25,
          26,
          27,
          28,
          29,
          30,
          31,
          32,
          33,
          34,
          35,
          36,
          37,
          38,
          39,
          40,
          41,
          42,
          43,
          44,
          45,
          46,
          47,
          48,
          49,
          50,
          51,
          52,
          53,
          54,
          55,
          56,
          57,
          58,
          59,
          60,
          61,
          62,
          63,
          64,
          65,
          66,
          67,
          68,
          69,
          70,
          71,
          72,
          73,
          74,
          75,
          76,
          77,
          78,
          79,
          80,
          81,
          82,
          83,
          84,
          85,
          86,
          87,
          88,
          89,
          90,
          91,
          92,
          93,
          94,
          95,
          96,
          97,
          98,
          99
         ],
         "y": [
          0.5816966956153499,
          0.12316386314759027,
          -0.22398171843685152,
          -0.8895932385975902,
          0.2752188676636905,
          -0.2043642311215671,
          0.3948123118583736,
          0.48645630871897805,
          1.5739071788301084,
          2.1488658396531037,
          -0.31708220249715474,
          -0.9711842754967692,
          1.2628175279667635,
          -1.1834028893365194,
          1.6944271259868855,
          -0.5931338474672299,
          0.0027807338470003007,
          -0.6818703057681064,
          0.6628178049410343,
          0.03540578774837641,
          0.732895635310974,
          -0.4275137954232451,
          1.320181769808673,
          -1.482472611175471,
          2.071582002661825,
          -0.01967219630635455,
          1.209423427603569,
          1.6610041759226586,
          -0.5453412431129742,
          0.3258745239218415,
          -0.27722164238155605,
          0.6478830076709254,
          0.9950648418037051,
          -0.48714277801385814,
          -0.4436228773791175,
          0.11702106920114262,
          -0.5740663577799426,
          2.002122515184173,
          0.014114137435172026,
          0.2517242524460662,
          -0.11235543580606286,
          0.5375253295601139,
          -0.5968833989130355,
          0.048054972651586265,
          -1.123202596891187,
          0.004196248013858794,
          0.661815828049052,
          -1.2980041274097809,
          0.3744164921338543,
          -0.17708144186725294,
          0.2076525777904713,
          -1.3025365058856804,
          -1.5590190180060983,
          0.6248400236247296,
          0.7911141185158476,
          -0.49037525611041033,
          1.2330545424386792,
          0.6709923076578755,
          -0.5331723733231042,
          0.10228037344181613,
          -0.1363508547845355,
          2.218762225844916,
          0.5446047848971652,
          -0.08107298699081342,
          0.585020407460338,
          0.7651851072247567,
          0.5140874559311198,
          -0.5527227666251414,
          0.328474992492661,
          1.7157964042871225,
          -0.4754802351708734,
          -0.2393856771841323,
          1.0401174604876424,
          1.4134185841189972,
          -0.665029001262137,
          -1.122798015523656,
          -0.5260727243464802,
          -2.6006280522817535,
          1.0467518800084306,
          0.39306453239966815,
          -0.33878690050097,
          -1.7677071848964492,
          0.23253039445027843,
          -0.6199365487060867,
          1.4471217025997936,
          -0.507721592541854,
          0.14885342347303643,
          0.5986738883632382,
          0.16912484206819606,
          0.9555600442980435,
          -1.0980989001705028,
          -0.020763816433263235,
          0.6062071067217284,
          -0.8319213017686466,
          1.0144730260507537,
          1.458043788509651,
          -1.4586298959821542,
          -1.3109773870068864,
          -1.9505596262167764,
          1.1103572219598006
         ]
        },
        {
         "marker": {
          "color": "rgba(55, 128, 191, 0.6)",
          "line": {
           "color": "rgba(55, 128, 191, 1.0)",
           "width": 1
          }
         },
         "name": "B",
         "orientation": "v",
         "text": "",
         "type": "bar",
         "x": [
          0,
          1,
          2,
          3,
          4,
          5,
          6,
          7,
          8,
          9,
          10,
          11,
          12,
          13,
          14,
          15,
          16,
          17,
          18,
          19,
          20,
          21,
          22,
          23,
          24,
          25,
          26,
          27,
          28,
          29,
          30,
          31,
          32,
          33,
          34,
          35,
          36,
          37,
          38,
          39,
          40,
          41,
          42,
          43,
          44,
          45,
          46,
          47,
          48,
          49,
          50,
          51,
          52,
          53,
          54,
          55,
          56,
          57,
          58,
          59,
          60,
          61,
          62,
          63,
          64,
          65,
          66,
          67,
          68,
          69,
          70,
          71,
          72,
          73,
          74,
          75,
          76,
          77,
          78,
          79,
          80,
          81,
          82,
          83,
          84,
          85,
          86,
          87,
          88,
          89,
          90,
          91,
          92,
          93,
          94,
          95,
          96,
          97,
          98,
          99
         ],
         "y": [
          -0.5696383137081489,
          1.1351734827535165,
          0.9152001917611036,
          -0.00844155094580938,
          -0.06258170188690283,
          -1.397960774408616,
          0.3435980433431662,
          1.9771984759663241,
          0.7980962552551226,
          0.5099384295338028,
          0.6953264740395925,
          -0.050924092129710836,
          -0.6895188701915604,
          0.915616107381015,
          0.02037246592326186,
          -1.1576373722887503,
          -0.2887963256996219,
          0.4796209590156369,
          -1.2707481935591634,
          -1.0331744754868155,
          -1.6716818578114625,
          1.2795257614096645,
          -0.04397638767144347,
          -1.516411895677526,
          -0.5005577684774363,
          0.5504292610693635,
          0.5207414902462956,
          -1.0748864153982811,
          0.42032320246494,
          1.1925244880627393,
          -1.1332177751503012,
          -0.24171705755197975,
          0.1584254681040101,
          -0.32122177949433656,
          1.1041953084365854,
          0.08917121729266873,
          1.3853616467346457,
          -0.3212564324754563,
          -0.6905917343160966,
          -1.9487907074894022,
          -0.31918002995573874,
          1.0099101012017528,
          -0.23567285927983872,
          0.786843177647913,
          0.3801931489000957,
          0.06733360341928074,
          -0.4182380904879572,
          0.448230605012123,
          1.1428226019923269,
          -0.7008002812067107,
          -0.9528265960823682,
          0.16921409666104573,
          -0.2321189369103486,
          1.4067150981879595,
          -0.8996080725849857,
          -0.020364228761414607,
          -0.6051186814565923,
          -0.4542178787439367,
          0.8902985465091476,
          1.4360863024404278,
          0.6424637101068639,
          -0.24572297220482406,
          -1.144635878568656,
          -0.3104964171676207,
          -1.8442320270700612,
          -0.402890083735357,
          0.3096071207553138,
          -1.3247774875957332,
          -0.5749890046206451,
          -2.5623083464476264,
          2.0939381145938447,
          -1.4627844809059278,
          -1.04506207721916,
          -1.1635640272612695,
          0.8498142990554263,
          0.5790979612786291,
          -0.8035121129131575,
          0.6915682382008483,
          0.9887753358120481,
          0.5725170736416944,
          0.637381534075287,
          -1.2161750257605888,
          -0.7287165307989403,
          -0.5464232876632266,
          -0.3649806962939663,
          1.3472364069340996,
          1.3415149669927902,
          -0.7423986256356838,
          0.3235175537655451,
          0.01830620317089403,
          -0.21560964163712618,
          -0.6799803836072068,
          -1.4445582587569874,
          1.2488961247500823,
          0.06940321488678963,
          0.048331872198486114,
          -0.9251927212592852,
          -1.629426086050211,
          0.9752502823722285,
          1.2294186690010769
         ]
        },
        {
         "marker": {
          "color": "rgba(50, 171, 96, 0.6)",
          "line": {
           "color": "rgba(50, 171, 96, 1.0)",
           "width": 1
          }
         },
         "name": "C",
         "orientation": "v",
         "text": "",
         "type": "bar",
         "x": [
          0,
          1,
          2,
          3,
          4,
          5,
          6,
          7,
          8,
          9,
          10,
          11,
          12,
          13,
          14,
          15,
          16,
          17,
          18,
          19,
          20,
          21,
          22,
          23,
          24,
          25,
          26,
          27,
          28,
          29,
          30,
          31,
          32,
          33,
          34,
          35,
          36,
          37,
          38,
          39,
          40,
          41,
          42,
          43,
          44,
          45,
          46,
          47,
          48,
          49,
          50,
          51,
          52,
          53,
          54,
          55,
          56,
          57,
          58,
          59,
          60,
          61,
          62,
          63,
          64,
          65,
          66,
          67,
          68,
          69,
          70,
          71,
          72,
          73,
          74,
          75,
          76,
          77,
          78,
          79,
          80,
          81,
          82,
          83,
          84,
          85,
          86,
          87,
          88,
          89,
          90,
          91,
          92,
          93,
          94,
          95,
          96,
          97,
          98,
          99
         ],
         "y": [
          -0.9459269174913192,
          0.19531141693783344,
          1.4303855991401946,
          0.036674790720557564,
          1.6326923785449838,
          0.8286045871157671,
          -0.6481868351097086,
          3.3916658927148924,
          -0.23154384282744422,
          1.5359424592188011,
          1.1935684228941061,
          1.8027797241776358,
          -1.3029711071589536,
          0.6983580159031979,
          1.9470600799832063,
          -0.6548101823073411,
          -0.20805691104366308,
          -1.8460005945299778,
          1.4626668472159017,
          1.4763952429913119,
          1.9210846711053138,
          1.3076687985375077,
          -3.2567661905590604,
          -1.6612107230619586,
          0.4176057096249829,
          0.42061951190981944,
          0.3596651067545893,
          0.13694467232436985,
          -1.7151734572271393,
          0.06338432905322991,
          0.7063361662070474,
          0.20968216768990333,
          -0.6271829105879608,
          -1.2140464658425827,
          -0.3380145286294853,
          1.0503729545565748,
          0.2972746289819503,
          0.46453433038728964,
          -0.6709599609392913,
          0.9079049774175922,
          0.6509528929577602,
          -0.4288704871701461,
          -0.1354137935065262,
          -0.8781446182484274,
          -0.009118936141923863,
          -1.5394821485082721,
          0.9988622250327465,
          0.8626156053102499,
          -0.4094858426901262,
          0.4761067946376451,
          -1.6897324420533706,
          -0.3587935380254397,
          -0.14877969735308644,
          0.06727214872836712,
          -1.0734949787033488,
          -2.7726853944714307,
          0.10491033862417087,
          0.5641612600718001,
          0.7236960155113175,
          -0.7038408668181785,
          0.8495952534911181,
          -1.1830462402811586,
          1.0021146824749858,
          1.1107368011471532,
          -0.3389152218254186,
          -0.439484812022148,
          1.066756487029043,
          -0.4005847537123203,
          0.6319762725044623,
          -0.5380413734209953,
          -0.08738794666023814,
          -1.8254551843999103,
          1.0175681484172752,
          0.0021127376077187962,
          -0.7705028546186218,
          0.06631526524759794,
          -0.5352360753763258,
          -1.4559255362244732,
          0.6814927595357511,
          0.5107840539439649,
          0.9796316487643698,
          -0.21905463173170495,
          0.08921105080631453,
          -0.08792361706888079,
          -0.41923618756050757,
          -0.4981415546229659,
          -0.07847535524500188,
          -0.24018071690368933,
          -0.38239795722451453,
          -0.2418035596682951,
          0.3031425898032398,
          1.1414566305423526,
          0.5448674055655569,
          -0.7664703552982213,
          -0.1575366576650068,
          1.3916397672612317,
          0.8310050728738548,
          -0.014191793254025784,
          -0.36244587664514816,
          -1.6348859125657678
         ]
        },
        {
         "marker": {
          "color": "rgba(128, 0, 128, 0.6)",
          "line": {
           "color": "rgba(128, 0, 128, 1.0)",
           "width": 1
          }
         },
         "name": "D",
         "orientation": "v",
         "text": "",
         "type": "bar",
         "x": [
          0,
          1,
          2,
          3,
          4,
          5,
          6,
          7,
          8,
          9,
          10,
          11,
          12,
          13,
          14,
          15,
          16,
          17,
          18,
          19,
          20,
          21,
          22,
          23,
          24,
          25,
          26,
          27,
          28,
          29,
          30,
          31,
          32,
          33,
          34,
          35,
          36,
          37,
          38,
          39,
          40,
          41,
          42,
          43,
          44,
          45,
          46,
          47,
          48,
          49,
          50,
          51,
          52,
          53,
          54,
          55,
          56,
          57,
          58,
          59,
          60,
          61,
          62,
          63,
          64,
          65,
          66,
          67,
          68,
          69,
          70,
          71,
          72,
          73,
          74,
          75,
          76,
          77,
          78,
          79,
          80,
          81,
          82,
          83,
          84,
          85,
          86,
          87,
          88,
          89,
          90,
          91,
          92,
          93,
          94,
          95,
          96,
          97,
          98,
          99
         ],
         "y": [
          -0.6404112315622998,
          -1.2036166043389107,
          -0.26545321366944863,
          0.7346333548884144,
          0.48078680404730695,
          0.05422684339380275,
          -0.49966150321409286,
          -0.35421347019870486,
          1.881331476859132,
          0.3899522754142814,
          0.5089092271950661,
          -0.4032942201657905,
          0.07509589705458175,
          -1.0001523874809641,
          0.10058576147252309,
          1.2503359025341199,
          -0.12222233531902106,
          -0.6465947472710554,
          -0.12102373860354199,
          1.665760652611896,
          -0.2704779995377056,
          2.7099032561846235,
          -0.5606662929085504,
          -0.09189593830619185,
          1.4596458096663016,
          0.34168443118914005,
          1.0223679905549665,
          -0.7959115689503029,
          0.7135511703827034,
          0.9339507623391351,
          -0.7763600497771335,
          -0.4428577184276622,
          -0.36086435401975436,
          -0.8091761978141375,
          -1.0720939193957855,
          0.5162018883739438,
          -0.4526279649763703,
          -1.1575681014160044,
          2.0649448666751122,
          -0.5682142945678975,
          0.39511361457906574,
          -1.2871589804042116,
          -1.1509207007891296,
          1.1421519425253968,
          -1.9671813198861308,
          0.6666827149967166,
          0.030219767601846796,
          -0.6717614488644225,
          -1.2777657582111945,
          -0.818040739168885,
          -0.9472672580307068,
          -1.7094306873751057,
          0.08823247868522535,
          -0.9713362783218384,
          1.1909251302165311,
          -1.5864277368053585,
          0.4210433879345378,
          -0.3332088572440201,
          -0.36518229798656426,
          0.7741998285990774,
          0.6258155206891973,
          0.27965045998007354,
          0.1623426593318974,
          0.3959902901434726,
          -0.07276839066216864,
          -0.5437140184421474,
          -1.5510141706342768,
          -0.9788360115750212,
          -0.27512689218037645,
          -2.3290172771902546,
          0.5146476121090945,
          1.8018496176990066,
          -0.07522691689864641,
          -0.0494554751985565,
          -0.5338208431440795,
          -0.17314822539444757,
          0.572036276345299,
          -1.0268114660962206,
          0.3582853193530316,
          2.4797019419531336,
          1.5630706985459852,
          -2.785988498132636,
          -0.27813328931761233,
          0.43565577181550663,
          0.3839286453496348,
          0.4990716288796377,
          0.02251828966155011,
          -0.8605405050647003,
          -1.2100661503805077,
          0.8513389533495609,
          -0.41069095401466305,
          0.007956605216103913,
          -0.16919967565153948,
          0.6346036555422729,
          0.8707563302648257,
          -0.22978488676347006,
          -2.2561068330466374,
          1.2677174057067335,
          -0.3616913694520314,
          -0.5220391770856552
         ]
        }
       ],
       "layout": {
        "legend": {
         "bgcolor": "#F5F6F9",
         "font": {
          "color": "#4D5663"
         }
        },
        "paper_bgcolor": "#F5F6F9",
        "plot_bgcolor": "#F5F6F9",
        "template": {
         "data": {
          "bar": [
           {
            "error_x": {
             "color": "#2a3f5f"
            },
            "error_y": {
             "color": "#2a3f5f"
            },
            "marker": {
             "line": {
              "color": "#E5ECF6",
              "width": 0.5
             },
             "pattern": {
              "fillmode": "overlay",
              "size": 10,
              "solidity": 0.2
             }
            },
            "type": "bar"
           }
          ],
          "barpolar": [
           {
            "marker": {
             "line": {
              "color": "#E5ECF6",
              "width": 0.5
             },
             "pattern": {
              "fillmode": "overlay",
              "size": 10,
              "solidity": 0.2
             }
            },
            "type": "barpolar"
           }
          ],
          "carpet": [
           {
            "aaxis": {
             "endlinecolor": "#2a3f5f",
             "gridcolor": "white",
             "linecolor": "white",
             "minorgridcolor": "white",
             "startlinecolor": "#2a3f5f"
            },
            "baxis": {
             "endlinecolor": "#2a3f5f",
             "gridcolor": "white",
             "linecolor": "white",
             "minorgridcolor": "white",
             "startlinecolor": "#2a3f5f"
            },
            "type": "carpet"
           }
          ],
          "choropleth": [
           {
            "colorbar": {
             "outlinewidth": 0,
             "ticks": ""
            },
            "type": "choropleth"
           }
          ],
          "contour": [
           {
            "colorbar": {
             "outlinewidth": 0,
             "ticks": ""
            },
            "colorscale": [
             [
              0,
              "#0d0887"
             ],
             [
              0.1111111111111111,
              "#46039f"
             ],
             [
              0.2222222222222222,
              "#7201a8"
             ],
             [
              0.3333333333333333,
              "#9c179e"
             ],
             [
              0.4444444444444444,
              "#bd3786"
             ],
             [
              0.5555555555555556,
              "#d8576b"
             ],
             [
              0.6666666666666666,
              "#ed7953"
             ],
             [
              0.7777777777777778,
              "#fb9f3a"
             ],
             [
              0.8888888888888888,
              "#fdca26"
             ],
             [
              1,
              "#f0f921"
             ]
            ],
            "type": "contour"
           }
          ],
          "contourcarpet": [
           {
            "colorbar": {
             "outlinewidth": 0,
             "ticks": ""
            },
            "type": "contourcarpet"
           }
          ],
          "heatmap": [
           {
            "colorbar": {
             "outlinewidth": 0,
             "ticks": ""
            },
            "colorscale": [
             [
              0,
              "#0d0887"
             ],
             [
              0.1111111111111111,
              "#46039f"
             ],
             [
              0.2222222222222222,
              "#7201a8"
             ],
             [
              0.3333333333333333,
              "#9c179e"
             ],
             [
              0.4444444444444444,
              "#bd3786"
             ],
             [
              0.5555555555555556,
              "#d8576b"
             ],
             [
              0.6666666666666666,
              "#ed7953"
             ],
             [
              0.7777777777777778,
              "#fb9f3a"
             ],
             [
              0.8888888888888888,
              "#fdca26"
             ],
             [
              1,
              "#f0f921"
             ]
            ],
            "type": "heatmap"
           }
          ],
          "heatmapgl": [
           {
            "colorbar": {
             "outlinewidth": 0,
             "ticks": ""
            },
            "colorscale": [
             [
              0,
              "#0d0887"
             ],
             [
              0.1111111111111111,
              "#46039f"
             ],
             [
              0.2222222222222222,
              "#7201a8"
             ],
             [
              0.3333333333333333,
              "#9c179e"
             ],
             [
              0.4444444444444444,
              "#bd3786"
             ],
             [
              0.5555555555555556,
              "#d8576b"
             ],
             [
              0.6666666666666666,
              "#ed7953"
             ],
             [
              0.7777777777777778,
              "#fb9f3a"
             ],
             [
              0.8888888888888888,
              "#fdca26"
             ],
             [
              1,
              "#f0f921"
             ]
            ],
            "type": "heatmapgl"
           }
          ],
          "histogram": [
           {
            "marker": {
             "pattern": {
              "fillmode": "overlay",
              "size": 10,
              "solidity": 0.2
             }
            },
            "type": "histogram"
           }
          ],
          "histogram2d": [
           {
            "colorbar": {
             "outlinewidth": 0,
             "ticks": ""
            },
            "colorscale": [
             [
              0,
              "#0d0887"
             ],
             [
              0.1111111111111111,
              "#46039f"
             ],
             [
              0.2222222222222222,
              "#7201a8"
             ],
             [
              0.3333333333333333,
              "#9c179e"
             ],
             [
              0.4444444444444444,
              "#bd3786"
             ],
             [
              0.5555555555555556,
              "#d8576b"
             ],
             [
              0.6666666666666666,
              "#ed7953"
             ],
             [
              0.7777777777777778,
              "#fb9f3a"
             ],
             [
              0.8888888888888888,
              "#fdca26"
             ],
             [
              1,
              "#f0f921"
             ]
            ],
            "type": "histogram2d"
           }
          ],
          "histogram2dcontour": [
           {
            "colorbar": {
             "outlinewidth": 0,
             "ticks": ""
            },
            "colorscale": [
             [
              0,
              "#0d0887"
             ],
             [
              0.1111111111111111,
              "#46039f"
             ],
             [
              0.2222222222222222,
              "#7201a8"
             ],
             [
              0.3333333333333333,
              "#9c179e"
             ],
             [
              0.4444444444444444,
              "#bd3786"
             ],
             [
              0.5555555555555556,
              "#d8576b"
             ],
             [
              0.6666666666666666,
              "#ed7953"
             ],
             [
              0.7777777777777778,
              "#fb9f3a"
             ],
             [
              0.8888888888888888,
              "#fdca26"
             ],
             [
              1,
              "#f0f921"
             ]
            ],
            "type": "histogram2dcontour"
           }
          ],
          "mesh3d": [
           {
            "colorbar": {
             "outlinewidth": 0,
             "ticks": ""
            },
            "type": "mesh3d"
           }
          ],
          "parcoords": [
           {
            "line": {
             "colorbar": {
              "outlinewidth": 0,
              "ticks": ""
             }
            },
            "type": "parcoords"
           }
          ],
          "pie": [
           {
            "automargin": true,
            "type": "pie"
           }
          ],
          "scatter": [
           {
            "marker": {
             "colorbar": {
              "outlinewidth": 0,
              "ticks": ""
             }
            },
            "type": "scatter"
           }
          ],
          "scatter3d": [
           {
            "line": {
             "colorbar": {
              "outlinewidth": 0,
              "ticks": ""
             }
            },
            "marker": {
             "colorbar": {
              "outlinewidth": 0,
              "ticks": ""
             }
            },
            "type": "scatter3d"
           }
          ],
          "scattercarpet": [
           {
            "marker": {
             "colorbar": {
              "outlinewidth": 0,
              "ticks": ""
             }
            },
            "type": "scattercarpet"
           }
          ],
          "scattergeo": [
           {
            "marker": {
             "colorbar": {
              "outlinewidth": 0,
              "ticks": ""
             }
            },
            "type": "scattergeo"
           }
          ],
          "scattergl": [
           {
            "marker": {
             "colorbar": {
              "outlinewidth": 0,
              "ticks": ""
             }
            },
            "type": "scattergl"
           }
          ],
          "scattermapbox": [
           {
            "marker": {
             "colorbar": {
              "outlinewidth": 0,
              "ticks": ""
             }
            },
            "type": "scattermapbox"
           }
          ],
          "scatterpolar": [
           {
            "marker": {
             "colorbar": {
              "outlinewidth": 0,
              "ticks": ""
             }
            },
            "type": "scatterpolar"
           }
          ],
          "scatterpolargl": [
           {
            "marker": {
             "colorbar": {
              "outlinewidth": 0,
              "ticks": ""
             }
            },
            "type": "scatterpolargl"
           }
          ],
          "scatterternary": [
           {
            "marker": {
             "colorbar": {
              "outlinewidth": 0,
              "ticks": ""
             }
            },
            "type": "scatterternary"
           }
          ],
          "surface": [
           {
            "colorbar": {
             "outlinewidth": 0,
             "ticks": ""
            },
            "colorscale": [
             [
              0,
              "#0d0887"
             ],
             [
              0.1111111111111111,
              "#46039f"
             ],
             [
              0.2222222222222222,
              "#7201a8"
             ],
             [
              0.3333333333333333,
              "#9c179e"
             ],
             [
              0.4444444444444444,
              "#bd3786"
             ],
             [
              0.5555555555555556,
              "#d8576b"
             ],
             [
              0.6666666666666666,
              "#ed7953"
             ],
             [
              0.7777777777777778,
              "#fb9f3a"
             ],
             [
              0.8888888888888888,
              "#fdca26"
             ],
             [
              1,
              "#f0f921"
             ]
            ],
            "type": "surface"
           }
          ],
          "table": [
           {
            "cells": {
             "fill": {
              "color": "#EBF0F8"
             },
             "line": {
              "color": "white"
             }
            },
            "header": {
             "fill": {
              "color": "#C8D4E3"
             },
             "line": {
              "color": "white"
             }
            },
            "type": "table"
           }
          ]
         },
         "layout": {
          "annotationdefaults": {
           "arrowcolor": "#2a3f5f",
           "arrowhead": 0,
           "arrowwidth": 1
          },
          "autotypenumbers": "strict",
          "coloraxis": {
           "colorbar": {
            "outlinewidth": 0,
            "ticks": ""
           }
          },
          "colorscale": {
           "diverging": [
            [
             0,
             "#8e0152"
            ],
            [
             0.1,
             "#c51b7d"
            ],
            [
             0.2,
             "#de77ae"
            ],
            [
             0.3,
             "#f1b6da"
            ],
            [
             0.4,
             "#fde0ef"
            ],
            [
             0.5,
             "#f7f7f7"
            ],
            [
             0.6,
             "#e6f5d0"
            ],
            [
             0.7,
             "#b8e186"
            ],
            [
             0.8,
             "#7fbc41"
            ],
            [
             0.9,
             "#4d9221"
            ],
            [
             1,
             "#276419"
            ]
           ],
           "sequential": [
            [
             0,
             "#0d0887"
            ],
            [
             0.1111111111111111,
             "#46039f"
            ],
            [
             0.2222222222222222,
             "#7201a8"
            ],
            [
             0.3333333333333333,
             "#9c179e"
            ],
            [
             0.4444444444444444,
             "#bd3786"
            ],
            [
             0.5555555555555556,
             "#d8576b"
            ],
            [
             0.6666666666666666,
             "#ed7953"
            ],
            [
             0.7777777777777778,
             "#fb9f3a"
            ],
            [
             0.8888888888888888,
             "#fdca26"
            ],
            [
             1,
             "#f0f921"
            ]
           ],
           "sequentialminus": [
            [
             0,
             "#0d0887"
            ],
            [
             0.1111111111111111,
             "#46039f"
            ],
            [
             0.2222222222222222,
             "#7201a8"
            ],
            [
             0.3333333333333333,
             "#9c179e"
            ],
            [
             0.4444444444444444,
             "#bd3786"
            ],
            [
             0.5555555555555556,
             "#d8576b"
            ],
            [
             0.6666666666666666,
             "#ed7953"
            ],
            [
             0.7777777777777778,
             "#fb9f3a"
            ],
            [
             0.8888888888888888,
             "#fdca26"
            ],
            [
             1,
             "#f0f921"
            ]
           ]
          },
          "colorway": [
           "#636efa",
           "#EF553B",
           "#00cc96",
           "#ab63fa",
           "#FFA15A",
           "#19d3f3",
           "#FF6692",
           "#B6E880",
           "#FF97FF",
           "#FECB52"
          ],
          "font": {
           "color": "#2a3f5f"
          },
          "geo": {
           "bgcolor": "white",
           "lakecolor": "white",
           "landcolor": "#E5ECF6",
           "showlakes": true,
           "showland": true,
           "subunitcolor": "white"
          },
          "hoverlabel": {
           "align": "left"
          },
          "hovermode": "closest",
          "mapbox": {
           "style": "light"
          },
          "paper_bgcolor": "white",
          "plot_bgcolor": "#E5ECF6",
          "polar": {
           "angularaxis": {
            "gridcolor": "white",
            "linecolor": "white",
            "ticks": ""
           },
           "bgcolor": "#E5ECF6",
           "radialaxis": {
            "gridcolor": "white",
            "linecolor": "white",
            "ticks": ""
           }
          },
          "scene": {
           "xaxis": {
            "backgroundcolor": "#E5ECF6",
            "gridcolor": "white",
            "gridwidth": 2,
            "linecolor": "white",
            "showbackground": true,
            "ticks": "",
            "zerolinecolor": "white"
           },
           "yaxis": {
            "backgroundcolor": "#E5ECF6",
            "gridcolor": "white",
            "gridwidth": 2,
            "linecolor": "white",
            "showbackground": true,
            "ticks": "",
            "zerolinecolor": "white"
           },
           "zaxis": {
            "backgroundcolor": "#E5ECF6",
            "gridcolor": "white",
            "gridwidth": 2,
            "linecolor": "white",
            "showbackground": true,
            "ticks": "",
            "zerolinecolor": "white"
           }
          },
          "shapedefaults": {
           "line": {
            "color": "#2a3f5f"
           }
          },
          "ternary": {
           "aaxis": {
            "gridcolor": "white",
            "linecolor": "white",
            "ticks": ""
           },
           "baxis": {
            "gridcolor": "white",
            "linecolor": "white",
            "ticks": ""
           },
           "bgcolor": "#E5ECF6",
           "caxis": {
            "gridcolor": "white",
            "linecolor": "white",
            "ticks": ""
           }
          },
          "title": {
           "x": 0.05
          },
          "xaxis": {
           "automargin": true,
           "gridcolor": "white",
           "linecolor": "white",
           "ticks": "",
           "title": {
            "standoff": 15
           },
           "zerolinecolor": "white",
           "zerolinewidth": 2
          },
          "yaxis": {
           "automargin": true,
           "gridcolor": "white",
           "linecolor": "white",
           "ticks": "",
           "title": {
            "standoff": 15
           },
           "zerolinecolor": "white",
           "zerolinewidth": 2
          }
         }
        },
        "title": {
         "font": {
          "color": "#4D5663"
         }
        },
        "xaxis": {
         "gridcolor": "#E1E5ED",
         "showgrid": true,
         "tickfont": {
          "color": "#4D5663"
         },
         "title": {
          "font": {
           "color": "#4D5663"
          },
          "text": ""
         },
         "zerolinecolor": "#E1E5ED"
        },
        "yaxis": {
         "gridcolor": "#E1E5ED",
         "showgrid": true,
         "tickfont": {
          "color": "#4D5663"
         },
         "title": {
          "font": {
           "color": "#4D5663"
          },
          "text": ""
         },
         "zerolinecolor": "#E1E5ED"
        }
       }
      },
      "text/html": [
       "<div>                            <div id=\"92d85feb-ba4b-4b68-95f5-3bfd4363a038\" class=\"plotly-graph-div\" style=\"height:525px; width:100%;\"></div>            <script type=\"text/javascript\">                require([\"plotly\"], function(Plotly) {                    window.PLOTLYENV=window.PLOTLYENV || {};\n",
       "                    window.PLOTLYENV.BASE_URL='https://plot.ly';                                    if (document.getElementById(\"92d85feb-ba4b-4b68-95f5-3bfd4363a038\")) {                    Plotly.newPlot(                        \"92d85feb-ba4b-4b68-95f5-3bfd4363a038\",                        [{\"marker\":{\"color\":\"rgba(255, 153, 51, 0.6)\",\"line\":{\"color\":\"rgba(255, 153, 51, 1.0)\",\"width\":1}},\"name\":\"A\",\"orientation\":\"v\",\"text\":\"\",\"type\":\"bar\",\"x\":[0,1,2,3,4,5,6,7,8,9,10,11,12,13,14,15,16,17,18,19,20,21,22,23,24,25,26,27,28,29,30,31,32,33,34,35,36,37,38,39,40,41,42,43,44,45,46,47,48,49,50,51,52,53,54,55,56,57,58,59,60,61,62,63,64,65,66,67,68,69,70,71,72,73,74,75,76,77,78,79,80,81,82,83,84,85,86,87,88,89,90,91,92,93,94,95,96,97,98,99],\"y\":[0.5816966956153499,0.12316386314759027,-0.22398171843685152,-0.8895932385975902,0.2752188676636905,-0.2043642311215671,0.3948123118583736,0.48645630871897805,1.5739071788301084,2.1488658396531037,-0.31708220249715474,-0.9711842754967692,1.2628175279667635,-1.1834028893365194,1.6944271259868855,-0.5931338474672299,0.0027807338470003007,-0.6818703057681064,0.6628178049410343,0.03540578774837641,0.732895635310974,-0.4275137954232451,1.320181769808673,-1.482472611175471,2.071582002661825,-0.01967219630635455,1.209423427603569,1.6610041759226586,-0.5453412431129742,0.3258745239218415,-0.27722164238155605,0.6478830076709254,0.9950648418037051,-0.48714277801385814,-0.4436228773791175,0.11702106920114262,-0.5740663577799426,2.002122515184173,0.014114137435172026,0.2517242524460662,-0.11235543580606286,0.5375253295601139,-0.5968833989130355,0.048054972651586265,-1.123202596891187,0.004196248013858794,0.661815828049052,-1.2980041274097809,0.3744164921338543,-0.17708144186725294,0.2076525777904713,-1.3025365058856804,-1.5590190180060983,0.6248400236247296,0.7911141185158476,-0.49037525611041033,1.2330545424386792,0.6709923076578755,-0.5331723733231042,0.10228037344181613,-0.1363508547845355,2.218762225844916,0.5446047848971652,-0.08107298699081342,0.585020407460338,0.7651851072247567,0.5140874559311198,-0.5527227666251414,0.328474992492661,1.7157964042871225,-0.4754802351708734,-0.2393856771841323,1.0401174604876424,1.4134185841189972,-0.665029001262137,-1.122798015523656,-0.5260727243464802,-2.6006280522817535,1.0467518800084306,0.39306453239966815,-0.33878690050097,-1.7677071848964492,0.23253039445027843,-0.6199365487060867,1.4471217025997936,-0.507721592541854,0.14885342347303643,0.5986738883632382,0.16912484206819606,0.9555600442980435,-1.0980989001705028,-0.020763816433263235,0.6062071067217284,-0.8319213017686466,1.0144730260507537,1.458043788509651,-1.4586298959821542,-1.3109773870068864,-1.9505596262167764,1.1103572219598006]},{\"marker\":{\"color\":\"rgba(55, 128, 191, 0.6)\",\"line\":{\"color\":\"rgba(55, 128, 191, 1.0)\",\"width\":1}},\"name\":\"B\",\"orientation\":\"v\",\"text\":\"\",\"type\":\"bar\",\"x\":[0,1,2,3,4,5,6,7,8,9,10,11,12,13,14,15,16,17,18,19,20,21,22,23,24,25,26,27,28,29,30,31,32,33,34,35,36,37,38,39,40,41,42,43,44,45,46,47,48,49,50,51,52,53,54,55,56,57,58,59,60,61,62,63,64,65,66,67,68,69,70,71,72,73,74,75,76,77,78,79,80,81,82,83,84,85,86,87,88,89,90,91,92,93,94,95,96,97,98,99],\"y\":[-0.5696383137081489,1.1351734827535165,0.9152001917611036,-0.00844155094580938,-0.06258170188690283,-1.397960774408616,0.3435980433431662,1.9771984759663241,0.7980962552551226,0.5099384295338028,0.6953264740395925,-0.050924092129710836,-0.6895188701915604,0.915616107381015,0.02037246592326186,-1.1576373722887503,-0.2887963256996219,0.4796209590156369,-1.2707481935591634,-1.0331744754868155,-1.6716818578114625,1.2795257614096645,-0.04397638767144347,-1.516411895677526,-0.5005577684774363,0.5504292610693635,0.5207414902462956,-1.0748864153982811,0.42032320246494,1.1925244880627393,-1.1332177751503012,-0.24171705755197975,0.1584254681040101,-0.32122177949433656,1.1041953084365854,0.08917121729266873,1.3853616467346457,-0.3212564324754563,-0.6905917343160966,-1.9487907074894022,-0.31918002995573874,1.0099101012017528,-0.23567285927983872,0.786843177647913,0.3801931489000957,0.06733360341928074,-0.4182380904879572,0.448230605012123,1.1428226019923269,-0.7008002812067107,-0.9528265960823682,0.16921409666104573,-0.2321189369103486,1.4067150981879595,-0.8996080725849857,-0.020364228761414607,-0.6051186814565923,-0.4542178787439367,0.8902985465091476,1.4360863024404278,0.6424637101068639,-0.24572297220482406,-1.144635878568656,-0.3104964171676207,-1.8442320270700612,-0.402890083735357,0.3096071207553138,-1.3247774875957332,-0.5749890046206451,-2.5623083464476264,2.0939381145938447,-1.4627844809059278,-1.04506207721916,-1.1635640272612695,0.8498142990554263,0.5790979612786291,-0.8035121129131575,0.6915682382008483,0.9887753358120481,0.5725170736416944,0.637381534075287,-1.2161750257605888,-0.7287165307989403,-0.5464232876632266,-0.3649806962939663,1.3472364069340996,1.3415149669927902,-0.7423986256356838,0.3235175537655451,0.01830620317089403,-0.21560964163712618,-0.6799803836072068,-1.4445582587569874,1.2488961247500823,0.06940321488678963,0.048331872198486114,-0.9251927212592852,-1.629426086050211,0.9752502823722285,1.2294186690010769]},{\"marker\":{\"color\":\"rgba(50, 171, 96, 0.6)\",\"line\":{\"color\":\"rgba(50, 171, 96, 1.0)\",\"width\":1}},\"name\":\"C\",\"orientation\":\"v\",\"text\":\"\",\"type\":\"bar\",\"x\":[0,1,2,3,4,5,6,7,8,9,10,11,12,13,14,15,16,17,18,19,20,21,22,23,24,25,26,27,28,29,30,31,32,33,34,35,36,37,38,39,40,41,42,43,44,45,46,47,48,49,50,51,52,53,54,55,56,57,58,59,60,61,62,63,64,65,66,67,68,69,70,71,72,73,74,75,76,77,78,79,80,81,82,83,84,85,86,87,88,89,90,91,92,93,94,95,96,97,98,99],\"y\":[-0.9459269174913192,0.19531141693783344,1.4303855991401946,0.036674790720557564,1.6326923785449838,0.8286045871157671,-0.6481868351097086,3.3916658927148924,-0.23154384282744422,1.5359424592188011,1.1935684228941061,1.8027797241776358,-1.3029711071589536,0.6983580159031979,1.9470600799832063,-0.6548101823073411,-0.20805691104366308,-1.8460005945299778,1.4626668472159017,1.4763952429913119,1.9210846711053138,1.3076687985375077,-3.2567661905590604,-1.6612107230619586,0.4176057096249829,0.42061951190981944,0.3596651067545893,0.13694467232436985,-1.7151734572271393,0.06338432905322991,0.7063361662070474,0.20968216768990333,-0.6271829105879608,-1.2140464658425827,-0.3380145286294853,1.0503729545565748,0.2972746289819503,0.46453433038728964,-0.6709599609392913,0.9079049774175922,0.6509528929577602,-0.4288704871701461,-0.1354137935065262,-0.8781446182484274,-0.009118936141923863,-1.5394821485082721,0.9988622250327465,0.8626156053102499,-0.4094858426901262,0.4761067946376451,-1.6897324420533706,-0.3587935380254397,-0.14877969735308644,0.06727214872836712,-1.0734949787033488,-2.7726853944714307,0.10491033862417087,0.5641612600718001,0.7236960155113175,-0.7038408668181785,0.8495952534911181,-1.1830462402811586,1.0021146824749858,1.1107368011471532,-0.3389152218254186,-0.439484812022148,1.066756487029043,-0.4005847537123203,0.6319762725044623,-0.5380413734209953,-0.08738794666023814,-1.8254551843999103,1.0175681484172752,0.0021127376077187962,-0.7705028546186218,0.06631526524759794,-0.5352360753763258,-1.4559255362244732,0.6814927595357511,0.5107840539439649,0.9796316487643698,-0.21905463173170495,0.08921105080631453,-0.08792361706888079,-0.41923618756050757,-0.4981415546229659,-0.07847535524500188,-0.24018071690368933,-0.38239795722451453,-0.2418035596682951,0.3031425898032398,1.1414566305423526,0.5448674055655569,-0.7664703552982213,-0.1575366576650068,1.3916397672612317,0.8310050728738548,-0.014191793254025784,-0.36244587664514816,-1.6348859125657678]},{\"marker\":{\"color\":\"rgba(128, 0, 128, 0.6)\",\"line\":{\"color\":\"rgba(128, 0, 128, 1.0)\",\"width\":1}},\"name\":\"D\",\"orientation\":\"v\",\"text\":\"\",\"type\":\"bar\",\"x\":[0,1,2,3,4,5,6,7,8,9,10,11,12,13,14,15,16,17,18,19,20,21,22,23,24,25,26,27,28,29,30,31,32,33,34,35,36,37,38,39,40,41,42,43,44,45,46,47,48,49,50,51,52,53,54,55,56,57,58,59,60,61,62,63,64,65,66,67,68,69,70,71,72,73,74,75,76,77,78,79,80,81,82,83,84,85,86,87,88,89,90,91,92,93,94,95,96,97,98,99],\"y\":[-0.6404112315622998,-1.2036166043389107,-0.26545321366944863,0.7346333548884144,0.48078680404730695,0.05422684339380275,-0.49966150321409286,-0.35421347019870486,1.881331476859132,0.3899522754142814,0.5089092271950661,-0.4032942201657905,0.07509589705458175,-1.0001523874809641,0.10058576147252309,1.2503359025341199,-0.12222233531902106,-0.6465947472710554,-0.12102373860354199,1.665760652611896,-0.2704779995377056,2.7099032561846235,-0.5606662929085504,-0.09189593830619185,1.4596458096663016,0.34168443118914005,1.0223679905549665,-0.7959115689503029,0.7135511703827034,0.9339507623391351,-0.7763600497771335,-0.4428577184276622,-0.36086435401975436,-0.8091761978141375,-1.0720939193957855,0.5162018883739438,-0.4526279649763703,-1.1575681014160044,2.0649448666751122,-0.5682142945678975,0.39511361457906574,-1.2871589804042116,-1.1509207007891296,1.1421519425253968,-1.9671813198861308,0.6666827149967166,0.030219767601846796,-0.6717614488644225,-1.2777657582111945,-0.818040739168885,-0.9472672580307068,-1.7094306873751057,0.08823247868522535,-0.9713362783218384,1.1909251302165311,-1.5864277368053585,0.4210433879345378,-0.3332088572440201,-0.36518229798656426,0.7741998285990774,0.6258155206891973,0.27965045998007354,0.1623426593318974,0.3959902901434726,-0.07276839066216864,-0.5437140184421474,-1.5510141706342768,-0.9788360115750212,-0.27512689218037645,-2.3290172771902546,0.5146476121090945,1.8018496176990066,-0.07522691689864641,-0.0494554751985565,-0.5338208431440795,-0.17314822539444757,0.572036276345299,-1.0268114660962206,0.3582853193530316,2.4797019419531336,1.5630706985459852,-2.785988498132636,-0.27813328931761233,0.43565577181550663,0.3839286453496348,0.4990716288796377,0.02251828966155011,-0.8605405050647003,-1.2100661503805077,0.8513389533495609,-0.41069095401466305,0.007956605216103913,-0.16919967565153948,0.6346036555422729,0.8707563302648257,-0.22978488676347006,-2.2561068330466374,1.2677174057067335,-0.3616913694520314,-0.5220391770856552]}],                        {\"legend\":{\"bgcolor\":\"#F5F6F9\",\"font\":{\"color\":\"#4D5663\"}},\"paper_bgcolor\":\"#F5F6F9\",\"plot_bgcolor\":\"#F5F6F9\",\"template\":{\"data\":{\"bar\":[{\"error_x\":{\"color\":\"#2a3f5f\"},\"error_y\":{\"color\":\"#2a3f5f\"},\"marker\":{\"line\":{\"color\":\"#E5ECF6\",\"width\":0.5},\"pattern\":{\"fillmode\":\"overlay\",\"size\":10,\"solidity\":0.2}},\"type\":\"bar\"}],\"barpolar\":[{\"marker\":{\"line\":{\"color\":\"#E5ECF6\",\"width\":0.5},\"pattern\":{\"fillmode\":\"overlay\",\"size\":10,\"solidity\":0.2}},\"type\":\"barpolar\"}],\"carpet\":[{\"aaxis\":{\"endlinecolor\":\"#2a3f5f\",\"gridcolor\":\"white\",\"linecolor\":\"white\",\"minorgridcolor\":\"white\",\"startlinecolor\":\"#2a3f5f\"},\"baxis\":{\"endlinecolor\":\"#2a3f5f\",\"gridcolor\":\"white\",\"linecolor\":\"white\",\"minorgridcolor\":\"white\",\"startlinecolor\":\"#2a3f5f\"},\"type\":\"carpet\"}],\"choropleth\":[{\"colorbar\":{\"outlinewidth\":0,\"ticks\":\"\"},\"type\":\"choropleth\"}],\"contour\":[{\"colorbar\":{\"outlinewidth\":0,\"ticks\":\"\"},\"colorscale\":[[0.0,\"#0d0887\"],[0.1111111111111111,\"#46039f\"],[0.2222222222222222,\"#7201a8\"],[0.3333333333333333,\"#9c179e\"],[0.4444444444444444,\"#bd3786\"],[0.5555555555555556,\"#d8576b\"],[0.6666666666666666,\"#ed7953\"],[0.7777777777777778,\"#fb9f3a\"],[0.8888888888888888,\"#fdca26\"],[1.0,\"#f0f921\"]],\"type\":\"contour\"}],\"contourcarpet\":[{\"colorbar\":{\"outlinewidth\":0,\"ticks\":\"\"},\"type\":\"contourcarpet\"}],\"heatmap\":[{\"colorbar\":{\"outlinewidth\":0,\"ticks\":\"\"},\"colorscale\":[[0.0,\"#0d0887\"],[0.1111111111111111,\"#46039f\"],[0.2222222222222222,\"#7201a8\"],[0.3333333333333333,\"#9c179e\"],[0.4444444444444444,\"#bd3786\"],[0.5555555555555556,\"#d8576b\"],[0.6666666666666666,\"#ed7953\"],[0.7777777777777778,\"#fb9f3a\"],[0.8888888888888888,\"#fdca26\"],[1.0,\"#f0f921\"]],\"type\":\"heatmap\"}],\"heatmapgl\":[{\"colorbar\":{\"outlinewidth\":0,\"ticks\":\"\"},\"colorscale\":[[0.0,\"#0d0887\"],[0.1111111111111111,\"#46039f\"],[0.2222222222222222,\"#7201a8\"],[0.3333333333333333,\"#9c179e\"],[0.4444444444444444,\"#bd3786\"],[0.5555555555555556,\"#d8576b\"],[0.6666666666666666,\"#ed7953\"],[0.7777777777777778,\"#fb9f3a\"],[0.8888888888888888,\"#fdca26\"],[1.0,\"#f0f921\"]],\"type\":\"heatmapgl\"}],\"histogram\":[{\"marker\":{\"pattern\":{\"fillmode\":\"overlay\",\"size\":10,\"solidity\":0.2}},\"type\":\"histogram\"}],\"histogram2d\":[{\"colorbar\":{\"outlinewidth\":0,\"ticks\":\"\"},\"colorscale\":[[0.0,\"#0d0887\"],[0.1111111111111111,\"#46039f\"],[0.2222222222222222,\"#7201a8\"],[0.3333333333333333,\"#9c179e\"],[0.4444444444444444,\"#bd3786\"],[0.5555555555555556,\"#d8576b\"],[0.6666666666666666,\"#ed7953\"],[0.7777777777777778,\"#fb9f3a\"],[0.8888888888888888,\"#fdca26\"],[1.0,\"#f0f921\"]],\"type\":\"histogram2d\"}],\"histogram2dcontour\":[{\"colorbar\":{\"outlinewidth\":0,\"ticks\":\"\"},\"colorscale\":[[0.0,\"#0d0887\"],[0.1111111111111111,\"#46039f\"],[0.2222222222222222,\"#7201a8\"],[0.3333333333333333,\"#9c179e\"],[0.4444444444444444,\"#bd3786\"],[0.5555555555555556,\"#d8576b\"],[0.6666666666666666,\"#ed7953\"],[0.7777777777777778,\"#fb9f3a\"],[0.8888888888888888,\"#fdca26\"],[1.0,\"#f0f921\"]],\"type\":\"histogram2dcontour\"}],\"mesh3d\":[{\"colorbar\":{\"outlinewidth\":0,\"ticks\":\"\"},\"type\":\"mesh3d\"}],\"parcoords\":[{\"line\":{\"colorbar\":{\"outlinewidth\":0,\"ticks\":\"\"}},\"type\":\"parcoords\"}],\"pie\":[{\"automargin\":true,\"type\":\"pie\"}],\"scatter\":[{\"marker\":{\"colorbar\":{\"outlinewidth\":0,\"ticks\":\"\"}},\"type\":\"scatter\"}],\"scatter3d\":[{\"line\":{\"colorbar\":{\"outlinewidth\":0,\"ticks\":\"\"}},\"marker\":{\"colorbar\":{\"outlinewidth\":0,\"ticks\":\"\"}},\"type\":\"scatter3d\"}],\"scattercarpet\":[{\"marker\":{\"colorbar\":{\"outlinewidth\":0,\"ticks\":\"\"}},\"type\":\"scattercarpet\"}],\"scattergeo\":[{\"marker\":{\"colorbar\":{\"outlinewidth\":0,\"ticks\":\"\"}},\"type\":\"scattergeo\"}],\"scattergl\":[{\"marker\":{\"colorbar\":{\"outlinewidth\":0,\"ticks\":\"\"}},\"type\":\"scattergl\"}],\"scattermapbox\":[{\"marker\":{\"colorbar\":{\"outlinewidth\":0,\"ticks\":\"\"}},\"type\":\"scattermapbox\"}],\"scatterpolar\":[{\"marker\":{\"colorbar\":{\"outlinewidth\":0,\"ticks\":\"\"}},\"type\":\"scatterpolar\"}],\"scatterpolargl\":[{\"marker\":{\"colorbar\":{\"outlinewidth\":0,\"ticks\":\"\"}},\"type\":\"scatterpolargl\"}],\"scatterternary\":[{\"marker\":{\"colorbar\":{\"outlinewidth\":0,\"ticks\":\"\"}},\"type\":\"scatterternary\"}],\"surface\":[{\"colorbar\":{\"outlinewidth\":0,\"ticks\":\"\"},\"colorscale\":[[0.0,\"#0d0887\"],[0.1111111111111111,\"#46039f\"],[0.2222222222222222,\"#7201a8\"],[0.3333333333333333,\"#9c179e\"],[0.4444444444444444,\"#bd3786\"],[0.5555555555555556,\"#d8576b\"],[0.6666666666666666,\"#ed7953\"],[0.7777777777777778,\"#fb9f3a\"],[0.8888888888888888,\"#fdca26\"],[1.0,\"#f0f921\"]],\"type\":\"surface\"}],\"table\":[{\"cells\":{\"fill\":{\"color\":\"#EBF0F8\"},\"line\":{\"color\":\"white\"}},\"header\":{\"fill\":{\"color\":\"#C8D4E3\"},\"line\":{\"color\":\"white\"}},\"type\":\"table\"}]},\"layout\":{\"annotationdefaults\":{\"arrowcolor\":\"#2a3f5f\",\"arrowhead\":0,\"arrowwidth\":1},\"autotypenumbers\":\"strict\",\"coloraxis\":{\"colorbar\":{\"outlinewidth\":0,\"ticks\":\"\"}},\"colorscale\":{\"diverging\":[[0,\"#8e0152\"],[0.1,\"#c51b7d\"],[0.2,\"#de77ae\"],[0.3,\"#f1b6da\"],[0.4,\"#fde0ef\"],[0.5,\"#f7f7f7\"],[0.6,\"#e6f5d0\"],[0.7,\"#b8e186\"],[0.8,\"#7fbc41\"],[0.9,\"#4d9221\"],[1,\"#276419\"]],\"sequential\":[[0.0,\"#0d0887\"],[0.1111111111111111,\"#46039f\"],[0.2222222222222222,\"#7201a8\"],[0.3333333333333333,\"#9c179e\"],[0.4444444444444444,\"#bd3786\"],[0.5555555555555556,\"#d8576b\"],[0.6666666666666666,\"#ed7953\"],[0.7777777777777778,\"#fb9f3a\"],[0.8888888888888888,\"#fdca26\"],[1.0,\"#f0f921\"]],\"sequentialminus\":[[0.0,\"#0d0887\"],[0.1111111111111111,\"#46039f\"],[0.2222222222222222,\"#7201a8\"],[0.3333333333333333,\"#9c179e\"],[0.4444444444444444,\"#bd3786\"],[0.5555555555555556,\"#d8576b\"],[0.6666666666666666,\"#ed7953\"],[0.7777777777777778,\"#fb9f3a\"],[0.8888888888888888,\"#fdca26\"],[1.0,\"#f0f921\"]]},\"colorway\":[\"#636efa\",\"#EF553B\",\"#00cc96\",\"#ab63fa\",\"#FFA15A\",\"#19d3f3\",\"#FF6692\",\"#B6E880\",\"#FF97FF\",\"#FECB52\"],\"font\":{\"color\":\"#2a3f5f\"},\"geo\":{\"bgcolor\":\"white\",\"lakecolor\":\"white\",\"landcolor\":\"#E5ECF6\",\"showlakes\":true,\"showland\":true,\"subunitcolor\":\"white\"},\"hoverlabel\":{\"align\":\"left\"},\"hovermode\":\"closest\",\"mapbox\":{\"style\":\"light\"},\"paper_bgcolor\":\"white\",\"plot_bgcolor\":\"#E5ECF6\",\"polar\":{\"angularaxis\":{\"gridcolor\":\"white\",\"linecolor\":\"white\",\"ticks\":\"\"},\"bgcolor\":\"#E5ECF6\",\"radialaxis\":{\"gridcolor\":\"white\",\"linecolor\":\"white\",\"ticks\":\"\"}},\"scene\":{\"xaxis\":{\"backgroundcolor\":\"#E5ECF6\",\"gridcolor\":\"white\",\"gridwidth\":2,\"linecolor\":\"white\",\"showbackground\":true,\"ticks\":\"\",\"zerolinecolor\":\"white\"},\"yaxis\":{\"backgroundcolor\":\"#E5ECF6\",\"gridcolor\":\"white\",\"gridwidth\":2,\"linecolor\":\"white\",\"showbackground\":true,\"ticks\":\"\",\"zerolinecolor\":\"white\"},\"zaxis\":{\"backgroundcolor\":\"#E5ECF6\",\"gridcolor\":\"white\",\"gridwidth\":2,\"linecolor\":\"white\",\"showbackground\":true,\"ticks\":\"\",\"zerolinecolor\":\"white\"}},\"shapedefaults\":{\"line\":{\"color\":\"#2a3f5f\"}},\"ternary\":{\"aaxis\":{\"gridcolor\":\"white\",\"linecolor\":\"white\",\"ticks\":\"\"},\"baxis\":{\"gridcolor\":\"white\",\"linecolor\":\"white\",\"ticks\":\"\"},\"bgcolor\":\"#E5ECF6\",\"caxis\":{\"gridcolor\":\"white\",\"linecolor\":\"white\",\"ticks\":\"\"}},\"title\":{\"x\":0.05},\"xaxis\":{\"automargin\":true,\"gridcolor\":\"white\",\"linecolor\":\"white\",\"ticks\":\"\",\"title\":{\"standoff\":15},\"zerolinecolor\":\"white\",\"zerolinewidth\":2},\"yaxis\":{\"automargin\":true,\"gridcolor\":\"white\",\"linecolor\":\"white\",\"ticks\":\"\",\"title\":{\"standoff\":15},\"zerolinecolor\":\"white\",\"zerolinewidth\":2}}},\"title\":{\"font\":{\"color\":\"#4D5663\"}},\"xaxis\":{\"gridcolor\":\"#E1E5ED\",\"showgrid\":true,\"tickfont\":{\"color\":\"#4D5663\"},\"title\":{\"font\":{\"color\":\"#4D5663\"},\"text\":\"\"},\"zerolinecolor\":\"#E1E5ED\"},\"yaxis\":{\"gridcolor\":\"#E1E5ED\",\"showgrid\":true,\"tickfont\":{\"color\":\"#4D5663\"},\"title\":{\"font\":{\"color\":\"#4D5663\"},\"text\":\"\"},\"zerolinecolor\":\"#E1E5ED\"}},                        {\"showLink\": true, \"linkText\": \"Export to plot.ly\", \"plotlyServerURL\": \"https://plot.ly\", \"responsive\": true}                    ).then(function(){\n",
       "                            \n",
       "var gd = document.getElementById('92d85feb-ba4b-4b68-95f5-3bfd4363a038');\n",
       "var x = new MutationObserver(function (mutations, observer) {{\n",
       "        var display = window.getComputedStyle(gd).display;\n",
       "        if (!display || display === 'none') {{\n",
       "            console.log([gd, 'removed!']);\n",
       "            Plotly.purge(gd);\n",
       "            observer.disconnect();\n",
       "        }}\n",
       "}});\n",
       "\n",
       "// Listen for the removal of the full notebook cells\n",
       "var notebookContainer = gd.closest('#notebook-container');\n",
       "if (notebookContainer) {{\n",
       "    x.observe(notebookContainer, {childList: true});\n",
       "}}\n",
       "\n",
       "// Listen for the clearing of the current output cell\n",
       "var outputEl = gd.closest('.output');\n",
       "if (outputEl) {{\n",
       "    x.observe(outputEl, {childList: true});\n",
       "}}\n",
       "\n",
       "                        })                };                });            </script>        </div>"
      ]
     },
     "metadata": {},
     "output_type": "display_data"
    }
   ],
   "source": [
    "df.iplot(kind='bar')"
   ]
  },
  {
   "cell_type": "code",
   "execution_count": 16,
   "id": "e841066e",
   "metadata": {},
   "outputs": [
    {
     "data": {
      "application/vnd.plotly.v1+json": {
       "config": {
        "linkText": "Export to plot.ly",
        "plotlyServerURL": "https://plot.ly",
        "showLink": true
       },
       "data": [
        {
         "boxpoints": false,
         "line": {
          "width": 1.3
         },
         "marker": {
          "color": "rgba(255, 153, 51, 1.0)"
         },
         "name": "A",
         "orientation": "v",
         "type": "box",
         "y": [
          0.5816966956153499,
          0.12316386314759027,
          -0.22398171843685152,
          -0.8895932385975902,
          0.2752188676636905,
          -0.2043642311215671,
          0.3948123118583736,
          0.48645630871897805,
          1.5739071788301084,
          2.1488658396531037,
          -0.31708220249715474,
          -0.9711842754967692,
          1.2628175279667635,
          -1.1834028893365194,
          1.6944271259868855,
          -0.5931338474672299,
          0.0027807338470003007,
          -0.6818703057681064,
          0.6628178049410343,
          0.03540578774837641,
          0.732895635310974,
          -0.4275137954232451,
          1.320181769808673,
          -1.482472611175471,
          2.071582002661825,
          -0.01967219630635455,
          1.209423427603569,
          1.6610041759226586,
          -0.5453412431129742,
          0.3258745239218415,
          -0.27722164238155605,
          0.6478830076709254,
          0.9950648418037051,
          -0.48714277801385814,
          -0.4436228773791175,
          0.11702106920114262,
          -0.5740663577799426,
          2.002122515184173,
          0.014114137435172026,
          0.2517242524460662,
          -0.11235543580606286,
          0.5375253295601139,
          -0.5968833989130355,
          0.048054972651586265,
          -1.123202596891187,
          0.004196248013858794,
          0.661815828049052,
          -1.2980041274097809,
          0.3744164921338543,
          -0.17708144186725294,
          0.2076525777904713,
          -1.3025365058856804,
          -1.5590190180060983,
          0.6248400236247296,
          0.7911141185158476,
          -0.49037525611041033,
          1.2330545424386792,
          0.6709923076578755,
          -0.5331723733231042,
          0.10228037344181613,
          -0.1363508547845355,
          2.218762225844916,
          0.5446047848971652,
          -0.08107298699081342,
          0.585020407460338,
          0.7651851072247567,
          0.5140874559311198,
          -0.5527227666251414,
          0.328474992492661,
          1.7157964042871225,
          -0.4754802351708734,
          -0.2393856771841323,
          1.0401174604876424,
          1.4134185841189972,
          -0.665029001262137,
          -1.122798015523656,
          -0.5260727243464802,
          -2.6006280522817535,
          1.0467518800084306,
          0.39306453239966815,
          -0.33878690050097,
          -1.7677071848964492,
          0.23253039445027843,
          -0.6199365487060867,
          1.4471217025997936,
          -0.507721592541854,
          0.14885342347303643,
          0.5986738883632382,
          0.16912484206819606,
          0.9555600442980435,
          -1.0980989001705028,
          -0.020763816433263235,
          0.6062071067217284,
          -0.8319213017686466,
          1.0144730260507537,
          1.458043788509651,
          -1.4586298959821542,
          -1.3109773870068864,
          -1.9505596262167764,
          1.1103572219598006
         ]
        },
        {
         "boxpoints": false,
         "line": {
          "width": 1.3
         },
         "marker": {
          "color": "rgba(55, 128, 191, 1.0)"
         },
         "name": "B",
         "orientation": "v",
         "type": "box",
         "y": [
          -0.5696383137081489,
          1.1351734827535165,
          0.9152001917611036,
          -0.00844155094580938,
          -0.06258170188690283,
          -1.397960774408616,
          0.3435980433431662,
          1.9771984759663241,
          0.7980962552551226,
          0.5099384295338028,
          0.6953264740395925,
          -0.050924092129710836,
          -0.6895188701915604,
          0.915616107381015,
          0.02037246592326186,
          -1.1576373722887503,
          -0.2887963256996219,
          0.4796209590156369,
          -1.2707481935591634,
          -1.0331744754868155,
          -1.6716818578114625,
          1.2795257614096645,
          -0.04397638767144347,
          -1.516411895677526,
          -0.5005577684774363,
          0.5504292610693635,
          0.5207414902462956,
          -1.0748864153982811,
          0.42032320246494,
          1.1925244880627393,
          -1.1332177751503012,
          -0.24171705755197975,
          0.1584254681040101,
          -0.32122177949433656,
          1.1041953084365854,
          0.08917121729266873,
          1.3853616467346457,
          -0.3212564324754563,
          -0.6905917343160966,
          -1.9487907074894022,
          -0.31918002995573874,
          1.0099101012017528,
          -0.23567285927983872,
          0.786843177647913,
          0.3801931489000957,
          0.06733360341928074,
          -0.4182380904879572,
          0.448230605012123,
          1.1428226019923269,
          -0.7008002812067107,
          -0.9528265960823682,
          0.16921409666104573,
          -0.2321189369103486,
          1.4067150981879595,
          -0.8996080725849857,
          -0.020364228761414607,
          -0.6051186814565923,
          -0.4542178787439367,
          0.8902985465091476,
          1.4360863024404278,
          0.6424637101068639,
          -0.24572297220482406,
          -1.144635878568656,
          -0.3104964171676207,
          -1.8442320270700612,
          -0.402890083735357,
          0.3096071207553138,
          -1.3247774875957332,
          -0.5749890046206451,
          -2.5623083464476264,
          2.0939381145938447,
          -1.4627844809059278,
          -1.04506207721916,
          -1.1635640272612695,
          0.8498142990554263,
          0.5790979612786291,
          -0.8035121129131575,
          0.6915682382008483,
          0.9887753358120481,
          0.5725170736416944,
          0.637381534075287,
          -1.2161750257605888,
          -0.7287165307989403,
          -0.5464232876632266,
          -0.3649806962939663,
          1.3472364069340996,
          1.3415149669927902,
          -0.7423986256356838,
          0.3235175537655451,
          0.01830620317089403,
          -0.21560964163712618,
          -0.6799803836072068,
          -1.4445582587569874,
          1.2488961247500823,
          0.06940321488678963,
          0.048331872198486114,
          -0.9251927212592852,
          -1.629426086050211,
          0.9752502823722285,
          1.2294186690010769
         ]
        },
        {
         "boxpoints": false,
         "line": {
          "width": 1.3
         },
         "marker": {
          "color": "rgba(50, 171, 96, 1.0)"
         },
         "name": "C",
         "orientation": "v",
         "type": "box",
         "y": [
          -0.9459269174913192,
          0.19531141693783344,
          1.4303855991401946,
          0.036674790720557564,
          1.6326923785449838,
          0.8286045871157671,
          -0.6481868351097086,
          3.3916658927148924,
          -0.23154384282744422,
          1.5359424592188011,
          1.1935684228941061,
          1.8027797241776358,
          -1.3029711071589536,
          0.6983580159031979,
          1.9470600799832063,
          -0.6548101823073411,
          -0.20805691104366308,
          -1.8460005945299778,
          1.4626668472159017,
          1.4763952429913119,
          1.9210846711053138,
          1.3076687985375077,
          -3.2567661905590604,
          -1.6612107230619586,
          0.4176057096249829,
          0.42061951190981944,
          0.3596651067545893,
          0.13694467232436985,
          -1.7151734572271393,
          0.06338432905322991,
          0.7063361662070474,
          0.20968216768990333,
          -0.6271829105879608,
          -1.2140464658425827,
          -0.3380145286294853,
          1.0503729545565748,
          0.2972746289819503,
          0.46453433038728964,
          -0.6709599609392913,
          0.9079049774175922,
          0.6509528929577602,
          -0.4288704871701461,
          -0.1354137935065262,
          -0.8781446182484274,
          -0.009118936141923863,
          -1.5394821485082721,
          0.9988622250327465,
          0.8626156053102499,
          -0.4094858426901262,
          0.4761067946376451,
          -1.6897324420533706,
          -0.3587935380254397,
          -0.14877969735308644,
          0.06727214872836712,
          -1.0734949787033488,
          -2.7726853944714307,
          0.10491033862417087,
          0.5641612600718001,
          0.7236960155113175,
          -0.7038408668181785,
          0.8495952534911181,
          -1.1830462402811586,
          1.0021146824749858,
          1.1107368011471532,
          -0.3389152218254186,
          -0.439484812022148,
          1.066756487029043,
          -0.4005847537123203,
          0.6319762725044623,
          -0.5380413734209953,
          -0.08738794666023814,
          -1.8254551843999103,
          1.0175681484172752,
          0.0021127376077187962,
          -0.7705028546186218,
          0.06631526524759794,
          -0.5352360753763258,
          -1.4559255362244732,
          0.6814927595357511,
          0.5107840539439649,
          0.9796316487643698,
          -0.21905463173170495,
          0.08921105080631453,
          -0.08792361706888079,
          -0.41923618756050757,
          -0.4981415546229659,
          -0.07847535524500188,
          -0.24018071690368933,
          -0.38239795722451453,
          -0.2418035596682951,
          0.3031425898032398,
          1.1414566305423526,
          0.5448674055655569,
          -0.7664703552982213,
          -0.1575366576650068,
          1.3916397672612317,
          0.8310050728738548,
          -0.014191793254025784,
          -0.36244587664514816,
          -1.6348859125657678
         ]
        },
        {
         "boxpoints": false,
         "line": {
          "width": 1.3
         },
         "marker": {
          "color": "rgba(128, 0, 128, 1.0)"
         },
         "name": "D",
         "orientation": "v",
         "type": "box",
         "y": [
          -0.6404112315622998,
          -1.2036166043389107,
          -0.26545321366944863,
          0.7346333548884144,
          0.48078680404730695,
          0.05422684339380275,
          -0.49966150321409286,
          -0.35421347019870486,
          1.881331476859132,
          0.3899522754142814,
          0.5089092271950661,
          -0.4032942201657905,
          0.07509589705458175,
          -1.0001523874809641,
          0.10058576147252309,
          1.2503359025341199,
          -0.12222233531902106,
          -0.6465947472710554,
          -0.12102373860354199,
          1.665760652611896,
          -0.2704779995377056,
          2.7099032561846235,
          -0.5606662929085504,
          -0.09189593830619185,
          1.4596458096663016,
          0.34168443118914005,
          1.0223679905549665,
          -0.7959115689503029,
          0.7135511703827034,
          0.9339507623391351,
          -0.7763600497771335,
          -0.4428577184276622,
          -0.36086435401975436,
          -0.8091761978141375,
          -1.0720939193957855,
          0.5162018883739438,
          -0.4526279649763703,
          -1.1575681014160044,
          2.0649448666751122,
          -0.5682142945678975,
          0.39511361457906574,
          -1.2871589804042116,
          -1.1509207007891296,
          1.1421519425253968,
          -1.9671813198861308,
          0.6666827149967166,
          0.030219767601846796,
          -0.6717614488644225,
          -1.2777657582111945,
          -0.818040739168885,
          -0.9472672580307068,
          -1.7094306873751057,
          0.08823247868522535,
          -0.9713362783218384,
          1.1909251302165311,
          -1.5864277368053585,
          0.4210433879345378,
          -0.3332088572440201,
          -0.36518229798656426,
          0.7741998285990774,
          0.6258155206891973,
          0.27965045998007354,
          0.1623426593318974,
          0.3959902901434726,
          -0.07276839066216864,
          -0.5437140184421474,
          -1.5510141706342768,
          -0.9788360115750212,
          -0.27512689218037645,
          -2.3290172771902546,
          0.5146476121090945,
          1.8018496176990066,
          -0.07522691689864641,
          -0.0494554751985565,
          -0.5338208431440795,
          -0.17314822539444757,
          0.572036276345299,
          -1.0268114660962206,
          0.3582853193530316,
          2.4797019419531336,
          1.5630706985459852,
          -2.785988498132636,
          -0.27813328931761233,
          0.43565577181550663,
          0.3839286453496348,
          0.4990716288796377,
          0.02251828966155011,
          -0.8605405050647003,
          -1.2100661503805077,
          0.8513389533495609,
          -0.41069095401466305,
          0.007956605216103913,
          -0.16919967565153948,
          0.6346036555422729,
          0.8707563302648257,
          -0.22978488676347006,
          -2.2561068330466374,
          1.2677174057067335,
          -0.3616913694520314,
          -0.5220391770856552
         ]
        }
       ],
       "layout": {
        "legend": {
         "bgcolor": "#F5F6F9",
         "font": {
          "color": "#4D5663"
         }
        },
        "paper_bgcolor": "#F5F6F9",
        "plot_bgcolor": "#F5F6F9",
        "template": {
         "data": {
          "bar": [
           {
            "error_x": {
             "color": "#2a3f5f"
            },
            "error_y": {
             "color": "#2a3f5f"
            },
            "marker": {
             "line": {
              "color": "#E5ECF6",
              "width": 0.5
             },
             "pattern": {
              "fillmode": "overlay",
              "size": 10,
              "solidity": 0.2
             }
            },
            "type": "bar"
           }
          ],
          "barpolar": [
           {
            "marker": {
             "line": {
              "color": "#E5ECF6",
              "width": 0.5
             },
             "pattern": {
              "fillmode": "overlay",
              "size": 10,
              "solidity": 0.2
             }
            },
            "type": "barpolar"
           }
          ],
          "carpet": [
           {
            "aaxis": {
             "endlinecolor": "#2a3f5f",
             "gridcolor": "white",
             "linecolor": "white",
             "minorgridcolor": "white",
             "startlinecolor": "#2a3f5f"
            },
            "baxis": {
             "endlinecolor": "#2a3f5f",
             "gridcolor": "white",
             "linecolor": "white",
             "minorgridcolor": "white",
             "startlinecolor": "#2a3f5f"
            },
            "type": "carpet"
           }
          ],
          "choropleth": [
           {
            "colorbar": {
             "outlinewidth": 0,
             "ticks": ""
            },
            "type": "choropleth"
           }
          ],
          "contour": [
           {
            "colorbar": {
             "outlinewidth": 0,
             "ticks": ""
            },
            "colorscale": [
             [
              0,
              "#0d0887"
             ],
             [
              0.1111111111111111,
              "#46039f"
             ],
             [
              0.2222222222222222,
              "#7201a8"
             ],
             [
              0.3333333333333333,
              "#9c179e"
             ],
             [
              0.4444444444444444,
              "#bd3786"
             ],
             [
              0.5555555555555556,
              "#d8576b"
             ],
             [
              0.6666666666666666,
              "#ed7953"
             ],
             [
              0.7777777777777778,
              "#fb9f3a"
             ],
             [
              0.8888888888888888,
              "#fdca26"
             ],
             [
              1,
              "#f0f921"
             ]
            ],
            "type": "contour"
           }
          ],
          "contourcarpet": [
           {
            "colorbar": {
             "outlinewidth": 0,
             "ticks": ""
            },
            "type": "contourcarpet"
           }
          ],
          "heatmap": [
           {
            "colorbar": {
             "outlinewidth": 0,
             "ticks": ""
            },
            "colorscale": [
             [
              0,
              "#0d0887"
             ],
             [
              0.1111111111111111,
              "#46039f"
             ],
             [
              0.2222222222222222,
              "#7201a8"
             ],
             [
              0.3333333333333333,
              "#9c179e"
             ],
             [
              0.4444444444444444,
              "#bd3786"
             ],
             [
              0.5555555555555556,
              "#d8576b"
             ],
             [
              0.6666666666666666,
              "#ed7953"
             ],
             [
              0.7777777777777778,
              "#fb9f3a"
             ],
             [
              0.8888888888888888,
              "#fdca26"
             ],
             [
              1,
              "#f0f921"
             ]
            ],
            "type": "heatmap"
           }
          ],
          "heatmapgl": [
           {
            "colorbar": {
             "outlinewidth": 0,
             "ticks": ""
            },
            "colorscale": [
             [
              0,
              "#0d0887"
             ],
             [
              0.1111111111111111,
              "#46039f"
             ],
             [
              0.2222222222222222,
              "#7201a8"
             ],
             [
              0.3333333333333333,
              "#9c179e"
             ],
             [
              0.4444444444444444,
              "#bd3786"
             ],
             [
              0.5555555555555556,
              "#d8576b"
             ],
             [
              0.6666666666666666,
              "#ed7953"
             ],
             [
              0.7777777777777778,
              "#fb9f3a"
             ],
             [
              0.8888888888888888,
              "#fdca26"
             ],
             [
              1,
              "#f0f921"
             ]
            ],
            "type": "heatmapgl"
           }
          ],
          "histogram": [
           {
            "marker": {
             "pattern": {
              "fillmode": "overlay",
              "size": 10,
              "solidity": 0.2
             }
            },
            "type": "histogram"
           }
          ],
          "histogram2d": [
           {
            "colorbar": {
             "outlinewidth": 0,
             "ticks": ""
            },
            "colorscale": [
             [
              0,
              "#0d0887"
             ],
             [
              0.1111111111111111,
              "#46039f"
             ],
             [
              0.2222222222222222,
              "#7201a8"
             ],
             [
              0.3333333333333333,
              "#9c179e"
             ],
             [
              0.4444444444444444,
              "#bd3786"
             ],
             [
              0.5555555555555556,
              "#d8576b"
             ],
             [
              0.6666666666666666,
              "#ed7953"
             ],
             [
              0.7777777777777778,
              "#fb9f3a"
             ],
             [
              0.8888888888888888,
              "#fdca26"
             ],
             [
              1,
              "#f0f921"
             ]
            ],
            "type": "histogram2d"
           }
          ],
          "histogram2dcontour": [
           {
            "colorbar": {
             "outlinewidth": 0,
             "ticks": ""
            },
            "colorscale": [
             [
              0,
              "#0d0887"
             ],
             [
              0.1111111111111111,
              "#46039f"
             ],
             [
              0.2222222222222222,
              "#7201a8"
             ],
             [
              0.3333333333333333,
              "#9c179e"
             ],
             [
              0.4444444444444444,
              "#bd3786"
             ],
             [
              0.5555555555555556,
              "#d8576b"
             ],
             [
              0.6666666666666666,
              "#ed7953"
             ],
             [
              0.7777777777777778,
              "#fb9f3a"
             ],
             [
              0.8888888888888888,
              "#fdca26"
             ],
             [
              1,
              "#f0f921"
             ]
            ],
            "type": "histogram2dcontour"
           }
          ],
          "mesh3d": [
           {
            "colorbar": {
             "outlinewidth": 0,
             "ticks": ""
            },
            "type": "mesh3d"
           }
          ],
          "parcoords": [
           {
            "line": {
             "colorbar": {
              "outlinewidth": 0,
              "ticks": ""
             }
            },
            "type": "parcoords"
           }
          ],
          "pie": [
           {
            "automargin": true,
            "type": "pie"
           }
          ],
          "scatter": [
           {
            "marker": {
             "colorbar": {
              "outlinewidth": 0,
              "ticks": ""
             }
            },
            "type": "scatter"
           }
          ],
          "scatter3d": [
           {
            "line": {
             "colorbar": {
              "outlinewidth": 0,
              "ticks": ""
             }
            },
            "marker": {
             "colorbar": {
              "outlinewidth": 0,
              "ticks": ""
             }
            },
            "type": "scatter3d"
           }
          ],
          "scattercarpet": [
           {
            "marker": {
             "colorbar": {
              "outlinewidth": 0,
              "ticks": ""
             }
            },
            "type": "scattercarpet"
           }
          ],
          "scattergeo": [
           {
            "marker": {
             "colorbar": {
              "outlinewidth": 0,
              "ticks": ""
             }
            },
            "type": "scattergeo"
           }
          ],
          "scattergl": [
           {
            "marker": {
             "colorbar": {
              "outlinewidth": 0,
              "ticks": ""
             }
            },
            "type": "scattergl"
           }
          ],
          "scattermapbox": [
           {
            "marker": {
             "colorbar": {
              "outlinewidth": 0,
              "ticks": ""
             }
            },
            "type": "scattermapbox"
           }
          ],
          "scatterpolar": [
           {
            "marker": {
             "colorbar": {
              "outlinewidth": 0,
              "ticks": ""
             }
            },
            "type": "scatterpolar"
           }
          ],
          "scatterpolargl": [
           {
            "marker": {
             "colorbar": {
              "outlinewidth": 0,
              "ticks": ""
             }
            },
            "type": "scatterpolargl"
           }
          ],
          "scatterternary": [
           {
            "marker": {
             "colorbar": {
              "outlinewidth": 0,
              "ticks": ""
             }
            },
            "type": "scatterternary"
           }
          ],
          "surface": [
           {
            "colorbar": {
             "outlinewidth": 0,
             "ticks": ""
            },
            "colorscale": [
             [
              0,
              "#0d0887"
             ],
             [
              0.1111111111111111,
              "#46039f"
             ],
             [
              0.2222222222222222,
              "#7201a8"
             ],
             [
              0.3333333333333333,
              "#9c179e"
             ],
             [
              0.4444444444444444,
              "#bd3786"
             ],
             [
              0.5555555555555556,
              "#d8576b"
             ],
             [
              0.6666666666666666,
              "#ed7953"
             ],
             [
              0.7777777777777778,
              "#fb9f3a"
             ],
             [
              0.8888888888888888,
              "#fdca26"
             ],
             [
              1,
              "#f0f921"
             ]
            ],
            "type": "surface"
           }
          ],
          "table": [
           {
            "cells": {
             "fill": {
              "color": "#EBF0F8"
             },
             "line": {
              "color": "white"
             }
            },
            "header": {
             "fill": {
              "color": "#C8D4E3"
             },
             "line": {
              "color": "white"
             }
            },
            "type": "table"
           }
          ]
         },
         "layout": {
          "annotationdefaults": {
           "arrowcolor": "#2a3f5f",
           "arrowhead": 0,
           "arrowwidth": 1
          },
          "autotypenumbers": "strict",
          "coloraxis": {
           "colorbar": {
            "outlinewidth": 0,
            "ticks": ""
           }
          },
          "colorscale": {
           "diverging": [
            [
             0,
             "#8e0152"
            ],
            [
             0.1,
             "#c51b7d"
            ],
            [
             0.2,
             "#de77ae"
            ],
            [
             0.3,
             "#f1b6da"
            ],
            [
             0.4,
             "#fde0ef"
            ],
            [
             0.5,
             "#f7f7f7"
            ],
            [
             0.6,
             "#e6f5d0"
            ],
            [
             0.7,
             "#b8e186"
            ],
            [
             0.8,
             "#7fbc41"
            ],
            [
             0.9,
             "#4d9221"
            ],
            [
             1,
             "#276419"
            ]
           ],
           "sequential": [
            [
             0,
             "#0d0887"
            ],
            [
             0.1111111111111111,
             "#46039f"
            ],
            [
             0.2222222222222222,
             "#7201a8"
            ],
            [
             0.3333333333333333,
             "#9c179e"
            ],
            [
             0.4444444444444444,
             "#bd3786"
            ],
            [
             0.5555555555555556,
             "#d8576b"
            ],
            [
             0.6666666666666666,
             "#ed7953"
            ],
            [
             0.7777777777777778,
             "#fb9f3a"
            ],
            [
             0.8888888888888888,
             "#fdca26"
            ],
            [
             1,
             "#f0f921"
            ]
           ],
           "sequentialminus": [
            [
             0,
             "#0d0887"
            ],
            [
             0.1111111111111111,
             "#46039f"
            ],
            [
             0.2222222222222222,
             "#7201a8"
            ],
            [
             0.3333333333333333,
             "#9c179e"
            ],
            [
             0.4444444444444444,
             "#bd3786"
            ],
            [
             0.5555555555555556,
             "#d8576b"
            ],
            [
             0.6666666666666666,
             "#ed7953"
            ],
            [
             0.7777777777777778,
             "#fb9f3a"
            ],
            [
             0.8888888888888888,
             "#fdca26"
            ],
            [
             1,
             "#f0f921"
            ]
           ]
          },
          "colorway": [
           "#636efa",
           "#EF553B",
           "#00cc96",
           "#ab63fa",
           "#FFA15A",
           "#19d3f3",
           "#FF6692",
           "#B6E880",
           "#FF97FF",
           "#FECB52"
          ],
          "font": {
           "color": "#2a3f5f"
          },
          "geo": {
           "bgcolor": "white",
           "lakecolor": "white",
           "landcolor": "#E5ECF6",
           "showlakes": true,
           "showland": true,
           "subunitcolor": "white"
          },
          "hoverlabel": {
           "align": "left"
          },
          "hovermode": "closest",
          "mapbox": {
           "style": "light"
          },
          "paper_bgcolor": "white",
          "plot_bgcolor": "#E5ECF6",
          "polar": {
           "angularaxis": {
            "gridcolor": "white",
            "linecolor": "white",
            "ticks": ""
           },
           "bgcolor": "#E5ECF6",
           "radialaxis": {
            "gridcolor": "white",
            "linecolor": "white",
            "ticks": ""
           }
          },
          "scene": {
           "xaxis": {
            "backgroundcolor": "#E5ECF6",
            "gridcolor": "white",
            "gridwidth": 2,
            "linecolor": "white",
            "showbackground": true,
            "ticks": "",
            "zerolinecolor": "white"
           },
           "yaxis": {
            "backgroundcolor": "#E5ECF6",
            "gridcolor": "white",
            "gridwidth": 2,
            "linecolor": "white",
            "showbackground": true,
            "ticks": "",
            "zerolinecolor": "white"
           },
           "zaxis": {
            "backgroundcolor": "#E5ECF6",
            "gridcolor": "white",
            "gridwidth": 2,
            "linecolor": "white",
            "showbackground": true,
            "ticks": "",
            "zerolinecolor": "white"
           }
          },
          "shapedefaults": {
           "line": {
            "color": "#2a3f5f"
           }
          },
          "ternary": {
           "aaxis": {
            "gridcolor": "white",
            "linecolor": "white",
            "ticks": ""
           },
           "baxis": {
            "gridcolor": "white",
            "linecolor": "white",
            "ticks": ""
           },
           "bgcolor": "#E5ECF6",
           "caxis": {
            "gridcolor": "white",
            "linecolor": "white",
            "ticks": ""
           }
          },
          "title": {
           "x": 0.05
          },
          "xaxis": {
           "automargin": true,
           "gridcolor": "white",
           "linecolor": "white",
           "ticks": "",
           "title": {
            "standoff": 15
           },
           "zerolinecolor": "white",
           "zerolinewidth": 2
          },
          "yaxis": {
           "automargin": true,
           "gridcolor": "white",
           "linecolor": "white",
           "ticks": "",
           "title": {
            "standoff": 15
           },
           "zerolinecolor": "white",
           "zerolinewidth": 2
          }
         }
        },
        "title": {
         "font": {
          "color": "#4D5663"
         }
        },
        "xaxis": {
         "gridcolor": "#E1E5ED",
         "showgrid": true,
         "tickfont": {
          "color": "#4D5663"
         },
         "title": {
          "font": {
           "color": "#4D5663"
          },
          "text": ""
         },
         "zerolinecolor": "#E1E5ED"
        },
        "yaxis": {
         "gridcolor": "#E1E5ED",
         "showgrid": true,
         "tickfont": {
          "color": "#4D5663"
         },
         "title": {
          "font": {
           "color": "#4D5663"
          },
          "text": ""
         },
         "zerolinecolor": "#E1E5ED"
        }
       }
      },
      "text/html": [
       "<div>                            <div id=\"9821d265-26dc-4f32-a8a6-b40dc6ca8ad7\" class=\"plotly-graph-div\" style=\"height:525px; width:100%;\"></div>            <script type=\"text/javascript\">                require([\"plotly\"], function(Plotly) {                    window.PLOTLYENV=window.PLOTLYENV || {};\n",
       "                    window.PLOTLYENV.BASE_URL='https://plot.ly';                                    if (document.getElementById(\"9821d265-26dc-4f32-a8a6-b40dc6ca8ad7\")) {                    Plotly.newPlot(                        \"9821d265-26dc-4f32-a8a6-b40dc6ca8ad7\",                        [{\"boxpoints\":false,\"line\":{\"width\":1.3},\"marker\":{\"color\":\"rgba(255, 153, 51, 1.0)\"},\"name\":\"A\",\"orientation\":\"v\",\"type\":\"box\",\"y\":[0.5816966956153499,0.12316386314759027,-0.22398171843685152,-0.8895932385975902,0.2752188676636905,-0.2043642311215671,0.3948123118583736,0.48645630871897805,1.5739071788301084,2.1488658396531037,-0.31708220249715474,-0.9711842754967692,1.2628175279667635,-1.1834028893365194,1.6944271259868855,-0.5931338474672299,0.0027807338470003007,-0.6818703057681064,0.6628178049410343,0.03540578774837641,0.732895635310974,-0.4275137954232451,1.320181769808673,-1.482472611175471,2.071582002661825,-0.01967219630635455,1.209423427603569,1.6610041759226586,-0.5453412431129742,0.3258745239218415,-0.27722164238155605,0.6478830076709254,0.9950648418037051,-0.48714277801385814,-0.4436228773791175,0.11702106920114262,-0.5740663577799426,2.002122515184173,0.014114137435172026,0.2517242524460662,-0.11235543580606286,0.5375253295601139,-0.5968833989130355,0.048054972651586265,-1.123202596891187,0.004196248013858794,0.661815828049052,-1.2980041274097809,0.3744164921338543,-0.17708144186725294,0.2076525777904713,-1.3025365058856804,-1.5590190180060983,0.6248400236247296,0.7911141185158476,-0.49037525611041033,1.2330545424386792,0.6709923076578755,-0.5331723733231042,0.10228037344181613,-0.1363508547845355,2.218762225844916,0.5446047848971652,-0.08107298699081342,0.585020407460338,0.7651851072247567,0.5140874559311198,-0.5527227666251414,0.328474992492661,1.7157964042871225,-0.4754802351708734,-0.2393856771841323,1.0401174604876424,1.4134185841189972,-0.665029001262137,-1.122798015523656,-0.5260727243464802,-2.6006280522817535,1.0467518800084306,0.39306453239966815,-0.33878690050097,-1.7677071848964492,0.23253039445027843,-0.6199365487060867,1.4471217025997936,-0.507721592541854,0.14885342347303643,0.5986738883632382,0.16912484206819606,0.9555600442980435,-1.0980989001705028,-0.020763816433263235,0.6062071067217284,-0.8319213017686466,1.0144730260507537,1.458043788509651,-1.4586298959821542,-1.3109773870068864,-1.9505596262167764,1.1103572219598006]},{\"boxpoints\":false,\"line\":{\"width\":1.3},\"marker\":{\"color\":\"rgba(55, 128, 191, 1.0)\"},\"name\":\"B\",\"orientation\":\"v\",\"type\":\"box\",\"y\":[-0.5696383137081489,1.1351734827535165,0.9152001917611036,-0.00844155094580938,-0.06258170188690283,-1.397960774408616,0.3435980433431662,1.9771984759663241,0.7980962552551226,0.5099384295338028,0.6953264740395925,-0.050924092129710836,-0.6895188701915604,0.915616107381015,0.02037246592326186,-1.1576373722887503,-0.2887963256996219,0.4796209590156369,-1.2707481935591634,-1.0331744754868155,-1.6716818578114625,1.2795257614096645,-0.04397638767144347,-1.516411895677526,-0.5005577684774363,0.5504292610693635,0.5207414902462956,-1.0748864153982811,0.42032320246494,1.1925244880627393,-1.1332177751503012,-0.24171705755197975,0.1584254681040101,-0.32122177949433656,1.1041953084365854,0.08917121729266873,1.3853616467346457,-0.3212564324754563,-0.6905917343160966,-1.9487907074894022,-0.31918002995573874,1.0099101012017528,-0.23567285927983872,0.786843177647913,0.3801931489000957,0.06733360341928074,-0.4182380904879572,0.448230605012123,1.1428226019923269,-0.7008002812067107,-0.9528265960823682,0.16921409666104573,-0.2321189369103486,1.4067150981879595,-0.8996080725849857,-0.020364228761414607,-0.6051186814565923,-0.4542178787439367,0.8902985465091476,1.4360863024404278,0.6424637101068639,-0.24572297220482406,-1.144635878568656,-0.3104964171676207,-1.8442320270700612,-0.402890083735357,0.3096071207553138,-1.3247774875957332,-0.5749890046206451,-2.5623083464476264,2.0939381145938447,-1.4627844809059278,-1.04506207721916,-1.1635640272612695,0.8498142990554263,0.5790979612786291,-0.8035121129131575,0.6915682382008483,0.9887753358120481,0.5725170736416944,0.637381534075287,-1.2161750257605888,-0.7287165307989403,-0.5464232876632266,-0.3649806962939663,1.3472364069340996,1.3415149669927902,-0.7423986256356838,0.3235175537655451,0.01830620317089403,-0.21560964163712618,-0.6799803836072068,-1.4445582587569874,1.2488961247500823,0.06940321488678963,0.048331872198486114,-0.9251927212592852,-1.629426086050211,0.9752502823722285,1.2294186690010769]},{\"boxpoints\":false,\"line\":{\"width\":1.3},\"marker\":{\"color\":\"rgba(50, 171, 96, 1.0)\"},\"name\":\"C\",\"orientation\":\"v\",\"type\":\"box\",\"y\":[-0.9459269174913192,0.19531141693783344,1.4303855991401946,0.036674790720557564,1.6326923785449838,0.8286045871157671,-0.6481868351097086,3.3916658927148924,-0.23154384282744422,1.5359424592188011,1.1935684228941061,1.8027797241776358,-1.3029711071589536,0.6983580159031979,1.9470600799832063,-0.6548101823073411,-0.20805691104366308,-1.8460005945299778,1.4626668472159017,1.4763952429913119,1.9210846711053138,1.3076687985375077,-3.2567661905590604,-1.6612107230619586,0.4176057096249829,0.42061951190981944,0.3596651067545893,0.13694467232436985,-1.7151734572271393,0.06338432905322991,0.7063361662070474,0.20968216768990333,-0.6271829105879608,-1.2140464658425827,-0.3380145286294853,1.0503729545565748,0.2972746289819503,0.46453433038728964,-0.6709599609392913,0.9079049774175922,0.6509528929577602,-0.4288704871701461,-0.1354137935065262,-0.8781446182484274,-0.009118936141923863,-1.5394821485082721,0.9988622250327465,0.8626156053102499,-0.4094858426901262,0.4761067946376451,-1.6897324420533706,-0.3587935380254397,-0.14877969735308644,0.06727214872836712,-1.0734949787033488,-2.7726853944714307,0.10491033862417087,0.5641612600718001,0.7236960155113175,-0.7038408668181785,0.8495952534911181,-1.1830462402811586,1.0021146824749858,1.1107368011471532,-0.3389152218254186,-0.439484812022148,1.066756487029043,-0.4005847537123203,0.6319762725044623,-0.5380413734209953,-0.08738794666023814,-1.8254551843999103,1.0175681484172752,0.0021127376077187962,-0.7705028546186218,0.06631526524759794,-0.5352360753763258,-1.4559255362244732,0.6814927595357511,0.5107840539439649,0.9796316487643698,-0.21905463173170495,0.08921105080631453,-0.08792361706888079,-0.41923618756050757,-0.4981415546229659,-0.07847535524500188,-0.24018071690368933,-0.38239795722451453,-0.2418035596682951,0.3031425898032398,1.1414566305423526,0.5448674055655569,-0.7664703552982213,-0.1575366576650068,1.3916397672612317,0.8310050728738548,-0.014191793254025784,-0.36244587664514816,-1.6348859125657678]},{\"boxpoints\":false,\"line\":{\"width\":1.3},\"marker\":{\"color\":\"rgba(128, 0, 128, 1.0)\"},\"name\":\"D\",\"orientation\":\"v\",\"type\":\"box\",\"y\":[-0.6404112315622998,-1.2036166043389107,-0.26545321366944863,0.7346333548884144,0.48078680404730695,0.05422684339380275,-0.49966150321409286,-0.35421347019870486,1.881331476859132,0.3899522754142814,0.5089092271950661,-0.4032942201657905,0.07509589705458175,-1.0001523874809641,0.10058576147252309,1.2503359025341199,-0.12222233531902106,-0.6465947472710554,-0.12102373860354199,1.665760652611896,-0.2704779995377056,2.7099032561846235,-0.5606662929085504,-0.09189593830619185,1.4596458096663016,0.34168443118914005,1.0223679905549665,-0.7959115689503029,0.7135511703827034,0.9339507623391351,-0.7763600497771335,-0.4428577184276622,-0.36086435401975436,-0.8091761978141375,-1.0720939193957855,0.5162018883739438,-0.4526279649763703,-1.1575681014160044,2.0649448666751122,-0.5682142945678975,0.39511361457906574,-1.2871589804042116,-1.1509207007891296,1.1421519425253968,-1.9671813198861308,0.6666827149967166,0.030219767601846796,-0.6717614488644225,-1.2777657582111945,-0.818040739168885,-0.9472672580307068,-1.7094306873751057,0.08823247868522535,-0.9713362783218384,1.1909251302165311,-1.5864277368053585,0.4210433879345378,-0.3332088572440201,-0.36518229798656426,0.7741998285990774,0.6258155206891973,0.27965045998007354,0.1623426593318974,0.3959902901434726,-0.07276839066216864,-0.5437140184421474,-1.5510141706342768,-0.9788360115750212,-0.27512689218037645,-2.3290172771902546,0.5146476121090945,1.8018496176990066,-0.07522691689864641,-0.0494554751985565,-0.5338208431440795,-0.17314822539444757,0.572036276345299,-1.0268114660962206,0.3582853193530316,2.4797019419531336,1.5630706985459852,-2.785988498132636,-0.27813328931761233,0.43565577181550663,0.3839286453496348,0.4990716288796377,0.02251828966155011,-0.8605405050647003,-1.2100661503805077,0.8513389533495609,-0.41069095401466305,0.007956605216103913,-0.16919967565153948,0.6346036555422729,0.8707563302648257,-0.22978488676347006,-2.2561068330466374,1.2677174057067335,-0.3616913694520314,-0.5220391770856552]}],                        {\"legend\":{\"bgcolor\":\"#F5F6F9\",\"font\":{\"color\":\"#4D5663\"}},\"paper_bgcolor\":\"#F5F6F9\",\"plot_bgcolor\":\"#F5F6F9\",\"template\":{\"data\":{\"bar\":[{\"error_x\":{\"color\":\"#2a3f5f\"},\"error_y\":{\"color\":\"#2a3f5f\"},\"marker\":{\"line\":{\"color\":\"#E5ECF6\",\"width\":0.5},\"pattern\":{\"fillmode\":\"overlay\",\"size\":10,\"solidity\":0.2}},\"type\":\"bar\"}],\"barpolar\":[{\"marker\":{\"line\":{\"color\":\"#E5ECF6\",\"width\":0.5},\"pattern\":{\"fillmode\":\"overlay\",\"size\":10,\"solidity\":0.2}},\"type\":\"barpolar\"}],\"carpet\":[{\"aaxis\":{\"endlinecolor\":\"#2a3f5f\",\"gridcolor\":\"white\",\"linecolor\":\"white\",\"minorgridcolor\":\"white\",\"startlinecolor\":\"#2a3f5f\"},\"baxis\":{\"endlinecolor\":\"#2a3f5f\",\"gridcolor\":\"white\",\"linecolor\":\"white\",\"minorgridcolor\":\"white\",\"startlinecolor\":\"#2a3f5f\"},\"type\":\"carpet\"}],\"choropleth\":[{\"colorbar\":{\"outlinewidth\":0,\"ticks\":\"\"},\"type\":\"choropleth\"}],\"contour\":[{\"colorbar\":{\"outlinewidth\":0,\"ticks\":\"\"},\"colorscale\":[[0.0,\"#0d0887\"],[0.1111111111111111,\"#46039f\"],[0.2222222222222222,\"#7201a8\"],[0.3333333333333333,\"#9c179e\"],[0.4444444444444444,\"#bd3786\"],[0.5555555555555556,\"#d8576b\"],[0.6666666666666666,\"#ed7953\"],[0.7777777777777778,\"#fb9f3a\"],[0.8888888888888888,\"#fdca26\"],[1.0,\"#f0f921\"]],\"type\":\"contour\"}],\"contourcarpet\":[{\"colorbar\":{\"outlinewidth\":0,\"ticks\":\"\"},\"type\":\"contourcarpet\"}],\"heatmap\":[{\"colorbar\":{\"outlinewidth\":0,\"ticks\":\"\"},\"colorscale\":[[0.0,\"#0d0887\"],[0.1111111111111111,\"#46039f\"],[0.2222222222222222,\"#7201a8\"],[0.3333333333333333,\"#9c179e\"],[0.4444444444444444,\"#bd3786\"],[0.5555555555555556,\"#d8576b\"],[0.6666666666666666,\"#ed7953\"],[0.7777777777777778,\"#fb9f3a\"],[0.8888888888888888,\"#fdca26\"],[1.0,\"#f0f921\"]],\"type\":\"heatmap\"}],\"heatmapgl\":[{\"colorbar\":{\"outlinewidth\":0,\"ticks\":\"\"},\"colorscale\":[[0.0,\"#0d0887\"],[0.1111111111111111,\"#46039f\"],[0.2222222222222222,\"#7201a8\"],[0.3333333333333333,\"#9c179e\"],[0.4444444444444444,\"#bd3786\"],[0.5555555555555556,\"#d8576b\"],[0.6666666666666666,\"#ed7953\"],[0.7777777777777778,\"#fb9f3a\"],[0.8888888888888888,\"#fdca26\"],[1.0,\"#f0f921\"]],\"type\":\"heatmapgl\"}],\"histogram\":[{\"marker\":{\"pattern\":{\"fillmode\":\"overlay\",\"size\":10,\"solidity\":0.2}},\"type\":\"histogram\"}],\"histogram2d\":[{\"colorbar\":{\"outlinewidth\":0,\"ticks\":\"\"},\"colorscale\":[[0.0,\"#0d0887\"],[0.1111111111111111,\"#46039f\"],[0.2222222222222222,\"#7201a8\"],[0.3333333333333333,\"#9c179e\"],[0.4444444444444444,\"#bd3786\"],[0.5555555555555556,\"#d8576b\"],[0.6666666666666666,\"#ed7953\"],[0.7777777777777778,\"#fb9f3a\"],[0.8888888888888888,\"#fdca26\"],[1.0,\"#f0f921\"]],\"type\":\"histogram2d\"}],\"histogram2dcontour\":[{\"colorbar\":{\"outlinewidth\":0,\"ticks\":\"\"},\"colorscale\":[[0.0,\"#0d0887\"],[0.1111111111111111,\"#46039f\"],[0.2222222222222222,\"#7201a8\"],[0.3333333333333333,\"#9c179e\"],[0.4444444444444444,\"#bd3786\"],[0.5555555555555556,\"#d8576b\"],[0.6666666666666666,\"#ed7953\"],[0.7777777777777778,\"#fb9f3a\"],[0.8888888888888888,\"#fdca26\"],[1.0,\"#f0f921\"]],\"type\":\"histogram2dcontour\"}],\"mesh3d\":[{\"colorbar\":{\"outlinewidth\":0,\"ticks\":\"\"},\"type\":\"mesh3d\"}],\"parcoords\":[{\"line\":{\"colorbar\":{\"outlinewidth\":0,\"ticks\":\"\"}},\"type\":\"parcoords\"}],\"pie\":[{\"automargin\":true,\"type\":\"pie\"}],\"scatter\":[{\"marker\":{\"colorbar\":{\"outlinewidth\":0,\"ticks\":\"\"}},\"type\":\"scatter\"}],\"scatter3d\":[{\"line\":{\"colorbar\":{\"outlinewidth\":0,\"ticks\":\"\"}},\"marker\":{\"colorbar\":{\"outlinewidth\":0,\"ticks\":\"\"}},\"type\":\"scatter3d\"}],\"scattercarpet\":[{\"marker\":{\"colorbar\":{\"outlinewidth\":0,\"ticks\":\"\"}},\"type\":\"scattercarpet\"}],\"scattergeo\":[{\"marker\":{\"colorbar\":{\"outlinewidth\":0,\"ticks\":\"\"}},\"type\":\"scattergeo\"}],\"scattergl\":[{\"marker\":{\"colorbar\":{\"outlinewidth\":0,\"ticks\":\"\"}},\"type\":\"scattergl\"}],\"scattermapbox\":[{\"marker\":{\"colorbar\":{\"outlinewidth\":0,\"ticks\":\"\"}},\"type\":\"scattermapbox\"}],\"scatterpolar\":[{\"marker\":{\"colorbar\":{\"outlinewidth\":0,\"ticks\":\"\"}},\"type\":\"scatterpolar\"}],\"scatterpolargl\":[{\"marker\":{\"colorbar\":{\"outlinewidth\":0,\"ticks\":\"\"}},\"type\":\"scatterpolargl\"}],\"scatterternary\":[{\"marker\":{\"colorbar\":{\"outlinewidth\":0,\"ticks\":\"\"}},\"type\":\"scatterternary\"}],\"surface\":[{\"colorbar\":{\"outlinewidth\":0,\"ticks\":\"\"},\"colorscale\":[[0.0,\"#0d0887\"],[0.1111111111111111,\"#46039f\"],[0.2222222222222222,\"#7201a8\"],[0.3333333333333333,\"#9c179e\"],[0.4444444444444444,\"#bd3786\"],[0.5555555555555556,\"#d8576b\"],[0.6666666666666666,\"#ed7953\"],[0.7777777777777778,\"#fb9f3a\"],[0.8888888888888888,\"#fdca26\"],[1.0,\"#f0f921\"]],\"type\":\"surface\"}],\"table\":[{\"cells\":{\"fill\":{\"color\":\"#EBF0F8\"},\"line\":{\"color\":\"white\"}},\"header\":{\"fill\":{\"color\":\"#C8D4E3\"},\"line\":{\"color\":\"white\"}},\"type\":\"table\"}]},\"layout\":{\"annotationdefaults\":{\"arrowcolor\":\"#2a3f5f\",\"arrowhead\":0,\"arrowwidth\":1},\"autotypenumbers\":\"strict\",\"coloraxis\":{\"colorbar\":{\"outlinewidth\":0,\"ticks\":\"\"}},\"colorscale\":{\"diverging\":[[0,\"#8e0152\"],[0.1,\"#c51b7d\"],[0.2,\"#de77ae\"],[0.3,\"#f1b6da\"],[0.4,\"#fde0ef\"],[0.5,\"#f7f7f7\"],[0.6,\"#e6f5d0\"],[0.7,\"#b8e186\"],[0.8,\"#7fbc41\"],[0.9,\"#4d9221\"],[1,\"#276419\"]],\"sequential\":[[0.0,\"#0d0887\"],[0.1111111111111111,\"#46039f\"],[0.2222222222222222,\"#7201a8\"],[0.3333333333333333,\"#9c179e\"],[0.4444444444444444,\"#bd3786\"],[0.5555555555555556,\"#d8576b\"],[0.6666666666666666,\"#ed7953\"],[0.7777777777777778,\"#fb9f3a\"],[0.8888888888888888,\"#fdca26\"],[1.0,\"#f0f921\"]],\"sequentialminus\":[[0.0,\"#0d0887\"],[0.1111111111111111,\"#46039f\"],[0.2222222222222222,\"#7201a8\"],[0.3333333333333333,\"#9c179e\"],[0.4444444444444444,\"#bd3786\"],[0.5555555555555556,\"#d8576b\"],[0.6666666666666666,\"#ed7953\"],[0.7777777777777778,\"#fb9f3a\"],[0.8888888888888888,\"#fdca26\"],[1.0,\"#f0f921\"]]},\"colorway\":[\"#636efa\",\"#EF553B\",\"#00cc96\",\"#ab63fa\",\"#FFA15A\",\"#19d3f3\",\"#FF6692\",\"#B6E880\",\"#FF97FF\",\"#FECB52\"],\"font\":{\"color\":\"#2a3f5f\"},\"geo\":{\"bgcolor\":\"white\",\"lakecolor\":\"white\",\"landcolor\":\"#E5ECF6\",\"showlakes\":true,\"showland\":true,\"subunitcolor\":\"white\"},\"hoverlabel\":{\"align\":\"left\"},\"hovermode\":\"closest\",\"mapbox\":{\"style\":\"light\"},\"paper_bgcolor\":\"white\",\"plot_bgcolor\":\"#E5ECF6\",\"polar\":{\"angularaxis\":{\"gridcolor\":\"white\",\"linecolor\":\"white\",\"ticks\":\"\"},\"bgcolor\":\"#E5ECF6\",\"radialaxis\":{\"gridcolor\":\"white\",\"linecolor\":\"white\",\"ticks\":\"\"}},\"scene\":{\"xaxis\":{\"backgroundcolor\":\"#E5ECF6\",\"gridcolor\":\"white\",\"gridwidth\":2,\"linecolor\":\"white\",\"showbackground\":true,\"ticks\":\"\",\"zerolinecolor\":\"white\"},\"yaxis\":{\"backgroundcolor\":\"#E5ECF6\",\"gridcolor\":\"white\",\"gridwidth\":2,\"linecolor\":\"white\",\"showbackground\":true,\"ticks\":\"\",\"zerolinecolor\":\"white\"},\"zaxis\":{\"backgroundcolor\":\"#E5ECF6\",\"gridcolor\":\"white\",\"gridwidth\":2,\"linecolor\":\"white\",\"showbackground\":true,\"ticks\":\"\",\"zerolinecolor\":\"white\"}},\"shapedefaults\":{\"line\":{\"color\":\"#2a3f5f\"}},\"ternary\":{\"aaxis\":{\"gridcolor\":\"white\",\"linecolor\":\"white\",\"ticks\":\"\"},\"baxis\":{\"gridcolor\":\"white\",\"linecolor\":\"white\",\"ticks\":\"\"},\"bgcolor\":\"#E5ECF6\",\"caxis\":{\"gridcolor\":\"white\",\"linecolor\":\"white\",\"ticks\":\"\"}},\"title\":{\"x\":0.05},\"xaxis\":{\"automargin\":true,\"gridcolor\":\"white\",\"linecolor\":\"white\",\"ticks\":\"\",\"title\":{\"standoff\":15},\"zerolinecolor\":\"white\",\"zerolinewidth\":2},\"yaxis\":{\"automargin\":true,\"gridcolor\":\"white\",\"linecolor\":\"white\",\"ticks\":\"\",\"title\":{\"standoff\":15},\"zerolinecolor\":\"white\",\"zerolinewidth\":2}}},\"title\":{\"font\":{\"color\":\"#4D5663\"}},\"xaxis\":{\"gridcolor\":\"#E1E5ED\",\"showgrid\":true,\"tickfont\":{\"color\":\"#4D5663\"},\"title\":{\"font\":{\"color\":\"#4D5663\"},\"text\":\"\"},\"zerolinecolor\":\"#E1E5ED\"},\"yaxis\":{\"gridcolor\":\"#E1E5ED\",\"showgrid\":true,\"tickfont\":{\"color\":\"#4D5663\"},\"title\":{\"font\":{\"color\":\"#4D5663\"},\"text\":\"\"},\"zerolinecolor\":\"#E1E5ED\"}},                        {\"showLink\": true, \"linkText\": \"Export to plot.ly\", \"plotlyServerURL\": \"https://plot.ly\", \"responsive\": true}                    ).then(function(){\n",
       "                            \n",
       "var gd = document.getElementById('9821d265-26dc-4f32-a8a6-b40dc6ca8ad7');\n",
       "var x = new MutationObserver(function (mutations, observer) {{\n",
       "        var display = window.getComputedStyle(gd).display;\n",
       "        if (!display || display === 'none') {{\n",
       "            console.log([gd, 'removed!']);\n",
       "            Plotly.purge(gd);\n",
       "            observer.disconnect();\n",
       "        }}\n",
       "}});\n",
       "\n",
       "// Listen for the removal of the full notebook cells\n",
       "var notebookContainer = gd.closest('#notebook-container');\n",
       "if (notebookContainer) {{\n",
       "    x.observe(notebookContainer, {childList: true});\n",
       "}}\n",
       "\n",
       "// Listen for the clearing of the current output cell\n",
       "var outputEl = gd.closest('.output');\n",
       "if (outputEl) {{\n",
       "    x.observe(outputEl, {childList: true});\n",
       "}}\n",
       "\n",
       "                        })                };                });            </script>        </div>"
      ]
     },
     "metadata": {},
     "output_type": "display_data"
    }
   ],
   "source": [
    "df.iplot(kind='box')"
   ]
  },
  {
   "cell_type": "code",
   "execution_count": 17,
   "id": "25538f89",
   "metadata": {},
   "outputs": [],
   "source": [
    "df3=pd.DataFrame({'x':[2,4,5,3,7],'y':[10,20,30,40,50],'z':[59,43,80,71,21]})"
   ]
  },
  {
   "cell_type": "code",
   "execution_count": 18,
   "id": "125dfe8b",
   "metadata": {},
   "outputs": [
    {
     "data": {
      "text/html": [
       "<div>\n",
       "<style scoped>\n",
       "    .dataframe tbody tr th:only-of-type {\n",
       "        vertical-align: middle;\n",
       "    }\n",
       "\n",
       "    .dataframe tbody tr th {\n",
       "        vertical-align: top;\n",
       "    }\n",
       "\n",
       "    .dataframe thead th {\n",
       "        text-align: right;\n",
       "    }\n",
       "</style>\n",
       "<table border=\"1\" class=\"dataframe\">\n",
       "  <thead>\n",
       "    <tr style=\"text-align: right;\">\n",
       "      <th></th>\n",
       "      <th>x</th>\n",
       "      <th>y</th>\n",
       "      <th>z</th>\n",
       "    </tr>\n",
       "  </thead>\n",
       "  <tbody>\n",
       "    <tr>\n",
       "      <th>0</th>\n",
       "      <td>2</td>\n",
       "      <td>10</td>\n",
       "      <td>59</td>\n",
       "    </tr>\n",
       "    <tr>\n",
       "      <th>1</th>\n",
       "      <td>4</td>\n",
       "      <td>20</td>\n",
       "      <td>43</td>\n",
       "    </tr>\n",
       "    <tr>\n",
       "      <th>2</th>\n",
       "      <td>5</td>\n",
       "      <td>30</td>\n",
       "      <td>80</td>\n",
       "    </tr>\n",
       "    <tr>\n",
       "      <th>3</th>\n",
       "      <td>3</td>\n",
       "      <td>40</td>\n",
       "      <td>71</td>\n",
       "    </tr>\n",
       "    <tr>\n",
       "      <th>4</th>\n",
       "      <td>7</td>\n",
       "      <td>50</td>\n",
       "      <td>21</td>\n",
       "    </tr>\n",
       "  </tbody>\n",
       "</table>\n",
       "</div>"
      ],
      "text/plain": [
       "   x   y   z\n",
       "0  2  10  59\n",
       "1  4  20  43\n",
       "2  5  30  80\n",
       "3  3  40  71\n",
       "4  7  50  21"
      ]
     },
     "execution_count": 18,
     "metadata": {},
     "output_type": "execute_result"
    }
   ],
   "source": [
    "df3"
   ]
  },
  {
   "cell_type": "code",
   "execution_count": 19,
   "id": "f7f5729b",
   "metadata": {},
   "outputs": [
    {
     "data": {
      "application/vnd.plotly.v1+json": {
       "config": {
        "linkText": "Export to plot.ly",
        "plotlyServerURL": "https://plot.ly",
        "showLink": true
       },
       "data": [
        {
         "colorscale": [
          [
           0,
           "rgb(255, 153, 51)"
          ],
          [
           0.1111111111111111,
           "rgb(55, 128, 191)"
          ],
          [
           0.2222222222222222,
           "rgb(50, 171, 96)"
          ],
          [
           0.3333333333333333,
           "rgb(128, 0, 128)"
          ],
          [
           0.4444444444444444,
           "rgb(219, 64, 82)"
          ],
          [
           0.5555555555555556,
           "rgb(0, 128, 128)"
          ],
          [
           0.6666666666666666,
           "rgb(255, 255, 51)"
          ],
          [
           0.7777777777777778,
           "rgb(128, 128, 0)"
          ],
          [
           0.8888888888888888,
           "rgb(251, 128, 114)"
          ],
          [
           1,
           "rgb(128, 177, 211)"
          ]
         ],
         "type": "surface",
         "x": [
          0,
          1,
          2,
          3,
          4
         ],
         "y": [
          "x",
          "y",
          "z"
         ],
         "z": [
          [
           2,
           4,
           5,
           3,
           7
          ],
          [
           10,
           20,
           30,
           40,
           50
          ],
          [
           59,
           43,
           80,
           71,
           21
          ]
         ]
        }
       ],
       "layout": {
        "legend": {
         "bgcolor": "#F5F6F9",
         "font": {
          "color": "#4D5663"
         }
        },
        "paper_bgcolor": "#F5F6F9",
        "plot_bgcolor": "#F5F6F9",
        "template": {
         "data": {
          "bar": [
           {
            "error_x": {
             "color": "#2a3f5f"
            },
            "error_y": {
             "color": "#2a3f5f"
            },
            "marker": {
             "line": {
              "color": "#E5ECF6",
              "width": 0.5
             },
             "pattern": {
              "fillmode": "overlay",
              "size": 10,
              "solidity": 0.2
             }
            },
            "type": "bar"
           }
          ],
          "barpolar": [
           {
            "marker": {
             "line": {
              "color": "#E5ECF6",
              "width": 0.5
             },
             "pattern": {
              "fillmode": "overlay",
              "size": 10,
              "solidity": 0.2
             }
            },
            "type": "barpolar"
           }
          ],
          "carpet": [
           {
            "aaxis": {
             "endlinecolor": "#2a3f5f",
             "gridcolor": "white",
             "linecolor": "white",
             "minorgridcolor": "white",
             "startlinecolor": "#2a3f5f"
            },
            "baxis": {
             "endlinecolor": "#2a3f5f",
             "gridcolor": "white",
             "linecolor": "white",
             "minorgridcolor": "white",
             "startlinecolor": "#2a3f5f"
            },
            "type": "carpet"
           }
          ],
          "choropleth": [
           {
            "colorbar": {
             "outlinewidth": 0,
             "ticks": ""
            },
            "type": "choropleth"
           }
          ],
          "contour": [
           {
            "colorbar": {
             "outlinewidth": 0,
             "ticks": ""
            },
            "colorscale": [
             [
              0,
              "#0d0887"
             ],
             [
              0.1111111111111111,
              "#46039f"
             ],
             [
              0.2222222222222222,
              "#7201a8"
             ],
             [
              0.3333333333333333,
              "#9c179e"
             ],
             [
              0.4444444444444444,
              "#bd3786"
             ],
             [
              0.5555555555555556,
              "#d8576b"
             ],
             [
              0.6666666666666666,
              "#ed7953"
             ],
             [
              0.7777777777777778,
              "#fb9f3a"
             ],
             [
              0.8888888888888888,
              "#fdca26"
             ],
             [
              1,
              "#f0f921"
             ]
            ],
            "type": "contour"
           }
          ],
          "contourcarpet": [
           {
            "colorbar": {
             "outlinewidth": 0,
             "ticks": ""
            },
            "type": "contourcarpet"
           }
          ],
          "heatmap": [
           {
            "colorbar": {
             "outlinewidth": 0,
             "ticks": ""
            },
            "colorscale": [
             [
              0,
              "#0d0887"
             ],
             [
              0.1111111111111111,
              "#46039f"
             ],
             [
              0.2222222222222222,
              "#7201a8"
             ],
             [
              0.3333333333333333,
              "#9c179e"
             ],
             [
              0.4444444444444444,
              "#bd3786"
             ],
             [
              0.5555555555555556,
              "#d8576b"
             ],
             [
              0.6666666666666666,
              "#ed7953"
             ],
             [
              0.7777777777777778,
              "#fb9f3a"
             ],
             [
              0.8888888888888888,
              "#fdca26"
             ],
             [
              1,
              "#f0f921"
             ]
            ],
            "type": "heatmap"
           }
          ],
          "heatmapgl": [
           {
            "colorbar": {
             "outlinewidth": 0,
             "ticks": ""
            },
            "colorscale": [
             [
              0,
              "#0d0887"
             ],
             [
              0.1111111111111111,
              "#46039f"
             ],
             [
              0.2222222222222222,
              "#7201a8"
             ],
             [
              0.3333333333333333,
              "#9c179e"
             ],
             [
              0.4444444444444444,
              "#bd3786"
             ],
             [
              0.5555555555555556,
              "#d8576b"
             ],
             [
              0.6666666666666666,
              "#ed7953"
             ],
             [
              0.7777777777777778,
              "#fb9f3a"
             ],
             [
              0.8888888888888888,
              "#fdca26"
             ],
             [
              1,
              "#f0f921"
             ]
            ],
            "type": "heatmapgl"
           }
          ],
          "histogram": [
           {
            "marker": {
             "pattern": {
              "fillmode": "overlay",
              "size": 10,
              "solidity": 0.2
             }
            },
            "type": "histogram"
           }
          ],
          "histogram2d": [
           {
            "colorbar": {
             "outlinewidth": 0,
             "ticks": ""
            },
            "colorscale": [
             [
              0,
              "#0d0887"
             ],
             [
              0.1111111111111111,
              "#46039f"
             ],
             [
              0.2222222222222222,
              "#7201a8"
             ],
             [
              0.3333333333333333,
              "#9c179e"
             ],
             [
              0.4444444444444444,
              "#bd3786"
             ],
             [
              0.5555555555555556,
              "#d8576b"
             ],
             [
              0.6666666666666666,
              "#ed7953"
             ],
             [
              0.7777777777777778,
              "#fb9f3a"
             ],
             [
              0.8888888888888888,
              "#fdca26"
             ],
             [
              1,
              "#f0f921"
             ]
            ],
            "type": "histogram2d"
           }
          ],
          "histogram2dcontour": [
           {
            "colorbar": {
             "outlinewidth": 0,
             "ticks": ""
            },
            "colorscale": [
             [
              0,
              "#0d0887"
             ],
             [
              0.1111111111111111,
              "#46039f"
             ],
             [
              0.2222222222222222,
              "#7201a8"
             ],
             [
              0.3333333333333333,
              "#9c179e"
             ],
             [
              0.4444444444444444,
              "#bd3786"
             ],
             [
              0.5555555555555556,
              "#d8576b"
             ],
             [
              0.6666666666666666,
              "#ed7953"
             ],
             [
              0.7777777777777778,
              "#fb9f3a"
             ],
             [
              0.8888888888888888,
              "#fdca26"
             ],
             [
              1,
              "#f0f921"
             ]
            ],
            "type": "histogram2dcontour"
           }
          ],
          "mesh3d": [
           {
            "colorbar": {
             "outlinewidth": 0,
             "ticks": ""
            },
            "type": "mesh3d"
           }
          ],
          "parcoords": [
           {
            "line": {
             "colorbar": {
              "outlinewidth": 0,
              "ticks": ""
             }
            },
            "type": "parcoords"
           }
          ],
          "pie": [
           {
            "automargin": true,
            "type": "pie"
           }
          ],
          "scatter": [
           {
            "marker": {
             "colorbar": {
              "outlinewidth": 0,
              "ticks": ""
             }
            },
            "type": "scatter"
           }
          ],
          "scatter3d": [
           {
            "line": {
             "colorbar": {
              "outlinewidth": 0,
              "ticks": ""
             }
            },
            "marker": {
             "colorbar": {
              "outlinewidth": 0,
              "ticks": ""
             }
            },
            "type": "scatter3d"
           }
          ],
          "scattercarpet": [
           {
            "marker": {
             "colorbar": {
              "outlinewidth": 0,
              "ticks": ""
             }
            },
            "type": "scattercarpet"
           }
          ],
          "scattergeo": [
           {
            "marker": {
             "colorbar": {
              "outlinewidth": 0,
              "ticks": ""
             }
            },
            "type": "scattergeo"
           }
          ],
          "scattergl": [
           {
            "marker": {
             "colorbar": {
              "outlinewidth": 0,
              "ticks": ""
             }
            },
            "type": "scattergl"
           }
          ],
          "scattermapbox": [
           {
            "marker": {
             "colorbar": {
              "outlinewidth": 0,
              "ticks": ""
             }
            },
            "type": "scattermapbox"
           }
          ],
          "scatterpolar": [
           {
            "marker": {
             "colorbar": {
              "outlinewidth": 0,
              "ticks": ""
             }
            },
            "type": "scatterpolar"
           }
          ],
          "scatterpolargl": [
           {
            "marker": {
             "colorbar": {
              "outlinewidth": 0,
              "ticks": ""
             }
            },
            "type": "scatterpolargl"
           }
          ],
          "scatterternary": [
           {
            "marker": {
             "colorbar": {
              "outlinewidth": 0,
              "ticks": ""
             }
            },
            "type": "scatterternary"
           }
          ],
          "surface": [
           {
            "colorbar": {
             "outlinewidth": 0,
             "ticks": ""
            },
            "colorscale": [
             [
              0,
              "#0d0887"
             ],
             [
              0.1111111111111111,
              "#46039f"
             ],
             [
              0.2222222222222222,
              "#7201a8"
             ],
             [
              0.3333333333333333,
              "#9c179e"
             ],
             [
              0.4444444444444444,
              "#bd3786"
             ],
             [
              0.5555555555555556,
              "#d8576b"
             ],
             [
              0.6666666666666666,
              "#ed7953"
             ],
             [
              0.7777777777777778,
              "#fb9f3a"
             ],
             [
              0.8888888888888888,
              "#fdca26"
             ],
             [
              1,
              "#f0f921"
             ]
            ],
            "type": "surface"
           }
          ],
          "table": [
           {
            "cells": {
             "fill": {
              "color": "#EBF0F8"
             },
             "line": {
              "color": "white"
             }
            },
            "header": {
             "fill": {
              "color": "#C8D4E3"
             },
             "line": {
              "color": "white"
             }
            },
            "type": "table"
           }
          ]
         },
         "layout": {
          "annotationdefaults": {
           "arrowcolor": "#2a3f5f",
           "arrowhead": 0,
           "arrowwidth": 1
          },
          "autotypenumbers": "strict",
          "coloraxis": {
           "colorbar": {
            "outlinewidth": 0,
            "ticks": ""
           }
          },
          "colorscale": {
           "diverging": [
            [
             0,
             "#8e0152"
            ],
            [
             0.1,
             "#c51b7d"
            ],
            [
             0.2,
             "#de77ae"
            ],
            [
             0.3,
             "#f1b6da"
            ],
            [
             0.4,
             "#fde0ef"
            ],
            [
             0.5,
             "#f7f7f7"
            ],
            [
             0.6,
             "#e6f5d0"
            ],
            [
             0.7,
             "#b8e186"
            ],
            [
             0.8,
             "#7fbc41"
            ],
            [
             0.9,
             "#4d9221"
            ],
            [
             1,
             "#276419"
            ]
           ],
           "sequential": [
            [
             0,
             "#0d0887"
            ],
            [
             0.1111111111111111,
             "#46039f"
            ],
            [
             0.2222222222222222,
             "#7201a8"
            ],
            [
             0.3333333333333333,
             "#9c179e"
            ],
            [
             0.4444444444444444,
             "#bd3786"
            ],
            [
             0.5555555555555556,
             "#d8576b"
            ],
            [
             0.6666666666666666,
             "#ed7953"
            ],
            [
             0.7777777777777778,
             "#fb9f3a"
            ],
            [
             0.8888888888888888,
             "#fdca26"
            ],
            [
             1,
             "#f0f921"
            ]
           ],
           "sequentialminus": [
            [
             0,
             "#0d0887"
            ],
            [
             0.1111111111111111,
             "#46039f"
            ],
            [
             0.2222222222222222,
             "#7201a8"
            ],
            [
             0.3333333333333333,
             "#9c179e"
            ],
            [
             0.4444444444444444,
             "#bd3786"
            ],
            [
             0.5555555555555556,
             "#d8576b"
            ],
            [
             0.6666666666666666,
             "#ed7953"
            ],
            [
             0.7777777777777778,
             "#fb9f3a"
            ],
            [
             0.8888888888888888,
             "#fdca26"
            ],
            [
             1,
             "#f0f921"
            ]
           ]
          },
          "colorway": [
           "#636efa",
           "#EF553B",
           "#00cc96",
           "#ab63fa",
           "#FFA15A",
           "#19d3f3",
           "#FF6692",
           "#B6E880",
           "#FF97FF",
           "#FECB52"
          ],
          "font": {
           "color": "#2a3f5f"
          },
          "geo": {
           "bgcolor": "white",
           "lakecolor": "white",
           "landcolor": "#E5ECF6",
           "showlakes": true,
           "showland": true,
           "subunitcolor": "white"
          },
          "hoverlabel": {
           "align": "left"
          },
          "hovermode": "closest",
          "mapbox": {
           "style": "light"
          },
          "paper_bgcolor": "white",
          "plot_bgcolor": "#E5ECF6",
          "polar": {
           "angularaxis": {
            "gridcolor": "white",
            "linecolor": "white",
            "ticks": ""
           },
           "bgcolor": "#E5ECF6",
           "radialaxis": {
            "gridcolor": "white",
            "linecolor": "white",
            "ticks": ""
           }
          },
          "scene": {
           "xaxis": {
            "backgroundcolor": "#E5ECF6",
            "gridcolor": "white",
            "gridwidth": 2,
            "linecolor": "white",
            "showbackground": true,
            "ticks": "",
            "zerolinecolor": "white"
           },
           "yaxis": {
            "backgroundcolor": "#E5ECF6",
            "gridcolor": "white",
            "gridwidth": 2,
            "linecolor": "white",
            "showbackground": true,
            "ticks": "",
            "zerolinecolor": "white"
           },
           "zaxis": {
            "backgroundcolor": "#E5ECF6",
            "gridcolor": "white",
            "gridwidth": 2,
            "linecolor": "white",
            "showbackground": true,
            "ticks": "",
            "zerolinecolor": "white"
           }
          },
          "shapedefaults": {
           "line": {
            "color": "#2a3f5f"
           }
          },
          "ternary": {
           "aaxis": {
            "gridcolor": "white",
            "linecolor": "white",
            "ticks": ""
           },
           "baxis": {
            "gridcolor": "white",
            "linecolor": "white",
            "ticks": ""
           },
           "bgcolor": "#E5ECF6",
           "caxis": {
            "gridcolor": "white",
            "linecolor": "white",
            "ticks": ""
           }
          },
          "title": {
           "x": 0.05
          },
          "xaxis": {
           "automargin": true,
           "gridcolor": "white",
           "linecolor": "white",
           "ticks": "",
           "title": {
            "standoff": 15
           },
           "zerolinecolor": "white",
           "zerolinewidth": 2
          },
          "yaxis": {
           "automargin": true,
           "gridcolor": "white",
           "linecolor": "white",
           "ticks": "",
           "title": {
            "standoff": 15
           },
           "zerolinecolor": "white",
           "zerolinewidth": 2
          }
         }
        },
        "title": {
         "font": {
          "color": "#4D5663"
         }
        },
        "xaxis": {
         "gridcolor": "#E1E5ED",
         "showgrid": true,
         "tickfont": {
          "color": "#4D5663"
         },
         "title": {
          "font": {
           "color": "#4D5663"
          },
          "text": ""
         },
         "zerolinecolor": "#E1E5ED"
        },
        "yaxis": {
         "gridcolor": "#E1E5ED",
         "showgrid": true,
         "tickfont": {
          "color": "#4D5663"
         },
         "title": {
          "font": {
           "color": "#4D5663"
          },
          "text": ""
         },
         "zerolinecolor": "#E1E5ED"
        }
       }
      },
      "text/html": [
       "<div>                            <div id=\"77f6077f-92fa-4f12-a75b-c1e7bbfb2c3b\" class=\"plotly-graph-div\" style=\"height:525px; width:100%;\"></div>            <script type=\"text/javascript\">                require([\"plotly\"], function(Plotly) {                    window.PLOTLYENV=window.PLOTLYENV || {};\n",
       "                    window.PLOTLYENV.BASE_URL='https://plot.ly';                                    if (document.getElementById(\"77f6077f-92fa-4f12-a75b-c1e7bbfb2c3b\")) {                    Plotly.newPlot(                        \"77f6077f-92fa-4f12-a75b-c1e7bbfb2c3b\",                        [{\"colorscale\":[[0.0,\"rgb(255, 153, 51)\"],[0.1111111111111111,\"rgb(55, 128, 191)\"],[0.2222222222222222,\"rgb(50, 171, 96)\"],[0.3333333333333333,\"rgb(128, 0, 128)\"],[0.4444444444444444,\"rgb(219, 64, 82)\"],[0.5555555555555556,\"rgb(0, 128, 128)\"],[0.6666666666666666,\"rgb(255, 255, 51)\"],[0.7777777777777778,\"rgb(128, 128, 0)\"],[0.8888888888888888,\"rgb(251, 128, 114)\"],[1.0,\"rgb(128, 177, 211)\"]],\"type\":\"surface\",\"x\":[0,1,2,3,4],\"y\":[\"x\",\"y\",\"z\"],\"z\":[[2,4,5,3,7],[10,20,30,40,50],[59,43,80,71,21]]}],                        {\"legend\":{\"bgcolor\":\"#F5F6F9\",\"font\":{\"color\":\"#4D5663\"}},\"paper_bgcolor\":\"#F5F6F9\",\"plot_bgcolor\":\"#F5F6F9\",\"template\":{\"data\":{\"bar\":[{\"error_x\":{\"color\":\"#2a3f5f\"},\"error_y\":{\"color\":\"#2a3f5f\"},\"marker\":{\"line\":{\"color\":\"#E5ECF6\",\"width\":0.5},\"pattern\":{\"fillmode\":\"overlay\",\"size\":10,\"solidity\":0.2}},\"type\":\"bar\"}],\"barpolar\":[{\"marker\":{\"line\":{\"color\":\"#E5ECF6\",\"width\":0.5},\"pattern\":{\"fillmode\":\"overlay\",\"size\":10,\"solidity\":0.2}},\"type\":\"barpolar\"}],\"carpet\":[{\"aaxis\":{\"endlinecolor\":\"#2a3f5f\",\"gridcolor\":\"white\",\"linecolor\":\"white\",\"minorgridcolor\":\"white\",\"startlinecolor\":\"#2a3f5f\"},\"baxis\":{\"endlinecolor\":\"#2a3f5f\",\"gridcolor\":\"white\",\"linecolor\":\"white\",\"minorgridcolor\":\"white\",\"startlinecolor\":\"#2a3f5f\"},\"type\":\"carpet\"}],\"choropleth\":[{\"colorbar\":{\"outlinewidth\":0,\"ticks\":\"\"},\"type\":\"choropleth\"}],\"contour\":[{\"colorbar\":{\"outlinewidth\":0,\"ticks\":\"\"},\"colorscale\":[[0.0,\"#0d0887\"],[0.1111111111111111,\"#46039f\"],[0.2222222222222222,\"#7201a8\"],[0.3333333333333333,\"#9c179e\"],[0.4444444444444444,\"#bd3786\"],[0.5555555555555556,\"#d8576b\"],[0.6666666666666666,\"#ed7953\"],[0.7777777777777778,\"#fb9f3a\"],[0.8888888888888888,\"#fdca26\"],[1.0,\"#f0f921\"]],\"type\":\"contour\"}],\"contourcarpet\":[{\"colorbar\":{\"outlinewidth\":0,\"ticks\":\"\"},\"type\":\"contourcarpet\"}],\"heatmap\":[{\"colorbar\":{\"outlinewidth\":0,\"ticks\":\"\"},\"colorscale\":[[0.0,\"#0d0887\"],[0.1111111111111111,\"#46039f\"],[0.2222222222222222,\"#7201a8\"],[0.3333333333333333,\"#9c179e\"],[0.4444444444444444,\"#bd3786\"],[0.5555555555555556,\"#d8576b\"],[0.6666666666666666,\"#ed7953\"],[0.7777777777777778,\"#fb9f3a\"],[0.8888888888888888,\"#fdca26\"],[1.0,\"#f0f921\"]],\"type\":\"heatmap\"}],\"heatmapgl\":[{\"colorbar\":{\"outlinewidth\":0,\"ticks\":\"\"},\"colorscale\":[[0.0,\"#0d0887\"],[0.1111111111111111,\"#46039f\"],[0.2222222222222222,\"#7201a8\"],[0.3333333333333333,\"#9c179e\"],[0.4444444444444444,\"#bd3786\"],[0.5555555555555556,\"#d8576b\"],[0.6666666666666666,\"#ed7953\"],[0.7777777777777778,\"#fb9f3a\"],[0.8888888888888888,\"#fdca26\"],[1.0,\"#f0f921\"]],\"type\":\"heatmapgl\"}],\"histogram\":[{\"marker\":{\"pattern\":{\"fillmode\":\"overlay\",\"size\":10,\"solidity\":0.2}},\"type\":\"histogram\"}],\"histogram2d\":[{\"colorbar\":{\"outlinewidth\":0,\"ticks\":\"\"},\"colorscale\":[[0.0,\"#0d0887\"],[0.1111111111111111,\"#46039f\"],[0.2222222222222222,\"#7201a8\"],[0.3333333333333333,\"#9c179e\"],[0.4444444444444444,\"#bd3786\"],[0.5555555555555556,\"#d8576b\"],[0.6666666666666666,\"#ed7953\"],[0.7777777777777778,\"#fb9f3a\"],[0.8888888888888888,\"#fdca26\"],[1.0,\"#f0f921\"]],\"type\":\"histogram2d\"}],\"histogram2dcontour\":[{\"colorbar\":{\"outlinewidth\":0,\"ticks\":\"\"},\"colorscale\":[[0.0,\"#0d0887\"],[0.1111111111111111,\"#46039f\"],[0.2222222222222222,\"#7201a8\"],[0.3333333333333333,\"#9c179e\"],[0.4444444444444444,\"#bd3786\"],[0.5555555555555556,\"#d8576b\"],[0.6666666666666666,\"#ed7953\"],[0.7777777777777778,\"#fb9f3a\"],[0.8888888888888888,\"#fdca26\"],[1.0,\"#f0f921\"]],\"type\":\"histogram2dcontour\"}],\"mesh3d\":[{\"colorbar\":{\"outlinewidth\":0,\"ticks\":\"\"},\"type\":\"mesh3d\"}],\"parcoords\":[{\"line\":{\"colorbar\":{\"outlinewidth\":0,\"ticks\":\"\"}},\"type\":\"parcoords\"}],\"pie\":[{\"automargin\":true,\"type\":\"pie\"}],\"scatter\":[{\"marker\":{\"colorbar\":{\"outlinewidth\":0,\"ticks\":\"\"}},\"type\":\"scatter\"}],\"scatter3d\":[{\"line\":{\"colorbar\":{\"outlinewidth\":0,\"ticks\":\"\"}},\"marker\":{\"colorbar\":{\"outlinewidth\":0,\"ticks\":\"\"}},\"type\":\"scatter3d\"}],\"scattercarpet\":[{\"marker\":{\"colorbar\":{\"outlinewidth\":0,\"ticks\":\"\"}},\"type\":\"scattercarpet\"}],\"scattergeo\":[{\"marker\":{\"colorbar\":{\"outlinewidth\":0,\"ticks\":\"\"}},\"type\":\"scattergeo\"}],\"scattergl\":[{\"marker\":{\"colorbar\":{\"outlinewidth\":0,\"ticks\":\"\"}},\"type\":\"scattergl\"}],\"scattermapbox\":[{\"marker\":{\"colorbar\":{\"outlinewidth\":0,\"ticks\":\"\"}},\"type\":\"scattermapbox\"}],\"scatterpolar\":[{\"marker\":{\"colorbar\":{\"outlinewidth\":0,\"ticks\":\"\"}},\"type\":\"scatterpolar\"}],\"scatterpolargl\":[{\"marker\":{\"colorbar\":{\"outlinewidth\":0,\"ticks\":\"\"}},\"type\":\"scatterpolargl\"}],\"scatterternary\":[{\"marker\":{\"colorbar\":{\"outlinewidth\":0,\"ticks\":\"\"}},\"type\":\"scatterternary\"}],\"surface\":[{\"colorbar\":{\"outlinewidth\":0,\"ticks\":\"\"},\"colorscale\":[[0.0,\"#0d0887\"],[0.1111111111111111,\"#46039f\"],[0.2222222222222222,\"#7201a8\"],[0.3333333333333333,\"#9c179e\"],[0.4444444444444444,\"#bd3786\"],[0.5555555555555556,\"#d8576b\"],[0.6666666666666666,\"#ed7953\"],[0.7777777777777778,\"#fb9f3a\"],[0.8888888888888888,\"#fdca26\"],[1.0,\"#f0f921\"]],\"type\":\"surface\"}],\"table\":[{\"cells\":{\"fill\":{\"color\":\"#EBF0F8\"},\"line\":{\"color\":\"white\"}},\"header\":{\"fill\":{\"color\":\"#C8D4E3\"},\"line\":{\"color\":\"white\"}},\"type\":\"table\"}]},\"layout\":{\"annotationdefaults\":{\"arrowcolor\":\"#2a3f5f\",\"arrowhead\":0,\"arrowwidth\":1},\"autotypenumbers\":\"strict\",\"coloraxis\":{\"colorbar\":{\"outlinewidth\":0,\"ticks\":\"\"}},\"colorscale\":{\"diverging\":[[0,\"#8e0152\"],[0.1,\"#c51b7d\"],[0.2,\"#de77ae\"],[0.3,\"#f1b6da\"],[0.4,\"#fde0ef\"],[0.5,\"#f7f7f7\"],[0.6,\"#e6f5d0\"],[0.7,\"#b8e186\"],[0.8,\"#7fbc41\"],[0.9,\"#4d9221\"],[1,\"#276419\"]],\"sequential\":[[0.0,\"#0d0887\"],[0.1111111111111111,\"#46039f\"],[0.2222222222222222,\"#7201a8\"],[0.3333333333333333,\"#9c179e\"],[0.4444444444444444,\"#bd3786\"],[0.5555555555555556,\"#d8576b\"],[0.6666666666666666,\"#ed7953\"],[0.7777777777777778,\"#fb9f3a\"],[0.8888888888888888,\"#fdca26\"],[1.0,\"#f0f921\"]],\"sequentialminus\":[[0.0,\"#0d0887\"],[0.1111111111111111,\"#46039f\"],[0.2222222222222222,\"#7201a8\"],[0.3333333333333333,\"#9c179e\"],[0.4444444444444444,\"#bd3786\"],[0.5555555555555556,\"#d8576b\"],[0.6666666666666666,\"#ed7953\"],[0.7777777777777778,\"#fb9f3a\"],[0.8888888888888888,\"#fdca26\"],[1.0,\"#f0f921\"]]},\"colorway\":[\"#636efa\",\"#EF553B\",\"#00cc96\",\"#ab63fa\",\"#FFA15A\",\"#19d3f3\",\"#FF6692\",\"#B6E880\",\"#FF97FF\",\"#FECB52\"],\"font\":{\"color\":\"#2a3f5f\"},\"geo\":{\"bgcolor\":\"white\",\"lakecolor\":\"white\",\"landcolor\":\"#E5ECF6\",\"showlakes\":true,\"showland\":true,\"subunitcolor\":\"white\"},\"hoverlabel\":{\"align\":\"left\"},\"hovermode\":\"closest\",\"mapbox\":{\"style\":\"light\"},\"paper_bgcolor\":\"white\",\"plot_bgcolor\":\"#E5ECF6\",\"polar\":{\"angularaxis\":{\"gridcolor\":\"white\",\"linecolor\":\"white\",\"ticks\":\"\"},\"bgcolor\":\"#E5ECF6\",\"radialaxis\":{\"gridcolor\":\"white\",\"linecolor\":\"white\",\"ticks\":\"\"}},\"scene\":{\"xaxis\":{\"backgroundcolor\":\"#E5ECF6\",\"gridcolor\":\"white\",\"gridwidth\":2,\"linecolor\":\"white\",\"showbackground\":true,\"ticks\":\"\",\"zerolinecolor\":\"white\"},\"yaxis\":{\"backgroundcolor\":\"#E5ECF6\",\"gridcolor\":\"white\",\"gridwidth\":2,\"linecolor\":\"white\",\"showbackground\":true,\"ticks\":\"\",\"zerolinecolor\":\"white\"},\"zaxis\":{\"backgroundcolor\":\"#E5ECF6\",\"gridcolor\":\"white\",\"gridwidth\":2,\"linecolor\":\"white\",\"showbackground\":true,\"ticks\":\"\",\"zerolinecolor\":\"white\"}},\"shapedefaults\":{\"line\":{\"color\":\"#2a3f5f\"}},\"ternary\":{\"aaxis\":{\"gridcolor\":\"white\",\"linecolor\":\"white\",\"ticks\":\"\"},\"baxis\":{\"gridcolor\":\"white\",\"linecolor\":\"white\",\"ticks\":\"\"},\"bgcolor\":\"#E5ECF6\",\"caxis\":{\"gridcolor\":\"white\",\"linecolor\":\"white\",\"ticks\":\"\"}},\"title\":{\"x\":0.05},\"xaxis\":{\"automargin\":true,\"gridcolor\":\"white\",\"linecolor\":\"white\",\"ticks\":\"\",\"title\":{\"standoff\":15},\"zerolinecolor\":\"white\",\"zerolinewidth\":2},\"yaxis\":{\"automargin\":true,\"gridcolor\":\"white\",\"linecolor\":\"white\",\"ticks\":\"\",\"title\":{\"standoff\":15},\"zerolinecolor\":\"white\",\"zerolinewidth\":2}}},\"title\":{\"font\":{\"color\":\"#4D5663\"}},\"xaxis\":{\"gridcolor\":\"#E1E5ED\",\"showgrid\":true,\"tickfont\":{\"color\":\"#4D5663\"},\"title\":{\"font\":{\"color\":\"#4D5663\"},\"text\":\"\"},\"zerolinecolor\":\"#E1E5ED\"},\"yaxis\":{\"gridcolor\":\"#E1E5ED\",\"showgrid\":true,\"tickfont\":{\"color\":\"#4D5663\"},\"title\":{\"font\":{\"color\":\"#4D5663\"},\"text\":\"\"},\"zerolinecolor\":\"#E1E5ED\"}},                        {\"showLink\": true, \"linkText\": \"Export to plot.ly\", \"plotlyServerURL\": \"https://plot.ly\", \"responsive\": true}                    ).then(function(){\n",
       "                            \n",
       "var gd = document.getElementById('77f6077f-92fa-4f12-a75b-c1e7bbfb2c3b');\n",
       "var x = new MutationObserver(function (mutations, observer) {{\n",
       "        var display = window.getComputedStyle(gd).display;\n",
       "        if (!display || display === 'none') {{\n",
       "            console.log([gd, 'removed!']);\n",
       "            Plotly.purge(gd);\n",
       "            observer.disconnect();\n",
       "        }}\n",
       "}});\n",
       "\n",
       "// Listen for the removal of the full notebook cells\n",
       "var notebookContainer = gd.closest('#notebook-container');\n",
       "if (notebookContainer) {{\n",
       "    x.observe(notebookContainer, {childList: true});\n",
       "}}\n",
       "\n",
       "// Listen for the clearing of the current output cell\n",
       "var outputEl = gd.closest('.output');\n",
       "if (outputEl) {{\n",
       "    x.observe(outputEl, {childList: true});\n",
       "}}\n",
       "\n",
       "                        })                };                });            </script>        </div>"
      ]
     },
     "metadata": {},
     "output_type": "display_data"
    }
   ],
   "source": [
    "df3.iplot(kind='surface')"
   ]
  },
  {
   "cell_type": "code",
   "execution_count": 20,
   "id": "eb855ba5",
   "metadata": {},
   "outputs": [
    {
     "data": {
      "application/vnd.plotly.v1+json": {
       "config": {
        "linkText": "Export to plot.ly",
        "plotlyServerURL": "https://plot.ly",
        "showLink": true
       },
       "data": [
        {
         "histfunc": "count",
         "histnorm": "",
         "marker": {
          "color": "rgba(255, 153, 51, 1.0)",
          "line": {
           "color": "#4D5663",
           "width": 1.3
          }
         },
         "name": "A",
         "nbinsx": 50,
         "opacity": 0.8,
         "orientation": "v",
         "type": "histogram",
         "x": [
          0.5816966956153499,
          0.12316386314759027,
          -0.22398171843685152,
          -0.8895932385975902,
          0.2752188676636905,
          -0.2043642311215671,
          0.3948123118583736,
          0.48645630871897805,
          1.5739071788301084,
          2.1488658396531037,
          -0.31708220249715474,
          -0.9711842754967692,
          1.2628175279667635,
          -1.1834028893365194,
          1.6944271259868855,
          -0.5931338474672299,
          0.0027807338470003007,
          -0.6818703057681064,
          0.6628178049410343,
          0.03540578774837641,
          0.732895635310974,
          -0.4275137954232451,
          1.320181769808673,
          -1.482472611175471,
          2.071582002661825,
          -0.01967219630635455,
          1.209423427603569,
          1.6610041759226586,
          -0.5453412431129742,
          0.3258745239218415,
          -0.27722164238155605,
          0.6478830076709254,
          0.9950648418037051,
          -0.48714277801385814,
          -0.4436228773791175,
          0.11702106920114262,
          -0.5740663577799426,
          2.002122515184173,
          0.014114137435172026,
          0.2517242524460662,
          -0.11235543580606286,
          0.5375253295601139,
          -0.5968833989130355,
          0.048054972651586265,
          -1.123202596891187,
          0.004196248013858794,
          0.661815828049052,
          -1.2980041274097809,
          0.3744164921338543,
          -0.17708144186725294,
          0.2076525777904713,
          -1.3025365058856804,
          -1.5590190180060983,
          0.6248400236247296,
          0.7911141185158476,
          -0.49037525611041033,
          1.2330545424386792,
          0.6709923076578755,
          -0.5331723733231042,
          0.10228037344181613,
          -0.1363508547845355,
          2.218762225844916,
          0.5446047848971652,
          -0.08107298699081342,
          0.585020407460338,
          0.7651851072247567,
          0.5140874559311198,
          -0.5527227666251414,
          0.328474992492661,
          1.7157964042871225,
          -0.4754802351708734,
          -0.2393856771841323,
          1.0401174604876424,
          1.4134185841189972,
          -0.665029001262137,
          -1.122798015523656,
          -0.5260727243464802,
          -2.6006280522817535,
          1.0467518800084306,
          0.39306453239966815,
          -0.33878690050097,
          -1.7677071848964492,
          0.23253039445027843,
          -0.6199365487060867,
          1.4471217025997936,
          -0.507721592541854,
          0.14885342347303643,
          0.5986738883632382,
          0.16912484206819606,
          0.9555600442980435,
          -1.0980989001705028,
          -0.020763816433263235,
          0.6062071067217284,
          -0.8319213017686466,
          1.0144730260507537,
          1.458043788509651,
          -1.4586298959821542,
          -1.3109773870068864,
          -1.9505596262167764,
          1.1103572219598006
         ]
        }
       ],
       "layout": {
        "barmode": "overlay",
        "legend": {
         "bgcolor": "#F5F6F9",
         "font": {
          "color": "#4D5663"
         }
        },
        "paper_bgcolor": "#F5F6F9",
        "plot_bgcolor": "#F5F6F9",
        "template": {
         "data": {
          "bar": [
           {
            "error_x": {
             "color": "#2a3f5f"
            },
            "error_y": {
             "color": "#2a3f5f"
            },
            "marker": {
             "line": {
              "color": "#E5ECF6",
              "width": 0.5
             },
             "pattern": {
              "fillmode": "overlay",
              "size": 10,
              "solidity": 0.2
             }
            },
            "type": "bar"
           }
          ],
          "barpolar": [
           {
            "marker": {
             "line": {
              "color": "#E5ECF6",
              "width": 0.5
             },
             "pattern": {
              "fillmode": "overlay",
              "size": 10,
              "solidity": 0.2
             }
            },
            "type": "barpolar"
           }
          ],
          "carpet": [
           {
            "aaxis": {
             "endlinecolor": "#2a3f5f",
             "gridcolor": "white",
             "linecolor": "white",
             "minorgridcolor": "white",
             "startlinecolor": "#2a3f5f"
            },
            "baxis": {
             "endlinecolor": "#2a3f5f",
             "gridcolor": "white",
             "linecolor": "white",
             "minorgridcolor": "white",
             "startlinecolor": "#2a3f5f"
            },
            "type": "carpet"
           }
          ],
          "choropleth": [
           {
            "colorbar": {
             "outlinewidth": 0,
             "ticks": ""
            },
            "type": "choropleth"
           }
          ],
          "contour": [
           {
            "colorbar": {
             "outlinewidth": 0,
             "ticks": ""
            },
            "colorscale": [
             [
              0,
              "#0d0887"
             ],
             [
              0.1111111111111111,
              "#46039f"
             ],
             [
              0.2222222222222222,
              "#7201a8"
             ],
             [
              0.3333333333333333,
              "#9c179e"
             ],
             [
              0.4444444444444444,
              "#bd3786"
             ],
             [
              0.5555555555555556,
              "#d8576b"
             ],
             [
              0.6666666666666666,
              "#ed7953"
             ],
             [
              0.7777777777777778,
              "#fb9f3a"
             ],
             [
              0.8888888888888888,
              "#fdca26"
             ],
             [
              1,
              "#f0f921"
             ]
            ],
            "type": "contour"
           }
          ],
          "contourcarpet": [
           {
            "colorbar": {
             "outlinewidth": 0,
             "ticks": ""
            },
            "type": "contourcarpet"
           }
          ],
          "heatmap": [
           {
            "colorbar": {
             "outlinewidth": 0,
             "ticks": ""
            },
            "colorscale": [
             [
              0,
              "#0d0887"
             ],
             [
              0.1111111111111111,
              "#46039f"
             ],
             [
              0.2222222222222222,
              "#7201a8"
             ],
             [
              0.3333333333333333,
              "#9c179e"
             ],
             [
              0.4444444444444444,
              "#bd3786"
             ],
             [
              0.5555555555555556,
              "#d8576b"
             ],
             [
              0.6666666666666666,
              "#ed7953"
             ],
             [
              0.7777777777777778,
              "#fb9f3a"
             ],
             [
              0.8888888888888888,
              "#fdca26"
             ],
             [
              1,
              "#f0f921"
             ]
            ],
            "type": "heatmap"
           }
          ],
          "heatmapgl": [
           {
            "colorbar": {
             "outlinewidth": 0,
             "ticks": ""
            },
            "colorscale": [
             [
              0,
              "#0d0887"
             ],
             [
              0.1111111111111111,
              "#46039f"
             ],
             [
              0.2222222222222222,
              "#7201a8"
             ],
             [
              0.3333333333333333,
              "#9c179e"
             ],
             [
              0.4444444444444444,
              "#bd3786"
             ],
             [
              0.5555555555555556,
              "#d8576b"
             ],
             [
              0.6666666666666666,
              "#ed7953"
             ],
             [
              0.7777777777777778,
              "#fb9f3a"
             ],
             [
              0.8888888888888888,
              "#fdca26"
             ],
             [
              1,
              "#f0f921"
             ]
            ],
            "type": "heatmapgl"
           }
          ],
          "histogram": [
           {
            "marker": {
             "pattern": {
              "fillmode": "overlay",
              "size": 10,
              "solidity": 0.2
             }
            },
            "type": "histogram"
           }
          ],
          "histogram2d": [
           {
            "colorbar": {
             "outlinewidth": 0,
             "ticks": ""
            },
            "colorscale": [
             [
              0,
              "#0d0887"
             ],
             [
              0.1111111111111111,
              "#46039f"
             ],
             [
              0.2222222222222222,
              "#7201a8"
             ],
             [
              0.3333333333333333,
              "#9c179e"
             ],
             [
              0.4444444444444444,
              "#bd3786"
             ],
             [
              0.5555555555555556,
              "#d8576b"
             ],
             [
              0.6666666666666666,
              "#ed7953"
             ],
             [
              0.7777777777777778,
              "#fb9f3a"
             ],
             [
              0.8888888888888888,
              "#fdca26"
             ],
             [
              1,
              "#f0f921"
             ]
            ],
            "type": "histogram2d"
           }
          ],
          "histogram2dcontour": [
           {
            "colorbar": {
             "outlinewidth": 0,
             "ticks": ""
            },
            "colorscale": [
             [
              0,
              "#0d0887"
             ],
             [
              0.1111111111111111,
              "#46039f"
             ],
             [
              0.2222222222222222,
              "#7201a8"
             ],
             [
              0.3333333333333333,
              "#9c179e"
             ],
             [
              0.4444444444444444,
              "#bd3786"
             ],
             [
              0.5555555555555556,
              "#d8576b"
             ],
             [
              0.6666666666666666,
              "#ed7953"
             ],
             [
              0.7777777777777778,
              "#fb9f3a"
             ],
             [
              0.8888888888888888,
              "#fdca26"
             ],
             [
              1,
              "#f0f921"
             ]
            ],
            "type": "histogram2dcontour"
           }
          ],
          "mesh3d": [
           {
            "colorbar": {
             "outlinewidth": 0,
             "ticks": ""
            },
            "type": "mesh3d"
           }
          ],
          "parcoords": [
           {
            "line": {
             "colorbar": {
              "outlinewidth": 0,
              "ticks": ""
             }
            },
            "type": "parcoords"
           }
          ],
          "pie": [
           {
            "automargin": true,
            "type": "pie"
           }
          ],
          "scatter": [
           {
            "marker": {
             "colorbar": {
              "outlinewidth": 0,
              "ticks": ""
             }
            },
            "type": "scatter"
           }
          ],
          "scatter3d": [
           {
            "line": {
             "colorbar": {
              "outlinewidth": 0,
              "ticks": ""
             }
            },
            "marker": {
             "colorbar": {
              "outlinewidth": 0,
              "ticks": ""
             }
            },
            "type": "scatter3d"
           }
          ],
          "scattercarpet": [
           {
            "marker": {
             "colorbar": {
              "outlinewidth": 0,
              "ticks": ""
             }
            },
            "type": "scattercarpet"
           }
          ],
          "scattergeo": [
           {
            "marker": {
             "colorbar": {
              "outlinewidth": 0,
              "ticks": ""
             }
            },
            "type": "scattergeo"
           }
          ],
          "scattergl": [
           {
            "marker": {
             "colorbar": {
              "outlinewidth": 0,
              "ticks": ""
             }
            },
            "type": "scattergl"
           }
          ],
          "scattermapbox": [
           {
            "marker": {
             "colorbar": {
              "outlinewidth": 0,
              "ticks": ""
             }
            },
            "type": "scattermapbox"
           }
          ],
          "scatterpolar": [
           {
            "marker": {
             "colorbar": {
              "outlinewidth": 0,
              "ticks": ""
             }
            },
            "type": "scatterpolar"
           }
          ],
          "scatterpolargl": [
           {
            "marker": {
             "colorbar": {
              "outlinewidth": 0,
              "ticks": ""
             }
            },
            "type": "scatterpolargl"
           }
          ],
          "scatterternary": [
           {
            "marker": {
             "colorbar": {
              "outlinewidth": 0,
              "ticks": ""
             }
            },
            "type": "scatterternary"
           }
          ],
          "surface": [
           {
            "colorbar": {
             "outlinewidth": 0,
             "ticks": ""
            },
            "colorscale": [
             [
              0,
              "#0d0887"
             ],
             [
              0.1111111111111111,
              "#46039f"
             ],
             [
              0.2222222222222222,
              "#7201a8"
             ],
             [
              0.3333333333333333,
              "#9c179e"
             ],
             [
              0.4444444444444444,
              "#bd3786"
             ],
             [
              0.5555555555555556,
              "#d8576b"
             ],
             [
              0.6666666666666666,
              "#ed7953"
             ],
             [
              0.7777777777777778,
              "#fb9f3a"
             ],
             [
              0.8888888888888888,
              "#fdca26"
             ],
             [
              1,
              "#f0f921"
             ]
            ],
            "type": "surface"
           }
          ],
          "table": [
           {
            "cells": {
             "fill": {
              "color": "#EBF0F8"
             },
             "line": {
              "color": "white"
             }
            },
            "header": {
             "fill": {
              "color": "#C8D4E3"
             },
             "line": {
              "color": "white"
             }
            },
            "type": "table"
           }
          ]
         },
         "layout": {
          "annotationdefaults": {
           "arrowcolor": "#2a3f5f",
           "arrowhead": 0,
           "arrowwidth": 1
          },
          "autotypenumbers": "strict",
          "coloraxis": {
           "colorbar": {
            "outlinewidth": 0,
            "ticks": ""
           }
          },
          "colorscale": {
           "diverging": [
            [
             0,
             "#8e0152"
            ],
            [
             0.1,
             "#c51b7d"
            ],
            [
             0.2,
             "#de77ae"
            ],
            [
             0.3,
             "#f1b6da"
            ],
            [
             0.4,
             "#fde0ef"
            ],
            [
             0.5,
             "#f7f7f7"
            ],
            [
             0.6,
             "#e6f5d0"
            ],
            [
             0.7,
             "#b8e186"
            ],
            [
             0.8,
             "#7fbc41"
            ],
            [
             0.9,
             "#4d9221"
            ],
            [
             1,
             "#276419"
            ]
           ],
           "sequential": [
            [
             0,
             "#0d0887"
            ],
            [
             0.1111111111111111,
             "#46039f"
            ],
            [
             0.2222222222222222,
             "#7201a8"
            ],
            [
             0.3333333333333333,
             "#9c179e"
            ],
            [
             0.4444444444444444,
             "#bd3786"
            ],
            [
             0.5555555555555556,
             "#d8576b"
            ],
            [
             0.6666666666666666,
             "#ed7953"
            ],
            [
             0.7777777777777778,
             "#fb9f3a"
            ],
            [
             0.8888888888888888,
             "#fdca26"
            ],
            [
             1,
             "#f0f921"
            ]
           ],
           "sequentialminus": [
            [
             0,
             "#0d0887"
            ],
            [
             0.1111111111111111,
             "#46039f"
            ],
            [
             0.2222222222222222,
             "#7201a8"
            ],
            [
             0.3333333333333333,
             "#9c179e"
            ],
            [
             0.4444444444444444,
             "#bd3786"
            ],
            [
             0.5555555555555556,
             "#d8576b"
            ],
            [
             0.6666666666666666,
             "#ed7953"
            ],
            [
             0.7777777777777778,
             "#fb9f3a"
            ],
            [
             0.8888888888888888,
             "#fdca26"
            ],
            [
             1,
             "#f0f921"
            ]
           ]
          },
          "colorway": [
           "#636efa",
           "#EF553B",
           "#00cc96",
           "#ab63fa",
           "#FFA15A",
           "#19d3f3",
           "#FF6692",
           "#B6E880",
           "#FF97FF",
           "#FECB52"
          ],
          "font": {
           "color": "#2a3f5f"
          },
          "geo": {
           "bgcolor": "white",
           "lakecolor": "white",
           "landcolor": "#E5ECF6",
           "showlakes": true,
           "showland": true,
           "subunitcolor": "white"
          },
          "hoverlabel": {
           "align": "left"
          },
          "hovermode": "closest",
          "mapbox": {
           "style": "light"
          },
          "paper_bgcolor": "white",
          "plot_bgcolor": "#E5ECF6",
          "polar": {
           "angularaxis": {
            "gridcolor": "white",
            "linecolor": "white",
            "ticks": ""
           },
           "bgcolor": "#E5ECF6",
           "radialaxis": {
            "gridcolor": "white",
            "linecolor": "white",
            "ticks": ""
           }
          },
          "scene": {
           "xaxis": {
            "backgroundcolor": "#E5ECF6",
            "gridcolor": "white",
            "gridwidth": 2,
            "linecolor": "white",
            "showbackground": true,
            "ticks": "",
            "zerolinecolor": "white"
           },
           "yaxis": {
            "backgroundcolor": "#E5ECF6",
            "gridcolor": "white",
            "gridwidth": 2,
            "linecolor": "white",
            "showbackground": true,
            "ticks": "",
            "zerolinecolor": "white"
           },
           "zaxis": {
            "backgroundcolor": "#E5ECF6",
            "gridcolor": "white",
            "gridwidth": 2,
            "linecolor": "white",
            "showbackground": true,
            "ticks": "",
            "zerolinecolor": "white"
           }
          },
          "shapedefaults": {
           "line": {
            "color": "#2a3f5f"
           }
          },
          "ternary": {
           "aaxis": {
            "gridcolor": "white",
            "linecolor": "white",
            "ticks": ""
           },
           "baxis": {
            "gridcolor": "white",
            "linecolor": "white",
            "ticks": ""
           },
           "bgcolor": "#E5ECF6",
           "caxis": {
            "gridcolor": "white",
            "linecolor": "white",
            "ticks": ""
           }
          },
          "title": {
           "x": 0.05
          },
          "xaxis": {
           "automargin": true,
           "gridcolor": "white",
           "linecolor": "white",
           "ticks": "",
           "title": {
            "standoff": 15
           },
           "zerolinecolor": "white",
           "zerolinewidth": 2
          },
          "yaxis": {
           "automargin": true,
           "gridcolor": "white",
           "linecolor": "white",
           "ticks": "",
           "title": {
            "standoff": 15
           },
           "zerolinecolor": "white",
           "zerolinewidth": 2
          }
         }
        },
        "title": {
         "font": {
          "color": "#4D5663"
         }
        },
        "xaxis": {
         "gridcolor": "#E1E5ED",
         "showgrid": true,
         "tickfont": {
          "color": "#4D5663"
         },
         "title": {
          "font": {
           "color": "#4D5663"
          },
          "text": ""
         },
         "zerolinecolor": "#E1E5ED"
        },
        "yaxis": {
         "gridcolor": "#E1E5ED",
         "showgrid": true,
         "tickfont": {
          "color": "#4D5663"
         },
         "title": {
          "font": {
           "color": "#4D5663"
          },
          "text": ""
         },
         "zerolinecolor": "#E1E5ED"
        }
       }
      },
      "text/html": [
       "<div>                            <div id=\"b9a79658-0eaf-4f6b-9f2b-16011180d9f2\" class=\"plotly-graph-div\" style=\"height:525px; width:100%;\"></div>            <script type=\"text/javascript\">                require([\"plotly\"], function(Plotly) {                    window.PLOTLYENV=window.PLOTLYENV || {};\n",
       "                    window.PLOTLYENV.BASE_URL='https://plot.ly';                                    if (document.getElementById(\"b9a79658-0eaf-4f6b-9f2b-16011180d9f2\")) {                    Plotly.newPlot(                        \"b9a79658-0eaf-4f6b-9f2b-16011180d9f2\",                        [{\"histfunc\":\"count\",\"histnorm\":\"\",\"marker\":{\"color\":\"rgba(255, 153, 51, 1.0)\",\"line\":{\"color\":\"#4D5663\",\"width\":1.3}},\"name\":\"A\",\"nbinsx\":50,\"opacity\":0.8,\"orientation\":\"v\",\"type\":\"histogram\",\"x\":[0.5816966956153499,0.12316386314759027,-0.22398171843685152,-0.8895932385975902,0.2752188676636905,-0.2043642311215671,0.3948123118583736,0.48645630871897805,1.5739071788301084,2.1488658396531037,-0.31708220249715474,-0.9711842754967692,1.2628175279667635,-1.1834028893365194,1.6944271259868855,-0.5931338474672299,0.0027807338470003007,-0.6818703057681064,0.6628178049410343,0.03540578774837641,0.732895635310974,-0.4275137954232451,1.320181769808673,-1.482472611175471,2.071582002661825,-0.01967219630635455,1.209423427603569,1.6610041759226586,-0.5453412431129742,0.3258745239218415,-0.27722164238155605,0.6478830076709254,0.9950648418037051,-0.48714277801385814,-0.4436228773791175,0.11702106920114262,-0.5740663577799426,2.002122515184173,0.014114137435172026,0.2517242524460662,-0.11235543580606286,0.5375253295601139,-0.5968833989130355,0.048054972651586265,-1.123202596891187,0.004196248013858794,0.661815828049052,-1.2980041274097809,0.3744164921338543,-0.17708144186725294,0.2076525777904713,-1.3025365058856804,-1.5590190180060983,0.6248400236247296,0.7911141185158476,-0.49037525611041033,1.2330545424386792,0.6709923076578755,-0.5331723733231042,0.10228037344181613,-0.1363508547845355,2.218762225844916,0.5446047848971652,-0.08107298699081342,0.585020407460338,0.7651851072247567,0.5140874559311198,-0.5527227666251414,0.328474992492661,1.7157964042871225,-0.4754802351708734,-0.2393856771841323,1.0401174604876424,1.4134185841189972,-0.665029001262137,-1.122798015523656,-0.5260727243464802,-2.6006280522817535,1.0467518800084306,0.39306453239966815,-0.33878690050097,-1.7677071848964492,0.23253039445027843,-0.6199365487060867,1.4471217025997936,-0.507721592541854,0.14885342347303643,0.5986738883632382,0.16912484206819606,0.9555600442980435,-1.0980989001705028,-0.020763816433263235,0.6062071067217284,-0.8319213017686466,1.0144730260507537,1.458043788509651,-1.4586298959821542,-1.3109773870068864,-1.9505596262167764,1.1103572219598006]}],                        {\"barmode\":\"overlay\",\"legend\":{\"bgcolor\":\"#F5F6F9\",\"font\":{\"color\":\"#4D5663\"}},\"paper_bgcolor\":\"#F5F6F9\",\"plot_bgcolor\":\"#F5F6F9\",\"template\":{\"data\":{\"bar\":[{\"error_x\":{\"color\":\"#2a3f5f\"},\"error_y\":{\"color\":\"#2a3f5f\"},\"marker\":{\"line\":{\"color\":\"#E5ECF6\",\"width\":0.5},\"pattern\":{\"fillmode\":\"overlay\",\"size\":10,\"solidity\":0.2}},\"type\":\"bar\"}],\"barpolar\":[{\"marker\":{\"line\":{\"color\":\"#E5ECF6\",\"width\":0.5},\"pattern\":{\"fillmode\":\"overlay\",\"size\":10,\"solidity\":0.2}},\"type\":\"barpolar\"}],\"carpet\":[{\"aaxis\":{\"endlinecolor\":\"#2a3f5f\",\"gridcolor\":\"white\",\"linecolor\":\"white\",\"minorgridcolor\":\"white\",\"startlinecolor\":\"#2a3f5f\"},\"baxis\":{\"endlinecolor\":\"#2a3f5f\",\"gridcolor\":\"white\",\"linecolor\":\"white\",\"minorgridcolor\":\"white\",\"startlinecolor\":\"#2a3f5f\"},\"type\":\"carpet\"}],\"choropleth\":[{\"colorbar\":{\"outlinewidth\":0,\"ticks\":\"\"},\"type\":\"choropleth\"}],\"contour\":[{\"colorbar\":{\"outlinewidth\":0,\"ticks\":\"\"},\"colorscale\":[[0.0,\"#0d0887\"],[0.1111111111111111,\"#46039f\"],[0.2222222222222222,\"#7201a8\"],[0.3333333333333333,\"#9c179e\"],[0.4444444444444444,\"#bd3786\"],[0.5555555555555556,\"#d8576b\"],[0.6666666666666666,\"#ed7953\"],[0.7777777777777778,\"#fb9f3a\"],[0.8888888888888888,\"#fdca26\"],[1.0,\"#f0f921\"]],\"type\":\"contour\"}],\"contourcarpet\":[{\"colorbar\":{\"outlinewidth\":0,\"ticks\":\"\"},\"type\":\"contourcarpet\"}],\"heatmap\":[{\"colorbar\":{\"outlinewidth\":0,\"ticks\":\"\"},\"colorscale\":[[0.0,\"#0d0887\"],[0.1111111111111111,\"#46039f\"],[0.2222222222222222,\"#7201a8\"],[0.3333333333333333,\"#9c179e\"],[0.4444444444444444,\"#bd3786\"],[0.5555555555555556,\"#d8576b\"],[0.6666666666666666,\"#ed7953\"],[0.7777777777777778,\"#fb9f3a\"],[0.8888888888888888,\"#fdca26\"],[1.0,\"#f0f921\"]],\"type\":\"heatmap\"}],\"heatmapgl\":[{\"colorbar\":{\"outlinewidth\":0,\"ticks\":\"\"},\"colorscale\":[[0.0,\"#0d0887\"],[0.1111111111111111,\"#46039f\"],[0.2222222222222222,\"#7201a8\"],[0.3333333333333333,\"#9c179e\"],[0.4444444444444444,\"#bd3786\"],[0.5555555555555556,\"#d8576b\"],[0.6666666666666666,\"#ed7953\"],[0.7777777777777778,\"#fb9f3a\"],[0.8888888888888888,\"#fdca26\"],[1.0,\"#f0f921\"]],\"type\":\"heatmapgl\"}],\"histogram\":[{\"marker\":{\"pattern\":{\"fillmode\":\"overlay\",\"size\":10,\"solidity\":0.2}},\"type\":\"histogram\"}],\"histogram2d\":[{\"colorbar\":{\"outlinewidth\":0,\"ticks\":\"\"},\"colorscale\":[[0.0,\"#0d0887\"],[0.1111111111111111,\"#46039f\"],[0.2222222222222222,\"#7201a8\"],[0.3333333333333333,\"#9c179e\"],[0.4444444444444444,\"#bd3786\"],[0.5555555555555556,\"#d8576b\"],[0.6666666666666666,\"#ed7953\"],[0.7777777777777778,\"#fb9f3a\"],[0.8888888888888888,\"#fdca26\"],[1.0,\"#f0f921\"]],\"type\":\"histogram2d\"}],\"histogram2dcontour\":[{\"colorbar\":{\"outlinewidth\":0,\"ticks\":\"\"},\"colorscale\":[[0.0,\"#0d0887\"],[0.1111111111111111,\"#46039f\"],[0.2222222222222222,\"#7201a8\"],[0.3333333333333333,\"#9c179e\"],[0.4444444444444444,\"#bd3786\"],[0.5555555555555556,\"#d8576b\"],[0.6666666666666666,\"#ed7953\"],[0.7777777777777778,\"#fb9f3a\"],[0.8888888888888888,\"#fdca26\"],[1.0,\"#f0f921\"]],\"type\":\"histogram2dcontour\"}],\"mesh3d\":[{\"colorbar\":{\"outlinewidth\":0,\"ticks\":\"\"},\"type\":\"mesh3d\"}],\"parcoords\":[{\"line\":{\"colorbar\":{\"outlinewidth\":0,\"ticks\":\"\"}},\"type\":\"parcoords\"}],\"pie\":[{\"automargin\":true,\"type\":\"pie\"}],\"scatter\":[{\"marker\":{\"colorbar\":{\"outlinewidth\":0,\"ticks\":\"\"}},\"type\":\"scatter\"}],\"scatter3d\":[{\"line\":{\"colorbar\":{\"outlinewidth\":0,\"ticks\":\"\"}},\"marker\":{\"colorbar\":{\"outlinewidth\":0,\"ticks\":\"\"}},\"type\":\"scatter3d\"}],\"scattercarpet\":[{\"marker\":{\"colorbar\":{\"outlinewidth\":0,\"ticks\":\"\"}},\"type\":\"scattercarpet\"}],\"scattergeo\":[{\"marker\":{\"colorbar\":{\"outlinewidth\":0,\"ticks\":\"\"}},\"type\":\"scattergeo\"}],\"scattergl\":[{\"marker\":{\"colorbar\":{\"outlinewidth\":0,\"ticks\":\"\"}},\"type\":\"scattergl\"}],\"scattermapbox\":[{\"marker\":{\"colorbar\":{\"outlinewidth\":0,\"ticks\":\"\"}},\"type\":\"scattermapbox\"}],\"scatterpolar\":[{\"marker\":{\"colorbar\":{\"outlinewidth\":0,\"ticks\":\"\"}},\"type\":\"scatterpolar\"}],\"scatterpolargl\":[{\"marker\":{\"colorbar\":{\"outlinewidth\":0,\"ticks\":\"\"}},\"type\":\"scatterpolargl\"}],\"scatterternary\":[{\"marker\":{\"colorbar\":{\"outlinewidth\":0,\"ticks\":\"\"}},\"type\":\"scatterternary\"}],\"surface\":[{\"colorbar\":{\"outlinewidth\":0,\"ticks\":\"\"},\"colorscale\":[[0.0,\"#0d0887\"],[0.1111111111111111,\"#46039f\"],[0.2222222222222222,\"#7201a8\"],[0.3333333333333333,\"#9c179e\"],[0.4444444444444444,\"#bd3786\"],[0.5555555555555556,\"#d8576b\"],[0.6666666666666666,\"#ed7953\"],[0.7777777777777778,\"#fb9f3a\"],[0.8888888888888888,\"#fdca26\"],[1.0,\"#f0f921\"]],\"type\":\"surface\"}],\"table\":[{\"cells\":{\"fill\":{\"color\":\"#EBF0F8\"},\"line\":{\"color\":\"white\"}},\"header\":{\"fill\":{\"color\":\"#C8D4E3\"},\"line\":{\"color\":\"white\"}},\"type\":\"table\"}]},\"layout\":{\"annotationdefaults\":{\"arrowcolor\":\"#2a3f5f\",\"arrowhead\":0,\"arrowwidth\":1},\"autotypenumbers\":\"strict\",\"coloraxis\":{\"colorbar\":{\"outlinewidth\":0,\"ticks\":\"\"}},\"colorscale\":{\"diverging\":[[0,\"#8e0152\"],[0.1,\"#c51b7d\"],[0.2,\"#de77ae\"],[0.3,\"#f1b6da\"],[0.4,\"#fde0ef\"],[0.5,\"#f7f7f7\"],[0.6,\"#e6f5d0\"],[0.7,\"#b8e186\"],[0.8,\"#7fbc41\"],[0.9,\"#4d9221\"],[1,\"#276419\"]],\"sequential\":[[0.0,\"#0d0887\"],[0.1111111111111111,\"#46039f\"],[0.2222222222222222,\"#7201a8\"],[0.3333333333333333,\"#9c179e\"],[0.4444444444444444,\"#bd3786\"],[0.5555555555555556,\"#d8576b\"],[0.6666666666666666,\"#ed7953\"],[0.7777777777777778,\"#fb9f3a\"],[0.8888888888888888,\"#fdca26\"],[1.0,\"#f0f921\"]],\"sequentialminus\":[[0.0,\"#0d0887\"],[0.1111111111111111,\"#46039f\"],[0.2222222222222222,\"#7201a8\"],[0.3333333333333333,\"#9c179e\"],[0.4444444444444444,\"#bd3786\"],[0.5555555555555556,\"#d8576b\"],[0.6666666666666666,\"#ed7953\"],[0.7777777777777778,\"#fb9f3a\"],[0.8888888888888888,\"#fdca26\"],[1.0,\"#f0f921\"]]},\"colorway\":[\"#636efa\",\"#EF553B\",\"#00cc96\",\"#ab63fa\",\"#FFA15A\",\"#19d3f3\",\"#FF6692\",\"#B6E880\",\"#FF97FF\",\"#FECB52\"],\"font\":{\"color\":\"#2a3f5f\"},\"geo\":{\"bgcolor\":\"white\",\"lakecolor\":\"white\",\"landcolor\":\"#E5ECF6\",\"showlakes\":true,\"showland\":true,\"subunitcolor\":\"white\"},\"hoverlabel\":{\"align\":\"left\"},\"hovermode\":\"closest\",\"mapbox\":{\"style\":\"light\"},\"paper_bgcolor\":\"white\",\"plot_bgcolor\":\"#E5ECF6\",\"polar\":{\"angularaxis\":{\"gridcolor\":\"white\",\"linecolor\":\"white\",\"ticks\":\"\"},\"bgcolor\":\"#E5ECF6\",\"radialaxis\":{\"gridcolor\":\"white\",\"linecolor\":\"white\",\"ticks\":\"\"}},\"scene\":{\"xaxis\":{\"backgroundcolor\":\"#E5ECF6\",\"gridcolor\":\"white\",\"gridwidth\":2,\"linecolor\":\"white\",\"showbackground\":true,\"ticks\":\"\",\"zerolinecolor\":\"white\"},\"yaxis\":{\"backgroundcolor\":\"#E5ECF6\",\"gridcolor\":\"white\",\"gridwidth\":2,\"linecolor\":\"white\",\"showbackground\":true,\"ticks\":\"\",\"zerolinecolor\":\"white\"},\"zaxis\":{\"backgroundcolor\":\"#E5ECF6\",\"gridcolor\":\"white\",\"gridwidth\":2,\"linecolor\":\"white\",\"showbackground\":true,\"ticks\":\"\",\"zerolinecolor\":\"white\"}},\"shapedefaults\":{\"line\":{\"color\":\"#2a3f5f\"}},\"ternary\":{\"aaxis\":{\"gridcolor\":\"white\",\"linecolor\":\"white\",\"ticks\":\"\"},\"baxis\":{\"gridcolor\":\"white\",\"linecolor\":\"white\",\"ticks\":\"\"},\"bgcolor\":\"#E5ECF6\",\"caxis\":{\"gridcolor\":\"white\",\"linecolor\":\"white\",\"ticks\":\"\"}},\"title\":{\"x\":0.05},\"xaxis\":{\"automargin\":true,\"gridcolor\":\"white\",\"linecolor\":\"white\",\"ticks\":\"\",\"title\":{\"standoff\":15},\"zerolinecolor\":\"white\",\"zerolinewidth\":2},\"yaxis\":{\"automargin\":true,\"gridcolor\":\"white\",\"linecolor\":\"white\",\"ticks\":\"\",\"title\":{\"standoff\":15},\"zerolinecolor\":\"white\",\"zerolinewidth\":2}}},\"title\":{\"font\":{\"color\":\"#4D5663\"}},\"xaxis\":{\"gridcolor\":\"#E1E5ED\",\"showgrid\":true,\"tickfont\":{\"color\":\"#4D5663\"},\"title\":{\"font\":{\"color\":\"#4D5663\"},\"text\":\"\"},\"zerolinecolor\":\"#E1E5ED\"},\"yaxis\":{\"gridcolor\":\"#E1E5ED\",\"showgrid\":true,\"tickfont\":{\"color\":\"#4D5663\"},\"title\":{\"font\":{\"color\":\"#4D5663\"},\"text\":\"\"},\"zerolinecolor\":\"#E1E5ED\"}},                        {\"showLink\": true, \"linkText\": \"Export to plot.ly\", \"plotlyServerURL\": \"https://plot.ly\", \"responsive\": true}                    ).then(function(){\n",
       "                            \n",
       "var gd = document.getElementById('b9a79658-0eaf-4f6b-9f2b-16011180d9f2');\n",
       "var x = new MutationObserver(function (mutations, observer) {{\n",
       "        var display = window.getComputedStyle(gd).display;\n",
       "        if (!display || display === 'none') {{\n",
       "            console.log([gd, 'removed!']);\n",
       "            Plotly.purge(gd);\n",
       "            observer.disconnect();\n",
       "        }}\n",
       "}});\n",
       "\n",
       "// Listen for the removal of the full notebook cells\n",
       "var notebookContainer = gd.closest('#notebook-container');\n",
       "if (notebookContainer) {{\n",
       "    x.observe(notebookContainer, {childList: true});\n",
       "}}\n",
       "\n",
       "// Listen for the clearing of the current output cell\n",
       "var outputEl = gd.closest('.output');\n",
       "if (outputEl) {{\n",
       "    x.observe(outputEl, {childList: true});\n",
       "}}\n",
       "\n",
       "                        })                };                });            </script>        </div>"
      ]
     },
     "metadata": {},
     "output_type": "display_data"
    }
   ],
   "source": [
    "df['A'].iplot(kind='hist',bins=50)"
   ]
  },
  {
   "cell_type": "code",
   "execution_count": 21,
   "id": "3596de2d",
   "metadata": {},
   "outputs": [
    {
     "data": {
      "application/vnd.plotly.v1+json": {
       "config": {
        "linkText": "Export to plot.ly",
        "plotlyServerURL": "https://plot.ly",
        "showLink": true
       },
       "data": [
        {
         "histfunc": "count",
         "histnorm": "",
         "marker": {
          "color": "rgba(255, 153, 51, 1.0)",
          "line": {
           "color": "#4D5663",
           "width": 1.3
          }
         },
         "name": "A",
         "opacity": 0.8,
         "orientation": "v",
         "type": "histogram",
         "x": [
          0.5816966956153499,
          0.12316386314759027,
          -0.22398171843685152,
          -0.8895932385975902,
          0.2752188676636905,
          -0.2043642311215671,
          0.3948123118583736,
          0.48645630871897805,
          1.5739071788301084,
          2.1488658396531037,
          -0.31708220249715474,
          -0.9711842754967692,
          1.2628175279667635,
          -1.1834028893365194,
          1.6944271259868855,
          -0.5931338474672299,
          0.0027807338470003007,
          -0.6818703057681064,
          0.6628178049410343,
          0.03540578774837641,
          0.732895635310974,
          -0.4275137954232451,
          1.320181769808673,
          -1.482472611175471,
          2.071582002661825,
          -0.01967219630635455,
          1.209423427603569,
          1.6610041759226586,
          -0.5453412431129742,
          0.3258745239218415,
          -0.27722164238155605,
          0.6478830076709254,
          0.9950648418037051,
          -0.48714277801385814,
          -0.4436228773791175,
          0.11702106920114262,
          -0.5740663577799426,
          2.002122515184173,
          0.014114137435172026,
          0.2517242524460662,
          -0.11235543580606286,
          0.5375253295601139,
          -0.5968833989130355,
          0.048054972651586265,
          -1.123202596891187,
          0.004196248013858794,
          0.661815828049052,
          -1.2980041274097809,
          0.3744164921338543,
          -0.17708144186725294,
          0.2076525777904713,
          -1.3025365058856804,
          -1.5590190180060983,
          0.6248400236247296,
          0.7911141185158476,
          -0.49037525611041033,
          1.2330545424386792,
          0.6709923076578755,
          -0.5331723733231042,
          0.10228037344181613,
          -0.1363508547845355,
          2.218762225844916,
          0.5446047848971652,
          -0.08107298699081342,
          0.585020407460338,
          0.7651851072247567,
          0.5140874559311198,
          -0.5527227666251414,
          0.328474992492661,
          1.7157964042871225,
          -0.4754802351708734,
          -0.2393856771841323,
          1.0401174604876424,
          1.4134185841189972,
          -0.665029001262137,
          -1.122798015523656,
          -0.5260727243464802,
          -2.6006280522817535,
          1.0467518800084306,
          0.39306453239966815,
          -0.33878690050097,
          -1.7677071848964492,
          0.23253039445027843,
          -0.6199365487060867,
          1.4471217025997936,
          -0.507721592541854,
          0.14885342347303643,
          0.5986738883632382,
          0.16912484206819606,
          0.9555600442980435,
          -1.0980989001705028,
          -0.020763816433263235,
          0.6062071067217284,
          -0.8319213017686466,
          1.0144730260507537,
          1.458043788509651,
          -1.4586298959821542,
          -1.3109773870068864,
          -1.9505596262167764,
          1.1103572219598006
         ]
        },
        {
         "histfunc": "count",
         "histnorm": "",
         "marker": {
          "color": "rgba(55, 128, 191, 1.0)",
          "line": {
           "color": "#4D5663",
           "width": 1.3
          }
         },
         "name": "B",
         "opacity": 0.8,
         "orientation": "v",
         "type": "histogram",
         "x": [
          -0.5696383137081489,
          1.1351734827535165,
          0.9152001917611036,
          -0.00844155094580938,
          -0.06258170188690283,
          -1.397960774408616,
          0.3435980433431662,
          1.9771984759663241,
          0.7980962552551226,
          0.5099384295338028,
          0.6953264740395925,
          -0.050924092129710836,
          -0.6895188701915604,
          0.915616107381015,
          0.02037246592326186,
          -1.1576373722887503,
          -0.2887963256996219,
          0.4796209590156369,
          -1.2707481935591634,
          -1.0331744754868155,
          -1.6716818578114625,
          1.2795257614096645,
          -0.04397638767144347,
          -1.516411895677526,
          -0.5005577684774363,
          0.5504292610693635,
          0.5207414902462956,
          -1.0748864153982811,
          0.42032320246494,
          1.1925244880627393,
          -1.1332177751503012,
          -0.24171705755197975,
          0.1584254681040101,
          -0.32122177949433656,
          1.1041953084365854,
          0.08917121729266873,
          1.3853616467346457,
          -0.3212564324754563,
          -0.6905917343160966,
          -1.9487907074894022,
          -0.31918002995573874,
          1.0099101012017528,
          -0.23567285927983872,
          0.786843177647913,
          0.3801931489000957,
          0.06733360341928074,
          -0.4182380904879572,
          0.448230605012123,
          1.1428226019923269,
          -0.7008002812067107,
          -0.9528265960823682,
          0.16921409666104573,
          -0.2321189369103486,
          1.4067150981879595,
          -0.8996080725849857,
          -0.020364228761414607,
          -0.6051186814565923,
          -0.4542178787439367,
          0.8902985465091476,
          1.4360863024404278,
          0.6424637101068639,
          -0.24572297220482406,
          -1.144635878568656,
          -0.3104964171676207,
          -1.8442320270700612,
          -0.402890083735357,
          0.3096071207553138,
          -1.3247774875957332,
          -0.5749890046206451,
          -2.5623083464476264,
          2.0939381145938447,
          -1.4627844809059278,
          -1.04506207721916,
          -1.1635640272612695,
          0.8498142990554263,
          0.5790979612786291,
          -0.8035121129131575,
          0.6915682382008483,
          0.9887753358120481,
          0.5725170736416944,
          0.637381534075287,
          -1.2161750257605888,
          -0.7287165307989403,
          -0.5464232876632266,
          -0.3649806962939663,
          1.3472364069340996,
          1.3415149669927902,
          -0.7423986256356838,
          0.3235175537655451,
          0.01830620317089403,
          -0.21560964163712618,
          -0.6799803836072068,
          -1.4445582587569874,
          1.2488961247500823,
          0.06940321488678963,
          0.048331872198486114,
          -0.9251927212592852,
          -1.629426086050211,
          0.9752502823722285,
          1.2294186690010769
         ]
        },
        {
         "histfunc": "count",
         "histnorm": "",
         "marker": {
          "color": "rgba(50, 171, 96, 1.0)",
          "line": {
           "color": "#4D5663",
           "width": 1.3
          }
         },
         "name": "C",
         "opacity": 0.8,
         "orientation": "v",
         "type": "histogram",
         "x": [
          -0.9459269174913192,
          0.19531141693783344,
          1.4303855991401946,
          0.036674790720557564,
          1.6326923785449838,
          0.8286045871157671,
          -0.6481868351097086,
          3.3916658927148924,
          -0.23154384282744422,
          1.5359424592188011,
          1.1935684228941061,
          1.8027797241776358,
          -1.3029711071589536,
          0.6983580159031979,
          1.9470600799832063,
          -0.6548101823073411,
          -0.20805691104366308,
          -1.8460005945299778,
          1.4626668472159017,
          1.4763952429913119,
          1.9210846711053138,
          1.3076687985375077,
          -3.2567661905590604,
          -1.6612107230619586,
          0.4176057096249829,
          0.42061951190981944,
          0.3596651067545893,
          0.13694467232436985,
          -1.7151734572271393,
          0.06338432905322991,
          0.7063361662070474,
          0.20968216768990333,
          -0.6271829105879608,
          -1.2140464658425827,
          -0.3380145286294853,
          1.0503729545565748,
          0.2972746289819503,
          0.46453433038728964,
          -0.6709599609392913,
          0.9079049774175922,
          0.6509528929577602,
          -0.4288704871701461,
          -0.1354137935065262,
          -0.8781446182484274,
          -0.009118936141923863,
          -1.5394821485082721,
          0.9988622250327465,
          0.8626156053102499,
          -0.4094858426901262,
          0.4761067946376451,
          -1.6897324420533706,
          -0.3587935380254397,
          -0.14877969735308644,
          0.06727214872836712,
          -1.0734949787033488,
          -2.7726853944714307,
          0.10491033862417087,
          0.5641612600718001,
          0.7236960155113175,
          -0.7038408668181785,
          0.8495952534911181,
          -1.1830462402811586,
          1.0021146824749858,
          1.1107368011471532,
          -0.3389152218254186,
          -0.439484812022148,
          1.066756487029043,
          -0.4005847537123203,
          0.6319762725044623,
          -0.5380413734209953,
          -0.08738794666023814,
          -1.8254551843999103,
          1.0175681484172752,
          0.0021127376077187962,
          -0.7705028546186218,
          0.06631526524759794,
          -0.5352360753763258,
          -1.4559255362244732,
          0.6814927595357511,
          0.5107840539439649,
          0.9796316487643698,
          -0.21905463173170495,
          0.08921105080631453,
          -0.08792361706888079,
          -0.41923618756050757,
          -0.4981415546229659,
          -0.07847535524500188,
          -0.24018071690368933,
          -0.38239795722451453,
          -0.2418035596682951,
          0.3031425898032398,
          1.1414566305423526,
          0.5448674055655569,
          -0.7664703552982213,
          -0.1575366576650068,
          1.3916397672612317,
          0.8310050728738548,
          -0.014191793254025784,
          -0.36244587664514816,
          -1.6348859125657678
         ]
        },
        {
         "histfunc": "count",
         "histnorm": "",
         "marker": {
          "color": "rgba(128, 0, 128, 1.0)",
          "line": {
           "color": "#4D5663",
           "width": 1.3
          }
         },
         "name": "D",
         "opacity": 0.8,
         "orientation": "v",
         "type": "histogram",
         "x": [
          -0.6404112315622998,
          -1.2036166043389107,
          -0.26545321366944863,
          0.7346333548884144,
          0.48078680404730695,
          0.05422684339380275,
          -0.49966150321409286,
          -0.35421347019870486,
          1.881331476859132,
          0.3899522754142814,
          0.5089092271950661,
          -0.4032942201657905,
          0.07509589705458175,
          -1.0001523874809641,
          0.10058576147252309,
          1.2503359025341199,
          -0.12222233531902106,
          -0.6465947472710554,
          -0.12102373860354199,
          1.665760652611896,
          -0.2704779995377056,
          2.7099032561846235,
          -0.5606662929085504,
          -0.09189593830619185,
          1.4596458096663016,
          0.34168443118914005,
          1.0223679905549665,
          -0.7959115689503029,
          0.7135511703827034,
          0.9339507623391351,
          -0.7763600497771335,
          -0.4428577184276622,
          -0.36086435401975436,
          -0.8091761978141375,
          -1.0720939193957855,
          0.5162018883739438,
          -0.4526279649763703,
          -1.1575681014160044,
          2.0649448666751122,
          -0.5682142945678975,
          0.39511361457906574,
          -1.2871589804042116,
          -1.1509207007891296,
          1.1421519425253968,
          -1.9671813198861308,
          0.6666827149967166,
          0.030219767601846796,
          -0.6717614488644225,
          -1.2777657582111945,
          -0.818040739168885,
          -0.9472672580307068,
          -1.7094306873751057,
          0.08823247868522535,
          -0.9713362783218384,
          1.1909251302165311,
          -1.5864277368053585,
          0.4210433879345378,
          -0.3332088572440201,
          -0.36518229798656426,
          0.7741998285990774,
          0.6258155206891973,
          0.27965045998007354,
          0.1623426593318974,
          0.3959902901434726,
          -0.07276839066216864,
          -0.5437140184421474,
          -1.5510141706342768,
          -0.9788360115750212,
          -0.27512689218037645,
          -2.3290172771902546,
          0.5146476121090945,
          1.8018496176990066,
          -0.07522691689864641,
          -0.0494554751985565,
          -0.5338208431440795,
          -0.17314822539444757,
          0.572036276345299,
          -1.0268114660962206,
          0.3582853193530316,
          2.4797019419531336,
          1.5630706985459852,
          -2.785988498132636,
          -0.27813328931761233,
          0.43565577181550663,
          0.3839286453496348,
          0.4990716288796377,
          0.02251828966155011,
          -0.8605405050647003,
          -1.2100661503805077,
          0.8513389533495609,
          -0.41069095401466305,
          0.007956605216103913,
          -0.16919967565153948,
          0.6346036555422729,
          0.8707563302648257,
          -0.22978488676347006,
          -2.2561068330466374,
          1.2677174057067335,
          -0.3616913694520314,
          -0.5220391770856552
         ]
        }
       ],
       "layout": {
        "barmode": "overlay",
        "legend": {
         "bgcolor": "#F5F6F9",
         "font": {
          "color": "#4D5663"
         }
        },
        "paper_bgcolor": "#F5F6F9",
        "plot_bgcolor": "#F5F6F9",
        "template": {
         "data": {
          "bar": [
           {
            "error_x": {
             "color": "#2a3f5f"
            },
            "error_y": {
             "color": "#2a3f5f"
            },
            "marker": {
             "line": {
              "color": "#E5ECF6",
              "width": 0.5
             },
             "pattern": {
              "fillmode": "overlay",
              "size": 10,
              "solidity": 0.2
             }
            },
            "type": "bar"
           }
          ],
          "barpolar": [
           {
            "marker": {
             "line": {
              "color": "#E5ECF6",
              "width": 0.5
             },
             "pattern": {
              "fillmode": "overlay",
              "size": 10,
              "solidity": 0.2
             }
            },
            "type": "barpolar"
           }
          ],
          "carpet": [
           {
            "aaxis": {
             "endlinecolor": "#2a3f5f",
             "gridcolor": "white",
             "linecolor": "white",
             "minorgridcolor": "white",
             "startlinecolor": "#2a3f5f"
            },
            "baxis": {
             "endlinecolor": "#2a3f5f",
             "gridcolor": "white",
             "linecolor": "white",
             "minorgridcolor": "white",
             "startlinecolor": "#2a3f5f"
            },
            "type": "carpet"
           }
          ],
          "choropleth": [
           {
            "colorbar": {
             "outlinewidth": 0,
             "ticks": ""
            },
            "type": "choropleth"
           }
          ],
          "contour": [
           {
            "colorbar": {
             "outlinewidth": 0,
             "ticks": ""
            },
            "colorscale": [
             [
              0,
              "#0d0887"
             ],
             [
              0.1111111111111111,
              "#46039f"
             ],
             [
              0.2222222222222222,
              "#7201a8"
             ],
             [
              0.3333333333333333,
              "#9c179e"
             ],
             [
              0.4444444444444444,
              "#bd3786"
             ],
             [
              0.5555555555555556,
              "#d8576b"
             ],
             [
              0.6666666666666666,
              "#ed7953"
             ],
             [
              0.7777777777777778,
              "#fb9f3a"
             ],
             [
              0.8888888888888888,
              "#fdca26"
             ],
             [
              1,
              "#f0f921"
             ]
            ],
            "type": "contour"
           }
          ],
          "contourcarpet": [
           {
            "colorbar": {
             "outlinewidth": 0,
             "ticks": ""
            },
            "type": "contourcarpet"
           }
          ],
          "heatmap": [
           {
            "colorbar": {
             "outlinewidth": 0,
             "ticks": ""
            },
            "colorscale": [
             [
              0,
              "#0d0887"
             ],
             [
              0.1111111111111111,
              "#46039f"
             ],
             [
              0.2222222222222222,
              "#7201a8"
             ],
             [
              0.3333333333333333,
              "#9c179e"
             ],
             [
              0.4444444444444444,
              "#bd3786"
             ],
             [
              0.5555555555555556,
              "#d8576b"
             ],
             [
              0.6666666666666666,
              "#ed7953"
             ],
             [
              0.7777777777777778,
              "#fb9f3a"
             ],
             [
              0.8888888888888888,
              "#fdca26"
             ],
             [
              1,
              "#f0f921"
             ]
            ],
            "type": "heatmap"
           }
          ],
          "heatmapgl": [
           {
            "colorbar": {
             "outlinewidth": 0,
             "ticks": ""
            },
            "colorscale": [
             [
              0,
              "#0d0887"
             ],
             [
              0.1111111111111111,
              "#46039f"
             ],
             [
              0.2222222222222222,
              "#7201a8"
             ],
             [
              0.3333333333333333,
              "#9c179e"
             ],
             [
              0.4444444444444444,
              "#bd3786"
             ],
             [
              0.5555555555555556,
              "#d8576b"
             ],
             [
              0.6666666666666666,
              "#ed7953"
             ],
             [
              0.7777777777777778,
              "#fb9f3a"
             ],
             [
              0.8888888888888888,
              "#fdca26"
             ],
             [
              1,
              "#f0f921"
             ]
            ],
            "type": "heatmapgl"
           }
          ],
          "histogram": [
           {
            "marker": {
             "pattern": {
              "fillmode": "overlay",
              "size": 10,
              "solidity": 0.2
             }
            },
            "type": "histogram"
           }
          ],
          "histogram2d": [
           {
            "colorbar": {
             "outlinewidth": 0,
             "ticks": ""
            },
            "colorscale": [
             [
              0,
              "#0d0887"
             ],
             [
              0.1111111111111111,
              "#46039f"
             ],
             [
              0.2222222222222222,
              "#7201a8"
             ],
             [
              0.3333333333333333,
              "#9c179e"
             ],
             [
              0.4444444444444444,
              "#bd3786"
             ],
             [
              0.5555555555555556,
              "#d8576b"
             ],
             [
              0.6666666666666666,
              "#ed7953"
             ],
             [
              0.7777777777777778,
              "#fb9f3a"
             ],
             [
              0.8888888888888888,
              "#fdca26"
             ],
             [
              1,
              "#f0f921"
             ]
            ],
            "type": "histogram2d"
           }
          ],
          "histogram2dcontour": [
           {
            "colorbar": {
             "outlinewidth": 0,
             "ticks": ""
            },
            "colorscale": [
             [
              0,
              "#0d0887"
             ],
             [
              0.1111111111111111,
              "#46039f"
             ],
             [
              0.2222222222222222,
              "#7201a8"
             ],
             [
              0.3333333333333333,
              "#9c179e"
             ],
             [
              0.4444444444444444,
              "#bd3786"
             ],
             [
              0.5555555555555556,
              "#d8576b"
             ],
             [
              0.6666666666666666,
              "#ed7953"
             ],
             [
              0.7777777777777778,
              "#fb9f3a"
             ],
             [
              0.8888888888888888,
              "#fdca26"
             ],
             [
              1,
              "#f0f921"
             ]
            ],
            "type": "histogram2dcontour"
           }
          ],
          "mesh3d": [
           {
            "colorbar": {
             "outlinewidth": 0,
             "ticks": ""
            },
            "type": "mesh3d"
           }
          ],
          "parcoords": [
           {
            "line": {
             "colorbar": {
              "outlinewidth": 0,
              "ticks": ""
             }
            },
            "type": "parcoords"
           }
          ],
          "pie": [
           {
            "automargin": true,
            "type": "pie"
           }
          ],
          "scatter": [
           {
            "marker": {
             "colorbar": {
              "outlinewidth": 0,
              "ticks": ""
             }
            },
            "type": "scatter"
           }
          ],
          "scatter3d": [
           {
            "line": {
             "colorbar": {
              "outlinewidth": 0,
              "ticks": ""
             }
            },
            "marker": {
             "colorbar": {
              "outlinewidth": 0,
              "ticks": ""
             }
            },
            "type": "scatter3d"
           }
          ],
          "scattercarpet": [
           {
            "marker": {
             "colorbar": {
              "outlinewidth": 0,
              "ticks": ""
             }
            },
            "type": "scattercarpet"
           }
          ],
          "scattergeo": [
           {
            "marker": {
             "colorbar": {
              "outlinewidth": 0,
              "ticks": ""
             }
            },
            "type": "scattergeo"
           }
          ],
          "scattergl": [
           {
            "marker": {
             "colorbar": {
              "outlinewidth": 0,
              "ticks": ""
             }
            },
            "type": "scattergl"
           }
          ],
          "scattermapbox": [
           {
            "marker": {
             "colorbar": {
              "outlinewidth": 0,
              "ticks": ""
             }
            },
            "type": "scattermapbox"
           }
          ],
          "scatterpolar": [
           {
            "marker": {
             "colorbar": {
              "outlinewidth": 0,
              "ticks": ""
             }
            },
            "type": "scatterpolar"
           }
          ],
          "scatterpolargl": [
           {
            "marker": {
             "colorbar": {
              "outlinewidth": 0,
              "ticks": ""
             }
            },
            "type": "scatterpolargl"
           }
          ],
          "scatterternary": [
           {
            "marker": {
             "colorbar": {
              "outlinewidth": 0,
              "ticks": ""
             }
            },
            "type": "scatterternary"
           }
          ],
          "surface": [
           {
            "colorbar": {
             "outlinewidth": 0,
             "ticks": ""
            },
            "colorscale": [
             [
              0,
              "#0d0887"
             ],
             [
              0.1111111111111111,
              "#46039f"
             ],
             [
              0.2222222222222222,
              "#7201a8"
             ],
             [
              0.3333333333333333,
              "#9c179e"
             ],
             [
              0.4444444444444444,
              "#bd3786"
             ],
             [
              0.5555555555555556,
              "#d8576b"
             ],
             [
              0.6666666666666666,
              "#ed7953"
             ],
             [
              0.7777777777777778,
              "#fb9f3a"
             ],
             [
              0.8888888888888888,
              "#fdca26"
             ],
             [
              1,
              "#f0f921"
             ]
            ],
            "type": "surface"
           }
          ],
          "table": [
           {
            "cells": {
             "fill": {
              "color": "#EBF0F8"
             },
             "line": {
              "color": "white"
             }
            },
            "header": {
             "fill": {
              "color": "#C8D4E3"
             },
             "line": {
              "color": "white"
             }
            },
            "type": "table"
           }
          ]
         },
         "layout": {
          "annotationdefaults": {
           "arrowcolor": "#2a3f5f",
           "arrowhead": 0,
           "arrowwidth": 1
          },
          "autotypenumbers": "strict",
          "coloraxis": {
           "colorbar": {
            "outlinewidth": 0,
            "ticks": ""
           }
          },
          "colorscale": {
           "diverging": [
            [
             0,
             "#8e0152"
            ],
            [
             0.1,
             "#c51b7d"
            ],
            [
             0.2,
             "#de77ae"
            ],
            [
             0.3,
             "#f1b6da"
            ],
            [
             0.4,
             "#fde0ef"
            ],
            [
             0.5,
             "#f7f7f7"
            ],
            [
             0.6,
             "#e6f5d0"
            ],
            [
             0.7,
             "#b8e186"
            ],
            [
             0.8,
             "#7fbc41"
            ],
            [
             0.9,
             "#4d9221"
            ],
            [
             1,
             "#276419"
            ]
           ],
           "sequential": [
            [
             0,
             "#0d0887"
            ],
            [
             0.1111111111111111,
             "#46039f"
            ],
            [
             0.2222222222222222,
             "#7201a8"
            ],
            [
             0.3333333333333333,
             "#9c179e"
            ],
            [
             0.4444444444444444,
             "#bd3786"
            ],
            [
             0.5555555555555556,
             "#d8576b"
            ],
            [
             0.6666666666666666,
             "#ed7953"
            ],
            [
             0.7777777777777778,
             "#fb9f3a"
            ],
            [
             0.8888888888888888,
             "#fdca26"
            ],
            [
             1,
             "#f0f921"
            ]
           ],
           "sequentialminus": [
            [
             0,
             "#0d0887"
            ],
            [
             0.1111111111111111,
             "#46039f"
            ],
            [
             0.2222222222222222,
             "#7201a8"
            ],
            [
             0.3333333333333333,
             "#9c179e"
            ],
            [
             0.4444444444444444,
             "#bd3786"
            ],
            [
             0.5555555555555556,
             "#d8576b"
            ],
            [
             0.6666666666666666,
             "#ed7953"
            ],
            [
             0.7777777777777778,
             "#fb9f3a"
            ],
            [
             0.8888888888888888,
             "#fdca26"
            ],
            [
             1,
             "#f0f921"
            ]
           ]
          },
          "colorway": [
           "#636efa",
           "#EF553B",
           "#00cc96",
           "#ab63fa",
           "#FFA15A",
           "#19d3f3",
           "#FF6692",
           "#B6E880",
           "#FF97FF",
           "#FECB52"
          ],
          "font": {
           "color": "#2a3f5f"
          },
          "geo": {
           "bgcolor": "white",
           "lakecolor": "white",
           "landcolor": "#E5ECF6",
           "showlakes": true,
           "showland": true,
           "subunitcolor": "white"
          },
          "hoverlabel": {
           "align": "left"
          },
          "hovermode": "closest",
          "mapbox": {
           "style": "light"
          },
          "paper_bgcolor": "white",
          "plot_bgcolor": "#E5ECF6",
          "polar": {
           "angularaxis": {
            "gridcolor": "white",
            "linecolor": "white",
            "ticks": ""
           },
           "bgcolor": "#E5ECF6",
           "radialaxis": {
            "gridcolor": "white",
            "linecolor": "white",
            "ticks": ""
           }
          },
          "scene": {
           "xaxis": {
            "backgroundcolor": "#E5ECF6",
            "gridcolor": "white",
            "gridwidth": 2,
            "linecolor": "white",
            "showbackground": true,
            "ticks": "",
            "zerolinecolor": "white"
           },
           "yaxis": {
            "backgroundcolor": "#E5ECF6",
            "gridcolor": "white",
            "gridwidth": 2,
            "linecolor": "white",
            "showbackground": true,
            "ticks": "",
            "zerolinecolor": "white"
           },
           "zaxis": {
            "backgroundcolor": "#E5ECF6",
            "gridcolor": "white",
            "gridwidth": 2,
            "linecolor": "white",
            "showbackground": true,
            "ticks": "",
            "zerolinecolor": "white"
           }
          },
          "shapedefaults": {
           "line": {
            "color": "#2a3f5f"
           }
          },
          "ternary": {
           "aaxis": {
            "gridcolor": "white",
            "linecolor": "white",
            "ticks": ""
           },
           "baxis": {
            "gridcolor": "white",
            "linecolor": "white",
            "ticks": ""
           },
           "bgcolor": "#E5ECF6",
           "caxis": {
            "gridcolor": "white",
            "linecolor": "white",
            "ticks": ""
           }
          },
          "title": {
           "x": 0.05
          },
          "xaxis": {
           "automargin": true,
           "gridcolor": "white",
           "linecolor": "white",
           "ticks": "",
           "title": {
            "standoff": 15
           },
           "zerolinecolor": "white",
           "zerolinewidth": 2
          },
          "yaxis": {
           "automargin": true,
           "gridcolor": "white",
           "linecolor": "white",
           "ticks": "",
           "title": {
            "standoff": 15
           },
           "zerolinecolor": "white",
           "zerolinewidth": 2
          }
         }
        },
        "title": {
         "font": {
          "color": "#4D5663"
         }
        },
        "xaxis": {
         "gridcolor": "#E1E5ED",
         "showgrid": true,
         "tickfont": {
          "color": "#4D5663"
         },
         "title": {
          "font": {
           "color": "#4D5663"
          },
          "text": ""
         },
         "zerolinecolor": "#E1E5ED"
        },
        "yaxis": {
         "gridcolor": "#E1E5ED",
         "showgrid": true,
         "tickfont": {
          "color": "#4D5663"
         },
         "title": {
          "font": {
           "color": "#4D5663"
          },
          "text": ""
         },
         "zerolinecolor": "#E1E5ED"
        }
       }
      },
      "text/html": [
       "<div>                            <div id=\"fb30cbd8-de5d-47b4-a714-378f6031641b\" class=\"plotly-graph-div\" style=\"height:525px; width:100%;\"></div>            <script type=\"text/javascript\">                require([\"plotly\"], function(Plotly) {                    window.PLOTLYENV=window.PLOTLYENV || {};\n",
       "                    window.PLOTLYENV.BASE_URL='https://plot.ly';                                    if (document.getElementById(\"fb30cbd8-de5d-47b4-a714-378f6031641b\")) {                    Plotly.newPlot(                        \"fb30cbd8-de5d-47b4-a714-378f6031641b\",                        [{\"histfunc\":\"count\",\"histnorm\":\"\",\"marker\":{\"color\":\"rgba(255, 153, 51, 1.0)\",\"line\":{\"color\":\"#4D5663\",\"width\":1.3}},\"name\":\"A\",\"opacity\":0.8,\"orientation\":\"v\",\"type\":\"histogram\",\"x\":[0.5816966956153499,0.12316386314759027,-0.22398171843685152,-0.8895932385975902,0.2752188676636905,-0.2043642311215671,0.3948123118583736,0.48645630871897805,1.5739071788301084,2.1488658396531037,-0.31708220249715474,-0.9711842754967692,1.2628175279667635,-1.1834028893365194,1.6944271259868855,-0.5931338474672299,0.0027807338470003007,-0.6818703057681064,0.6628178049410343,0.03540578774837641,0.732895635310974,-0.4275137954232451,1.320181769808673,-1.482472611175471,2.071582002661825,-0.01967219630635455,1.209423427603569,1.6610041759226586,-0.5453412431129742,0.3258745239218415,-0.27722164238155605,0.6478830076709254,0.9950648418037051,-0.48714277801385814,-0.4436228773791175,0.11702106920114262,-0.5740663577799426,2.002122515184173,0.014114137435172026,0.2517242524460662,-0.11235543580606286,0.5375253295601139,-0.5968833989130355,0.048054972651586265,-1.123202596891187,0.004196248013858794,0.661815828049052,-1.2980041274097809,0.3744164921338543,-0.17708144186725294,0.2076525777904713,-1.3025365058856804,-1.5590190180060983,0.6248400236247296,0.7911141185158476,-0.49037525611041033,1.2330545424386792,0.6709923076578755,-0.5331723733231042,0.10228037344181613,-0.1363508547845355,2.218762225844916,0.5446047848971652,-0.08107298699081342,0.585020407460338,0.7651851072247567,0.5140874559311198,-0.5527227666251414,0.328474992492661,1.7157964042871225,-0.4754802351708734,-0.2393856771841323,1.0401174604876424,1.4134185841189972,-0.665029001262137,-1.122798015523656,-0.5260727243464802,-2.6006280522817535,1.0467518800084306,0.39306453239966815,-0.33878690050097,-1.7677071848964492,0.23253039445027843,-0.6199365487060867,1.4471217025997936,-0.507721592541854,0.14885342347303643,0.5986738883632382,0.16912484206819606,0.9555600442980435,-1.0980989001705028,-0.020763816433263235,0.6062071067217284,-0.8319213017686466,1.0144730260507537,1.458043788509651,-1.4586298959821542,-1.3109773870068864,-1.9505596262167764,1.1103572219598006]},{\"histfunc\":\"count\",\"histnorm\":\"\",\"marker\":{\"color\":\"rgba(55, 128, 191, 1.0)\",\"line\":{\"color\":\"#4D5663\",\"width\":1.3}},\"name\":\"B\",\"opacity\":0.8,\"orientation\":\"v\",\"type\":\"histogram\",\"x\":[-0.5696383137081489,1.1351734827535165,0.9152001917611036,-0.00844155094580938,-0.06258170188690283,-1.397960774408616,0.3435980433431662,1.9771984759663241,0.7980962552551226,0.5099384295338028,0.6953264740395925,-0.050924092129710836,-0.6895188701915604,0.915616107381015,0.02037246592326186,-1.1576373722887503,-0.2887963256996219,0.4796209590156369,-1.2707481935591634,-1.0331744754868155,-1.6716818578114625,1.2795257614096645,-0.04397638767144347,-1.516411895677526,-0.5005577684774363,0.5504292610693635,0.5207414902462956,-1.0748864153982811,0.42032320246494,1.1925244880627393,-1.1332177751503012,-0.24171705755197975,0.1584254681040101,-0.32122177949433656,1.1041953084365854,0.08917121729266873,1.3853616467346457,-0.3212564324754563,-0.6905917343160966,-1.9487907074894022,-0.31918002995573874,1.0099101012017528,-0.23567285927983872,0.786843177647913,0.3801931489000957,0.06733360341928074,-0.4182380904879572,0.448230605012123,1.1428226019923269,-0.7008002812067107,-0.9528265960823682,0.16921409666104573,-0.2321189369103486,1.4067150981879595,-0.8996080725849857,-0.020364228761414607,-0.6051186814565923,-0.4542178787439367,0.8902985465091476,1.4360863024404278,0.6424637101068639,-0.24572297220482406,-1.144635878568656,-0.3104964171676207,-1.8442320270700612,-0.402890083735357,0.3096071207553138,-1.3247774875957332,-0.5749890046206451,-2.5623083464476264,2.0939381145938447,-1.4627844809059278,-1.04506207721916,-1.1635640272612695,0.8498142990554263,0.5790979612786291,-0.8035121129131575,0.6915682382008483,0.9887753358120481,0.5725170736416944,0.637381534075287,-1.2161750257605888,-0.7287165307989403,-0.5464232876632266,-0.3649806962939663,1.3472364069340996,1.3415149669927902,-0.7423986256356838,0.3235175537655451,0.01830620317089403,-0.21560964163712618,-0.6799803836072068,-1.4445582587569874,1.2488961247500823,0.06940321488678963,0.048331872198486114,-0.9251927212592852,-1.629426086050211,0.9752502823722285,1.2294186690010769]},{\"histfunc\":\"count\",\"histnorm\":\"\",\"marker\":{\"color\":\"rgba(50, 171, 96, 1.0)\",\"line\":{\"color\":\"#4D5663\",\"width\":1.3}},\"name\":\"C\",\"opacity\":0.8,\"orientation\":\"v\",\"type\":\"histogram\",\"x\":[-0.9459269174913192,0.19531141693783344,1.4303855991401946,0.036674790720557564,1.6326923785449838,0.8286045871157671,-0.6481868351097086,3.3916658927148924,-0.23154384282744422,1.5359424592188011,1.1935684228941061,1.8027797241776358,-1.3029711071589536,0.6983580159031979,1.9470600799832063,-0.6548101823073411,-0.20805691104366308,-1.8460005945299778,1.4626668472159017,1.4763952429913119,1.9210846711053138,1.3076687985375077,-3.2567661905590604,-1.6612107230619586,0.4176057096249829,0.42061951190981944,0.3596651067545893,0.13694467232436985,-1.7151734572271393,0.06338432905322991,0.7063361662070474,0.20968216768990333,-0.6271829105879608,-1.2140464658425827,-0.3380145286294853,1.0503729545565748,0.2972746289819503,0.46453433038728964,-0.6709599609392913,0.9079049774175922,0.6509528929577602,-0.4288704871701461,-0.1354137935065262,-0.8781446182484274,-0.009118936141923863,-1.5394821485082721,0.9988622250327465,0.8626156053102499,-0.4094858426901262,0.4761067946376451,-1.6897324420533706,-0.3587935380254397,-0.14877969735308644,0.06727214872836712,-1.0734949787033488,-2.7726853944714307,0.10491033862417087,0.5641612600718001,0.7236960155113175,-0.7038408668181785,0.8495952534911181,-1.1830462402811586,1.0021146824749858,1.1107368011471532,-0.3389152218254186,-0.439484812022148,1.066756487029043,-0.4005847537123203,0.6319762725044623,-0.5380413734209953,-0.08738794666023814,-1.8254551843999103,1.0175681484172752,0.0021127376077187962,-0.7705028546186218,0.06631526524759794,-0.5352360753763258,-1.4559255362244732,0.6814927595357511,0.5107840539439649,0.9796316487643698,-0.21905463173170495,0.08921105080631453,-0.08792361706888079,-0.41923618756050757,-0.4981415546229659,-0.07847535524500188,-0.24018071690368933,-0.38239795722451453,-0.2418035596682951,0.3031425898032398,1.1414566305423526,0.5448674055655569,-0.7664703552982213,-0.1575366576650068,1.3916397672612317,0.8310050728738548,-0.014191793254025784,-0.36244587664514816,-1.6348859125657678]},{\"histfunc\":\"count\",\"histnorm\":\"\",\"marker\":{\"color\":\"rgba(128, 0, 128, 1.0)\",\"line\":{\"color\":\"#4D5663\",\"width\":1.3}},\"name\":\"D\",\"opacity\":0.8,\"orientation\":\"v\",\"type\":\"histogram\",\"x\":[-0.6404112315622998,-1.2036166043389107,-0.26545321366944863,0.7346333548884144,0.48078680404730695,0.05422684339380275,-0.49966150321409286,-0.35421347019870486,1.881331476859132,0.3899522754142814,0.5089092271950661,-0.4032942201657905,0.07509589705458175,-1.0001523874809641,0.10058576147252309,1.2503359025341199,-0.12222233531902106,-0.6465947472710554,-0.12102373860354199,1.665760652611896,-0.2704779995377056,2.7099032561846235,-0.5606662929085504,-0.09189593830619185,1.4596458096663016,0.34168443118914005,1.0223679905549665,-0.7959115689503029,0.7135511703827034,0.9339507623391351,-0.7763600497771335,-0.4428577184276622,-0.36086435401975436,-0.8091761978141375,-1.0720939193957855,0.5162018883739438,-0.4526279649763703,-1.1575681014160044,2.0649448666751122,-0.5682142945678975,0.39511361457906574,-1.2871589804042116,-1.1509207007891296,1.1421519425253968,-1.9671813198861308,0.6666827149967166,0.030219767601846796,-0.6717614488644225,-1.2777657582111945,-0.818040739168885,-0.9472672580307068,-1.7094306873751057,0.08823247868522535,-0.9713362783218384,1.1909251302165311,-1.5864277368053585,0.4210433879345378,-0.3332088572440201,-0.36518229798656426,0.7741998285990774,0.6258155206891973,0.27965045998007354,0.1623426593318974,0.3959902901434726,-0.07276839066216864,-0.5437140184421474,-1.5510141706342768,-0.9788360115750212,-0.27512689218037645,-2.3290172771902546,0.5146476121090945,1.8018496176990066,-0.07522691689864641,-0.0494554751985565,-0.5338208431440795,-0.17314822539444757,0.572036276345299,-1.0268114660962206,0.3582853193530316,2.4797019419531336,1.5630706985459852,-2.785988498132636,-0.27813328931761233,0.43565577181550663,0.3839286453496348,0.4990716288796377,0.02251828966155011,-0.8605405050647003,-1.2100661503805077,0.8513389533495609,-0.41069095401466305,0.007956605216103913,-0.16919967565153948,0.6346036555422729,0.8707563302648257,-0.22978488676347006,-2.2561068330466374,1.2677174057067335,-0.3616913694520314,-0.5220391770856552]}],                        {\"barmode\":\"overlay\",\"legend\":{\"bgcolor\":\"#F5F6F9\",\"font\":{\"color\":\"#4D5663\"}},\"paper_bgcolor\":\"#F5F6F9\",\"plot_bgcolor\":\"#F5F6F9\",\"template\":{\"data\":{\"bar\":[{\"error_x\":{\"color\":\"#2a3f5f\"},\"error_y\":{\"color\":\"#2a3f5f\"},\"marker\":{\"line\":{\"color\":\"#E5ECF6\",\"width\":0.5},\"pattern\":{\"fillmode\":\"overlay\",\"size\":10,\"solidity\":0.2}},\"type\":\"bar\"}],\"barpolar\":[{\"marker\":{\"line\":{\"color\":\"#E5ECF6\",\"width\":0.5},\"pattern\":{\"fillmode\":\"overlay\",\"size\":10,\"solidity\":0.2}},\"type\":\"barpolar\"}],\"carpet\":[{\"aaxis\":{\"endlinecolor\":\"#2a3f5f\",\"gridcolor\":\"white\",\"linecolor\":\"white\",\"minorgridcolor\":\"white\",\"startlinecolor\":\"#2a3f5f\"},\"baxis\":{\"endlinecolor\":\"#2a3f5f\",\"gridcolor\":\"white\",\"linecolor\":\"white\",\"minorgridcolor\":\"white\",\"startlinecolor\":\"#2a3f5f\"},\"type\":\"carpet\"}],\"choropleth\":[{\"colorbar\":{\"outlinewidth\":0,\"ticks\":\"\"},\"type\":\"choropleth\"}],\"contour\":[{\"colorbar\":{\"outlinewidth\":0,\"ticks\":\"\"},\"colorscale\":[[0.0,\"#0d0887\"],[0.1111111111111111,\"#46039f\"],[0.2222222222222222,\"#7201a8\"],[0.3333333333333333,\"#9c179e\"],[0.4444444444444444,\"#bd3786\"],[0.5555555555555556,\"#d8576b\"],[0.6666666666666666,\"#ed7953\"],[0.7777777777777778,\"#fb9f3a\"],[0.8888888888888888,\"#fdca26\"],[1.0,\"#f0f921\"]],\"type\":\"contour\"}],\"contourcarpet\":[{\"colorbar\":{\"outlinewidth\":0,\"ticks\":\"\"},\"type\":\"contourcarpet\"}],\"heatmap\":[{\"colorbar\":{\"outlinewidth\":0,\"ticks\":\"\"},\"colorscale\":[[0.0,\"#0d0887\"],[0.1111111111111111,\"#46039f\"],[0.2222222222222222,\"#7201a8\"],[0.3333333333333333,\"#9c179e\"],[0.4444444444444444,\"#bd3786\"],[0.5555555555555556,\"#d8576b\"],[0.6666666666666666,\"#ed7953\"],[0.7777777777777778,\"#fb9f3a\"],[0.8888888888888888,\"#fdca26\"],[1.0,\"#f0f921\"]],\"type\":\"heatmap\"}],\"heatmapgl\":[{\"colorbar\":{\"outlinewidth\":0,\"ticks\":\"\"},\"colorscale\":[[0.0,\"#0d0887\"],[0.1111111111111111,\"#46039f\"],[0.2222222222222222,\"#7201a8\"],[0.3333333333333333,\"#9c179e\"],[0.4444444444444444,\"#bd3786\"],[0.5555555555555556,\"#d8576b\"],[0.6666666666666666,\"#ed7953\"],[0.7777777777777778,\"#fb9f3a\"],[0.8888888888888888,\"#fdca26\"],[1.0,\"#f0f921\"]],\"type\":\"heatmapgl\"}],\"histogram\":[{\"marker\":{\"pattern\":{\"fillmode\":\"overlay\",\"size\":10,\"solidity\":0.2}},\"type\":\"histogram\"}],\"histogram2d\":[{\"colorbar\":{\"outlinewidth\":0,\"ticks\":\"\"},\"colorscale\":[[0.0,\"#0d0887\"],[0.1111111111111111,\"#46039f\"],[0.2222222222222222,\"#7201a8\"],[0.3333333333333333,\"#9c179e\"],[0.4444444444444444,\"#bd3786\"],[0.5555555555555556,\"#d8576b\"],[0.6666666666666666,\"#ed7953\"],[0.7777777777777778,\"#fb9f3a\"],[0.8888888888888888,\"#fdca26\"],[1.0,\"#f0f921\"]],\"type\":\"histogram2d\"}],\"histogram2dcontour\":[{\"colorbar\":{\"outlinewidth\":0,\"ticks\":\"\"},\"colorscale\":[[0.0,\"#0d0887\"],[0.1111111111111111,\"#46039f\"],[0.2222222222222222,\"#7201a8\"],[0.3333333333333333,\"#9c179e\"],[0.4444444444444444,\"#bd3786\"],[0.5555555555555556,\"#d8576b\"],[0.6666666666666666,\"#ed7953\"],[0.7777777777777778,\"#fb9f3a\"],[0.8888888888888888,\"#fdca26\"],[1.0,\"#f0f921\"]],\"type\":\"histogram2dcontour\"}],\"mesh3d\":[{\"colorbar\":{\"outlinewidth\":0,\"ticks\":\"\"},\"type\":\"mesh3d\"}],\"parcoords\":[{\"line\":{\"colorbar\":{\"outlinewidth\":0,\"ticks\":\"\"}},\"type\":\"parcoords\"}],\"pie\":[{\"automargin\":true,\"type\":\"pie\"}],\"scatter\":[{\"marker\":{\"colorbar\":{\"outlinewidth\":0,\"ticks\":\"\"}},\"type\":\"scatter\"}],\"scatter3d\":[{\"line\":{\"colorbar\":{\"outlinewidth\":0,\"ticks\":\"\"}},\"marker\":{\"colorbar\":{\"outlinewidth\":0,\"ticks\":\"\"}},\"type\":\"scatter3d\"}],\"scattercarpet\":[{\"marker\":{\"colorbar\":{\"outlinewidth\":0,\"ticks\":\"\"}},\"type\":\"scattercarpet\"}],\"scattergeo\":[{\"marker\":{\"colorbar\":{\"outlinewidth\":0,\"ticks\":\"\"}},\"type\":\"scattergeo\"}],\"scattergl\":[{\"marker\":{\"colorbar\":{\"outlinewidth\":0,\"ticks\":\"\"}},\"type\":\"scattergl\"}],\"scattermapbox\":[{\"marker\":{\"colorbar\":{\"outlinewidth\":0,\"ticks\":\"\"}},\"type\":\"scattermapbox\"}],\"scatterpolar\":[{\"marker\":{\"colorbar\":{\"outlinewidth\":0,\"ticks\":\"\"}},\"type\":\"scatterpolar\"}],\"scatterpolargl\":[{\"marker\":{\"colorbar\":{\"outlinewidth\":0,\"ticks\":\"\"}},\"type\":\"scatterpolargl\"}],\"scatterternary\":[{\"marker\":{\"colorbar\":{\"outlinewidth\":0,\"ticks\":\"\"}},\"type\":\"scatterternary\"}],\"surface\":[{\"colorbar\":{\"outlinewidth\":0,\"ticks\":\"\"},\"colorscale\":[[0.0,\"#0d0887\"],[0.1111111111111111,\"#46039f\"],[0.2222222222222222,\"#7201a8\"],[0.3333333333333333,\"#9c179e\"],[0.4444444444444444,\"#bd3786\"],[0.5555555555555556,\"#d8576b\"],[0.6666666666666666,\"#ed7953\"],[0.7777777777777778,\"#fb9f3a\"],[0.8888888888888888,\"#fdca26\"],[1.0,\"#f0f921\"]],\"type\":\"surface\"}],\"table\":[{\"cells\":{\"fill\":{\"color\":\"#EBF0F8\"},\"line\":{\"color\":\"white\"}},\"header\":{\"fill\":{\"color\":\"#C8D4E3\"},\"line\":{\"color\":\"white\"}},\"type\":\"table\"}]},\"layout\":{\"annotationdefaults\":{\"arrowcolor\":\"#2a3f5f\",\"arrowhead\":0,\"arrowwidth\":1},\"autotypenumbers\":\"strict\",\"coloraxis\":{\"colorbar\":{\"outlinewidth\":0,\"ticks\":\"\"}},\"colorscale\":{\"diverging\":[[0,\"#8e0152\"],[0.1,\"#c51b7d\"],[0.2,\"#de77ae\"],[0.3,\"#f1b6da\"],[0.4,\"#fde0ef\"],[0.5,\"#f7f7f7\"],[0.6,\"#e6f5d0\"],[0.7,\"#b8e186\"],[0.8,\"#7fbc41\"],[0.9,\"#4d9221\"],[1,\"#276419\"]],\"sequential\":[[0.0,\"#0d0887\"],[0.1111111111111111,\"#46039f\"],[0.2222222222222222,\"#7201a8\"],[0.3333333333333333,\"#9c179e\"],[0.4444444444444444,\"#bd3786\"],[0.5555555555555556,\"#d8576b\"],[0.6666666666666666,\"#ed7953\"],[0.7777777777777778,\"#fb9f3a\"],[0.8888888888888888,\"#fdca26\"],[1.0,\"#f0f921\"]],\"sequentialminus\":[[0.0,\"#0d0887\"],[0.1111111111111111,\"#46039f\"],[0.2222222222222222,\"#7201a8\"],[0.3333333333333333,\"#9c179e\"],[0.4444444444444444,\"#bd3786\"],[0.5555555555555556,\"#d8576b\"],[0.6666666666666666,\"#ed7953\"],[0.7777777777777778,\"#fb9f3a\"],[0.8888888888888888,\"#fdca26\"],[1.0,\"#f0f921\"]]},\"colorway\":[\"#636efa\",\"#EF553B\",\"#00cc96\",\"#ab63fa\",\"#FFA15A\",\"#19d3f3\",\"#FF6692\",\"#B6E880\",\"#FF97FF\",\"#FECB52\"],\"font\":{\"color\":\"#2a3f5f\"},\"geo\":{\"bgcolor\":\"white\",\"lakecolor\":\"white\",\"landcolor\":\"#E5ECF6\",\"showlakes\":true,\"showland\":true,\"subunitcolor\":\"white\"},\"hoverlabel\":{\"align\":\"left\"},\"hovermode\":\"closest\",\"mapbox\":{\"style\":\"light\"},\"paper_bgcolor\":\"white\",\"plot_bgcolor\":\"#E5ECF6\",\"polar\":{\"angularaxis\":{\"gridcolor\":\"white\",\"linecolor\":\"white\",\"ticks\":\"\"},\"bgcolor\":\"#E5ECF6\",\"radialaxis\":{\"gridcolor\":\"white\",\"linecolor\":\"white\",\"ticks\":\"\"}},\"scene\":{\"xaxis\":{\"backgroundcolor\":\"#E5ECF6\",\"gridcolor\":\"white\",\"gridwidth\":2,\"linecolor\":\"white\",\"showbackground\":true,\"ticks\":\"\",\"zerolinecolor\":\"white\"},\"yaxis\":{\"backgroundcolor\":\"#E5ECF6\",\"gridcolor\":\"white\",\"gridwidth\":2,\"linecolor\":\"white\",\"showbackground\":true,\"ticks\":\"\",\"zerolinecolor\":\"white\"},\"zaxis\":{\"backgroundcolor\":\"#E5ECF6\",\"gridcolor\":\"white\",\"gridwidth\":2,\"linecolor\":\"white\",\"showbackground\":true,\"ticks\":\"\",\"zerolinecolor\":\"white\"}},\"shapedefaults\":{\"line\":{\"color\":\"#2a3f5f\"}},\"ternary\":{\"aaxis\":{\"gridcolor\":\"white\",\"linecolor\":\"white\",\"ticks\":\"\"},\"baxis\":{\"gridcolor\":\"white\",\"linecolor\":\"white\",\"ticks\":\"\"},\"bgcolor\":\"#E5ECF6\",\"caxis\":{\"gridcolor\":\"white\",\"linecolor\":\"white\",\"ticks\":\"\"}},\"title\":{\"x\":0.05},\"xaxis\":{\"automargin\":true,\"gridcolor\":\"white\",\"linecolor\":\"white\",\"ticks\":\"\",\"title\":{\"standoff\":15},\"zerolinecolor\":\"white\",\"zerolinewidth\":2},\"yaxis\":{\"automargin\":true,\"gridcolor\":\"white\",\"linecolor\":\"white\",\"ticks\":\"\",\"title\":{\"standoff\":15},\"zerolinecolor\":\"white\",\"zerolinewidth\":2}}},\"title\":{\"font\":{\"color\":\"#4D5663\"}},\"xaxis\":{\"gridcolor\":\"#E1E5ED\",\"showgrid\":true,\"tickfont\":{\"color\":\"#4D5663\"},\"title\":{\"font\":{\"color\":\"#4D5663\"},\"text\":\"\"},\"zerolinecolor\":\"#E1E5ED\"},\"yaxis\":{\"gridcolor\":\"#E1E5ED\",\"showgrid\":true,\"tickfont\":{\"color\":\"#4D5663\"},\"title\":{\"font\":{\"color\":\"#4D5663\"},\"text\":\"\"},\"zerolinecolor\":\"#E1E5ED\"}},                        {\"showLink\": true, \"linkText\": \"Export to plot.ly\", \"plotlyServerURL\": \"https://plot.ly\", \"responsive\": true}                    ).then(function(){\n",
       "                            \n",
       "var gd = document.getElementById('fb30cbd8-de5d-47b4-a714-378f6031641b');\n",
       "var x = new MutationObserver(function (mutations, observer) {{\n",
       "        var display = window.getComputedStyle(gd).display;\n",
       "        if (!display || display === 'none') {{\n",
       "            console.log([gd, 'removed!']);\n",
       "            Plotly.purge(gd);\n",
       "            observer.disconnect();\n",
       "        }}\n",
       "}});\n",
       "\n",
       "// Listen for the removal of the full notebook cells\n",
       "var notebookContainer = gd.closest('#notebook-container');\n",
       "if (notebookContainer) {{\n",
       "    x.observe(notebookContainer, {childList: true});\n",
       "}}\n",
       "\n",
       "// Listen for the clearing of the current output cell\n",
       "var outputEl = gd.closest('.output');\n",
       "if (outputEl) {{\n",
       "    x.observe(outputEl, {childList: true});\n",
       "}}\n",
       "\n",
       "                        })                };                });            </script>        </div>"
      ]
     },
     "metadata": {},
     "output_type": "display_data"
    }
   ],
   "source": [
    "df.iplot(kind='hist')"
   ]
  },
  {
   "cell_type": "code",
   "execution_count": 22,
   "id": "d7912db7",
   "metadata": {},
   "outputs": [
    {
     "name": "stderr",
     "output_type": "stream",
     "text": [
      "/Users/ankitjaiswal/opt/anaconda3/lib/python3.8/site-packages/cufflinks/plotlytools.py:849: FutureWarning:\n",
      "\n",
      "The pandas.np module is deprecated and will be removed from pandas in a future version. Import numpy directly instead\n",
      "\n",
      "/Users/ankitjaiswal/opt/anaconda3/lib/python3.8/site-packages/cufflinks/plotlytools.py:850: FutureWarning:\n",
      "\n",
      "The pandas.np module is deprecated and will be removed from pandas in a future version. Import numpy directly instead\n",
      "\n"
     ]
    },
    {
     "data": {
      "application/vnd.plotly.v1+json": {
       "config": {
        "linkText": "Export to plot.ly",
        "plotlyServerURL": "https://plot.ly",
        "showLink": true
       },
       "data": [
        {
         "line": {
          "color": "rgba(255, 153, 51, 1.0)",
          "dash": "solid",
          "shape": "linear",
          "width": 1.3
         },
         "mode": "lines",
         "name": "A",
         "text": "",
         "type": "scatter",
         "x": [
          0,
          1,
          2,
          3,
          4,
          5,
          6,
          7,
          8,
          9,
          10,
          11,
          12,
          13,
          14,
          15,
          16,
          17,
          18,
          19,
          20,
          21,
          22,
          23,
          24,
          25,
          26,
          27,
          28,
          29,
          30,
          31,
          32,
          33,
          34,
          35,
          36,
          37,
          38,
          39,
          40,
          41,
          42,
          43,
          44,
          45,
          46,
          47,
          48,
          49,
          50,
          51,
          52,
          53,
          54,
          55,
          56,
          57,
          58,
          59,
          60,
          61,
          62,
          63,
          64,
          65,
          66,
          67,
          68,
          69,
          70,
          71,
          72,
          73,
          74,
          75,
          76,
          77,
          78,
          79,
          80,
          81,
          82,
          83,
          84,
          85,
          86,
          87,
          88,
          89,
          90,
          91,
          92,
          93,
          94,
          95,
          96,
          97,
          98,
          99
         ],
         "y": [
          0.5816966956153499,
          0.12316386314759027,
          -0.22398171843685152,
          -0.8895932385975902,
          0.2752188676636905,
          -0.2043642311215671,
          0.3948123118583736,
          0.48645630871897805,
          1.5739071788301084,
          2.1488658396531037,
          -0.31708220249715474,
          -0.9711842754967692,
          1.2628175279667635,
          -1.1834028893365194,
          1.6944271259868855,
          -0.5931338474672299,
          0.0027807338470003007,
          -0.6818703057681064,
          0.6628178049410343,
          0.03540578774837641,
          0.732895635310974,
          -0.4275137954232451,
          1.320181769808673,
          -1.482472611175471,
          2.071582002661825,
          -0.01967219630635455,
          1.209423427603569,
          1.6610041759226586,
          -0.5453412431129742,
          0.3258745239218415,
          -0.27722164238155605,
          0.6478830076709254,
          0.9950648418037051,
          -0.48714277801385814,
          -0.4436228773791175,
          0.11702106920114262,
          -0.5740663577799426,
          2.002122515184173,
          0.014114137435172026,
          0.2517242524460662,
          -0.11235543580606286,
          0.5375253295601139,
          -0.5968833989130355,
          0.048054972651586265,
          -1.123202596891187,
          0.004196248013858794,
          0.661815828049052,
          -1.2980041274097809,
          0.3744164921338543,
          -0.17708144186725294,
          0.2076525777904713,
          -1.3025365058856804,
          -1.5590190180060983,
          0.6248400236247296,
          0.7911141185158476,
          -0.49037525611041033,
          1.2330545424386792,
          0.6709923076578755,
          -0.5331723733231042,
          0.10228037344181613,
          -0.1363508547845355,
          2.218762225844916,
          0.5446047848971652,
          -0.08107298699081342,
          0.585020407460338,
          0.7651851072247567,
          0.5140874559311198,
          -0.5527227666251414,
          0.328474992492661,
          1.7157964042871225,
          -0.4754802351708734,
          -0.2393856771841323,
          1.0401174604876424,
          1.4134185841189972,
          -0.665029001262137,
          -1.122798015523656,
          -0.5260727243464802,
          -2.6006280522817535,
          1.0467518800084306,
          0.39306453239966815,
          -0.33878690050097,
          -1.7677071848964492,
          0.23253039445027843,
          -0.6199365487060867,
          1.4471217025997936,
          -0.507721592541854,
          0.14885342347303643,
          0.5986738883632382,
          0.16912484206819606,
          0.9555600442980435,
          -1.0980989001705028,
          -0.020763816433263235,
          0.6062071067217284,
          -0.8319213017686466,
          1.0144730260507537,
          1.458043788509651,
          -1.4586298959821542,
          -1.3109773870068864,
          -1.9505596262167764,
          1.1103572219598006
         ]
        },
        {
         "line": {
          "color": "rgba(55, 128, 191, 1.0)",
          "dash": "solid",
          "shape": "linear",
          "width": 1.3
         },
         "mode": "lines",
         "name": "B",
         "text": "",
         "type": "scatter",
         "x": [
          0,
          1,
          2,
          3,
          4,
          5,
          6,
          7,
          8,
          9,
          10,
          11,
          12,
          13,
          14,
          15,
          16,
          17,
          18,
          19,
          20,
          21,
          22,
          23,
          24,
          25,
          26,
          27,
          28,
          29,
          30,
          31,
          32,
          33,
          34,
          35,
          36,
          37,
          38,
          39,
          40,
          41,
          42,
          43,
          44,
          45,
          46,
          47,
          48,
          49,
          50,
          51,
          52,
          53,
          54,
          55,
          56,
          57,
          58,
          59,
          60,
          61,
          62,
          63,
          64,
          65,
          66,
          67,
          68,
          69,
          70,
          71,
          72,
          73,
          74,
          75,
          76,
          77,
          78,
          79,
          80,
          81,
          82,
          83,
          84,
          85,
          86,
          87,
          88,
          89,
          90,
          91,
          92,
          93,
          94,
          95,
          96,
          97,
          98,
          99
         ],
         "y": [
          -0.5696383137081489,
          1.1351734827535165,
          0.9152001917611036,
          -0.00844155094580938,
          -0.06258170188690283,
          -1.397960774408616,
          0.3435980433431662,
          1.9771984759663241,
          0.7980962552551226,
          0.5099384295338028,
          0.6953264740395925,
          -0.050924092129710836,
          -0.6895188701915604,
          0.915616107381015,
          0.02037246592326186,
          -1.1576373722887503,
          -0.2887963256996219,
          0.4796209590156369,
          -1.2707481935591634,
          -1.0331744754868155,
          -1.6716818578114625,
          1.2795257614096645,
          -0.04397638767144347,
          -1.516411895677526,
          -0.5005577684774363,
          0.5504292610693635,
          0.5207414902462956,
          -1.0748864153982811,
          0.42032320246494,
          1.1925244880627393,
          -1.1332177751503012,
          -0.24171705755197975,
          0.1584254681040101,
          -0.32122177949433656,
          1.1041953084365854,
          0.08917121729266873,
          1.3853616467346457,
          -0.3212564324754563,
          -0.6905917343160966,
          -1.9487907074894022,
          -0.31918002995573874,
          1.0099101012017528,
          -0.23567285927983872,
          0.786843177647913,
          0.3801931489000957,
          0.06733360341928074,
          -0.4182380904879572,
          0.448230605012123,
          1.1428226019923269,
          -0.7008002812067107,
          -0.9528265960823682,
          0.16921409666104573,
          -0.2321189369103486,
          1.4067150981879595,
          -0.8996080725849857,
          -0.020364228761414607,
          -0.6051186814565923,
          -0.4542178787439367,
          0.8902985465091476,
          1.4360863024404278,
          0.6424637101068639,
          -0.24572297220482406,
          -1.144635878568656,
          -0.3104964171676207,
          -1.8442320270700612,
          -0.402890083735357,
          0.3096071207553138,
          -1.3247774875957332,
          -0.5749890046206451,
          -2.5623083464476264,
          2.0939381145938447,
          -1.4627844809059278,
          -1.04506207721916,
          -1.1635640272612695,
          0.8498142990554263,
          0.5790979612786291,
          -0.8035121129131575,
          0.6915682382008483,
          0.9887753358120481,
          0.5725170736416944,
          0.637381534075287,
          -1.2161750257605888,
          -0.7287165307989403,
          -0.5464232876632266,
          -0.3649806962939663,
          1.3472364069340996,
          1.3415149669927902,
          -0.7423986256356838,
          0.3235175537655451,
          0.01830620317089403,
          -0.21560964163712618,
          -0.6799803836072068,
          -1.4445582587569874,
          1.2488961247500823,
          0.06940321488678963,
          0.048331872198486114,
          -0.9251927212592852,
          -1.629426086050211,
          0.9752502823722285,
          1.2294186690010769
         ]
        },
        {
         "connectgaps": false,
         "fill": "tozeroy",
         "line": {
          "color": "green",
          "dash": "solid",
          "shape": "linear",
          "width": 0.5
         },
         "mode": "lines",
         "name": "Spread",
         "showlegend": false,
         "type": "scatter",
         "x": [
          0,
          1,
          2,
          3,
          4,
          5,
          6,
          7,
          8,
          9,
          10,
          11,
          12,
          13,
          14,
          15,
          16,
          17,
          18,
          19,
          20,
          21,
          22,
          23,
          24,
          25,
          26,
          27,
          28,
          29,
          30,
          31,
          32,
          33,
          34,
          35,
          36,
          37,
          38,
          39,
          40,
          41,
          42,
          43,
          44,
          45,
          46,
          47,
          48,
          49,
          50,
          51,
          52,
          53,
          54,
          55,
          56,
          57,
          58,
          59,
          60,
          61,
          62,
          63,
          64,
          65,
          66,
          67,
          68,
          69,
          70,
          71,
          72,
          73,
          74,
          75,
          76,
          77,
          78,
          79,
          80,
          81,
          82,
          83,
          84,
          85,
          86,
          87,
          88,
          89,
          90,
          91,
          92,
          93,
          94,
          95,
          96,
          97,
          98,
          99
         ],
         "xaxis": "x2",
         "y": [
          1.1513350093234989,
          "",
          "",
          "",
          0.33780056955059334,
          1.193596543287049,
          0.05121426851520744,
          "",
          0.7758109235749858,
          1.638927410119301,
          "",
          "",
          1.952336398158324,
          "",
          1.6740546600636237,
          0.5645035248215204,
          0.29157705954662216,
          "",
          1.9335659985001976,
          1.068580263235192,
          2.4045774931224364,
          "",
          1.3641581574801165,
          0.03393928450205519,
          2.572139771139261,
          "",
          0.6886819373572733,
          2.7358905913209397,
          "",
          "",
          0.8559961327687451,
          0.8896000652229052,
          0.8366393736996951,
          "",
          "",
          0.027849851908473888,
          "",
          2.3233789476596294,
          0.7047058717512685,
          2.2005149599354685,
          0.20682459414967588,
          "",
          "",
          "",
          "",
          "",
          1.0800539185370093,
          "",
          "",
          0.5237188393394577,
          1.1604791738728395,
          "",
          "",
          "",
          1.6907221911008332,
          "",
          1.8381732238952715,
          1.1252101864018123,
          "",
          "",
          "",
          2.46448519804974,
          1.6892406634658212,
          0.2294234301768073,
          2.429252434530399,
          1.1680751909601137,
          0.204480335175806,
          0.7720547209705918,
          0.903463997113306,
          4.278104750734749,
          "",
          1.2233988037217955,
          2.0851795377068023,
          2.5769826113802665,
          "",
          "",
          0.27743938856667727,
          "",
          0.05797654419638243,
          "",
          "",
          "",
          0.9612469252492187,
          "",
          1.81210239889376,
          "",
          "",
          1.3410725139989221,
          "",
          0.9372538411271495,
          "",
          0.6592165671739436,
          2.050765365478716,
          "",
          0.9450698111639642,
          1.4097119163111649,
          "",
          0.3184486990433246,
          "",
          ""
         ],
         "yaxis": "y2"
        },
        {
         "connectgaps": false,
         "fill": "tozeroy",
         "line": {
          "color": "red",
          "dash": "solid",
          "shape": "linear",
          "width": 0.5
         },
         "mode": "lines",
         "name": "Spread",
         "showlegend": false,
         "type": "scatter",
         "x": [
          0,
          1,
          2,
          3,
          4,
          5,
          6,
          7,
          8,
          9,
          10,
          11,
          12,
          13,
          14,
          15,
          16,
          17,
          18,
          19,
          20,
          21,
          22,
          23,
          24,
          25,
          26,
          27,
          28,
          29,
          30,
          31,
          32,
          33,
          34,
          35,
          36,
          37,
          38,
          39,
          40,
          41,
          42,
          43,
          44,
          45,
          46,
          47,
          48,
          49,
          50,
          51,
          52,
          53,
          54,
          55,
          56,
          57,
          58,
          59,
          60,
          61,
          62,
          63,
          64,
          65,
          66,
          67,
          68,
          69,
          70,
          71,
          72,
          73,
          74,
          75,
          76,
          77,
          78,
          79,
          80,
          81,
          82,
          83,
          84,
          85,
          86,
          87,
          88,
          89,
          90,
          91,
          92,
          93,
          94,
          95,
          96,
          97,
          98,
          99
         ],
         "xaxis": "x2",
         "y": [
          "",
          -1.0120096196059263,
          -1.139181910197955,
          -0.8811516876517809,
          "",
          "",
          "",
          -1.4907421672473462,
          "",
          "",
          -1.0124086765367473,
          -0.9202601833670584,
          "",
          -2.0990189967175343,
          "",
          "",
          "",
          -1.1614912647837432,
          "",
          "",
          "",
          -1.7070395568329095,
          "",
          "",
          "",
          -0.570101457375718,
          "",
          "",
          -0.9656644455779142,
          -0.8666499641408978,
          "",
          "",
          "",
          -0.16592099851952158,
          -1.547818185815703,
          "",
          -1.9594280045145882,
          "",
          "",
          "",
          "",
          -0.47238477164163895,
          -0.3612105396331968,
          -0.7387882049963267,
          -1.5033957457912828,
          -0.06313735540542195,
          "",
          -1.7462347324219039,
          -0.7684061098584726,
          "",
          "",
          -1.4717506025467262,
          -1.3269000810957496,
          -0.7818750745632299,
          "",
          -0.47001102734899575,
          "",
          "",
          -1.4234709198322517,
          -1.3338059289986117,
          -0.7788145648913993,
          "",
          "",
          "",
          "",
          "",
          "",
          "",
          "",
          "",
          -2.5694183497647183,
          "",
          "",
          "",
          -1.5148433003175632,
          -1.7018959768022852,
          "",
          -3.292196290482602,
          "",
          -0.1794525412420262,
          -0.9761684345762569,
          -0.5515321591358604,
          "",
          -0.07351326104286016,
          "",
          -1.8549579994759537,
          -1.1926615435197538,
          "",
          -0.15439271169734903,
          "",
          -0.8824892585333767,
          "",
          "",
          -2.080817426518729,
          "",
          "",
          -0.533437174722869,
          "",
          -2.925809908589005,
          -0.1190614470412763
         ],
         "yaxis": "y2"
        }
       ],
       "layout": {
        "hovermode": "x",
        "legend": {
         "bgcolor": "#F5F6F9",
         "font": {
          "color": "#4D5663"
         }
        },
        "paper_bgcolor": "#F5F6F9",
        "plot_bgcolor": "#F5F6F9",
        "template": {
         "data": {
          "bar": [
           {
            "error_x": {
             "color": "#2a3f5f"
            },
            "error_y": {
             "color": "#2a3f5f"
            },
            "marker": {
             "line": {
              "color": "#E5ECF6",
              "width": 0.5
             },
             "pattern": {
              "fillmode": "overlay",
              "size": 10,
              "solidity": 0.2
             }
            },
            "type": "bar"
           }
          ],
          "barpolar": [
           {
            "marker": {
             "line": {
              "color": "#E5ECF6",
              "width": 0.5
             },
             "pattern": {
              "fillmode": "overlay",
              "size": 10,
              "solidity": 0.2
             }
            },
            "type": "barpolar"
           }
          ],
          "carpet": [
           {
            "aaxis": {
             "endlinecolor": "#2a3f5f",
             "gridcolor": "white",
             "linecolor": "white",
             "minorgridcolor": "white",
             "startlinecolor": "#2a3f5f"
            },
            "baxis": {
             "endlinecolor": "#2a3f5f",
             "gridcolor": "white",
             "linecolor": "white",
             "minorgridcolor": "white",
             "startlinecolor": "#2a3f5f"
            },
            "type": "carpet"
           }
          ],
          "choropleth": [
           {
            "colorbar": {
             "outlinewidth": 0,
             "ticks": ""
            },
            "type": "choropleth"
           }
          ],
          "contour": [
           {
            "colorbar": {
             "outlinewidth": 0,
             "ticks": ""
            },
            "colorscale": [
             [
              0,
              "#0d0887"
             ],
             [
              0.1111111111111111,
              "#46039f"
             ],
             [
              0.2222222222222222,
              "#7201a8"
             ],
             [
              0.3333333333333333,
              "#9c179e"
             ],
             [
              0.4444444444444444,
              "#bd3786"
             ],
             [
              0.5555555555555556,
              "#d8576b"
             ],
             [
              0.6666666666666666,
              "#ed7953"
             ],
             [
              0.7777777777777778,
              "#fb9f3a"
             ],
             [
              0.8888888888888888,
              "#fdca26"
             ],
             [
              1,
              "#f0f921"
             ]
            ],
            "type": "contour"
           }
          ],
          "contourcarpet": [
           {
            "colorbar": {
             "outlinewidth": 0,
             "ticks": ""
            },
            "type": "contourcarpet"
           }
          ],
          "heatmap": [
           {
            "colorbar": {
             "outlinewidth": 0,
             "ticks": ""
            },
            "colorscale": [
             [
              0,
              "#0d0887"
             ],
             [
              0.1111111111111111,
              "#46039f"
             ],
             [
              0.2222222222222222,
              "#7201a8"
             ],
             [
              0.3333333333333333,
              "#9c179e"
             ],
             [
              0.4444444444444444,
              "#bd3786"
             ],
             [
              0.5555555555555556,
              "#d8576b"
             ],
             [
              0.6666666666666666,
              "#ed7953"
             ],
             [
              0.7777777777777778,
              "#fb9f3a"
             ],
             [
              0.8888888888888888,
              "#fdca26"
             ],
             [
              1,
              "#f0f921"
             ]
            ],
            "type": "heatmap"
           }
          ],
          "heatmapgl": [
           {
            "colorbar": {
             "outlinewidth": 0,
             "ticks": ""
            },
            "colorscale": [
             [
              0,
              "#0d0887"
             ],
             [
              0.1111111111111111,
              "#46039f"
             ],
             [
              0.2222222222222222,
              "#7201a8"
             ],
             [
              0.3333333333333333,
              "#9c179e"
             ],
             [
              0.4444444444444444,
              "#bd3786"
             ],
             [
              0.5555555555555556,
              "#d8576b"
             ],
             [
              0.6666666666666666,
              "#ed7953"
             ],
             [
              0.7777777777777778,
              "#fb9f3a"
             ],
             [
              0.8888888888888888,
              "#fdca26"
             ],
             [
              1,
              "#f0f921"
             ]
            ],
            "type": "heatmapgl"
           }
          ],
          "histogram": [
           {
            "marker": {
             "pattern": {
              "fillmode": "overlay",
              "size": 10,
              "solidity": 0.2
             }
            },
            "type": "histogram"
           }
          ],
          "histogram2d": [
           {
            "colorbar": {
             "outlinewidth": 0,
             "ticks": ""
            },
            "colorscale": [
             [
              0,
              "#0d0887"
             ],
             [
              0.1111111111111111,
              "#46039f"
             ],
             [
              0.2222222222222222,
              "#7201a8"
             ],
             [
              0.3333333333333333,
              "#9c179e"
             ],
             [
              0.4444444444444444,
              "#bd3786"
             ],
             [
              0.5555555555555556,
              "#d8576b"
             ],
             [
              0.6666666666666666,
              "#ed7953"
             ],
             [
              0.7777777777777778,
              "#fb9f3a"
             ],
             [
              0.8888888888888888,
              "#fdca26"
             ],
             [
              1,
              "#f0f921"
             ]
            ],
            "type": "histogram2d"
           }
          ],
          "histogram2dcontour": [
           {
            "colorbar": {
             "outlinewidth": 0,
             "ticks": ""
            },
            "colorscale": [
             [
              0,
              "#0d0887"
             ],
             [
              0.1111111111111111,
              "#46039f"
             ],
             [
              0.2222222222222222,
              "#7201a8"
             ],
             [
              0.3333333333333333,
              "#9c179e"
             ],
             [
              0.4444444444444444,
              "#bd3786"
             ],
             [
              0.5555555555555556,
              "#d8576b"
             ],
             [
              0.6666666666666666,
              "#ed7953"
             ],
             [
              0.7777777777777778,
              "#fb9f3a"
             ],
             [
              0.8888888888888888,
              "#fdca26"
             ],
             [
              1,
              "#f0f921"
             ]
            ],
            "type": "histogram2dcontour"
           }
          ],
          "mesh3d": [
           {
            "colorbar": {
             "outlinewidth": 0,
             "ticks": ""
            },
            "type": "mesh3d"
           }
          ],
          "parcoords": [
           {
            "line": {
             "colorbar": {
              "outlinewidth": 0,
              "ticks": ""
             }
            },
            "type": "parcoords"
           }
          ],
          "pie": [
           {
            "automargin": true,
            "type": "pie"
           }
          ],
          "scatter": [
           {
            "marker": {
             "colorbar": {
              "outlinewidth": 0,
              "ticks": ""
             }
            },
            "type": "scatter"
           }
          ],
          "scatter3d": [
           {
            "line": {
             "colorbar": {
              "outlinewidth": 0,
              "ticks": ""
             }
            },
            "marker": {
             "colorbar": {
              "outlinewidth": 0,
              "ticks": ""
             }
            },
            "type": "scatter3d"
           }
          ],
          "scattercarpet": [
           {
            "marker": {
             "colorbar": {
              "outlinewidth": 0,
              "ticks": ""
             }
            },
            "type": "scattercarpet"
           }
          ],
          "scattergeo": [
           {
            "marker": {
             "colorbar": {
              "outlinewidth": 0,
              "ticks": ""
             }
            },
            "type": "scattergeo"
           }
          ],
          "scattergl": [
           {
            "marker": {
             "colorbar": {
              "outlinewidth": 0,
              "ticks": ""
             }
            },
            "type": "scattergl"
           }
          ],
          "scattermapbox": [
           {
            "marker": {
             "colorbar": {
              "outlinewidth": 0,
              "ticks": ""
             }
            },
            "type": "scattermapbox"
           }
          ],
          "scatterpolar": [
           {
            "marker": {
             "colorbar": {
              "outlinewidth": 0,
              "ticks": ""
             }
            },
            "type": "scatterpolar"
           }
          ],
          "scatterpolargl": [
           {
            "marker": {
             "colorbar": {
              "outlinewidth": 0,
              "ticks": ""
             }
            },
            "type": "scatterpolargl"
           }
          ],
          "scatterternary": [
           {
            "marker": {
             "colorbar": {
              "outlinewidth": 0,
              "ticks": ""
             }
            },
            "type": "scatterternary"
           }
          ],
          "surface": [
           {
            "colorbar": {
             "outlinewidth": 0,
             "ticks": ""
            },
            "colorscale": [
             [
              0,
              "#0d0887"
             ],
             [
              0.1111111111111111,
              "#46039f"
             ],
             [
              0.2222222222222222,
              "#7201a8"
             ],
             [
              0.3333333333333333,
              "#9c179e"
             ],
             [
              0.4444444444444444,
              "#bd3786"
             ],
             [
              0.5555555555555556,
              "#d8576b"
             ],
             [
              0.6666666666666666,
              "#ed7953"
             ],
             [
              0.7777777777777778,
              "#fb9f3a"
             ],
             [
              0.8888888888888888,
              "#fdca26"
             ],
             [
              1,
              "#f0f921"
             ]
            ],
            "type": "surface"
           }
          ],
          "table": [
           {
            "cells": {
             "fill": {
              "color": "#EBF0F8"
             },
             "line": {
              "color": "white"
             }
            },
            "header": {
             "fill": {
              "color": "#C8D4E3"
             },
             "line": {
              "color": "white"
             }
            },
            "type": "table"
           }
          ]
         },
         "layout": {
          "annotationdefaults": {
           "arrowcolor": "#2a3f5f",
           "arrowhead": 0,
           "arrowwidth": 1
          },
          "autotypenumbers": "strict",
          "coloraxis": {
           "colorbar": {
            "outlinewidth": 0,
            "ticks": ""
           }
          },
          "colorscale": {
           "diverging": [
            [
             0,
             "#8e0152"
            ],
            [
             0.1,
             "#c51b7d"
            ],
            [
             0.2,
             "#de77ae"
            ],
            [
             0.3,
             "#f1b6da"
            ],
            [
             0.4,
             "#fde0ef"
            ],
            [
             0.5,
             "#f7f7f7"
            ],
            [
             0.6,
             "#e6f5d0"
            ],
            [
             0.7,
             "#b8e186"
            ],
            [
             0.8,
             "#7fbc41"
            ],
            [
             0.9,
             "#4d9221"
            ],
            [
             1,
             "#276419"
            ]
           ],
           "sequential": [
            [
             0,
             "#0d0887"
            ],
            [
             0.1111111111111111,
             "#46039f"
            ],
            [
             0.2222222222222222,
             "#7201a8"
            ],
            [
             0.3333333333333333,
             "#9c179e"
            ],
            [
             0.4444444444444444,
             "#bd3786"
            ],
            [
             0.5555555555555556,
             "#d8576b"
            ],
            [
             0.6666666666666666,
             "#ed7953"
            ],
            [
             0.7777777777777778,
             "#fb9f3a"
            ],
            [
             0.8888888888888888,
             "#fdca26"
            ],
            [
             1,
             "#f0f921"
            ]
           ],
           "sequentialminus": [
            [
             0,
             "#0d0887"
            ],
            [
             0.1111111111111111,
             "#46039f"
            ],
            [
             0.2222222222222222,
             "#7201a8"
            ],
            [
             0.3333333333333333,
             "#9c179e"
            ],
            [
             0.4444444444444444,
             "#bd3786"
            ],
            [
             0.5555555555555556,
             "#d8576b"
            ],
            [
             0.6666666666666666,
             "#ed7953"
            ],
            [
             0.7777777777777778,
             "#fb9f3a"
            ],
            [
             0.8888888888888888,
             "#fdca26"
            ],
            [
             1,
             "#f0f921"
            ]
           ]
          },
          "colorway": [
           "#636efa",
           "#EF553B",
           "#00cc96",
           "#ab63fa",
           "#FFA15A",
           "#19d3f3",
           "#FF6692",
           "#B6E880",
           "#FF97FF",
           "#FECB52"
          ],
          "font": {
           "color": "#2a3f5f"
          },
          "geo": {
           "bgcolor": "white",
           "lakecolor": "white",
           "landcolor": "#E5ECF6",
           "showlakes": true,
           "showland": true,
           "subunitcolor": "white"
          },
          "hoverlabel": {
           "align": "left"
          },
          "hovermode": "closest",
          "mapbox": {
           "style": "light"
          },
          "paper_bgcolor": "white",
          "plot_bgcolor": "#E5ECF6",
          "polar": {
           "angularaxis": {
            "gridcolor": "white",
            "linecolor": "white",
            "ticks": ""
           },
           "bgcolor": "#E5ECF6",
           "radialaxis": {
            "gridcolor": "white",
            "linecolor": "white",
            "ticks": ""
           }
          },
          "scene": {
           "xaxis": {
            "backgroundcolor": "#E5ECF6",
            "gridcolor": "white",
            "gridwidth": 2,
            "linecolor": "white",
            "showbackground": true,
            "ticks": "",
            "zerolinecolor": "white"
           },
           "yaxis": {
            "backgroundcolor": "#E5ECF6",
            "gridcolor": "white",
            "gridwidth": 2,
            "linecolor": "white",
            "showbackground": true,
            "ticks": "",
            "zerolinecolor": "white"
           },
           "zaxis": {
            "backgroundcolor": "#E5ECF6",
            "gridcolor": "white",
            "gridwidth": 2,
            "linecolor": "white",
            "showbackground": true,
            "ticks": "",
            "zerolinecolor": "white"
           }
          },
          "shapedefaults": {
           "line": {
            "color": "#2a3f5f"
           }
          },
          "ternary": {
           "aaxis": {
            "gridcolor": "white",
            "linecolor": "white",
            "ticks": ""
           },
           "baxis": {
            "gridcolor": "white",
            "linecolor": "white",
            "ticks": ""
           },
           "bgcolor": "#E5ECF6",
           "caxis": {
            "gridcolor": "white",
            "linecolor": "white",
            "ticks": ""
           }
          },
          "title": {
           "x": 0.05
          },
          "xaxis": {
           "automargin": true,
           "gridcolor": "white",
           "linecolor": "white",
           "ticks": "",
           "title": {
            "standoff": 15
           },
           "zerolinecolor": "white",
           "zerolinewidth": 2
          },
          "yaxis": {
           "automargin": true,
           "gridcolor": "white",
           "linecolor": "white",
           "ticks": "",
           "title": {
            "standoff": 15
           },
           "zerolinecolor": "white",
           "zerolinewidth": 2
          }
         }
        },
        "title": {
         "font": {
          "color": "#4D5663"
         }
        },
        "xaxis": {
         "gridcolor": "#E1E5ED",
         "showgrid": true,
         "tickfont": {
          "color": "#4D5663"
         },
         "title": {
          "font": {
           "color": "#4D5663"
          },
          "text": ""
         },
         "zerolinecolor": "#E1E5ED"
        },
        "xaxis2": {
         "anchor": "y2",
         "gridcolor": "#E1E5ED",
         "showgrid": true,
         "showticklabels": false,
         "tickfont": {
          "color": "#4D5663"
         },
         "title": {
          "font": {
           "color": "#4D5663"
          },
          "text": ""
         },
         "zerolinecolor": "#E1E5ED"
        },
        "yaxis": {
         "domain": [
          0.3,
          1
         ],
         "gridcolor": "#E1E5ED",
         "showgrid": true,
         "tickfont": {
          "color": "#4D5663"
         },
         "title": {
          "font": {
           "color": "#4D5663"
          },
          "text": ""
         },
         "zerolinecolor": "#E1E5ED"
        },
        "yaxis2": {
         "domain": [
          0,
          0.25
         ],
         "gridcolor": "#E1E5ED",
         "showgrid": true,
         "tickfont": {
          "color": "#4D5663"
         },
         "title": {
          "font": {
           "color": "#4D5663"
          },
          "text": "Spread"
         },
         "zerolinecolor": "#E1E5ED"
        }
       }
      },
      "text/html": [
       "<div>                            <div id=\"107be8b3-46ea-41bc-bf60-4b87fd6e6605\" class=\"plotly-graph-div\" style=\"height:525px; width:100%;\"></div>            <script type=\"text/javascript\">                require([\"plotly\"], function(Plotly) {                    window.PLOTLYENV=window.PLOTLYENV || {};\n",
       "                    window.PLOTLYENV.BASE_URL='https://plot.ly';                                    if (document.getElementById(\"107be8b3-46ea-41bc-bf60-4b87fd6e6605\")) {                    Plotly.newPlot(                        \"107be8b3-46ea-41bc-bf60-4b87fd6e6605\",                        [{\"line\":{\"color\":\"rgba(255, 153, 51, 1.0)\",\"dash\":\"solid\",\"shape\":\"linear\",\"width\":1.3},\"mode\":\"lines\",\"name\":\"A\",\"text\":\"\",\"type\":\"scatter\",\"x\":[0,1,2,3,4,5,6,7,8,9,10,11,12,13,14,15,16,17,18,19,20,21,22,23,24,25,26,27,28,29,30,31,32,33,34,35,36,37,38,39,40,41,42,43,44,45,46,47,48,49,50,51,52,53,54,55,56,57,58,59,60,61,62,63,64,65,66,67,68,69,70,71,72,73,74,75,76,77,78,79,80,81,82,83,84,85,86,87,88,89,90,91,92,93,94,95,96,97,98,99],\"y\":[0.5816966956153499,0.12316386314759027,-0.22398171843685152,-0.8895932385975902,0.2752188676636905,-0.2043642311215671,0.3948123118583736,0.48645630871897805,1.5739071788301084,2.1488658396531037,-0.31708220249715474,-0.9711842754967692,1.2628175279667635,-1.1834028893365194,1.6944271259868855,-0.5931338474672299,0.0027807338470003007,-0.6818703057681064,0.6628178049410343,0.03540578774837641,0.732895635310974,-0.4275137954232451,1.320181769808673,-1.482472611175471,2.071582002661825,-0.01967219630635455,1.209423427603569,1.6610041759226586,-0.5453412431129742,0.3258745239218415,-0.27722164238155605,0.6478830076709254,0.9950648418037051,-0.48714277801385814,-0.4436228773791175,0.11702106920114262,-0.5740663577799426,2.002122515184173,0.014114137435172026,0.2517242524460662,-0.11235543580606286,0.5375253295601139,-0.5968833989130355,0.048054972651586265,-1.123202596891187,0.004196248013858794,0.661815828049052,-1.2980041274097809,0.3744164921338543,-0.17708144186725294,0.2076525777904713,-1.3025365058856804,-1.5590190180060983,0.6248400236247296,0.7911141185158476,-0.49037525611041033,1.2330545424386792,0.6709923076578755,-0.5331723733231042,0.10228037344181613,-0.1363508547845355,2.218762225844916,0.5446047848971652,-0.08107298699081342,0.585020407460338,0.7651851072247567,0.5140874559311198,-0.5527227666251414,0.328474992492661,1.7157964042871225,-0.4754802351708734,-0.2393856771841323,1.0401174604876424,1.4134185841189972,-0.665029001262137,-1.122798015523656,-0.5260727243464802,-2.6006280522817535,1.0467518800084306,0.39306453239966815,-0.33878690050097,-1.7677071848964492,0.23253039445027843,-0.6199365487060867,1.4471217025997936,-0.507721592541854,0.14885342347303643,0.5986738883632382,0.16912484206819606,0.9555600442980435,-1.0980989001705028,-0.020763816433263235,0.6062071067217284,-0.8319213017686466,1.0144730260507537,1.458043788509651,-1.4586298959821542,-1.3109773870068864,-1.9505596262167764,1.1103572219598006]},{\"line\":{\"color\":\"rgba(55, 128, 191, 1.0)\",\"dash\":\"solid\",\"shape\":\"linear\",\"width\":1.3},\"mode\":\"lines\",\"name\":\"B\",\"text\":\"\",\"type\":\"scatter\",\"x\":[0,1,2,3,4,5,6,7,8,9,10,11,12,13,14,15,16,17,18,19,20,21,22,23,24,25,26,27,28,29,30,31,32,33,34,35,36,37,38,39,40,41,42,43,44,45,46,47,48,49,50,51,52,53,54,55,56,57,58,59,60,61,62,63,64,65,66,67,68,69,70,71,72,73,74,75,76,77,78,79,80,81,82,83,84,85,86,87,88,89,90,91,92,93,94,95,96,97,98,99],\"y\":[-0.5696383137081489,1.1351734827535165,0.9152001917611036,-0.00844155094580938,-0.06258170188690283,-1.397960774408616,0.3435980433431662,1.9771984759663241,0.7980962552551226,0.5099384295338028,0.6953264740395925,-0.050924092129710836,-0.6895188701915604,0.915616107381015,0.02037246592326186,-1.1576373722887503,-0.2887963256996219,0.4796209590156369,-1.2707481935591634,-1.0331744754868155,-1.6716818578114625,1.2795257614096645,-0.04397638767144347,-1.516411895677526,-0.5005577684774363,0.5504292610693635,0.5207414902462956,-1.0748864153982811,0.42032320246494,1.1925244880627393,-1.1332177751503012,-0.24171705755197975,0.1584254681040101,-0.32122177949433656,1.1041953084365854,0.08917121729266873,1.3853616467346457,-0.3212564324754563,-0.6905917343160966,-1.9487907074894022,-0.31918002995573874,1.0099101012017528,-0.23567285927983872,0.786843177647913,0.3801931489000957,0.06733360341928074,-0.4182380904879572,0.448230605012123,1.1428226019923269,-0.7008002812067107,-0.9528265960823682,0.16921409666104573,-0.2321189369103486,1.4067150981879595,-0.8996080725849857,-0.020364228761414607,-0.6051186814565923,-0.4542178787439367,0.8902985465091476,1.4360863024404278,0.6424637101068639,-0.24572297220482406,-1.144635878568656,-0.3104964171676207,-1.8442320270700612,-0.402890083735357,0.3096071207553138,-1.3247774875957332,-0.5749890046206451,-2.5623083464476264,2.0939381145938447,-1.4627844809059278,-1.04506207721916,-1.1635640272612695,0.8498142990554263,0.5790979612786291,-0.8035121129131575,0.6915682382008483,0.9887753358120481,0.5725170736416944,0.637381534075287,-1.2161750257605888,-0.7287165307989403,-0.5464232876632266,-0.3649806962939663,1.3472364069340996,1.3415149669927902,-0.7423986256356838,0.3235175537655451,0.01830620317089403,-0.21560964163712618,-0.6799803836072068,-1.4445582587569874,1.2488961247500823,0.06940321488678963,0.048331872198486114,-0.9251927212592852,-1.629426086050211,0.9752502823722285,1.2294186690010769]},{\"connectgaps\":false,\"fill\":\"tozeroy\",\"line\":{\"color\":\"green\",\"dash\":\"solid\",\"shape\":\"linear\",\"width\":0.5},\"mode\":\"lines\",\"name\":\"Spread\",\"showlegend\":false,\"type\":\"scatter\",\"x\":[0,1,2,3,4,5,6,7,8,9,10,11,12,13,14,15,16,17,18,19,20,21,22,23,24,25,26,27,28,29,30,31,32,33,34,35,36,37,38,39,40,41,42,43,44,45,46,47,48,49,50,51,52,53,54,55,56,57,58,59,60,61,62,63,64,65,66,67,68,69,70,71,72,73,74,75,76,77,78,79,80,81,82,83,84,85,86,87,88,89,90,91,92,93,94,95,96,97,98,99],\"xaxis\":\"x2\",\"y\":[1.1513350093234989,\"\",\"\",\"\",0.33780056955059334,1.193596543287049,0.05121426851520744,\"\",0.7758109235749858,1.638927410119301,\"\",\"\",1.952336398158324,\"\",1.6740546600636237,0.5645035248215204,0.29157705954662216,\"\",1.9335659985001976,1.068580263235192,2.4045774931224364,\"\",1.3641581574801165,0.03393928450205519,2.572139771139261,\"\",0.6886819373572733,2.7358905913209397,\"\",\"\",0.8559961327687451,0.8896000652229052,0.8366393736996951,\"\",\"\",0.027849851908473888,\"\",2.3233789476596294,0.7047058717512685,2.2005149599354685,0.20682459414967588,\"\",\"\",\"\",\"\",\"\",1.0800539185370093,\"\",\"\",0.5237188393394577,1.1604791738728395,\"\",\"\",\"\",1.6907221911008332,\"\",1.8381732238952715,1.1252101864018123,\"\",\"\",\"\",2.46448519804974,1.6892406634658212,0.2294234301768073,2.429252434530399,1.1680751909601137,0.204480335175806,0.7720547209705918,0.903463997113306,4.278104750734749,\"\",1.2233988037217955,2.0851795377068023,2.5769826113802665,\"\",\"\",0.27743938856667727,\"\",0.05797654419638243,\"\",\"\",\"\",0.9612469252492187,\"\",1.81210239889376,\"\",\"\",1.3410725139989221,\"\",0.9372538411271495,\"\",0.6592165671739436,2.050765365478716,\"\",0.9450698111639642,1.4097119163111649,\"\",0.3184486990433246,\"\",\"\"],\"yaxis\":\"y2\"},{\"connectgaps\":false,\"fill\":\"tozeroy\",\"line\":{\"color\":\"red\",\"dash\":\"solid\",\"shape\":\"linear\",\"width\":0.5},\"mode\":\"lines\",\"name\":\"Spread\",\"showlegend\":false,\"type\":\"scatter\",\"x\":[0,1,2,3,4,5,6,7,8,9,10,11,12,13,14,15,16,17,18,19,20,21,22,23,24,25,26,27,28,29,30,31,32,33,34,35,36,37,38,39,40,41,42,43,44,45,46,47,48,49,50,51,52,53,54,55,56,57,58,59,60,61,62,63,64,65,66,67,68,69,70,71,72,73,74,75,76,77,78,79,80,81,82,83,84,85,86,87,88,89,90,91,92,93,94,95,96,97,98,99],\"xaxis\":\"x2\",\"y\":[\"\",-1.0120096196059263,-1.139181910197955,-0.8811516876517809,\"\",\"\",\"\",-1.4907421672473462,\"\",\"\",-1.0124086765367473,-0.9202601833670584,\"\",-2.0990189967175343,\"\",\"\",\"\",-1.1614912647837432,\"\",\"\",\"\",-1.7070395568329095,\"\",\"\",\"\",-0.570101457375718,\"\",\"\",-0.9656644455779142,-0.8666499641408978,\"\",\"\",\"\",-0.16592099851952158,-1.547818185815703,\"\",-1.9594280045145882,\"\",\"\",\"\",\"\",-0.47238477164163895,-0.3612105396331968,-0.7387882049963267,-1.5033957457912828,-0.06313735540542195,\"\",-1.7462347324219039,-0.7684061098584726,\"\",\"\",-1.4717506025467262,-1.3269000810957496,-0.7818750745632299,\"\",-0.47001102734899575,\"\",\"\",-1.4234709198322517,-1.3338059289986117,-0.7788145648913993,\"\",\"\",\"\",\"\",\"\",\"\",\"\",\"\",\"\",-2.5694183497647183,\"\",\"\",\"\",-1.5148433003175632,-1.7018959768022852,\"\",-3.292196290482602,\"\",-0.1794525412420262,-0.9761684345762569,-0.5515321591358604,\"\",-0.07351326104286016,\"\",-1.8549579994759537,-1.1926615435197538,\"\",-0.15439271169734903,\"\",-0.8824892585333767,\"\",\"\",-2.080817426518729,\"\",\"\",-0.533437174722869,\"\",-2.925809908589005,-0.1190614470412763],\"yaxis\":\"y2\"}],                        {\"hovermode\":\"x\",\"legend\":{\"bgcolor\":\"#F5F6F9\",\"font\":{\"color\":\"#4D5663\"}},\"paper_bgcolor\":\"#F5F6F9\",\"plot_bgcolor\":\"#F5F6F9\",\"template\":{\"data\":{\"bar\":[{\"error_x\":{\"color\":\"#2a3f5f\"},\"error_y\":{\"color\":\"#2a3f5f\"},\"marker\":{\"line\":{\"color\":\"#E5ECF6\",\"width\":0.5},\"pattern\":{\"fillmode\":\"overlay\",\"size\":10,\"solidity\":0.2}},\"type\":\"bar\"}],\"barpolar\":[{\"marker\":{\"line\":{\"color\":\"#E5ECF6\",\"width\":0.5},\"pattern\":{\"fillmode\":\"overlay\",\"size\":10,\"solidity\":0.2}},\"type\":\"barpolar\"}],\"carpet\":[{\"aaxis\":{\"endlinecolor\":\"#2a3f5f\",\"gridcolor\":\"white\",\"linecolor\":\"white\",\"minorgridcolor\":\"white\",\"startlinecolor\":\"#2a3f5f\"},\"baxis\":{\"endlinecolor\":\"#2a3f5f\",\"gridcolor\":\"white\",\"linecolor\":\"white\",\"minorgridcolor\":\"white\",\"startlinecolor\":\"#2a3f5f\"},\"type\":\"carpet\"}],\"choropleth\":[{\"colorbar\":{\"outlinewidth\":0,\"ticks\":\"\"},\"type\":\"choropleth\"}],\"contour\":[{\"colorbar\":{\"outlinewidth\":0,\"ticks\":\"\"},\"colorscale\":[[0.0,\"#0d0887\"],[0.1111111111111111,\"#46039f\"],[0.2222222222222222,\"#7201a8\"],[0.3333333333333333,\"#9c179e\"],[0.4444444444444444,\"#bd3786\"],[0.5555555555555556,\"#d8576b\"],[0.6666666666666666,\"#ed7953\"],[0.7777777777777778,\"#fb9f3a\"],[0.8888888888888888,\"#fdca26\"],[1.0,\"#f0f921\"]],\"type\":\"contour\"}],\"contourcarpet\":[{\"colorbar\":{\"outlinewidth\":0,\"ticks\":\"\"},\"type\":\"contourcarpet\"}],\"heatmap\":[{\"colorbar\":{\"outlinewidth\":0,\"ticks\":\"\"},\"colorscale\":[[0.0,\"#0d0887\"],[0.1111111111111111,\"#46039f\"],[0.2222222222222222,\"#7201a8\"],[0.3333333333333333,\"#9c179e\"],[0.4444444444444444,\"#bd3786\"],[0.5555555555555556,\"#d8576b\"],[0.6666666666666666,\"#ed7953\"],[0.7777777777777778,\"#fb9f3a\"],[0.8888888888888888,\"#fdca26\"],[1.0,\"#f0f921\"]],\"type\":\"heatmap\"}],\"heatmapgl\":[{\"colorbar\":{\"outlinewidth\":0,\"ticks\":\"\"},\"colorscale\":[[0.0,\"#0d0887\"],[0.1111111111111111,\"#46039f\"],[0.2222222222222222,\"#7201a8\"],[0.3333333333333333,\"#9c179e\"],[0.4444444444444444,\"#bd3786\"],[0.5555555555555556,\"#d8576b\"],[0.6666666666666666,\"#ed7953\"],[0.7777777777777778,\"#fb9f3a\"],[0.8888888888888888,\"#fdca26\"],[1.0,\"#f0f921\"]],\"type\":\"heatmapgl\"}],\"histogram\":[{\"marker\":{\"pattern\":{\"fillmode\":\"overlay\",\"size\":10,\"solidity\":0.2}},\"type\":\"histogram\"}],\"histogram2d\":[{\"colorbar\":{\"outlinewidth\":0,\"ticks\":\"\"},\"colorscale\":[[0.0,\"#0d0887\"],[0.1111111111111111,\"#46039f\"],[0.2222222222222222,\"#7201a8\"],[0.3333333333333333,\"#9c179e\"],[0.4444444444444444,\"#bd3786\"],[0.5555555555555556,\"#d8576b\"],[0.6666666666666666,\"#ed7953\"],[0.7777777777777778,\"#fb9f3a\"],[0.8888888888888888,\"#fdca26\"],[1.0,\"#f0f921\"]],\"type\":\"histogram2d\"}],\"histogram2dcontour\":[{\"colorbar\":{\"outlinewidth\":0,\"ticks\":\"\"},\"colorscale\":[[0.0,\"#0d0887\"],[0.1111111111111111,\"#46039f\"],[0.2222222222222222,\"#7201a8\"],[0.3333333333333333,\"#9c179e\"],[0.4444444444444444,\"#bd3786\"],[0.5555555555555556,\"#d8576b\"],[0.6666666666666666,\"#ed7953\"],[0.7777777777777778,\"#fb9f3a\"],[0.8888888888888888,\"#fdca26\"],[1.0,\"#f0f921\"]],\"type\":\"histogram2dcontour\"}],\"mesh3d\":[{\"colorbar\":{\"outlinewidth\":0,\"ticks\":\"\"},\"type\":\"mesh3d\"}],\"parcoords\":[{\"line\":{\"colorbar\":{\"outlinewidth\":0,\"ticks\":\"\"}},\"type\":\"parcoords\"}],\"pie\":[{\"automargin\":true,\"type\":\"pie\"}],\"scatter\":[{\"marker\":{\"colorbar\":{\"outlinewidth\":0,\"ticks\":\"\"}},\"type\":\"scatter\"}],\"scatter3d\":[{\"line\":{\"colorbar\":{\"outlinewidth\":0,\"ticks\":\"\"}},\"marker\":{\"colorbar\":{\"outlinewidth\":0,\"ticks\":\"\"}},\"type\":\"scatter3d\"}],\"scattercarpet\":[{\"marker\":{\"colorbar\":{\"outlinewidth\":0,\"ticks\":\"\"}},\"type\":\"scattercarpet\"}],\"scattergeo\":[{\"marker\":{\"colorbar\":{\"outlinewidth\":0,\"ticks\":\"\"}},\"type\":\"scattergeo\"}],\"scattergl\":[{\"marker\":{\"colorbar\":{\"outlinewidth\":0,\"ticks\":\"\"}},\"type\":\"scattergl\"}],\"scattermapbox\":[{\"marker\":{\"colorbar\":{\"outlinewidth\":0,\"ticks\":\"\"}},\"type\":\"scattermapbox\"}],\"scatterpolar\":[{\"marker\":{\"colorbar\":{\"outlinewidth\":0,\"ticks\":\"\"}},\"type\":\"scatterpolar\"}],\"scatterpolargl\":[{\"marker\":{\"colorbar\":{\"outlinewidth\":0,\"ticks\":\"\"}},\"type\":\"scatterpolargl\"}],\"scatterternary\":[{\"marker\":{\"colorbar\":{\"outlinewidth\":0,\"ticks\":\"\"}},\"type\":\"scatterternary\"}],\"surface\":[{\"colorbar\":{\"outlinewidth\":0,\"ticks\":\"\"},\"colorscale\":[[0.0,\"#0d0887\"],[0.1111111111111111,\"#46039f\"],[0.2222222222222222,\"#7201a8\"],[0.3333333333333333,\"#9c179e\"],[0.4444444444444444,\"#bd3786\"],[0.5555555555555556,\"#d8576b\"],[0.6666666666666666,\"#ed7953\"],[0.7777777777777778,\"#fb9f3a\"],[0.8888888888888888,\"#fdca26\"],[1.0,\"#f0f921\"]],\"type\":\"surface\"}],\"table\":[{\"cells\":{\"fill\":{\"color\":\"#EBF0F8\"},\"line\":{\"color\":\"white\"}},\"header\":{\"fill\":{\"color\":\"#C8D4E3\"},\"line\":{\"color\":\"white\"}},\"type\":\"table\"}]},\"layout\":{\"annotationdefaults\":{\"arrowcolor\":\"#2a3f5f\",\"arrowhead\":0,\"arrowwidth\":1},\"autotypenumbers\":\"strict\",\"coloraxis\":{\"colorbar\":{\"outlinewidth\":0,\"ticks\":\"\"}},\"colorscale\":{\"diverging\":[[0,\"#8e0152\"],[0.1,\"#c51b7d\"],[0.2,\"#de77ae\"],[0.3,\"#f1b6da\"],[0.4,\"#fde0ef\"],[0.5,\"#f7f7f7\"],[0.6,\"#e6f5d0\"],[0.7,\"#b8e186\"],[0.8,\"#7fbc41\"],[0.9,\"#4d9221\"],[1,\"#276419\"]],\"sequential\":[[0.0,\"#0d0887\"],[0.1111111111111111,\"#46039f\"],[0.2222222222222222,\"#7201a8\"],[0.3333333333333333,\"#9c179e\"],[0.4444444444444444,\"#bd3786\"],[0.5555555555555556,\"#d8576b\"],[0.6666666666666666,\"#ed7953\"],[0.7777777777777778,\"#fb9f3a\"],[0.8888888888888888,\"#fdca26\"],[1.0,\"#f0f921\"]],\"sequentialminus\":[[0.0,\"#0d0887\"],[0.1111111111111111,\"#46039f\"],[0.2222222222222222,\"#7201a8\"],[0.3333333333333333,\"#9c179e\"],[0.4444444444444444,\"#bd3786\"],[0.5555555555555556,\"#d8576b\"],[0.6666666666666666,\"#ed7953\"],[0.7777777777777778,\"#fb9f3a\"],[0.8888888888888888,\"#fdca26\"],[1.0,\"#f0f921\"]]},\"colorway\":[\"#636efa\",\"#EF553B\",\"#00cc96\",\"#ab63fa\",\"#FFA15A\",\"#19d3f3\",\"#FF6692\",\"#B6E880\",\"#FF97FF\",\"#FECB52\"],\"font\":{\"color\":\"#2a3f5f\"},\"geo\":{\"bgcolor\":\"white\",\"lakecolor\":\"white\",\"landcolor\":\"#E5ECF6\",\"showlakes\":true,\"showland\":true,\"subunitcolor\":\"white\"},\"hoverlabel\":{\"align\":\"left\"},\"hovermode\":\"closest\",\"mapbox\":{\"style\":\"light\"},\"paper_bgcolor\":\"white\",\"plot_bgcolor\":\"#E5ECF6\",\"polar\":{\"angularaxis\":{\"gridcolor\":\"white\",\"linecolor\":\"white\",\"ticks\":\"\"},\"bgcolor\":\"#E5ECF6\",\"radialaxis\":{\"gridcolor\":\"white\",\"linecolor\":\"white\",\"ticks\":\"\"}},\"scene\":{\"xaxis\":{\"backgroundcolor\":\"#E5ECF6\",\"gridcolor\":\"white\",\"gridwidth\":2,\"linecolor\":\"white\",\"showbackground\":true,\"ticks\":\"\",\"zerolinecolor\":\"white\"},\"yaxis\":{\"backgroundcolor\":\"#E5ECF6\",\"gridcolor\":\"white\",\"gridwidth\":2,\"linecolor\":\"white\",\"showbackground\":true,\"ticks\":\"\",\"zerolinecolor\":\"white\"},\"zaxis\":{\"backgroundcolor\":\"#E5ECF6\",\"gridcolor\":\"white\",\"gridwidth\":2,\"linecolor\":\"white\",\"showbackground\":true,\"ticks\":\"\",\"zerolinecolor\":\"white\"}},\"shapedefaults\":{\"line\":{\"color\":\"#2a3f5f\"}},\"ternary\":{\"aaxis\":{\"gridcolor\":\"white\",\"linecolor\":\"white\",\"ticks\":\"\"},\"baxis\":{\"gridcolor\":\"white\",\"linecolor\":\"white\",\"ticks\":\"\"},\"bgcolor\":\"#E5ECF6\",\"caxis\":{\"gridcolor\":\"white\",\"linecolor\":\"white\",\"ticks\":\"\"}},\"title\":{\"x\":0.05},\"xaxis\":{\"automargin\":true,\"gridcolor\":\"white\",\"linecolor\":\"white\",\"ticks\":\"\",\"title\":{\"standoff\":15},\"zerolinecolor\":\"white\",\"zerolinewidth\":2},\"yaxis\":{\"automargin\":true,\"gridcolor\":\"white\",\"linecolor\":\"white\",\"ticks\":\"\",\"title\":{\"standoff\":15},\"zerolinecolor\":\"white\",\"zerolinewidth\":2}}},\"title\":{\"font\":{\"color\":\"#4D5663\"}},\"xaxis\":{\"gridcolor\":\"#E1E5ED\",\"showgrid\":true,\"tickfont\":{\"color\":\"#4D5663\"},\"title\":{\"font\":{\"color\":\"#4D5663\"},\"text\":\"\"},\"zerolinecolor\":\"#E1E5ED\"},\"xaxis2\":{\"anchor\":\"y2\",\"gridcolor\":\"#E1E5ED\",\"showgrid\":true,\"showticklabels\":false,\"tickfont\":{\"color\":\"#4D5663\"},\"title\":{\"font\":{\"color\":\"#4D5663\"},\"text\":\"\"},\"zerolinecolor\":\"#E1E5ED\"},\"yaxis\":{\"domain\":[0.3,1],\"gridcolor\":\"#E1E5ED\",\"showgrid\":true,\"tickfont\":{\"color\":\"#4D5663\"},\"title\":{\"font\":{\"color\":\"#4D5663\"},\"text\":\"\"},\"zerolinecolor\":\"#E1E5ED\"},\"yaxis2\":{\"domain\":[0,0.25],\"gridcolor\":\"#E1E5ED\",\"showgrid\":true,\"tickfont\":{\"color\":\"#4D5663\"},\"title\":{\"font\":{\"color\":\"#4D5663\"},\"text\":\"Spread\"},\"zerolinecolor\":\"#E1E5ED\"}},                        {\"showLink\": true, \"linkText\": \"Export to plot.ly\", \"plotlyServerURL\": \"https://plot.ly\", \"responsive\": true}                    ).then(function(){\n",
       "                            \n",
       "var gd = document.getElementById('107be8b3-46ea-41bc-bf60-4b87fd6e6605');\n",
       "var x = new MutationObserver(function (mutations, observer) {{\n",
       "        var display = window.getComputedStyle(gd).display;\n",
       "        if (!display || display === 'none') {{\n",
       "            console.log([gd, 'removed!']);\n",
       "            Plotly.purge(gd);\n",
       "            observer.disconnect();\n",
       "        }}\n",
       "}});\n",
       "\n",
       "// Listen for the removal of the full notebook cells\n",
       "var notebookContainer = gd.closest('#notebook-container');\n",
       "if (notebookContainer) {{\n",
       "    x.observe(notebookContainer, {childList: true});\n",
       "}}\n",
       "\n",
       "// Listen for the clearing of the current output cell\n",
       "var outputEl = gd.closest('.output');\n",
       "if (outputEl) {{\n",
       "    x.observe(outputEl, {childList: true});\n",
       "}}\n",
       "\n",
       "                        })                };                });            </script>        </div>"
      ]
     },
     "metadata": {},
     "output_type": "display_data"
    }
   ],
   "source": [
    "df[['A','B']].iplot(kind='spread')"
   ]
  },
  {
   "cell_type": "code",
   "execution_count": 23,
   "id": "9d1f0b63",
   "metadata": {},
   "outputs": [
    {
     "data": {
      "application/vnd.plotly.v1+json": {
       "config": {
        "linkText": "Export to plot.ly",
        "plotlyServerURL": "https://plot.ly",
        "showLink": true
       },
       "data": [
        {
         "marker": {
          "color": [
           "rgb(255, 153, 51)",
           "rgb(55, 128, 191)",
           "rgb(50, 171, 96)",
           "rgb(128, 0, 128)",
           "rgb(219, 64, 82)",
           "rgb(0, 128, 128)",
           "rgb(255, 255, 51)",
           "rgb(128, 128, 0)",
           "rgb(251, 128, 114)",
           "rgb(128, 177, 211)"
          ],
          "line": {
           "width": 1.3
          },
          "size": [
           46,
           63,
           82,
           61,
           85,
           73,
           51,
           112,
           57,
           84,
           78,
           88,
           41,
           71,
           90,
           51,
           57,
           33,
           82,
           83,
           89,
           80,
           12,
           35,
           67,
           67,
           66,
           63,
           35,
           61,
           71,
           64,
           51,
           42,
           55,
           76,
           65,
           67,
           50,
           74,
           70,
           54,
           58,
           47,
           60,
           37,
           76,
           73,
           54,
           68,
           35,
           55,
           58,
           61,
           44,
           19,
           62,
           69,
           71,
           50,
           73,
           43,
           76,
           77,
           55,
           54,
           77,
           54,
           70,
           52,
           59,
           33,
           76,
           61,
           49,
           61,
           52,
           39,
           71,
           68,
           75,
           57,
           62,
           59,
           54,
           53,
           59,
           57,
           55,
           57,
           65,
           78,
           69,
           49,
           58,
           81,
           73,
           60,
           55,
           36
          ],
          "symbol": "circle"
         },
         "mode": "markers",
         "text": "",
         "type": "scatter",
         "x": [
          0.5816966956153499,
          0.12316386314759027,
          -0.22398171843685152,
          -0.8895932385975902,
          0.2752188676636905,
          -0.2043642311215671,
          0.3948123118583736,
          0.48645630871897805,
          1.5739071788301084,
          2.1488658396531037,
          -0.31708220249715474,
          -0.9711842754967692,
          1.2628175279667635,
          -1.1834028893365194,
          1.6944271259868855,
          -0.5931338474672299,
          0.0027807338470003007,
          -0.6818703057681064,
          0.6628178049410343,
          0.03540578774837641,
          0.732895635310974,
          -0.4275137954232451,
          1.320181769808673,
          -1.482472611175471,
          2.071582002661825,
          -0.01967219630635455,
          1.209423427603569,
          1.6610041759226586,
          -0.5453412431129742,
          0.3258745239218415,
          -0.27722164238155605,
          0.6478830076709254,
          0.9950648418037051,
          -0.48714277801385814,
          -0.4436228773791175,
          0.11702106920114262,
          -0.5740663577799426,
          2.002122515184173,
          0.014114137435172026,
          0.2517242524460662,
          -0.11235543580606286,
          0.5375253295601139,
          -0.5968833989130355,
          0.048054972651586265,
          -1.123202596891187,
          0.004196248013858794,
          0.661815828049052,
          -1.2980041274097809,
          0.3744164921338543,
          -0.17708144186725294,
          0.2076525777904713,
          -1.3025365058856804,
          -1.5590190180060983,
          0.6248400236247296,
          0.7911141185158476,
          -0.49037525611041033,
          1.2330545424386792,
          0.6709923076578755,
          -0.5331723733231042,
          0.10228037344181613,
          -0.1363508547845355,
          2.218762225844916,
          0.5446047848971652,
          -0.08107298699081342,
          0.585020407460338,
          0.7651851072247567,
          0.5140874559311198,
          -0.5527227666251414,
          0.328474992492661,
          1.7157964042871225,
          -0.4754802351708734,
          -0.2393856771841323,
          1.0401174604876424,
          1.4134185841189972,
          -0.665029001262137,
          -1.122798015523656,
          -0.5260727243464802,
          -2.6006280522817535,
          1.0467518800084306,
          0.39306453239966815,
          -0.33878690050097,
          -1.7677071848964492,
          0.23253039445027843,
          -0.6199365487060867,
          1.4471217025997936,
          -0.507721592541854,
          0.14885342347303643,
          0.5986738883632382,
          0.16912484206819606,
          0.9555600442980435,
          -1.0980989001705028,
          -0.020763816433263235,
          0.6062071067217284,
          -0.8319213017686466,
          1.0144730260507537,
          1.458043788509651,
          -1.4586298959821542,
          -1.3109773870068864,
          -1.9505596262167764,
          1.1103572219598006
         ],
         "y": [
          -0.5696383137081489,
          1.1351734827535165,
          0.9152001917611036,
          -0.00844155094580938,
          -0.06258170188690283,
          -1.397960774408616,
          0.3435980433431662,
          1.9771984759663241,
          0.7980962552551226,
          0.5099384295338028,
          0.6953264740395925,
          -0.050924092129710836,
          -0.6895188701915604,
          0.915616107381015,
          0.02037246592326186,
          -1.1576373722887503,
          -0.2887963256996219,
          0.4796209590156369,
          -1.2707481935591634,
          -1.0331744754868155,
          -1.6716818578114625,
          1.2795257614096645,
          -0.04397638767144347,
          -1.516411895677526,
          -0.5005577684774363,
          0.5504292610693635,
          0.5207414902462956,
          -1.0748864153982811,
          0.42032320246494,
          1.1925244880627393,
          -1.1332177751503012,
          -0.24171705755197975,
          0.1584254681040101,
          -0.32122177949433656,
          1.1041953084365854,
          0.08917121729266873,
          1.3853616467346457,
          -0.3212564324754563,
          -0.6905917343160966,
          -1.9487907074894022,
          -0.31918002995573874,
          1.0099101012017528,
          -0.23567285927983872,
          0.786843177647913,
          0.3801931489000957,
          0.06733360341928074,
          -0.4182380904879572,
          0.448230605012123,
          1.1428226019923269,
          -0.7008002812067107,
          -0.9528265960823682,
          0.16921409666104573,
          -0.2321189369103486,
          1.4067150981879595,
          -0.8996080725849857,
          -0.020364228761414607,
          -0.6051186814565923,
          -0.4542178787439367,
          0.8902985465091476,
          1.4360863024404278,
          0.6424637101068639,
          -0.24572297220482406,
          -1.144635878568656,
          -0.3104964171676207,
          -1.8442320270700612,
          -0.402890083735357,
          0.3096071207553138,
          -1.3247774875957332,
          -0.5749890046206451,
          -2.5623083464476264,
          2.0939381145938447,
          -1.4627844809059278,
          -1.04506207721916,
          -1.1635640272612695,
          0.8498142990554263,
          0.5790979612786291,
          -0.8035121129131575,
          0.6915682382008483,
          0.9887753358120481,
          0.5725170736416944,
          0.637381534075287,
          -1.2161750257605888,
          -0.7287165307989403,
          -0.5464232876632266,
          -0.3649806962939663,
          1.3472364069340996,
          1.3415149669927902,
          -0.7423986256356838,
          0.3235175537655451,
          0.01830620317089403,
          -0.21560964163712618,
          -0.6799803836072068,
          -1.4445582587569874,
          1.2488961247500823,
          0.06940321488678963,
          0.048331872198486114,
          -0.9251927212592852,
          -1.629426086050211,
          0.9752502823722285,
          1.2294186690010769
         ]
        }
       ],
       "layout": {
        "legend": {
         "bgcolor": "#F5F6F9",
         "font": {
          "color": "#4D5663"
         }
        },
        "paper_bgcolor": "#F5F6F9",
        "plot_bgcolor": "#F5F6F9",
        "template": {
         "data": {
          "bar": [
           {
            "error_x": {
             "color": "#2a3f5f"
            },
            "error_y": {
             "color": "#2a3f5f"
            },
            "marker": {
             "line": {
              "color": "#E5ECF6",
              "width": 0.5
             },
             "pattern": {
              "fillmode": "overlay",
              "size": 10,
              "solidity": 0.2
             }
            },
            "type": "bar"
           }
          ],
          "barpolar": [
           {
            "marker": {
             "line": {
              "color": "#E5ECF6",
              "width": 0.5
             },
             "pattern": {
              "fillmode": "overlay",
              "size": 10,
              "solidity": 0.2
             }
            },
            "type": "barpolar"
           }
          ],
          "carpet": [
           {
            "aaxis": {
             "endlinecolor": "#2a3f5f",
             "gridcolor": "white",
             "linecolor": "white",
             "minorgridcolor": "white",
             "startlinecolor": "#2a3f5f"
            },
            "baxis": {
             "endlinecolor": "#2a3f5f",
             "gridcolor": "white",
             "linecolor": "white",
             "minorgridcolor": "white",
             "startlinecolor": "#2a3f5f"
            },
            "type": "carpet"
           }
          ],
          "choropleth": [
           {
            "colorbar": {
             "outlinewidth": 0,
             "ticks": ""
            },
            "type": "choropleth"
           }
          ],
          "contour": [
           {
            "colorbar": {
             "outlinewidth": 0,
             "ticks": ""
            },
            "colorscale": [
             [
              0,
              "#0d0887"
             ],
             [
              0.1111111111111111,
              "#46039f"
             ],
             [
              0.2222222222222222,
              "#7201a8"
             ],
             [
              0.3333333333333333,
              "#9c179e"
             ],
             [
              0.4444444444444444,
              "#bd3786"
             ],
             [
              0.5555555555555556,
              "#d8576b"
             ],
             [
              0.6666666666666666,
              "#ed7953"
             ],
             [
              0.7777777777777778,
              "#fb9f3a"
             ],
             [
              0.8888888888888888,
              "#fdca26"
             ],
             [
              1,
              "#f0f921"
             ]
            ],
            "type": "contour"
           }
          ],
          "contourcarpet": [
           {
            "colorbar": {
             "outlinewidth": 0,
             "ticks": ""
            },
            "type": "contourcarpet"
           }
          ],
          "heatmap": [
           {
            "colorbar": {
             "outlinewidth": 0,
             "ticks": ""
            },
            "colorscale": [
             [
              0,
              "#0d0887"
             ],
             [
              0.1111111111111111,
              "#46039f"
             ],
             [
              0.2222222222222222,
              "#7201a8"
             ],
             [
              0.3333333333333333,
              "#9c179e"
             ],
             [
              0.4444444444444444,
              "#bd3786"
             ],
             [
              0.5555555555555556,
              "#d8576b"
             ],
             [
              0.6666666666666666,
              "#ed7953"
             ],
             [
              0.7777777777777778,
              "#fb9f3a"
             ],
             [
              0.8888888888888888,
              "#fdca26"
             ],
             [
              1,
              "#f0f921"
             ]
            ],
            "type": "heatmap"
           }
          ],
          "heatmapgl": [
           {
            "colorbar": {
             "outlinewidth": 0,
             "ticks": ""
            },
            "colorscale": [
             [
              0,
              "#0d0887"
             ],
             [
              0.1111111111111111,
              "#46039f"
             ],
             [
              0.2222222222222222,
              "#7201a8"
             ],
             [
              0.3333333333333333,
              "#9c179e"
             ],
             [
              0.4444444444444444,
              "#bd3786"
             ],
             [
              0.5555555555555556,
              "#d8576b"
             ],
             [
              0.6666666666666666,
              "#ed7953"
             ],
             [
              0.7777777777777778,
              "#fb9f3a"
             ],
             [
              0.8888888888888888,
              "#fdca26"
             ],
             [
              1,
              "#f0f921"
             ]
            ],
            "type": "heatmapgl"
           }
          ],
          "histogram": [
           {
            "marker": {
             "pattern": {
              "fillmode": "overlay",
              "size": 10,
              "solidity": 0.2
             }
            },
            "type": "histogram"
           }
          ],
          "histogram2d": [
           {
            "colorbar": {
             "outlinewidth": 0,
             "ticks": ""
            },
            "colorscale": [
             [
              0,
              "#0d0887"
             ],
             [
              0.1111111111111111,
              "#46039f"
             ],
             [
              0.2222222222222222,
              "#7201a8"
             ],
             [
              0.3333333333333333,
              "#9c179e"
             ],
             [
              0.4444444444444444,
              "#bd3786"
             ],
             [
              0.5555555555555556,
              "#d8576b"
             ],
             [
              0.6666666666666666,
              "#ed7953"
             ],
             [
              0.7777777777777778,
              "#fb9f3a"
             ],
             [
              0.8888888888888888,
              "#fdca26"
             ],
             [
              1,
              "#f0f921"
             ]
            ],
            "type": "histogram2d"
           }
          ],
          "histogram2dcontour": [
           {
            "colorbar": {
             "outlinewidth": 0,
             "ticks": ""
            },
            "colorscale": [
             [
              0,
              "#0d0887"
             ],
             [
              0.1111111111111111,
              "#46039f"
             ],
             [
              0.2222222222222222,
              "#7201a8"
             ],
             [
              0.3333333333333333,
              "#9c179e"
             ],
             [
              0.4444444444444444,
              "#bd3786"
             ],
             [
              0.5555555555555556,
              "#d8576b"
             ],
             [
              0.6666666666666666,
              "#ed7953"
             ],
             [
              0.7777777777777778,
              "#fb9f3a"
             ],
             [
              0.8888888888888888,
              "#fdca26"
             ],
             [
              1,
              "#f0f921"
             ]
            ],
            "type": "histogram2dcontour"
           }
          ],
          "mesh3d": [
           {
            "colorbar": {
             "outlinewidth": 0,
             "ticks": ""
            },
            "type": "mesh3d"
           }
          ],
          "parcoords": [
           {
            "line": {
             "colorbar": {
              "outlinewidth": 0,
              "ticks": ""
             }
            },
            "type": "parcoords"
           }
          ],
          "pie": [
           {
            "automargin": true,
            "type": "pie"
           }
          ],
          "scatter": [
           {
            "marker": {
             "colorbar": {
              "outlinewidth": 0,
              "ticks": ""
             }
            },
            "type": "scatter"
           }
          ],
          "scatter3d": [
           {
            "line": {
             "colorbar": {
              "outlinewidth": 0,
              "ticks": ""
             }
            },
            "marker": {
             "colorbar": {
              "outlinewidth": 0,
              "ticks": ""
             }
            },
            "type": "scatter3d"
           }
          ],
          "scattercarpet": [
           {
            "marker": {
             "colorbar": {
              "outlinewidth": 0,
              "ticks": ""
             }
            },
            "type": "scattercarpet"
           }
          ],
          "scattergeo": [
           {
            "marker": {
             "colorbar": {
              "outlinewidth": 0,
              "ticks": ""
             }
            },
            "type": "scattergeo"
           }
          ],
          "scattergl": [
           {
            "marker": {
             "colorbar": {
              "outlinewidth": 0,
              "ticks": ""
             }
            },
            "type": "scattergl"
           }
          ],
          "scattermapbox": [
           {
            "marker": {
             "colorbar": {
              "outlinewidth": 0,
              "ticks": ""
             }
            },
            "type": "scattermapbox"
           }
          ],
          "scatterpolar": [
           {
            "marker": {
             "colorbar": {
              "outlinewidth": 0,
              "ticks": ""
             }
            },
            "type": "scatterpolar"
           }
          ],
          "scatterpolargl": [
           {
            "marker": {
             "colorbar": {
              "outlinewidth": 0,
              "ticks": ""
             }
            },
            "type": "scatterpolargl"
           }
          ],
          "scatterternary": [
           {
            "marker": {
             "colorbar": {
              "outlinewidth": 0,
              "ticks": ""
             }
            },
            "type": "scatterternary"
           }
          ],
          "surface": [
           {
            "colorbar": {
             "outlinewidth": 0,
             "ticks": ""
            },
            "colorscale": [
             [
              0,
              "#0d0887"
             ],
             [
              0.1111111111111111,
              "#46039f"
             ],
             [
              0.2222222222222222,
              "#7201a8"
             ],
             [
              0.3333333333333333,
              "#9c179e"
             ],
             [
              0.4444444444444444,
              "#bd3786"
             ],
             [
              0.5555555555555556,
              "#d8576b"
             ],
             [
              0.6666666666666666,
              "#ed7953"
             ],
             [
              0.7777777777777778,
              "#fb9f3a"
             ],
             [
              0.8888888888888888,
              "#fdca26"
             ],
             [
              1,
              "#f0f921"
             ]
            ],
            "type": "surface"
           }
          ],
          "table": [
           {
            "cells": {
             "fill": {
              "color": "#EBF0F8"
             },
             "line": {
              "color": "white"
             }
            },
            "header": {
             "fill": {
              "color": "#C8D4E3"
             },
             "line": {
              "color": "white"
             }
            },
            "type": "table"
           }
          ]
         },
         "layout": {
          "annotationdefaults": {
           "arrowcolor": "#2a3f5f",
           "arrowhead": 0,
           "arrowwidth": 1
          },
          "autotypenumbers": "strict",
          "coloraxis": {
           "colorbar": {
            "outlinewidth": 0,
            "ticks": ""
           }
          },
          "colorscale": {
           "diverging": [
            [
             0,
             "#8e0152"
            ],
            [
             0.1,
             "#c51b7d"
            ],
            [
             0.2,
             "#de77ae"
            ],
            [
             0.3,
             "#f1b6da"
            ],
            [
             0.4,
             "#fde0ef"
            ],
            [
             0.5,
             "#f7f7f7"
            ],
            [
             0.6,
             "#e6f5d0"
            ],
            [
             0.7,
             "#b8e186"
            ],
            [
             0.8,
             "#7fbc41"
            ],
            [
             0.9,
             "#4d9221"
            ],
            [
             1,
             "#276419"
            ]
           ],
           "sequential": [
            [
             0,
             "#0d0887"
            ],
            [
             0.1111111111111111,
             "#46039f"
            ],
            [
             0.2222222222222222,
             "#7201a8"
            ],
            [
             0.3333333333333333,
             "#9c179e"
            ],
            [
             0.4444444444444444,
             "#bd3786"
            ],
            [
             0.5555555555555556,
             "#d8576b"
            ],
            [
             0.6666666666666666,
             "#ed7953"
            ],
            [
             0.7777777777777778,
             "#fb9f3a"
            ],
            [
             0.8888888888888888,
             "#fdca26"
            ],
            [
             1,
             "#f0f921"
            ]
           ],
           "sequentialminus": [
            [
             0,
             "#0d0887"
            ],
            [
             0.1111111111111111,
             "#46039f"
            ],
            [
             0.2222222222222222,
             "#7201a8"
            ],
            [
             0.3333333333333333,
             "#9c179e"
            ],
            [
             0.4444444444444444,
             "#bd3786"
            ],
            [
             0.5555555555555556,
             "#d8576b"
            ],
            [
             0.6666666666666666,
             "#ed7953"
            ],
            [
             0.7777777777777778,
             "#fb9f3a"
            ],
            [
             0.8888888888888888,
             "#fdca26"
            ],
            [
             1,
             "#f0f921"
            ]
           ]
          },
          "colorway": [
           "#636efa",
           "#EF553B",
           "#00cc96",
           "#ab63fa",
           "#FFA15A",
           "#19d3f3",
           "#FF6692",
           "#B6E880",
           "#FF97FF",
           "#FECB52"
          ],
          "font": {
           "color": "#2a3f5f"
          },
          "geo": {
           "bgcolor": "white",
           "lakecolor": "white",
           "landcolor": "#E5ECF6",
           "showlakes": true,
           "showland": true,
           "subunitcolor": "white"
          },
          "hoverlabel": {
           "align": "left"
          },
          "hovermode": "closest",
          "mapbox": {
           "style": "light"
          },
          "paper_bgcolor": "white",
          "plot_bgcolor": "#E5ECF6",
          "polar": {
           "angularaxis": {
            "gridcolor": "white",
            "linecolor": "white",
            "ticks": ""
           },
           "bgcolor": "#E5ECF6",
           "radialaxis": {
            "gridcolor": "white",
            "linecolor": "white",
            "ticks": ""
           }
          },
          "scene": {
           "xaxis": {
            "backgroundcolor": "#E5ECF6",
            "gridcolor": "white",
            "gridwidth": 2,
            "linecolor": "white",
            "showbackground": true,
            "ticks": "",
            "zerolinecolor": "white"
           },
           "yaxis": {
            "backgroundcolor": "#E5ECF6",
            "gridcolor": "white",
            "gridwidth": 2,
            "linecolor": "white",
            "showbackground": true,
            "ticks": "",
            "zerolinecolor": "white"
           },
           "zaxis": {
            "backgroundcolor": "#E5ECF6",
            "gridcolor": "white",
            "gridwidth": 2,
            "linecolor": "white",
            "showbackground": true,
            "ticks": "",
            "zerolinecolor": "white"
           }
          },
          "shapedefaults": {
           "line": {
            "color": "#2a3f5f"
           }
          },
          "ternary": {
           "aaxis": {
            "gridcolor": "white",
            "linecolor": "white",
            "ticks": ""
           },
           "baxis": {
            "gridcolor": "white",
            "linecolor": "white",
            "ticks": ""
           },
           "bgcolor": "#E5ECF6",
           "caxis": {
            "gridcolor": "white",
            "linecolor": "white",
            "ticks": ""
           }
          },
          "title": {
           "x": 0.05
          },
          "xaxis": {
           "automargin": true,
           "gridcolor": "white",
           "linecolor": "white",
           "ticks": "",
           "title": {
            "standoff": 15
           },
           "zerolinecolor": "white",
           "zerolinewidth": 2
          },
          "yaxis": {
           "automargin": true,
           "gridcolor": "white",
           "linecolor": "white",
           "ticks": "",
           "title": {
            "standoff": 15
           },
           "zerolinecolor": "white",
           "zerolinewidth": 2
          }
         }
        },
        "title": {
         "font": {
          "color": "#4D5663"
         }
        },
        "xaxis": {
         "gridcolor": "#E1E5ED",
         "showgrid": true,
         "tickfont": {
          "color": "#4D5663"
         },
         "title": {
          "font": {
           "color": "#4D5663"
          },
          "text": ""
         },
         "zerolinecolor": "#E1E5ED"
        },
        "yaxis": {
         "gridcolor": "#E1E5ED",
         "showgrid": true,
         "tickfont": {
          "color": "#4D5663"
         },
         "title": {
          "font": {
           "color": "#4D5663"
          },
          "text": ""
         },
         "zerolinecolor": "#E1E5ED"
        }
       }
      },
      "text/html": [
       "<div>                            <div id=\"9442f58a-ae95-4b1e-911a-a8d1b12c0c9a\" class=\"plotly-graph-div\" style=\"height:525px; width:100%;\"></div>            <script type=\"text/javascript\">                require([\"plotly\"], function(Plotly) {                    window.PLOTLYENV=window.PLOTLYENV || {};\n",
       "                    window.PLOTLYENV.BASE_URL='https://plot.ly';                                    if (document.getElementById(\"9442f58a-ae95-4b1e-911a-a8d1b12c0c9a\")) {                    Plotly.newPlot(                        \"9442f58a-ae95-4b1e-911a-a8d1b12c0c9a\",                        [{\"marker\":{\"color\":[\"rgb(255, 153, 51)\",\"rgb(55, 128, 191)\",\"rgb(50, 171, 96)\",\"rgb(128, 0, 128)\",\"rgb(219, 64, 82)\",\"rgb(0, 128, 128)\",\"rgb(255, 255, 51)\",\"rgb(128, 128, 0)\",\"rgb(251, 128, 114)\",\"rgb(128, 177, 211)\"],\"line\":{\"width\":1.3},\"size\":[46,63,82,61,85,73,51,112,57,84,78,88,41,71,90,51,57,33,82,83,89,80,12,35,67,67,66,63,35,61,71,64,51,42,55,76,65,67,50,74,70,54,58,47,60,37,76,73,54,68,35,55,58,61,44,19,62,69,71,50,73,43,76,77,55,54,77,54,70,52,59,33,76,61,49,61,52,39,71,68,75,57,62,59,54,53,59,57,55,57,65,78,69,49,58,81,73,60,55,36],\"symbol\":\"circle\"},\"mode\":\"markers\",\"text\":\"\",\"type\":\"scatter\",\"x\":[0.5816966956153499,0.12316386314759027,-0.22398171843685152,-0.8895932385975902,0.2752188676636905,-0.2043642311215671,0.3948123118583736,0.48645630871897805,1.5739071788301084,2.1488658396531037,-0.31708220249715474,-0.9711842754967692,1.2628175279667635,-1.1834028893365194,1.6944271259868855,-0.5931338474672299,0.0027807338470003007,-0.6818703057681064,0.6628178049410343,0.03540578774837641,0.732895635310974,-0.4275137954232451,1.320181769808673,-1.482472611175471,2.071582002661825,-0.01967219630635455,1.209423427603569,1.6610041759226586,-0.5453412431129742,0.3258745239218415,-0.27722164238155605,0.6478830076709254,0.9950648418037051,-0.48714277801385814,-0.4436228773791175,0.11702106920114262,-0.5740663577799426,2.002122515184173,0.014114137435172026,0.2517242524460662,-0.11235543580606286,0.5375253295601139,-0.5968833989130355,0.048054972651586265,-1.123202596891187,0.004196248013858794,0.661815828049052,-1.2980041274097809,0.3744164921338543,-0.17708144186725294,0.2076525777904713,-1.3025365058856804,-1.5590190180060983,0.6248400236247296,0.7911141185158476,-0.49037525611041033,1.2330545424386792,0.6709923076578755,-0.5331723733231042,0.10228037344181613,-0.1363508547845355,2.218762225844916,0.5446047848971652,-0.08107298699081342,0.585020407460338,0.7651851072247567,0.5140874559311198,-0.5527227666251414,0.328474992492661,1.7157964042871225,-0.4754802351708734,-0.2393856771841323,1.0401174604876424,1.4134185841189972,-0.665029001262137,-1.122798015523656,-0.5260727243464802,-2.6006280522817535,1.0467518800084306,0.39306453239966815,-0.33878690050097,-1.7677071848964492,0.23253039445027843,-0.6199365487060867,1.4471217025997936,-0.507721592541854,0.14885342347303643,0.5986738883632382,0.16912484206819606,0.9555600442980435,-1.0980989001705028,-0.020763816433263235,0.6062071067217284,-0.8319213017686466,1.0144730260507537,1.458043788509651,-1.4586298959821542,-1.3109773870068864,-1.9505596262167764,1.1103572219598006],\"y\":[-0.5696383137081489,1.1351734827535165,0.9152001917611036,-0.00844155094580938,-0.06258170188690283,-1.397960774408616,0.3435980433431662,1.9771984759663241,0.7980962552551226,0.5099384295338028,0.6953264740395925,-0.050924092129710836,-0.6895188701915604,0.915616107381015,0.02037246592326186,-1.1576373722887503,-0.2887963256996219,0.4796209590156369,-1.2707481935591634,-1.0331744754868155,-1.6716818578114625,1.2795257614096645,-0.04397638767144347,-1.516411895677526,-0.5005577684774363,0.5504292610693635,0.5207414902462956,-1.0748864153982811,0.42032320246494,1.1925244880627393,-1.1332177751503012,-0.24171705755197975,0.1584254681040101,-0.32122177949433656,1.1041953084365854,0.08917121729266873,1.3853616467346457,-0.3212564324754563,-0.6905917343160966,-1.9487907074894022,-0.31918002995573874,1.0099101012017528,-0.23567285927983872,0.786843177647913,0.3801931489000957,0.06733360341928074,-0.4182380904879572,0.448230605012123,1.1428226019923269,-0.7008002812067107,-0.9528265960823682,0.16921409666104573,-0.2321189369103486,1.4067150981879595,-0.8996080725849857,-0.020364228761414607,-0.6051186814565923,-0.4542178787439367,0.8902985465091476,1.4360863024404278,0.6424637101068639,-0.24572297220482406,-1.144635878568656,-0.3104964171676207,-1.8442320270700612,-0.402890083735357,0.3096071207553138,-1.3247774875957332,-0.5749890046206451,-2.5623083464476264,2.0939381145938447,-1.4627844809059278,-1.04506207721916,-1.1635640272612695,0.8498142990554263,0.5790979612786291,-0.8035121129131575,0.6915682382008483,0.9887753358120481,0.5725170736416944,0.637381534075287,-1.2161750257605888,-0.7287165307989403,-0.5464232876632266,-0.3649806962939663,1.3472364069340996,1.3415149669927902,-0.7423986256356838,0.3235175537655451,0.01830620317089403,-0.21560964163712618,-0.6799803836072068,-1.4445582587569874,1.2488961247500823,0.06940321488678963,0.048331872198486114,-0.9251927212592852,-1.629426086050211,0.9752502823722285,1.2294186690010769]}],                        {\"legend\":{\"bgcolor\":\"#F5F6F9\",\"font\":{\"color\":\"#4D5663\"}},\"paper_bgcolor\":\"#F5F6F9\",\"plot_bgcolor\":\"#F5F6F9\",\"template\":{\"data\":{\"bar\":[{\"error_x\":{\"color\":\"#2a3f5f\"},\"error_y\":{\"color\":\"#2a3f5f\"},\"marker\":{\"line\":{\"color\":\"#E5ECF6\",\"width\":0.5},\"pattern\":{\"fillmode\":\"overlay\",\"size\":10,\"solidity\":0.2}},\"type\":\"bar\"}],\"barpolar\":[{\"marker\":{\"line\":{\"color\":\"#E5ECF6\",\"width\":0.5},\"pattern\":{\"fillmode\":\"overlay\",\"size\":10,\"solidity\":0.2}},\"type\":\"barpolar\"}],\"carpet\":[{\"aaxis\":{\"endlinecolor\":\"#2a3f5f\",\"gridcolor\":\"white\",\"linecolor\":\"white\",\"minorgridcolor\":\"white\",\"startlinecolor\":\"#2a3f5f\"},\"baxis\":{\"endlinecolor\":\"#2a3f5f\",\"gridcolor\":\"white\",\"linecolor\":\"white\",\"minorgridcolor\":\"white\",\"startlinecolor\":\"#2a3f5f\"},\"type\":\"carpet\"}],\"choropleth\":[{\"colorbar\":{\"outlinewidth\":0,\"ticks\":\"\"},\"type\":\"choropleth\"}],\"contour\":[{\"colorbar\":{\"outlinewidth\":0,\"ticks\":\"\"},\"colorscale\":[[0.0,\"#0d0887\"],[0.1111111111111111,\"#46039f\"],[0.2222222222222222,\"#7201a8\"],[0.3333333333333333,\"#9c179e\"],[0.4444444444444444,\"#bd3786\"],[0.5555555555555556,\"#d8576b\"],[0.6666666666666666,\"#ed7953\"],[0.7777777777777778,\"#fb9f3a\"],[0.8888888888888888,\"#fdca26\"],[1.0,\"#f0f921\"]],\"type\":\"contour\"}],\"contourcarpet\":[{\"colorbar\":{\"outlinewidth\":0,\"ticks\":\"\"},\"type\":\"contourcarpet\"}],\"heatmap\":[{\"colorbar\":{\"outlinewidth\":0,\"ticks\":\"\"},\"colorscale\":[[0.0,\"#0d0887\"],[0.1111111111111111,\"#46039f\"],[0.2222222222222222,\"#7201a8\"],[0.3333333333333333,\"#9c179e\"],[0.4444444444444444,\"#bd3786\"],[0.5555555555555556,\"#d8576b\"],[0.6666666666666666,\"#ed7953\"],[0.7777777777777778,\"#fb9f3a\"],[0.8888888888888888,\"#fdca26\"],[1.0,\"#f0f921\"]],\"type\":\"heatmap\"}],\"heatmapgl\":[{\"colorbar\":{\"outlinewidth\":0,\"ticks\":\"\"},\"colorscale\":[[0.0,\"#0d0887\"],[0.1111111111111111,\"#46039f\"],[0.2222222222222222,\"#7201a8\"],[0.3333333333333333,\"#9c179e\"],[0.4444444444444444,\"#bd3786\"],[0.5555555555555556,\"#d8576b\"],[0.6666666666666666,\"#ed7953\"],[0.7777777777777778,\"#fb9f3a\"],[0.8888888888888888,\"#fdca26\"],[1.0,\"#f0f921\"]],\"type\":\"heatmapgl\"}],\"histogram\":[{\"marker\":{\"pattern\":{\"fillmode\":\"overlay\",\"size\":10,\"solidity\":0.2}},\"type\":\"histogram\"}],\"histogram2d\":[{\"colorbar\":{\"outlinewidth\":0,\"ticks\":\"\"},\"colorscale\":[[0.0,\"#0d0887\"],[0.1111111111111111,\"#46039f\"],[0.2222222222222222,\"#7201a8\"],[0.3333333333333333,\"#9c179e\"],[0.4444444444444444,\"#bd3786\"],[0.5555555555555556,\"#d8576b\"],[0.6666666666666666,\"#ed7953\"],[0.7777777777777778,\"#fb9f3a\"],[0.8888888888888888,\"#fdca26\"],[1.0,\"#f0f921\"]],\"type\":\"histogram2d\"}],\"histogram2dcontour\":[{\"colorbar\":{\"outlinewidth\":0,\"ticks\":\"\"},\"colorscale\":[[0.0,\"#0d0887\"],[0.1111111111111111,\"#46039f\"],[0.2222222222222222,\"#7201a8\"],[0.3333333333333333,\"#9c179e\"],[0.4444444444444444,\"#bd3786\"],[0.5555555555555556,\"#d8576b\"],[0.6666666666666666,\"#ed7953\"],[0.7777777777777778,\"#fb9f3a\"],[0.8888888888888888,\"#fdca26\"],[1.0,\"#f0f921\"]],\"type\":\"histogram2dcontour\"}],\"mesh3d\":[{\"colorbar\":{\"outlinewidth\":0,\"ticks\":\"\"},\"type\":\"mesh3d\"}],\"parcoords\":[{\"line\":{\"colorbar\":{\"outlinewidth\":0,\"ticks\":\"\"}},\"type\":\"parcoords\"}],\"pie\":[{\"automargin\":true,\"type\":\"pie\"}],\"scatter\":[{\"marker\":{\"colorbar\":{\"outlinewidth\":0,\"ticks\":\"\"}},\"type\":\"scatter\"}],\"scatter3d\":[{\"line\":{\"colorbar\":{\"outlinewidth\":0,\"ticks\":\"\"}},\"marker\":{\"colorbar\":{\"outlinewidth\":0,\"ticks\":\"\"}},\"type\":\"scatter3d\"}],\"scattercarpet\":[{\"marker\":{\"colorbar\":{\"outlinewidth\":0,\"ticks\":\"\"}},\"type\":\"scattercarpet\"}],\"scattergeo\":[{\"marker\":{\"colorbar\":{\"outlinewidth\":0,\"ticks\":\"\"}},\"type\":\"scattergeo\"}],\"scattergl\":[{\"marker\":{\"colorbar\":{\"outlinewidth\":0,\"ticks\":\"\"}},\"type\":\"scattergl\"}],\"scattermapbox\":[{\"marker\":{\"colorbar\":{\"outlinewidth\":0,\"ticks\":\"\"}},\"type\":\"scattermapbox\"}],\"scatterpolar\":[{\"marker\":{\"colorbar\":{\"outlinewidth\":0,\"ticks\":\"\"}},\"type\":\"scatterpolar\"}],\"scatterpolargl\":[{\"marker\":{\"colorbar\":{\"outlinewidth\":0,\"ticks\":\"\"}},\"type\":\"scatterpolargl\"}],\"scatterternary\":[{\"marker\":{\"colorbar\":{\"outlinewidth\":0,\"ticks\":\"\"}},\"type\":\"scatterternary\"}],\"surface\":[{\"colorbar\":{\"outlinewidth\":0,\"ticks\":\"\"},\"colorscale\":[[0.0,\"#0d0887\"],[0.1111111111111111,\"#46039f\"],[0.2222222222222222,\"#7201a8\"],[0.3333333333333333,\"#9c179e\"],[0.4444444444444444,\"#bd3786\"],[0.5555555555555556,\"#d8576b\"],[0.6666666666666666,\"#ed7953\"],[0.7777777777777778,\"#fb9f3a\"],[0.8888888888888888,\"#fdca26\"],[1.0,\"#f0f921\"]],\"type\":\"surface\"}],\"table\":[{\"cells\":{\"fill\":{\"color\":\"#EBF0F8\"},\"line\":{\"color\":\"white\"}},\"header\":{\"fill\":{\"color\":\"#C8D4E3\"},\"line\":{\"color\":\"white\"}},\"type\":\"table\"}]},\"layout\":{\"annotationdefaults\":{\"arrowcolor\":\"#2a3f5f\",\"arrowhead\":0,\"arrowwidth\":1},\"autotypenumbers\":\"strict\",\"coloraxis\":{\"colorbar\":{\"outlinewidth\":0,\"ticks\":\"\"}},\"colorscale\":{\"diverging\":[[0,\"#8e0152\"],[0.1,\"#c51b7d\"],[0.2,\"#de77ae\"],[0.3,\"#f1b6da\"],[0.4,\"#fde0ef\"],[0.5,\"#f7f7f7\"],[0.6,\"#e6f5d0\"],[0.7,\"#b8e186\"],[0.8,\"#7fbc41\"],[0.9,\"#4d9221\"],[1,\"#276419\"]],\"sequential\":[[0.0,\"#0d0887\"],[0.1111111111111111,\"#46039f\"],[0.2222222222222222,\"#7201a8\"],[0.3333333333333333,\"#9c179e\"],[0.4444444444444444,\"#bd3786\"],[0.5555555555555556,\"#d8576b\"],[0.6666666666666666,\"#ed7953\"],[0.7777777777777778,\"#fb9f3a\"],[0.8888888888888888,\"#fdca26\"],[1.0,\"#f0f921\"]],\"sequentialminus\":[[0.0,\"#0d0887\"],[0.1111111111111111,\"#46039f\"],[0.2222222222222222,\"#7201a8\"],[0.3333333333333333,\"#9c179e\"],[0.4444444444444444,\"#bd3786\"],[0.5555555555555556,\"#d8576b\"],[0.6666666666666666,\"#ed7953\"],[0.7777777777777778,\"#fb9f3a\"],[0.8888888888888888,\"#fdca26\"],[1.0,\"#f0f921\"]]},\"colorway\":[\"#636efa\",\"#EF553B\",\"#00cc96\",\"#ab63fa\",\"#FFA15A\",\"#19d3f3\",\"#FF6692\",\"#B6E880\",\"#FF97FF\",\"#FECB52\"],\"font\":{\"color\":\"#2a3f5f\"},\"geo\":{\"bgcolor\":\"white\",\"lakecolor\":\"white\",\"landcolor\":\"#E5ECF6\",\"showlakes\":true,\"showland\":true,\"subunitcolor\":\"white\"},\"hoverlabel\":{\"align\":\"left\"},\"hovermode\":\"closest\",\"mapbox\":{\"style\":\"light\"},\"paper_bgcolor\":\"white\",\"plot_bgcolor\":\"#E5ECF6\",\"polar\":{\"angularaxis\":{\"gridcolor\":\"white\",\"linecolor\":\"white\",\"ticks\":\"\"},\"bgcolor\":\"#E5ECF6\",\"radialaxis\":{\"gridcolor\":\"white\",\"linecolor\":\"white\",\"ticks\":\"\"}},\"scene\":{\"xaxis\":{\"backgroundcolor\":\"#E5ECF6\",\"gridcolor\":\"white\",\"gridwidth\":2,\"linecolor\":\"white\",\"showbackground\":true,\"ticks\":\"\",\"zerolinecolor\":\"white\"},\"yaxis\":{\"backgroundcolor\":\"#E5ECF6\",\"gridcolor\":\"white\",\"gridwidth\":2,\"linecolor\":\"white\",\"showbackground\":true,\"ticks\":\"\",\"zerolinecolor\":\"white\"},\"zaxis\":{\"backgroundcolor\":\"#E5ECF6\",\"gridcolor\":\"white\",\"gridwidth\":2,\"linecolor\":\"white\",\"showbackground\":true,\"ticks\":\"\",\"zerolinecolor\":\"white\"}},\"shapedefaults\":{\"line\":{\"color\":\"#2a3f5f\"}},\"ternary\":{\"aaxis\":{\"gridcolor\":\"white\",\"linecolor\":\"white\",\"ticks\":\"\"},\"baxis\":{\"gridcolor\":\"white\",\"linecolor\":\"white\",\"ticks\":\"\"},\"bgcolor\":\"#E5ECF6\",\"caxis\":{\"gridcolor\":\"white\",\"linecolor\":\"white\",\"ticks\":\"\"}},\"title\":{\"x\":0.05},\"xaxis\":{\"automargin\":true,\"gridcolor\":\"white\",\"linecolor\":\"white\",\"ticks\":\"\",\"title\":{\"standoff\":15},\"zerolinecolor\":\"white\",\"zerolinewidth\":2},\"yaxis\":{\"automargin\":true,\"gridcolor\":\"white\",\"linecolor\":\"white\",\"ticks\":\"\",\"title\":{\"standoff\":15},\"zerolinecolor\":\"white\",\"zerolinewidth\":2}}},\"title\":{\"font\":{\"color\":\"#4D5663\"}},\"xaxis\":{\"gridcolor\":\"#E1E5ED\",\"showgrid\":true,\"tickfont\":{\"color\":\"#4D5663\"},\"title\":{\"font\":{\"color\":\"#4D5663\"},\"text\":\"\"},\"zerolinecolor\":\"#E1E5ED\"},\"yaxis\":{\"gridcolor\":\"#E1E5ED\",\"showgrid\":true,\"tickfont\":{\"color\":\"#4D5663\"},\"title\":{\"font\":{\"color\":\"#4D5663\"},\"text\":\"\"},\"zerolinecolor\":\"#E1E5ED\"}},                        {\"showLink\": true, \"linkText\": \"Export to plot.ly\", \"plotlyServerURL\": \"https://plot.ly\", \"responsive\": true}                    ).then(function(){\n",
       "                            \n",
       "var gd = document.getElementById('9442f58a-ae95-4b1e-911a-a8d1b12c0c9a');\n",
       "var x = new MutationObserver(function (mutations, observer) {{\n",
       "        var display = window.getComputedStyle(gd).display;\n",
       "        if (!display || display === 'none') {{\n",
       "            console.log([gd, 'removed!']);\n",
       "            Plotly.purge(gd);\n",
       "            observer.disconnect();\n",
       "        }}\n",
       "}});\n",
       "\n",
       "// Listen for the removal of the full notebook cells\n",
       "var notebookContainer = gd.closest('#notebook-container');\n",
       "if (notebookContainer) {{\n",
       "    x.observe(notebookContainer, {childList: true});\n",
       "}}\n",
       "\n",
       "// Listen for the clearing of the current output cell\n",
       "var outputEl = gd.closest('.output');\n",
       "if (outputEl) {{\n",
       "    x.observe(outputEl, {childList: true});\n",
       "}}\n",
       "\n",
       "                        })                };                });            </script>        </div>"
      ]
     },
     "metadata": {},
     "output_type": "display_data"
    }
   ],
   "source": [
    "df.iplot(kind='bubble',x='A',y='B',size='C')"
   ]
  },
  {
   "cell_type": "code",
   "execution_count": 24,
   "id": "83f1f93f",
   "metadata": {},
   "outputs": [
    {
     "data": {
      "application/vnd.plotly.v1+json": {
       "config": {
        "linkText": "Export to plot.ly",
        "plotlyServerURL": "https://plot.ly",
        "showLink": true
       },
       "data": [
        {
         "histfunc": "count",
         "histnorm": "",
         "marker": {
          "color": "rgba(255, 153, 51, 1.0)",
          "line": {
           "color": "#4D5663",
           "width": 1.3
          }
         },
         "name": "A",
         "nbinsx": 10,
         "opacity": 0.8,
         "orientation": "v",
         "type": "histogram",
         "x": [
          0.5816966956153499,
          0.12316386314759027,
          -0.22398171843685152,
          -0.8895932385975902,
          0.2752188676636905,
          -0.2043642311215671,
          0.3948123118583736,
          0.48645630871897805,
          1.5739071788301084,
          2.1488658396531037,
          -0.31708220249715474,
          -0.9711842754967692,
          1.2628175279667635,
          -1.1834028893365194,
          1.6944271259868855,
          -0.5931338474672299,
          0.0027807338470003007,
          -0.6818703057681064,
          0.6628178049410343,
          0.03540578774837641,
          0.732895635310974,
          -0.4275137954232451,
          1.320181769808673,
          -1.482472611175471,
          2.071582002661825,
          -0.01967219630635455,
          1.209423427603569,
          1.6610041759226586,
          -0.5453412431129742,
          0.3258745239218415,
          -0.27722164238155605,
          0.6478830076709254,
          0.9950648418037051,
          -0.48714277801385814,
          -0.4436228773791175,
          0.11702106920114262,
          -0.5740663577799426,
          2.002122515184173,
          0.014114137435172026,
          0.2517242524460662,
          -0.11235543580606286,
          0.5375253295601139,
          -0.5968833989130355,
          0.048054972651586265,
          -1.123202596891187,
          0.004196248013858794,
          0.661815828049052,
          -1.2980041274097809,
          0.3744164921338543,
          -0.17708144186725294,
          0.2076525777904713,
          -1.3025365058856804,
          -1.5590190180060983,
          0.6248400236247296,
          0.7911141185158476,
          -0.49037525611041033,
          1.2330545424386792,
          0.6709923076578755,
          -0.5331723733231042,
          0.10228037344181613,
          -0.1363508547845355,
          2.218762225844916,
          0.5446047848971652,
          -0.08107298699081342,
          0.585020407460338,
          0.7651851072247567,
          0.5140874559311198,
          -0.5527227666251414,
          0.328474992492661,
          1.7157964042871225,
          -0.4754802351708734,
          -0.2393856771841323,
          1.0401174604876424,
          1.4134185841189972,
          -0.665029001262137,
          -1.122798015523656,
          -0.5260727243464802,
          -2.6006280522817535,
          1.0467518800084306,
          0.39306453239966815,
          -0.33878690050097,
          -1.7677071848964492,
          0.23253039445027843,
          -0.6199365487060867,
          1.4471217025997936,
          -0.507721592541854,
          0.14885342347303643,
          0.5986738883632382,
          0.16912484206819606,
          0.9555600442980435,
          -1.0980989001705028,
          -0.020763816433263235,
          0.6062071067217284,
          -0.8319213017686466,
          1.0144730260507537,
          1.458043788509651,
          -1.4586298959821542,
          -1.3109773870068864,
          -1.9505596262167764,
          1.1103572219598006
         ],
         "xaxis": "x",
         "yaxis": "y"
        },
        {
         "line": {
          "color": "rgba(128, 128, 128, 1.0)",
          "dash": "solid",
          "shape": "linear",
          "width": 1.3
         },
         "marker": {
          "size": 2,
          "symbol": "circle"
         },
         "mode": "markers",
         "name": "A",
         "text": "",
         "type": "scatter",
         "x": [
          -0.5696383137081489,
          1.1351734827535165,
          0.9152001917611036,
          -0.00844155094580938,
          -0.06258170188690283,
          -1.397960774408616,
          0.3435980433431662,
          1.9771984759663241,
          0.7980962552551226,
          0.5099384295338028,
          0.6953264740395925,
          -0.050924092129710836,
          -0.6895188701915604,
          0.915616107381015,
          0.02037246592326186,
          -1.1576373722887503,
          -0.2887963256996219,
          0.4796209590156369,
          -1.2707481935591634,
          -1.0331744754868155,
          -1.6716818578114625,
          1.2795257614096645,
          -0.04397638767144347,
          -1.516411895677526,
          -0.5005577684774363,
          0.5504292610693635,
          0.5207414902462956,
          -1.0748864153982811,
          0.42032320246494,
          1.1925244880627393,
          -1.1332177751503012,
          -0.24171705755197975,
          0.1584254681040101,
          -0.32122177949433656,
          1.1041953084365854,
          0.08917121729266873,
          1.3853616467346457,
          -0.3212564324754563,
          -0.6905917343160966,
          -1.9487907074894022,
          -0.31918002995573874,
          1.0099101012017528,
          -0.23567285927983872,
          0.786843177647913,
          0.3801931489000957,
          0.06733360341928074,
          -0.4182380904879572,
          0.448230605012123,
          1.1428226019923269,
          -0.7008002812067107,
          -0.9528265960823682,
          0.16921409666104573,
          -0.2321189369103486,
          1.4067150981879595,
          -0.8996080725849857,
          -0.020364228761414607,
          -0.6051186814565923,
          -0.4542178787439367,
          0.8902985465091476,
          1.4360863024404278,
          0.6424637101068639,
          -0.24572297220482406,
          -1.144635878568656,
          -0.3104964171676207,
          -1.8442320270700612,
          -0.402890083735357,
          0.3096071207553138,
          -1.3247774875957332,
          -0.5749890046206451,
          -2.5623083464476264,
          2.0939381145938447,
          -1.4627844809059278,
          -1.04506207721916,
          -1.1635640272612695,
          0.8498142990554263,
          0.5790979612786291,
          -0.8035121129131575,
          0.6915682382008483,
          0.9887753358120481,
          0.5725170736416944,
          0.637381534075287,
          -1.2161750257605888,
          -0.7287165307989403,
          -0.5464232876632266,
          -0.3649806962939663,
          1.3472364069340996,
          1.3415149669927902,
          -0.7423986256356838,
          0.3235175537655451,
          0.01830620317089403,
          -0.21560964163712618,
          -0.6799803836072068,
          -1.4445582587569874,
          1.2488961247500823,
          0.06940321488678963,
          0.048331872198486114,
          -0.9251927212592852,
          -1.629426086050211,
          0.9752502823722285,
          1.2294186690010769
         ],
         "xaxis": "x2",
         "y": [
          0.5816966956153499,
          0.12316386314759027,
          -0.22398171843685152,
          -0.8895932385975902,
          0.2752188676636905,
          -0.2043642311215671,
          0.3948123118583736,
          0.48645630871897805,
          1.5739071788301084,
          2.1488658396531037,
          -0.31708220249715474,
          -0.9711842754967692,
          1.2628175279667635,
          -1.1834028893365194,
          1.6944271259868855,
          -0.5931338474672299,
          0.0027807338470003007,
          -0.6818703057681064,
          0.6628178049410343,
          0.03540578774837641,
          0.732895635310974,
          -0.4275137954232451,
          1.320181769808673,
          -1.482472611175471,
          2.071582002661825,
          -0.01967219630635455,
          1.209423427603569,
          1.6610041759226586,
          -0.5453412431129742,
          0.3258745239218415,
          -0.27722164238155605,
          0.6478830076709254,
          0.9950648418037051,
          -0.48714277801385814,
          -0.4436228773791175,
          0.11702106920114262,
          -0.5740663577799426,
          2.002122515184173,
          0.014114137435172026,
          0.2517242524460662,
          -0.11235543580606286,
          0.5375253295601139,
          -0.5968833989130355,
          0.048054972651586265,
          -1.123202596891187,
          0.004196248013858794,
          0.661815828049052,
          -1.2980041274097809,
          0.3744164921338543,
          -0.17708144186725294,
          0.2076525777904713,
          -1.3025365058856804,
          -1.5590190180060983,
          0.6248400236247296,
          0.7911141185158476,
          -0.49037525611041033,
          1.2330545424386792,
          0.6709923076578755,
          -0.5331723733231042,
          0.10228037344181613,
          -0.1363508547845355,
          2.218762225844916,
          0.5446047848971652,
          -0.08107298699081342,
          0.585020407460338,
          0.7651851072247567,
          0.5140874559311198,
          -0.5527227666251414,
          0.328474992492661,
          1.7157964042871225,
          -0.4754802351708734,
          -0.2393856771841323,
          1.0401174604876424,
          1.4134185841189972,
          -0.665029001262137,
          -1.122798015523656,
          -0.5260727243464802,
          -2.6006280522817535,
          1.0467518800084306,
          0.39306453239966815,
          -0.33878690050097,
          -1.7677071848964492,
          0.23253039445027843,
          -0.6199365487060867,
          1.4471217025997936,
          -0.507721592541854,
          0.14885342347303643,
          0.5986738883632382,
          0.16912484206819606,
          0.9555600442980435,
          -1.0980989001705028,
          -0.020763816433263235,
          0.6062071067217284,
          -0.8319213017686466,
          1.0144730260507537,
          1.458043788509651,
          -1.4586298959821542,
          -1.3109773870068864,
          -1.9505596262167764,
          1.1103572219598006
         ],
         "yaxis": "y2"
        },
        {
         "line": {
          "color": "rgba(128, 128, 128, 1.0)",
          "dash": "solid",
          "shape": "linear",
          "width": 1.3
         },
         "marker": {
          "size": 2,
          "symbol": "circle"
         },
         "mode": "markers",
         "name": "A",
         "text": "",
         "type": "scatter",
         "x": [
          -0.9459269174913192,
          0.19531141693783344,
          1.4303855991401946,
          0.036674790720557564,
          1.6326923785449838,
          0.8286045871157671,
          -0.6481868351097086,
          3.3916658927148924,
          -0.23154384282744422,
          1.5359424592188011,
          1.1935684228941061,
          1.8027797241776358,
          -1.3029711071589536,
          0.6983580159031979,
          1.9470600799832063,
          -0.6548101823073411,
          -0.20805691104366308,
          -1.8460005945299778,
          1.4626668472159017,
          1.4763952429913119,
          1.9210846711053138,
          1.3076687985375077,
          -3.2567661905590604,
          -1.6612107230619586,
          0.4176057096249829,
          0.42061951190981944,
          0.3596651067545893,
          0.13694467232436985,
          -1.7151734572271393,
          0.06338432905322991,
          0.7063361662070474,
          0.20968216768990333,
          -0.6271829105879608,
          -1.2140464658425827,
          -0.3380145286294853,
          1.0503729545565748,
          0.2972746289819503,
          0.46453433038728964,
          -0.6709599609392913,
          0.9079049774175922,
          0.6509528929577602,
          -0.4288704871701461,
          -0.1354137935065262,
          -0.8781446182484274,
          -0.009118936141923863,
          -1.5394821485082721,
          0.9988622250327465,
          0.8626156053102499,
          -0.4094858426901262,
          0.4761067946376451,
          -1.6897324420533706,
          -0.3587935380254397,
          -0.14877969735308644,
          0.06727214872836712,
          -1.0734949787033488,
          -2.7726853944714307,
          0.10491033862417087,
          0.5641612600718001,
          0.7236960155113175,
          -0.7038408668181785,
          0.8495952534911181,
          -1.1830462402811586,
          1.0021146824749858,
          1.1107368011471532,
          -0.3389152218254186,
          -0.439484812022148,
          1.066756487029043,
          -0.4005847537123203,
          0.6319762725044623,
          -0.5380413734209953,
          -0.08738794666023814,
          -1.8254551843999103,
          1.0175681484172752,
          0.0021127376077187962,
          -0.7705028546186218,
          0.06631526524759794,
          -0.5352360753763258,
          -1.4559255362244732,
          0.6814927595357511,
          0.5107840539439649,
          0.9796316487643698,
          -0.21905463173170495,
          0.08921105080631453,
          -0.08792361706888079,
          -0.41923618756050757,
          -0.4981415546229659,
          -0.07847535524500188,
          -0.24018071690368933,
          -0.38239795722451453,
          -0.2418035596682951,
          0.3031425898032398,
          1.1414566305423526,
          0.5448674055655569,
          -0.7664703552982213,
          -0.1575366576650068,
          1.3916397672612317,
          0.8310050728738548,
          -0.014191793254025784,
          -0.36244587664514816,
          -1.6348859125657678
         ],
         "xaxis": "x3",
         "y": [
          0.5816966956153499,
          0.12316386314759027,
          -0.22398171843685152,
          -0.8895932385975902,
          0.2752188676636905,
          -0.2043642311215671,
          0.3948123118583736,
          0.48645630871897805,
          1.5739071788301084,
          2.1488658396531037,
          -0.31708220249715474,
          -0.9711842754967692,
          1.2628175279667635,
          -1.1834028893365194,
          1.6944271259868855,
          -0.5931338474672299,
          0.0027807338470003007,
          -0.6818703057681064,
          0.6628178049410343,
          0.03540578774837641,
          0.732895635310974,
          -0.4275137954232451,
          1.320181769808673,
          -1.482472611175471,
          2.071582002661825,
          -0.01967219630635455,
          1.209423427603569,
          1.6610041759226586,
          -0.5453412431129742,
          0.3258745239218415,
          -0.27722164238155605,
          0.6478830076709254,
          0.9950648418037051,
          -0.48714277801385814,
          -0.4436228773791175,
          0.11702106920114262,
          -0.5740663577799426,
          2.002122515184173,
          0.014114137435172026,
          0.2517242524460662,
          -0.11235543580606286,
          0.5375253295601139,
          -0.5968833989130355,
          0.048054972651586265,
          -1.123202596891187,
          0.004196248013858794,
          0.661815828049052,
          -1.2980041274097809,
          0.3744164921338543,
          -0.17708144186725294,
          0.2076525777904713,
          -1.3025365058856804,
          -1.5590190180060983,
          0.6248400236247296,
          0.7911141185158476,
          -0.49037525611041033,
          1.2330545424386792,
          0.6709923076578755,
          -0.5331723733231042,
          0.10228037344181613,
          -0.1363508547845355,
          2.218762225844916,
          0.5446047848971652,
          -0.08107298699081342,
          0.585020407460338,
          0.7651851072247567,
          0.5140874559311198,
          -0.5527227666251414,
          0.328474992492661,
          1.7157964042871225,
          -0.4754802351708734,
          -0.2393856771841323,
          1.0401174604876424,
          1.4134185841189972,
          -0.665029001262137,
          -1.122798015523656,
          -0.5260727243464802,
          -2.6006280522817535,
          1.0467518800084306,
          0.39306453239966815,
          -0.33878690050097,
          -1.7677071848964492,
          0.23253039445027843,
          -0.6199365487060867,
          1.4471217025997936,
          -0.507721592541854,
          0.14885342347303643,
          0.5986738883632382,
          0.16912484206819606,
          0.9555600442980435,
          -1.0980989001705028,
          -0.020763816433263235,
          0.6062071067217284,
          -0.8319213017686466,
          1.0144730260507537,
          1.458043788509651,
          -1.4586298959821542,
          -1.3109773870068864,
          -1.9505596262167764,
          1.1103572219598006
         ],
         "yaxis": "y3"
        },
        {
         "line": {
          "color": "rgba(128, 128, 128, 1.0)",
          "dash": "solid",
          "shape": "linear",
          "width": 1.3
         },
         "marker": {
          "size": 2,
          "symbol": "circle"
         },
         "mode": "markers",
         "name": "A",
         "text": "",
         "type": "scatter",
         "x": [
          -0.6404112315622998,
          -1.2036166043389107,
          -0.26545321366944863,
          0.7346333548884144,
          0.48078680404730695,
          0.05422684339380275,
          -0.49966150321409286,
          -0.35421347019870486,
          1.881331476859132,
          0.3899522754142814,
          0.5089092271950661,
          -0.4032942201657905,
          0.07509589705458175,
          -1.0001523874809641,
          0.10058576147252309,
          1.2503359025341199,
          -0.12222233531902106,
          -0.6465947472710554,
          -0.12102373860354199,
          1.665760652611896,
          -0.2704779995377056,
          2.7099032561846235,
          -0.5606662929085504,
          -0.09189593830619185,
          1.4596458096663016,
          0.34168443118914005,
          1.0223679905549665,
          -0.7959115689503029,
          0.7135511703827034,
          0.9339507623391351,
          -0.7763600497771335,
          -0.4428577184276622,
          -0.36086435401975436,
          -0.8091761978141375,
          -1.0720939193957855,
          0.5162018883739438,
          -0.4526279649763703,
          -1.1575681014160044,
          2.0649448666751122,
          -0.5682142945678975,
          0.39511361457906574,
          -1.2871589804042116,
          -1.1509207007891296,
          1.1421519425253968,
          -1.9671813198861308,
          0.6666827149967166,
          0.030219767601846796,
          -0.6717614488644225,
          -1.2777657582111945,
          -0.818040739168885,
          -0.9472672580307068,
          -1.7094306873751057,
          0.08823247868522535,
          -0.9713362783218384,
          1.1909251302165311,
          -1.5864277368053585,
          0.4210433879345378,
          -0.3332088572440201,
          -0.36518229798656426,
          0.7741998285990774,
          0.6258155206891973,
          0.27965045998007354,
          0.1623426593318974,
          0.3959902901434726,
          -0.07276839066216864,
          -0.5437140184421474,
          -1.5510141706342768,
          -0.9788360115750212,
          -0.27512689218037645,
          -2.3290172771902546,
          0.5146476121090945,
          1.8018496176990066,
          -0.07522691689864641,
          -0.0494554751985565,
          -0.5338208431440795,
          -0.17314822539444757,
          0.572036276345299,
          -1.0268114660962206,
          0.3582853193530316,
          2.4797019419531336,
          1.5630706985459852,
          -2.785988498132636,
          -0.27813328931761233,
          0.43565577181550663,
          0.3839286453496348,
          0.4990716288796377,
          0.02251828966155011,
          -0.8605405050647003,
          -1.2100661503805077,
          0.8513389533495609,
          -0.41069095401466305,
          0.007956605216103913,
          -0.16919967565153948,
          0.6346036555422729,
          0.8707563302648257,
          -0.22978488676347006,
          -2.2561068330466374,
          1.2677174057067335,
          -0.3616913694520314,
          -0.5220391770856552
         ],
         "xaxis": "x4",
         "y": [
          0.5816966956153499,
          0.12316386314759027,
          -0.22398171843685152,
          -0.8895932385975902,
          0.2752188676636905,
          -0.2043642311215671,
          0.3948123118583736,
          0.48645630871897805,
          1.5739071788301084,
          2.1488658396531037,
          -0.31708220249715474,
          -0.9711842754967692,
          1.2628175279667635,
          -1.1834028893365194,
          1.6944271259868855,
          -0.5931338474672299,
          0.0027807338470003007,
          -0.6818703057681064,
          0.6628178049410343,
          0.03540578774837641,
          0.732895635310974,
          -0.4275137954232451,
          1.320181769808673,
          -1.482472611175471,
          2.071582002661825,
          -0.01967219630635455,
          1.209423427603569,
          1.6610041759226586,
          -0.5453412431129742,
          0.3258745239218415,
          -0.27722164238155605,
          0.6478830076709254,
          0.9950648418037051,
          -0.48714277801385814,
          -0.4436228773791175,
          0.11702106920114262,
          -0.5740663577799426,
          2.002122515184173,
          0.014114137435172026,
          0.2517242524460662,
          -0.11235543580606286,
          0.5375253295601139,
          -0.5968833989130355,
          0.048054972651586265,
          -1.123202596891187,
          0.004196248013858794,
          0.661815828049052,
          -1.2980041274097809,
          0.3744164921338543,
          -0.17708144186725294,
          0.2076525777904713,
          -1.3025365058856804,
          -1.5590190180060983,
          0.6248400236247296,
          0.7911141185158476,
          -0.49037525611041033,
          1.2330545424386792,
          0.6709923076578755,
          -0.5331723733231042,
          0.10228037344181613,
          -0.1363508547845355,
          2.218762225844916,
          0.5446047848971652,
          -0.08107298699081342,
          0.585020407460338,
          0.7651851072247567,
          0.5140874559311198,
          -0.5527227666251414,
          0.328474992492661,
          1.7157964042871225,
          -0.4754802351708734,
          -0.2393856771841323,
          1.0401174604876424,
          1.4134185841189972,
          -0.665029001262137,
          -1.122798015523656,
          -0.5260727243464802,
          -2.6006280522817535,
          1.0467518800084306,
          0.39306453239966815,
          -0.33878690050097,
          -1.7677071848964492,
          0.23253039445027843,
          -0.6199365487060867,
          1.4471217025997936,
          -0.507721592541854,
          0.14885342347303643,
          0.5986738883632382,
          0.16912484206819606,
          0.9555600442980435,
          -1.0980989001705028,
          -0.020763816433263235,
          0.6062071067217284,
          -0.8319213017686466,
          1.0144730260507537,
          1.458043788509651,
          -1.4586298959821542,
          -1.3109773870068864,
          -1.9505596262167764,
          1.1103572219598006
         ],
         "yaxis": "y4"
        },
        {
         "line": {
          "color": "rgba(128, 128, 128, 1.0)",
          "dash": "solid",
          "shape": "linear",
          "width": 1.3
         },
         "marker": {
          "size": 2,
          "symbol": "circle"
         },
         "mode": "markers",
         "name": "B",
         "text": "",
         "type": "scatter",
         "x": [
          0.5816966956153499,
          0.12316386314759027,
          -0.22398171843685152,
          -0.8895932385975902,
          0.2752188676636905,
          -0.2043642311215671,
          0.3948123118583736,
          0.48645630871897805,
          1.5739071788301084,
          2.1488658396531037,
          -0.31708220249715474,
          -0.9711842754967692,
          1.2628175279667635,
          -1.1834028893365194,
          1.6944271259868855,
          -0.5931338474672299,
          0.0027807338470003007,
          -0.6818703057681064,
          0.6628178049410343,
          0.03540578774837641,
          0.732895635310974,
          -0.4275137954232451,
          1.320181769808673,
          -1.482472611175471,
          2.071582002661825,
          -0.01967219630635455,
          1.209423427603569,
          1.6610041759226586,
          -0.5453412431129742,
          0.3258745239218415,
          -0.27722164238155605,
          0.6478830076709254,
          0.9950648418037051,
          -0.48714277801385814,
          -0.4436228773791175,
          0.11702106920114262,
          -0.5740663577799426,
          2.002122515184173,
          0.014114137435172026,
          0.2517242524460662,
          -0.11235543580606286,
          0.5375253295601139,
          -0.5968833989130355,
          0.048054972651586265,
          -1.123202596891187,
          0.004196248013858794,
          0.661815828049052,
          -1.2980041274097809,
          0.3744164921338543,
          -0.17708144186725294,
          0.2076525777904713,
          -1.3025365058856804,
          -1.5590190180060983,
          0.6248400236247296,
          0.7911141185158476,
          -0.49037525611041033,
          1.2330545424386792,
          0.6709923076578755,
          -0.5331723733231042,
          0.10228037344181613,
          -0.1363508547845355,
          2.218762225844916,
          0.5446047848971652,
          -0.08107298699081342,
          0.585020407460338,
          0.7651851072247567,
          0.5140874559311198,
          -0.5527227666251414,
          0.328474992492661,
          1.7157964042871225,
          -0.4754802351708734,
          -0.2393856771841323,
          1.0401174604876424,
          1.4134185841189972,
          -0.665029001262137,
          -1.122798015523656,
          -0.5260727243464802,
          -2.6006280522817535,
          1.0467518800084306,
          0.39306453239966815,
          -0.33878690050097,
          -1.7677071848964492,
          0.23253039445027843,
          -0.6199365487060867,
          1.4471217025997936,
          -0.507721592541854,
          0.14885342347303643,
          0.5986738883632382,
          0.16912484206819606,
          0.9555600442980435,
          -1.0980989001705028,
          -0.020763816433263235,
          0.6062071067217284,
          -0.8319213017686466,
          1.0144730260507537,
          1.458043788509651,
          -1.4586298959821542,
          -1.3109773870068864,
          -1.9505596262167764,
          1.1103572219598006
         ],
         "xaxis": "x5",
         "y": [
          -0.5696383137081489,
          1.1351734827535165,
          0.9152001917611036,
          -0.00844155094580938,
          -0.06258170188690283,
          -1.397960774408616,
          0.3435980433431662,
          1.9771984759663241,
          0.7980962552551226,
          0.5099384295338028,
          0.6953264740395925,
          -0.050924092129710836,
          -0.6895188701915604,
          0.915616107381015,
          0.02037246592326186,
          -1.1576373722887503,
          -0.2887963256996219,
          0.4796209590156369,
          -1.2707481935591634,
          -1.0331744754868155,
          -1.6716818578114625,
          1.2795257614096645,
          -0.04397638767144347,
          -1.516411895677526,
          -0.5005577684774363,
          0.5504292610693635,
          0.5207414902462956,
          -1.0748864153982811,
          0.42032320246494,
          1.1925244880627393,
          -1.1332177751503012,
          -0.24171705755197975,
          0.1584254681040101,
          -0.32122177949433656,
          1.1041953084365854,
          0.08917121729266873,
          1.3853616467346457,
          -0.3212564324754563,
          -0.6905917343160966,
          -1.9487907074894022,
          -0.31918002995573874,
          1.0099101012017528,
          -0.23567285927983872,
          0.786843177647913,
          0.3801931489000957,
          0.06733360341928074,
          -0.4182380904879572,
          0.448230605012123,
          1.1428226019923269,
          -0.7008002812067107,
          -0.9528265960823682,
          0.16921409666104573,
          -0.2321189369103486,
          1.4067150981879595,
          -0.8996080725849857,
          -0.020364228761414607,
          -0.6051186814565923,
          -0.4542178787439367,
          0.8902985465091476,
          1.4360863024404278,
          0.6424637101068639,
          -0.24572297220482406,
          -1.144635878568656,
          -0.3104964171676207,
          -1.8442320270700612,
          -0.402890083735357,
          0.3096071207553138,
          -1.3247774875957332,
          -0.5749890046206451,
          -2.5623083464476264,
          2.0939381145938447,
          -1.4627844809059278,
          -1.04506207721916,
          -1.1635640272612695,
          0.8498142990554263,
          0.5790979612786291,
          -0.8035121129131575,
          0.6915682382008483,
          0.9887753358120481,
          0.5725170736416944,
          0.637381534075287,
          -1.2161750257605888,
          -0.7287165307989403,
          -0.5464232876632266,
          -0.3649806962939663,
          1.3472364069340996,
          1.3415149669927902,
          -0.7423986256356838,
          0.3235175537655451,
          0.01830620317089403,
          -0.21560964163712618,
          -0.6799803836072068,
          -1.4445582587569874,
          1.2488961247500823,
          0.06940321488678963,
          0.048331872198486114,
          -0.9251927212592852,
          -1.629426086050211,
          0.9752502823722285,
          1.2294186690010769
         ],
         "yaxis": "y5"
        },
        {
         "histfunc": "count",
         "histnorm": "",
         "marker": {
          "color": "rgba(55, 128, 191, 1.0)",
          "line": {
           "color": "#4D5663",
           "width": 1.3
          }
         },
         "name": "B",
         "nbinsx": 10,
         "opacity": 0.8,
         "orientation": "v",
         "type": "histogram",
         "x": [
          -0.5696383137081489,
          1.1351734827535165,
          0.9152001917611036,
          -0.00844155094580938,
          -0.06258170188690283,
          -1.397960774408616,
          0.3435980433431662,
          1.9771984759663241,
          0.7980962552551226,
          0.5099384295338028,
          0.6953264740395925,
          -0.050924092129710836,
          -0.6895188701915604,
          0.915616107381015,
          0.02037246592326186,
          -1.1576373722887503,
          -0.2887963256996219,
          0.4796209590156369,
          -1.2707481935591634,
          -1.0331744754868155,
          -1.6716818578114625,
          1.2795257614096645,
          -0.04397638767144347,
          -1.516411895677526,
          -0.5005577684774363,
          0.5504292610693635,
          0.5207414902462956,
          -1.0748864153982811,
          0.42032320246494,
          1.1925244880627393,
          -1.1332177751503012,
          -0.24171705755197975,
          0.1584254681040101,
          -0.32122177949433656,
          1.1041953084365854,
          0.08917121729266873,
          1.3853616467346457,
          -0.3212564324754563,
          -0.6905917343160966,
          -1.9487907074894022,
          -0.31918002995573874,
          1.0099101012017528,
          -0.23567285927983872,
          0.786843177647913,
          0.3801931489000957,
          0.06733360341928074,
          -0.4182380904879572,
          0.448230605012123,
          1.1428226019923269,
          -0.7008002812067107,
          -0.9528265960823682,
          0.16921409666104573,
          -0.2321189369103486,
          1.4067150981879595,
          -0.8996080725849857,
          -0.020364228761414607,
          -0.6051186814565923,
          -0.4542178787439367,
          0.8902985465091476,
          1.4360863024404278,
          0.6424637101068639,
          -0.24572297220482406,
          -1.144635878568656,
          -0.3104964171676207,
          -1.8442320270700612,
          -0.402890083735357,
          0.3096071207553138,
          -1.3247774875957332,
          -0.5749890046206451,
          -2.5623083464476264,
          2.0939381145938447,
          -1.4627844809059278,
          -1.04506207721916,
          -1.1635640272612695,
          0.8498142990554263,
          0.5790979612786291,
          -0.8035121129131575,
          0.6915682382008483,
          0.9887753358120481,
          0.5725170736416944,
          0.637381534075287,
          -1.2161750257605888,
          -0.7287165307989403,
          -0.5464232876632266,
          -0.3649806962939663,
          1.3472364069340996,
          1.3415149669927902,
          -0.7423986256356838,
          0.3235175537655451,
          0.01830620317089403,
          -0.21560964163712618,
          -0.6799803836072068,
          -1.4445582587569874,
          1.2488961247500823,
          0.06940321488678963,
          0.048331872198486114,
          -0.9251927212592852,
          -1.629426086050211,
          0.9752502823722285,
          1.2294186690010769
         ],
         "xaxis": "x6",
         "yaxis": "y6"
        },
        {
         "line": {
          "color": "rgba(128, 128, 128, 1.0)",
          "dash": "solid",
          "shape": "linear",
          "width": 1.3
         },
         "marker": {
          "size": 2,
          "symbol": "circle"
         },
         "mode": "markers",
         "name": "B",
         "text": "",
         "type": "scatter",
         "x": [
          -0.9459269174913192,
          0.19531141693783344,
          1.4303855991401946,
          0.036674790720557564,
          1.6326923785449838,
          0.8286045871157671,
          -0.6481868351097086,
          3.3916658927148924,
          -0.23154384282744422,
          1.5359424592188011,
          1.1935684228941061,
          1.8027797241776358,
          -1.3029711071589536,
          0.6983580159031979,
          1.9470600799832063,
          -0.6548101823073411,
          -0.20805691104366308,
          -1.8460005945299778,
          1.4626668472159017,
          1.4763952429913119,
          1.9210846711053138,
          1.3076687985375077,
          -3.2567661905590604,
          -1.6612107230619586,
          0.4176057096249829,
          0.42061951190981944,
          0.3596651067545893,
          0.13694467232436985,
          -1.7151734572271393,
          0.06338432905322991,
          0.7063361662070474,
          0.20968216768990333,
          -0.6271829105879608,
          -1.2140464658425827,
          -0.3380145286294853,
          1.0503729545565748,
          0.2972746289819503,
          0.46453433038728964,
          -0.6709599609392913,
          0.9079049774175922,
          0.6509528929577602,
          -0.4288704871701461,
          -0.1354137935065262,
          -0.8781446182484274,
          -0.009118936141923863,
          -1.5394821485082721,
          0.9988622250327465,
          0.8626156053102499,
          -0.4094858426901262,
          0.4761067946376451,
          -1.6897324420533706,
          -0.3587935380254397,
          -0.14877969735308644,
          0.06727214872836712,
          -1.0734949787033488,
          -2.7726853944714307,
          0.10491033862417087,
          0.5641612600718001,
          0.7236960155113175,
          -0.7038408668181785,
          0.8495952534911181,
          -1.1830462402811586,
          1.0021146824749858,
          1.1107368011471532,
          -0.3389152218254186,
          -0.439484812022148,
          1.066756487029043,
          -0.4005847537123203,
          0.6319762725044623,
          -0.5380413734209953,
          -0.08738794666023814,
          -1.8254551843999103,
          1.0175681484172752,
          0.0021127376077187962,
          -0.7705028546186218,
          0.06631526524759794,
          -0.5352360753763258,
          -1.4559255362244732,
          0.6814927595357511,
          0.5107840539439649,
          0.9796316487643698,
          -0.21905463173170495,
          0.08921105080631453,
          -0.08792361706888079,
          -0.41923618756050757,
          -0.4981415546229659,
          -0.07847535524500188,
          -0.24018071690368933,
          -0.38239795722451453,
          -0.2418035596682951,
          0.3031425898032398,
          1.1414566305423526,
          0.5448674055655569,
          -0.7664703552982213,
          -0.1575366576650068,
          1.3916397672612317,
          0.8310050728738548,
          -0.014191793254025784,
          -0.36244587664514816,
          -1.6348859125657678
         ],
         "xaxis": "x7",
         "y": [
          -0.5696383137081489,
          1.1351734827535165,
          0.9152001917611036,
          -0.00844155094580938,
          -0.06258170188690283,
          -1.397960774408616,
          0.3435980433431662,
          1.9771984759663241,
          0.7980962552551226,
          0.5099384295338028,
          0.6953264740395925,
          -0.050924092129710836,
          -0.6895188701915604,
          0.915616107381015,
          0.02037246592326186,
          -1.1576373722887503,
          -0.2887963256996219,
          0.4796209590156369,
          -1.2707481935591634,
          -1.0331744754868155,
          -1.6716818578114625,
          1.2795257614096645,
          -0.04397638767144347,
          -1.516411895677526,
          -0.5005577684774363,
          0.5504292610693635,
          0.5207414902462956,
          -1.0748864153982811,
          0.42032320246494,
          1.1925244880627393,
          -1.1332177751503012,
          -0.24171705755197975,
          0.1584254681040101,
          -0.32122177949433656,
          1.1041953084365854,
          0.08917121729266873,
          1.3853616467346457,
          -0.3212564324754563,
          -0.6905917343160966,
          -1.9487907074894022,
          -0.31918002995573874,
          1.0099101012017528,
          -0.23567285927983872,
          0.786843177647913,
          0.3801931489000957,
          0.06733360341928074,
          -0.4182380904879572,
          0.448230605012123,
          1.1428226019923269,
          -0.7008002812067107,
          -0.9528265960823682,
          0.16921409666104573,
          -0.2321189369103486,
          1.4067150981879595,
          -0.8996080725849857,
          -0.020364228761414607,
          -0.6051186814565923,
          -0.4542178787439367,
          0.8902985465091476,
          1.4360863024404278,
          0.6424637101068639,
          -0.24572297220482406,
          -1.144635878568656,
          -0.3104964171676207,
          -1.8442320270700612,
          -0.402890083735357,
          0.3096071207553138,
          -1.3247774875957332,
          -0.5749890046206451,
          -2.5623083464476264,
          2.0939381145938447,
          -1.4627844809059278,
          -1.04506207721916,
          -1.1635640272612695,
          0.8498142990554263,
          0.5790979612786291,
          -0.8035121129131575,
          0.6915682382008483,
          0.9887753358120481,
          0.5725170736416944,
          0.637381534075287,
          -1.2161750257605888,
          -0.7287165307989403,
          -0.5464232876632266,
          -0.3649806962939663,
          1.3472364069340996,
          1.3415149669927902,
          -0.7423986256356838,
          0.3235175537655451,
          0.01830620317089403,
          -0.21560964163712618,
          -0.6799803836072068,
          -1.4445582587569874,
          1.2488961247500823,
          0.06940321488678963,
          0.048331872198486114,
          -0.9251927212592852,
          -1.629426086050211,
          0.9752502823722285,
          1.2294186690010769
         ],
         "yaxis": "y7"
        },
        {
         "line": {
          "color": "rgba(128, 128, 128, 1.0)",
          "dash": "solid",
          "shape": "linear",
          "width": 1.3
         },
         "marker": {
          "size": 2,
          "symbol": "circle"
         },
         "mode": "markers",
         "name": "B",
         "text": "",
         "type": "scatter",
         "x": [
          -0.6404112315622998,
          -1.2036166043389107,
          -0.26545321366944863,
          0.7346333548884144,
          0.48078680404730695,
          0.05422684339380275,
          -0.49966150321409286,
          -0.35421347019870486,
          1.881331476859132,
          0.3899522754142814,
          0.5089092271950661,
          -0.4032942201657905,
          0.07509589705458175,
          -1.0001523874809641,
          0.10058576147252309,
          1.2503359025341199,
          -0.12222233531902106,
          -0.6465947472710554,
          -0.12102373860354199,
          1.665760652611896,
          -0.2704779995377056,
          2.7099032561846235,
          -0.5606662929085504,
          -0.09189593830619185,
          1.4596458096663016,
          0.34168443118914005,
          1.0223679905549665,
          -0.7959115689503029,
          0.7135511703827034,
          0.9339507623391351,
          -0.7763600497771335,
          -0.4428577184276622,
          -0.36086435401975436,
          -0.8091761978141375,
          -1.0720939193957855,
          0.5162018883739438,
          -0.4526279649763703,
          -1.1575681014160044,
          2.0649448666751122,
          -0.5682142945678975,
          0.39511361457906574,
          -1.2871589804042116,
          -1.1509207007891296,
          1.1421519425253968,
          -1.9671813198861308,
          0.6666827149967166,
          0.030219767601846796,
          -0.6717614488644225,
          -1.2777657582111945,
          -0.818040739168885,
          -0.9472672580307068,
          -1.7094306873751057,
          0.08823247868522535,
          -0.9713362783218384,
          1.1909251302165311,
          -1.5864277368053585,
          0.4210433879345378,
          -0.3332088572440201,
          -0.36518229798656426,
          0.7741998285990774,
          0.6258155206891973,
          0.27965045998007354,
          0.1623426593318974,
          0.3959902901434726,
          -0.07276839066216864,
          -0.5437140184421474,
          -1.5510141706342768,
          -0.9788360115750212,
          -0.27512689218037645,
          -2.3290172771902546,
          0.5146476121090945,
          1.8018496176990066,
          -0.07522691689864641,
          -0.0494554751985565,
          -0.5338208431440795,
          -0.17314822539444757,
          0.572036276345299,
          -1.0268114660962206,
          0.3582853193530316,
          2.4797019419531336,
          1.5630706985459852,
          -2.785988498132636,
          -0.27813328931761233,
          0.43565577181550663,
          0.3839286453496348,
          0.4990716288796377,
          0.02251828966155011,
          -0.8605405050647003,
          -1.2100661503805077,
          0.8513389533495609,
          -0.41069095401466305,
          0.007956605216103913,
          -0.16919967565153948,
          0.6346036555422729,
          0.8707563302648257,
          -0.22978488676347006,
          -2.2561068330466374,
          1.2677174057067335,
          -0.3616913694520314,
          -0.5220391770856552
         ],
         "xaxis": "x8",
         "y": [
          -0.5696383137081489,
          1.1351734827535165,
          0.9152001917611036,
          -0.00844155094580938,
          -0.06258170188690283,
          -1.397960774408616,
          0.3435980433431662,
          1.9771984759663241,
          0.7980962552551226,
          0.5099384295338028,
          0.6953264740395925,
          -0.050924092129710836,
          -0.6895188701915604,
          0.915616107381015,
          0.02037246592326186,
          -1.1576373722887503,
          -0.2887963256996219,
          0.4796209590156369,
          -1.2707481935591634,
          -1.0331744754868155,
          -1.6716818578114625,
          1.2795257614096645,
          -0.04397638767144347,
          -1.516411895677526,
          -0.5005577684774363,
          0.5504292610693635,
          0.5207414902462956,
          -1.0748864153982811,
          0.42032320246494,
          1.1925244880627393,
          -1.1332177751503012,
          -0.24171705755197975,
          0.1584254681040101,
          -0.32122177949433656,
          1.1041953084365854,
          0.08917121729266873,
          1.3853616467346457,
          -0.3212564324754563,
          -0.6905917343160966,
          -1.9487907074894022,
          -0.31918002995573874,
          1.0099101012017528,
          -0.23567285927983872,
          0.786843177647913,
          0.3801931489000957,
          0.06733360341928074,
          -0.4182380904879572,
          0.448230605012123,
          1.1428226019923269,
          -0.7008002812067107,
          -0.9528265960823682,
          0.16921409666104573,
          -0.2321189369103486,
          1.4067150981879595,
          -0.8996080725849857,
          -0.020364228761414607,
          -0.6051186814565923,
          -0.4542178787439367,
          0.8902985465091476,
          1.4360863024404278,
          0.6424637101068639,
          -0.24572297220482406,
          -1.144635878568656,
          -0.3104964171676207,
          -1.8442320270700612,
          -0.402890083735357,
          0.3096071207553138,
          -1.3247774875957332,
          -0.5749890046206451,
          -2.5623083464476264,
          2.0939381145938447,
          -1.4627844809059278,
          -1.04506207721916,
          -1.1635640272612695,
          0.8498142990554263,
          0.5790979612786291,
          -0.8035121129131575,
          0.6915682382008483,
          0.9887753358120481,
          0.5725170736416944,
          0.637381534075287,
          -1.2161750257605888,
          -0.7287165307989403,
          -0.5464232876632266,
          -0.3649806962939663,
          1.3472364069340996,
          1.3415149669927902,
          -0.7423986256356838,
          0.3235175537655451,
          0.01830620317089403,
          -0.21560964163712618,
          -0.6799803836072068,
          -1.4445582587569874,
          1.2488961247500823,
          0.06940321488678963,
          0.048331872198486114,
          -0.9251927212592852,
          -1.629426086050211,
          0.9752502823722285,
          1.2294186690010769
         ],
         "yaxis": "y8"
        },
        {
         "line": {
          "color": "rgba(128, 128, 128, 1.0)",
          "dash": "solid",
          "shape": "linear",
          "width": 1.3
         },
         "marker": {
          "size": 2,
          "symbol": "circle"
         },
         "mode": "markers",
         "name": "C",
         "text": "",
         "type": "scatter",
         "x": [
          0.5816966956153499,
          0.12316386314759027,
          -0.22398171843685152,
          -0.8895932385975902,
          0.2752188676636905,
          -0.2043642311215671,
          0.3948123118583736,
          0.48645630871897805,
          1.5739071788301084,
          2.1488658396531037,
          -0.31708220249715474,
          -0.9711842754967692,
          1.2628175279667635,
          -1.1834028893365194,
          1.6944271259868855,
          -0.5931338474672299,
          0.0027807338470003007,
          -0.6818703057681064,
          0.6628178049410343,
          0.03540578774837641,
          0.732895635310974,
          -0.4275137954232451,
          1.320181769808673,
          -1.482472611175471,
          2.071582002661825,
          -0.01967219630635455,
          1.209423427603569,
          1.6610041759226586,
          -0.5453412431129742,
          0.3258745239218415,
          -0.27722164238155605,
          0.6478830076709254,
          0.9950648418037051,
          -0.48714277801385814,
          -0.4436228773791175,
          0.11702106920114262,
          -0.5740663577799426,
          2.002122515184173,
          0.014114137435172026,
          0.2517242524460662,
          -0.11235543580606286,
          0.5375253295601139,
          -0.5968833989130355,
          0.048054972651586265,
          -1.123202596891187,
          0.004196248013858794,
          0.661815828049052,
          -1.2980041274097809,
          0.3744164921338543,
          -0.17708144186725294,
          0.2076525777904713,
          -1.3025365058856804,
          -1.5590190180060983,
          0.6248400236247296,
          0.7911141185158476,
          -0.49037525611041033,
          1.2330545424386792,
          0.6709923076578755,
          -0.5331723733231042,
          0.10228037344181613,
          -0.1363508547845355,
          2.218762225844916,
          0.5446047848971652,
          -0.08107298699081342,
          0.585020407460338,
          0.7651851072247567,
          0.5140874559311198,
          -0.5527227666251414,
          0.328474992492661,
          1.7157964042871225,
          -0.4754802351708734,
          -0.2393856771841323,
          1.0401174604876424,
          1.4134185841189972,
          -0.665029001262137,
          -1.122798015523656,
          -0.5260727243464802,
          -2.6006280522817535,
          1.0467518800084306,
          0.39306453239966815,
          -0.33878690050097,
          -1.7677071848964492,
          0.23253039445027843,
          -0.6199365487060867,
          1.4471217025997936,
          -0.507721592541854,
          0.14885342347303643,
          0.5986738883632382,
          0.16912484206819606,
          0.9555600442980435,
          -1.0980989001705028,
          -0.020763816433263235,
          0.6062071067217284,
          -0.8319213017686466,
          1.0144730260507537,
          1.458043788509651,
          -1.4586298959821542,
          -1.3109773870068864,
          -1.9505596262167764,
          1.1103572219598006
         ],
         "xaxis": "x9",
         "y": [
          -0.9459269174913192,
          0.19531141693783344,
          1.4303855991401946,
          0.036674790720557564,
          1.6326923785449838,
          0.8286045871157671,
          -0.6481868351097086,
          3.3916658927148924,
          -0.23154384282744422,
          1.5359424592188011,
          1.1935684228941061,
          1.8027797241776358,
          -1.3029711071589536,
          0.6983580159031979,
          1.9470600799832063,
          -0.6548101823073411,
          -0.20805691104366308,
          -1.8460005945299778,
          1.4626668472159017,
          1.4763952429913119,
          1.9210846711053138,
          1.3076687985375077,
          -3.2567661905590604,
          -1.6612107230619586,
          0.4176057096249829,
          0.42061951190981944,
          0.3596651067545893,
          0.13694467232436985,
          -1.7151734572271393,
          0.06338432905322991,
          0.7063361662070474,
          0.20968216768990333,
          -0.6271829105879608,
          -1.2140464658425827,
          -0.3380145286294853,
          1.0503729545565748,
          0.2972746289819503,
          0.46453433038728964,
          -0.6709599609392913,
          0.9079049774175922,
          0.6509528929577602,
          -0.4288704871701461,
          -0.1354137935065262,
          -0.8781446182484274,
          -0.009118936141923863,
          -1.5394821485082721,
          0.9988622250327465,
          0.8626156053102499,
          -0.4094858426901262,
          0.4761067946376451,
          -1.6897324420533706,
          -0.3587935380254397,
          -0.14877969735308644,
          0.06727214872836712,
          -1.0734949787033488,
          -2.7726853944714307,
          0.10491033862417087,
          0.5641612600718001,
          0.7236960155113175,
          -0.7038408668181785,
          0.8495952534911181,
          -1.1830462402811586,
          1.0021146824749858,
          1.1107368011471532,
          -0.3389152218254186,
          -0.439484812022148,
          1.066756487029043,
          -0.4005847537123203,
          0.6319762725044623,
          -0.5380413734209953,
          -0.08738794666023814,
          -1.8254551843999103,
          1.0175681484172752,
          0.0021127376077187962,
          -0.7705028546186218,
          0.06631526524759794,
          -0.5352360753763258,
          -1.4559255362244732,
          0.6814927595357511,
          0.5107840539439649,
          0.9796316487643698,
          -0.21905463173170495,
          0.08921105080631453,
          -0.08792361706888079,
          -0.41923618756050757,
          -0.4981415546229659,
          -0.07847535524500188,
          -0.24018071690368933,
          -0.38239795722451453,
          -0.2418035596682951,
          0.3031425898032398,
          1.1414566305423526,
          0.5448674055655569,
          -0.7664703552982213,
          -0.1575366576650068,
          1.3916397672612317,
          0.8310050728738548,
          -0.014191793254025784,
          -0.36244587664514816,
          -1.6348859125657678
         ],
         "yaxis": "y9"
        },
        {
         "line": {
          "color": "rgba(128, 128, 128, 1.0)",
          "dash": "solid",
          "shape": "linear",
          "width": 1.3
         },
         "marker": {
          "size": 2,
          "symbol": "circle"
         },
         "mode": "markers",
         "name": "C",
         "text": "",
         "type": "scatter",
         "x": [
          -0.5696383137081489,
          1.1351734827535165,
          0.9152001917611036,
          -0.00844155094580938,
          -0.06258170188690283,
          -1.397960774408616,
          0.3435980433431662,
          1.9771984759663241,
          0.7980962552551226,
          0.5099384295338028,
          0.6953264740395925,
          -0.050924092129710836,
          -0.6895188701915604,
          0.915616107381015,
          0.02037246592326186,
          -1.1576373722887503,
          -0.2887963256996219,
          0.4796209590156369,
          -1.2707481935591634,
          -1.0331744754868155,
          -1.6716818578114625,
          1.2795257614096645,
          -0.04397638767144347,
          -1.516411895677526,
          -0.5005577684774363,
          0.5504292610693635,
          0.5207414902462956,
          -1.0748864153982811,
          0.42032320246494,
          1.1925244880627393,
          -1.1332177751503012,
          -0.24171705755197975,
          0.1584254681040101,
          -0.32122177949433656,
          1.1041953084365854,
          0.08917121729266873,
          1.3853616467346457,
          -0.3212564324754563,
          -0.6905917343160966,
          -1.9487907074894022,
          -0.31918002995573874,
          1.0099101012017528,
          -0.23567285927983872,
          0.786843177647913,
          0.3801931489000957,
          0.06733360341928074,
          -0.4182380904879572,
          0.448230605012123,
          1.1428226019923269,
          -0.7008002812067107,
          -0.9528265960823682,
          0.16921409666104573,
          -0.2321189369103486,
          1.4067150981879595,
          -0.8996080725849857,
          -0.020364228761414607,
          -0.6051186814565923,
          -0.4542178787439367,
          0.8902985465091476,
          1.4360863024404278,
          0.6424637101068639,
          -0.24572297220482406,
          -1.144635878568656,
          -0.3104964171676207,
          -1.8442320270700612,
          -0.402890083735357,
          0.3096071207553138,
          -1.3247774875957332,
          -0.5749890046206451,
          -2.5623083464476264,
          2.0939381145938447,
          -1.4627844809059278,
          -1.04506207721916,
          -1.1635640272612695,
          0.8498142990554263,
          0.5790979612786291,
          -0.8035121129131575,
          0.6915682382008483,
          0.9887753358120481,
          0.5725170736416944,
          0.637381534075287,
          -1.2161750257605888,
          -0.7287165307989403,
          -0.5464232876632266,
          -0.3649806962939663,
          1.3472364069340996,
          1.3415149669927902,
          -0.7423986256356838,
          0.3235175537655451,
          0.01830620317089403,
          -0.21560964163712618,
          -0.6799803836072068,
          -1.4445582587569874,
          1.2488961247500823,
          0.06940321488678963,
          0.048331872198486114,
          -0.9251927212592852,
          -1.629426086050211,
          0.9752502823722285,
          1.2294186690010769
         ],
         "xaxis": "x10",
         "y": [
          -0.9459269174913192,
          0.19531141693783344,
          1.4303855991401946,
          0.036674790720557564,
          1.6326923785449838,
          0.8286045871157671,
          -0.6481868351097086,
          3.3916658927148924,
          -0.23154384282744422,
          1.5359424592188011,
          1.1935684228941061,
          1.8027797241776358,
          -1.3029711071589536,
          0.6983580159031979,
          1.9470600799832063,
          -0.6548101823073411,
          -0.20805691104366308,
          -1.8460005945299778,
          1.4626668472159017,
          1.4763952429913119,
          1.9210846711053138,
          1.3076687985375077,
          -3.2567661905590604,
          -1.6612107230619586,
          0.4176057096249829,
          0.42061951190981944,
          0.3596651067545893,
          0.13694467232436985,
          -1.7151734572271393,
          0.06338432905322991,
          0.7063361662070474,
          0.20968216768990333,
          -0.6271829105879608,
          -1.2140464658425827,
          -0.3380145286294853,
          1.0503729545565748,
          0.2972746289819503,
          0.46453433038728964,
          -0.6709599609392913,
          0.9079049774175922,
          0.6509528929577602,
          -0.4288704871701461,
          -0.1354137935065262,
          -0.8781446182484274,
          -0.009118936141923863,
          -1.5394821485082721,
          0.9988622250327465,
          0.8626156053102499,
          -0.4094858426901262,
          0.4761067946376451,
          -1.6897324420533706,
          -0.3587935380254397,
          -0.14877969735308644,
          0.06727214872836712,
          -1.0734949787033488,
          -2.7726853944714307,
          0.10491033862417087,
          0.5641612600718001,
          0.7236960155113175,
          -0.7038408668181785,
          0.8495952534911181,
          -1.1830462402811586,
          1.0021146824749858,
          1.1107368011471532,
          -0.3389152218254186,
          -0.439484812022148,
          1.066756487029043,
          -0.4005847537123203,
          0.6319762725044623,
          -0.5380413734209953,
          -0.08738794666023814,
          -1.8254551843999103,
          1.0175681484172752,
          0.0021127376077187962,
          -0.7705028546186218,
          0.06631526524759794,
          -0.5352360753763258,
          -1.4559255362244732,
          0.6814927595357511,
          0.5107840539439649,
          0.9796316487643698,
          -0.21905463173170495,
          0.08921105080631453,
          -0.08792361706888079,
          -0.41923618756050757,
          -0.4981415546229659,
          -0.07847535524500188,
          -0.24018071690368933,
          -0.38239795722451453,
          -0.2418035596682951,
          0.3031425898032398,
          1.1414566305423526,
          0.5448674055655569,
          -0.7664703552982213,
          -0.1575366576650068,
          1.3916397672612317,
          0.8310050728738548,
          -0.014191793254025784,
          -0.36244587664514816,
          -1.6348859125657678
         ],
         "yaxis": "y10"
        },
        {
         "histfunc": "count",
         "histnorm": "",
         "marker": {
          "color": "rgba(50, 171, 96, 1.0)",
          "line": {
           "color": "#4D5663",
           "width": 1.3
          }
         },
         "name": "C",
         "nbinsx": 10,
         "opacity": 0.8,
         "orientation": "v",
         "type": "histogram",
         "x": [
          -0.9459269174913192,
          0.19531141693783344,
          1.4303855991401946,
          0.036674790720557564,
          1.6326923785449838,
          0.8286045871157671,
          -0.6481868351097086,
          3.3916658927148924,
          -0.23154384282744422,
          1.5359424592188011,
          1.1935684228941061,
          1.8027797241776358,
          -1.3029711071589536,
          0.6983580159031979,
          1.9470600799832063,
          -0.6548101823073411,
          -0.20805691104366308,
          -1.8460005945299778,
          1.4626668472159017,
          1.4763952429913119,
          1.9210846711053138,
          1.3076687985375077,
          -3.2567661905590604,
          -1.6612107230619586,
          0.4176057096249829,
          0.42061951190981944,
          0.3596651067545893,
          0.13694467232436985,
          -1.7151734572271393,
          0.06338432905322991,
          0.7063361662070474,
          0.20968216768990333,
          -0.6271829105879608,
          -1.2140464658425827,
          -0.3380145286294853,
          1.0503729545565748,
          0.2972746289819503,
          0.46453433038728964,
          -0.6709599609392913,
          0.9079049774175922,
          0.6509528929577602,
          -0.4288704871701461,
          -0.1354137935065262,
          -0.8781446182484274,
          -0.009118936141923863,
          -1.5394821485082721,
          0.9988622250327465,
          0.8626156053102499,
          -0.4094858426901262,
          0.4761067946376451,
          -1.6897324420533706,
          -0.3587935380254397,
          -0.14877969735308644,
          0.06727214872836712,
          -1.0734949787033488,
          -2.7726853944714307,
          0.10491033862417087,
          0.5641612600718001,
          0.7236960155113175,
          -0.7038408668181785,
          0.8495952534911181,
          -1.1830462402811586,
          1.0021146824749858,
          1.1107368011471532,
          -0.3389152218254186,
          -0.439484812022148,
          1.066756487029043,
          -0.4005847537123203,
          0.6319762725044623,
          -0.5380413734209953,
          -0.08738794666023814,
          -1.8254551843999103,
          1.0175681484172752,
          0.0021127376077187962,
          -0.7705028546186218,
          0.06631526524759794,
          -0.5352360753763258,
          -1.4559255362244732,
          0.6814927595357511,
          0.5107840539439649,
          0.9796316487643698,
          -0.21905463173170495,
          0.08921105080631453,
          -0.08792361706888079,
          -0.41923618756050757,
          -0.4981415546229659,
          -0.07847535524500188,
          -0.24018071690368933,
          -0.38239795722451453,
          -0.2418035596682951,
          0.3031425898032398,
          1.1414566305423526,
          0.5448674055655569,
          -0.7664703552982213,
          -0.1575366576650068,
          1.3916397672612317,
          0.8310050728738548,
          -0.014191793254025784,
          -0.36244587664514816,
          -1.6348859125657678
         ],
         "xaxis": "x11",
         "yaxis": "y11"
        },
        {
         "line": {
          "color": "rgba(128, 128, 128, 1.0)",
          "dash": "solid",
          "shape": "linear",
          "width": 1.3
         },
         "marker": {
          "size": 2,
          "symbol": "circle"
         },
         "mode": "markers",
         "name": "C",
         "text": "",
         "type": "scatter",
         "x": [
          -0.6404112315622998,
          -1.2036166043389107,
          -0.26545321366944863,
          0.7346333548884144,
          0.48078680404730695,
          0.05422684339380275,
          -0.49966150321409286,
          -0.35421347019870486,
          1.881331476859132,
          0.3899522754142814,
          0.5089092271950661,
          -0.4032942201657905,
          0.07509589705458175,
          -1.0001523874809641,
          0.10058576147252309,
          1.2503359025341199,
          -0.12222233531902106,
          -0.6465947472710554,
          -0.12102373860354199,
          1.665760652611896,
          -0.2704779995377056,
          2.7099032561846235,
          -0.5606662929085504,
          -0.09189593830619185,
          1.4596458096663016,
          0.34168443118914005,
          1.0223679905549665,
          -0.7959115689503029,
          0.7135511703827034,
          0.9339507623391351,
          -0.7763600497771335,
          -0.4428577184276622,
          -0.36086435401975436,
          -0.8091761978141375,
          -1.0720939193957855,
          0.5162018883739438,
          -0.4526279649763703,
          -1.1575681014160044,
          2.0649448666751122,
          -0.5682142945678975,
          0.39511361457906574,
          -1.2871589804042116,
          -1.1509207007891296,
          1.1421519425253968,
          -1.9671813198861308,
          0.6666827149967166,
          0.030219767601846796,
          -0.6717614488644225,
          -1.2777657582111945,
          -0.818040739168885,
          -0.9472672580307068,
          -1.7094306873751057,
          0.08823247868522535,
          -0.9713362783218384,
          1.1909251302165311,
          -1.5864277368053585,
          0.4210433879345378,
          -0.3332088572440201,
          -0.36518229798656426,
          0.7741998285990774,
          0.6258155206891973,
          0.27965045998007354,
          0.1623426593318974,
          0.3959902901434726,
          -0.07276839066216864,
          -0.5437140184421474,
          -1.5510141706342768,
          -0.9788360115750212,
          -0.27512689218037645,
          -2.3290172771902546,
          0.5146476121090945,
          1.8018496176990066,
          -0.07522691689864641,
          -0.0494554751985565,
          -0.5338208431440795,
          -0.17314822539444757,
          0.572036276345299,
          -1.0268114660962206,
          0.3582853193530316,
          2.4797019419531336,
          1.5630706985459852,
          -2.785988498132636,
          -0.27813328931761233,
          0.43565577181550663,
          0.3839286453496348,
          0.4990716288796377,
          0.02251828966155011,
          -0.8605405050647003,
          -1.2100661503805077,
          0.8513389533495609,
          -0.41069095401466305,
          0.007956605216103913,
          -0.16919967565153948,
          0.6346036555422729,
          0.8707563302648257,
          -0.22978488676347006,
          -2.2561068330466374,
          1.2677174057067335,
          -0.3616913694520314,
          -0.5220391770856552
         ],
         "xaxis": "x12",
         "y": [
          -0.9459269174913192,
          0.19531141693783344,
          1.4303855991401946,
          0.036674790720557564,
          1.6326923785449838,
          0.8286045871157671,
          -0.6481868351097086,
          3.3916658927148924,
          -0.23154384282744422,
          1.5359424592188011,
          1.1935684228941061,
          1.8027797241776358,
          -1.3029711071589536,
          0.6983580159031979,
          1.9470600799832063,
          -0.6548101823073411,
          -0.20805691104366308,
          -1.8460005945299778,
          1.4626668472159017,
          1.4763952429913119,
          1.9210846711053138,
          1.3076687985375077,
          -3.2567661905590604,
          -1.6612107230619586,
          0.4176057096249829,
          0.42061951190981944,
          0.3596651067545893,
          0.13694467232436985,
          -1.7151734572271393,
          0.06338432905322991,
          0.7063361662070474,
          0.20968216768990333,
          -0.6271829105879608,
          -1.2140464658425827,
          -0.3380145286294853,
          1.0503729545565748,
          0.2972746289819503,
          0.46453433038728964,
          -0.6709599609392913,
          0.9079049774175922,
          0.6509528929577602,
          -0.4288704871701461,
          -0.1354137935065262,
          -0.8781446182484274,
          -0.009118936141923863,
          -1.5394821485082721,
          0.9988622250327465,
          0.8626156053102499,
          -0.4094858426901262,
          0.4761067946376451,
          -1.6897324420533706,
          -0.3587935380254397,
          -0.14877969735308644,
          0.06727214872836712,
          -1.0734949787033488,
          -2.7726853944714307,
          0.10491033862417087,
          0.5641612600718001,
          0.7236960155113175,
          -0.7038408668181785,
          0.8495952534911181,
          -1.1830462402811586,
          1.0021146824749858,
          1.1107368011471532,
          -0.3389152218254186,
          -0.439484812022148,
          1.066756487029043,
          -0.4005847537123203,
          0.6319762725044623,
          -0.5380413734209953,
          -0.08738794666023814,
          -1.8254551843999103,
          1.0175681484172752,
          0.0021127376077187962,
          -0.7705028546186218,
          0.06631526524759794,
          -0.5352360753763258,
          -1.4559255362244732,
          0.6814927595357511,
          0.5107840539439649,
          0.9796316487643698,
          -0.21905463173170495,
          0.08921105080631453,
          -0.08792361706888079,
          -0.41923618756050757,
          -0.4981415546229659,
          -0.07847535524500188,
          -0.24018071690368933,
          -0.38239795722451453,
          -0.2418035596682951,
          0.3031425898032398,
          1.1414566305423526,
          0.5448674055655569,
          -0.7664703552982213,
          -0.1575366576650068,
          1.3916397672612317,
          0.8310050728738548,
          -0.014191793254025784,
          -0.36244587664514816,
          -1.6348859125657678
         ],
         "yaxis": "y12"
        },
        {
         "line": {
          "color": "rgba(128, 128, 128, 1.0)",
          "dash": "solid",
          "shape": "linear",
          "width": 1.3
         },
         "marker": {
          "size": 2,
          "symbol": "circle"
         },
         "mode": "markers",
         "name": "D",
         "text": "",
         "type": "scatter",
         "x": [
          0.5816966956153499,
          0.12316386314759027,
          -0.22398171843685152,
          -0.8895932385975902,
          0.2752188676636905,
          -0.2043642311215671,
          0.3948123118583736,
          0.48645630871897805,
          1.5739071788301084,
          2.1488658396531037,
          -0.31708220249715474,
          -0.9711842754967692,
          1.2628175279667635,
          -1.1834028893365194,
          1.6944271259868855,
          -0.5931338474672299,
          0.0027807338470003007,
          -0.6818703057681064,
          0.6628178049410343,
          0.03540578774837641,
          0.732895635310974,
          -0.4275137954232451,
          1.320181769808673,
          -1.482472611175471,
          2.071582002661825,
          -0.01967219630635455,
          1.209423427603569,
          1.6610041759226586,
          -0.5453412431129742,
          0.3258745239218415,
          -0.27722164238155605,
          0.6478830076709254,
          0.9950648418037051,
          -0.48714277801385814,
          -0.4436228773791175,
          0.11702106920114262,
          -0.5740663577799426,
          2.002122515184173,
          0.014114137435172026,
          0.2517242524460662,
          -0.11235543580606286,
          0.5375253295601139,
          -0.5968833989130355,
          0.048054972651586265,
          -1.123202596891187,
          0.004196248013858794,
          0.661815828049052,
          -1.2980041274097809,
          0.3744164921338543,
          -0.17708144186725294,
          0.2076525777904713,
          -1.3025365058856804,
          -1.5590190180060983,
          0.6248400236247296,
          0.7911141185158476,
          -0.49037525611041033,
          1.2330545424386792,
          0.6709923076578755,
          -0.5331723733231042,
          0.10228037344181613,
          -0.1363508547845355,
          2.218762225844916,
          0.5446047848971652,
          -0.08107298699081342,
          0.585020407460338,
          0.7651851072247567,
          0.5140874559311198,
          -0.5527227666251414,
          0.328474992492661,
          1.7157964042871225,
          -0.4754802351708734,
          -0.2393856771841323,
          1.0401174604876424,
          1.4134185841189972,
          -0.665029001262137,
          -1.122798015523656,
          -0.5260727243464802,
          -2.6006280522817535,
          1.0467518800084306,
          0.39306453239966815,
          -0.33878690050097,
          -1.7677071848964492,
          0.23253039445027843,
          -0.6199365487060867,
          1.4471217025997936,
          -0.507721592541854,
          0.14885342347303643,
          0.5986738883632382,
          0.16912484206819606,
          0.9555600442980435,
          -1.0980989001705028,
          -0.020763816433263235,
          0.6062071067217284,
          -0.8319213017686466,
          1.0144730260507537,
          1.458043788509651,
          -1.4586298959821542,
          -1.3109773870068864,
          -1.9505596262167764,
          1.1103572219598006
         ],
         "xaxis": "x13",
         "y": [
          -0.6404112315622998,
          -1.2036166043389107,
          -0.26545321366944863,
          0.7346333548884144,
          0.48078680404730695,
          0.05422684339380275,
          -0.49966150321409286,
          -0.35421347019870486,
          1.881331476859132,
          0.3899522754142814,
          0.5089092271950661,
          -0.4032942201657905,
          0.07509589705458175,
          -1.0001523874809641,
          0.10058576147252309,
          1.2503359025341199,
          -0.12222233531902106,
          -0.6465947472710554,
          -0.12102373860354199,
          1.665760652611896,
          -0.2704779995377056,
          2.7099032561846235,
          -0.5606662929085504,
          -0.09189593830619185,
          1.4596458096663016,
          0.34168443118914005,
          1.0223679905549665,
          -0.7959115689503029,
          0.7135511703827034,
          0.9339507623391351,
          -0.7763600497771335,
          -0.4428577184276622,
          -0.36086435401975436,
          -0.8091761978141375,
          -1.0720939193957855,
          0.5162018883739438,
          -0.4526279649763703,
          -1.1575681014160044,
          2.0649448666751122,
          -0.5682142945678975,
          0.39511361457906574,
          -1.2871589804042116,
          -1.1509207007891296,
          1.1421519425253968,
          -1.9671813198861308,
          0.6666827149967166,
          0.030219767601846796,
          -0.6717614488644225,
          -1.2777657582111945,
          -0.818040739168885,
          -0.9472672580307068,
          -1.7094306873751057,
          0.08823247868522535,
          -0.9713362783218384,
          1.1909251302165311,
          -1.5864277368053585,
          0.4210433879345378,
          -0.3332088572440201,
          -0.36518229798656426,
          0.7741998285990774,
          0.6258155206891973,
          0.27965045998007354,
          0.1623426593318974,
          0.3959902901434726,
          -0.07276839066216864,
          -0.5437140184421474,
          -1.5510141706342768,
          -0.9788360115750212,
          -0.27512689218037645,
          -2.3290172771902546,
          0.5146476121090945,
          1.8018496176990066,
          -0.07522691689864641,
          -0.0494554751985565,
          -0.5338208431440795,
          -0.17314822539444757,
          0.572036276345299,
          -1.0268114660962206,
          0.3582853193530316,
          2.4797019419531336,
          1.5630706985459852,
          -2.785988498132636,
          -0.27813328931761233,
          0.43565577181550663,
          0.3839286453496348,
          0.4990716288796377,
          0.02251828966155011,
          -0.8605405050647003,
          -1.2100661503805077,
          0.8513389533495609,
          -0.41069095401466305,
          0.007956605216103913,
          -0.16919967565153948,
          0.6346036555422729,
          0.8707563302648257,
          -0.22978488676347006,
          -2.2561068330466374,
          1.2677174057067335,
          -0.3616913694520314,
          -0.5220391770856552
         ],
         "yaxis": "y13"
        },
        {
         "line": {
          "color": "rgba(128, 128, 128, 1.0)",
          "dash": "solid",
          "shape": "linear",
          "width": 1.3
         },
         "marker": {
          "size": 2,
          "symbol": "circle"
         },
         "mode": "markers",
         "name": "D",
         "text": "",
         "type": "scatter",
         "x": [
          -0.5696383137081489,
          1.1351734827535165,
          0.9152001917611036,
          -0.00844155094580938,
          -0.06258170188690283,
          -1.397960774408616,
          0.3435980433431662,
          1.9771984759663241,
          0.7980962552551226,
          0.5099384295338028,
          0.6953264740395925,
          -0.050924092129710836,
          -0.6895188701915604,
          0.915616107381015,
          0.02037246592326186,
          -1.1576373722887503,
          -0.2887963256996219,
          0.4796209590156369,
          -1.2707481935591634,
          -1.0331744754868155,
          -1.6716818578114625,
          1.2795257614096645,
          -0.04397638767144347,
          -1.516411895677526,
          -0.5005577684774363,
          0.5504292610693635,
          0.5207414902462956,
          -1.0748864153982811,
          0.42032320246494,
          1.1925244880627393,
          -1.1332177751503012,
          -0.24171705755197975,
          0.1584254681040101,
          -0.32122177949433656,
          1.1041953084365854,
          0.08917121729266873,
          1.3853616467346457,
          -0.3212564324754563,
          -0.6905917343160966,
          -1.9487907074894022,
          -0.31918002995573874,
          1.0099101012017528,
          -0.23567285927983872,
          0.786843177647913,
          0.3801931489000957,
          0.06733360341928074,
          -0.4182380904879572,
          0.448230605012123,
          1.1428226019923269,
          -0.7008002812067107,
          -0.9528265960823682,
          0.16921409666104573,
          -0.2321189369103486,
          1.4067150981879595,
          -0.8996080725849857,
          -0.020364228761414607,
          -0.6051186814565923,
          -0.4542178787439367,
          0.8902985465091476,
          1.4360863024404278,
          0.6424637101068639,
          -0.24572297220482406,
          -1.144635878568656,
          -0.3104964171676207,
          -1.8442320270700612,
          -0.402890083735357,
          0.3096071207553138,
          -1.3247774875957332,
          -0.5749890046206451,
          -2.5623083464476264,
          2.0939381145938447,
          -1.4627844809059278,
          -1.04506207721916,
          -1.1635640272612695,
          0.8498142990554263,
          0.5790979612786291,
          -0.8035121129131575,
          0.6915682382008483,
          0.9887753358120481,
          0.5725170736416944,
          0.637381534075287,
          -1.2161750257605888,
          -0.7287165307989403,
          -0.5464232876632266,
          -0.3649806962939663,
          1.3472364069340996,
          1.3415149669927902,
          -0.7423986256356838,
          0.3235175537655451,
          0.01830620317089403,
          -0.21560964163712618,
          -0.6799803836072068,
          -1.4445582587569874,
          1.2488961247500823,
          0.06940321488678963,
          0.048331872198486114,
          -0.9251927212592852,
          -1.629426086050211,
          0.9752502823722285,
          1.2294186690010769
         ],
         "xaxis": "x14",
         "y": [
          -0.6404112315622998,
          -1.2036166043389107,
          -0.26545321366944863,
          0.7346333548884144,
          0.48078680404730695,
          0.05422684339380275,
          -0.49966150321409286,
          -0.35421347019870486,
          1.881331476859132,
          0.3899522754142814,
          0.5089092271950661,
          -0.4032942201657905,
          0.07509589705458175,
          -1.0001523874809641,
          0.10058576147252309,
          1.2503359025341199,
          -0.12222233531902106,
          -0.6465947472710554,
          -0.12102373860354199,
          1.665760652611896,
          -0.2704779995377056,
          2.7099032561846235,
          -0.5606662929085504,
          -0.09189593830619185,
          1.4596458096663016,
          0.34168443118914005,
          1.0223679905549665,
          -0.7959115689503029,
          0.7135511703827034,
          0.9339507623391351,
          -0.7763600497771335,
          -0.4428577184276622,
          -0.36086435401975436,
          -0.8091761978141375,
          -1.0720939193957855,
          0.5162018883739438,
          -0.4526279649763703,
          -1.1575681014160044,
          2.0649448666751122,
          -0.5682142945678975,
          0.39511361457906574,
          -1.2871589804042116,
          -1.1509207007891296,
          1.1421519425253968,
          -1.9671813198861308,
          0.6666827149967166,
          0.030219767601846796,
          -0.6717614488644225,
          -1.2777657582111945,
          -0.818040739168885,
          -0.9472672580307068,
          -1.7094306873751057,
          0.08823247868522535,
          -0.9713362783218384,
          1.1909251302165311,
          -1.5864277368053585,
          0.4210433879345378,
          -0.3332088572440201,
          -0.36518229798656426,
          0.7741998285990774,
          0.6258155206891973,
          0.27965045998007354,
          0.1623426593318974,
          0.3959902901434726,
          -0.07276839066216864,
          -0.5437140184421474,
          -1.5510141706342768,
          -0.9788360115750212,
          -0.27512689218037645,
          -2.3290172771902546,
          0.5146476121090945,
          1.8018496176990066,
          -0.07522691689864641,
          -0.0494554751985565,
          -0.5338208431440795,
          -0.17314822539444757,
          0.572036276345299,
          -1.0268114660962206,
          0.3582853193530316,
          2.4797019419531336,
          1.5630706985459852,
          -2.785988498132636,
          -0.27813328931761233,
          0.43565577181550663,
          0.3839286453496348,
          0.4990716288796377,
          0.02251828966155011,
          -0.8605405050647003,
          -1.2100661503805077,
          0.8513389533495609,
          -0.41069095401466305,
          0.007956605216103913,
          -0.16919967565153948,
          0.6346036555422729,
          0.8707563302648257,
          -0.22978488676347006,
          -2.2561068330466374,
          1.2677174057067335,
          -0.3616913694520314,
          -0.5220391770856552
         ],
         "yaxis": "y14"
        },
        {
         "line": {
          "color": "rgba(128, 128, 128, 1.0)",
          "dash": "solid",
          "shape": "linear",
          "width": 1.3
         },
         "marker": {
          "size": 2,
          "symbol": "circle"
         },
         "mode": "markers",
         "name": "D",
         "text": "",
         "type": "scatter",
         "x": [
          -0.9459269174913192,
          0.19531141693783344,
          1.4303855991401946,
          0.036674790720557564,
          1.6326923785449838,
          0.8286045871157671,
          -0.6481868351097086,
          3.3916658927148924,
          -0.23154384282744422,
          1.5359424592188011,
          1.1935684228941061,
          1.8027797241776358,
          -1.3029711071589536,
          0.6983580159031979,
          1.9470600799832063,
          -0.6548101823073411,
          -0.20805691104366308,
          -1.8460005945299778,
          1.4626668472159017,
          1.4763952429913119,
          1.9210846711053138,
          1.3076687985375077,
          -3.2567661905590604,
          -1.6612107230619586,
          0.4176057096249829,
          0.42061951190981944,
          0.3596651067545893,
          0.13694467232436985,
          -1.7151734572271393,
          0.06338432905322991,
          0.7063361662070474,
          0.20968216768990333,
          -0.6271829105879608,
          -1.2140464658425827,
          -0.3380145286294853,
          1.0503729545565748,
          0.2972746289819503,
          0.46453433038728964,
          -0.6709599609392913,
          0.9079049774175922,
          0.6509528929577602,
          -0.4288704871701461,
          -0.1354137935065262,
          -0.8781446182484274,
          -0.009118936141923863,
          -1.5394821485082721,
          0.9988622250327465,
          0.8626156053102499,
          -0.4094858426901262,
          0.4761067946376451,
          -1.6897324420533706,
          -0.3587935380254397,
          -0.14877969735308644,
          0.06727214872836712,
          -1.0734949787033488,
          -2.7726853944714307,
          0.10491033862417087,
          0.5641612600718001,
          0.7236960155113175,
          -0.7038408668181785,
          0.8495952534911181,
          -1.1830462402811586,
          1.0021146824749858,
          1.1107368011471532,
          -0.3389152218254186,
          -0.439484812022148,
          1.066756487029043,
          -0.4005847537123203,
          0.6319762725044623,
          -0.5380413734209953,
          -0.08738794666023814,
          -1.8254551843999103,
          1.0175681484172752,
          0.0021127376077187962,
          -0.7705028546186218,
          0.06631526524759794,
          -0.5352360753763258,
          -1.4559255362244732,
          0.6814927595357511,
          0.5107840539439649,
          0.9796316487643698,
          -0.21905463173170495,
          0.08921105080631453,
          -0.08792361706888079,
          -0.41923618756050757,
          -0.4981415546229659,
          -0.07847535524500188,
          -0.24018071690368933,
          -0.38239795722451453,
          -0.2418035596682951,
          0.3031425898032398,
          1.1414566305423526,
          0.5448674055655569,
          -0.7664703552982213,
          -0.1575366576650068,
          1.3916397672612317,
          0.8310050728738548,
          -0.014191793254025784,
          -0.36244587664514816,
          -1.6348859125657678
         ],
         "xaxis": "x15",
         "y": [
          -0.6404112315622998,
          -1.2036166043389107,
          -0.26545321366944863,
          0.7346333548884144,
          0.48078680404730695,
          0.05422684339380275,
          -0.49966150321409286,
          -0.35421347019870486,
          1.881331476859132,
          0.3899522754142814,
          0.5089092271950661,
          -0.4032942201657905,
          0.07509589705458175,
          -1.0001523874809641,
          0.10058576147252309,
          1.2503359025341199,
          -0.12222233531902106,
          -0.6465947472710554,
          -0.12102373860354199,
          1.665760652611896,
          -0.2704779995377056,
          2.7099032561846235,
          -0.5606662929085504,
          -0.09189593830619185,
          1.4596458096663016,
          0.34168443118914005,
          1.0223679905549665,
          -0.7959115689503029,
          0.7135511703827034,
          0.9339507623391351,
          -0.7763600497771335,
          -0.4428577184276622,
          -0.36086435401975436,
          -0.8091761978141375,
          -1.0720939193957855,
          0.5162018883739438,
          -0.4526279649763703,
          -1.1575681014160044,
          2.0649448666751122,
          -0.5682142945678975,
          0.39511361457906574,
          -1.2871589804042116,
          -1.1509207007891296,
          1.1421519425253968,
          -1.9671813198861308,
          0.6666827149967166,
          0.030219767601846796,
          -0.6717614488644225,
          -1.2777657582111945,
          -0.818040739168885,
          -0.9472672580307068,
          -1.7094306873751057,
          0.08823247868522535,
          -0.9713362783218384,
          1.1909251302165311,
          -1.5864277368053585,
          0.4210433879345378,
          -0.3332088572440201,
          -0.36518229798656426,
          0.7741998285990774,
          0.6258155206891973,
          0.27965045998007354,
          0.1623426593318974,
          0.3959902901434726,
          -0.07276839066216864,
          -0.5437140184421474,
          -1.5510141706342768,
          -0.9788360115750212,
          -0.27512689218037645,
          -2.3290172771902546,
          0.5146476121090945,
          1.8018496176990066,
          -0.07522691689864641,
          -0.0494554751985565,
          -0.5338208431440795,
          -0.17314822539444757,
          0.572036276345299,
          -1.0268114660962206,
          0.3582853193530316,
          2.4797019419531336,
          1.5630706985459852,
          -2.785988498132636,
          -0.27813328931761233,
          0.43565577181550663,
          0.3839286453496348,
          0.4990716288796377,
          0.02251828966155011,
          -0.8605405050647003,
          -1.2100661503805077,
          0.8513389533495609,
          -0.41069095401466305,
          0.007956605216103913,
          -0.16919967565153948,
          0.6346036555422729,
          0.8707563302648257,
          -0.22978488676347006,
          -2.2561068330466374,
          1.2677174057067335,
          -0.3616913694520314,
          -0.5220391770856552
         ],
         "yaxis": "y15"
        },
        {
         "histfunc": "count",
         "histnorm": "",
         "marker": {
          "color": "rgba(128, 0, 128, 1.0)",
          "line": {
           "color": "#4D5663",
           "width": 1.3
          }
         },
         "name": "D",
         "nbinsx": 10,
         "opacity": 0.8,
         "orientation": "v",
         "type": "histogram",
         "x": [
          -0.6404112315622998,
          -1.2036166043389107,
          -0.26545321366944863,
          0.7346333548884144,
          0.48078680404730695,
          0.05422684339380275,
          -0.49966150321409286,
          -0.35421347019870486,
          1.881331476859132,
          0.3899522754142814,
          0.5089092271950661,
          -0.4032942201657905,
          0.07509589705458175,
          -1.0001523874809641,
          0.10058576147252309,
          1.2503359025341199,
          -0.12222233531902106,
          -0.6465947472710554,
          -0.12102373860354199,
          1.665760652611896,
          -0.2704779995377056,
          2.7099032561846235,
          -0.5606662929085504,
          -0.09189593830619185,
          1.4596458096663016,
          0.34168443118914005,
          1.0223679905549665,
          -0.7959115689503029,
          0.7135511703827034,
          0.9339507623391351,
          -0.7763600497771335,
          -0.4428577184276622,
          -0.36086435401975436,
          -0.8091761978141375,
          -1.0720939193957855,
          0.5162018883739438,
          -0.4526279649763703,
          -1.1575681014160044,
          2.0649448666751122,
          -0.5682142945678975,
          0.39511361457906574,
          -1.2871589804042116,
          -1.1509207007891296,
          1.1421519425253968,
          -1.9671813198861308,
          0.6666827149967166,
          0.030219767601846796,
          -0.6717614488644225,
          -1.2777657582111945,
          -0.818040739168885,
          -0.9472672580307068,
          -1.7094306873751057,
          0.08823247868522535,
          -0.9713362783218384,
          1.1909251302165311,
          -1.5864277368053585,
          0.4210433879345378,
          -0.3332088572440201,
          -0.36518229798656426,
          0.7741998285990774,
          0.6258155206891973,
          0.27965045998007354,
          0.1623426593318974,
          0.3959902901434726,
          -0.07276839066216864,
          -0.5437140184421474,
          -1.5510141706342768,
          -0.9788360115750212,
          -0.27512689218037645,
          -2.3290172771902546,
          0.5146476121090945,
          1.8018496176990066,
          -0.07522691689864641,
          -0.0494554751985565,
          -0.5338208431440795,
          -0.17314822539444757,
          0.572036276345299,
          -1.0268114660962206,
          0.3582853193530316,
          2.4797019419531336,
          1.5630706985459852,
          -2.785988498132636,
          -0.27813328931761233,
          0.43565577181550663,
          0.3839286453496348,
          0.4990716288796377,
          0.02251828966155011,
          -0.8605405050647003,
          -1.2100661503805077,
          0.8513389533495609,
          -0.41069095401466305,
          0.007956605216103913,
          -0.16919967565153948,
          0.6346036555422729,
          0.8707563302648257,
          -0.22978488676347006,
          -2.2561068330466374,
          1.2677174057067335,
          -0.3616913694520314,
          -0.5220391770856552
         ],
         "xaxis": "x16",
         "yaxis": "y16"
        }
       ],
       "layout": {
        "bargap": 0.02,
        "legend": {
         "bgcolor": "#F5F6F9",
         "font": {
          "color": "#4D5663"
         }
        },
        "paper_bgcolor": "#F5F6F9",
        "plot_bgcolor": "#F5F6F9",
        "showlegend": false,
        "template": {
         "data": {
          "bar": [
           {
            "error_x": {
             "color": "#2a3f5f"
            },
            "error_y": {
             "color": "#2a3f5f"
            },
            "marker": {
             "line": {
              "color": "#E5ECF6",
              "width": 0.5
             },
             "pattern": {
              "fillmode": "overlay",
              "size": 10,
              "solidity": 0.2
             }
            },
            "type": "bar"
           }
          ],
          "barpolar": [
           {
            "marker": {
             "line": {
              "color": "#E5ECF6",
              "width": 0.5
             },
             "pattern": {
              "fillmode": "overlay",
              "size": 10,
              "solidity": 0.2
             }
            },
            "type": "barpolar"
           }
          ],
          "carpet": [
           {
            "aaxis": {
             "endlinecolor": "#2a3f5f",
             "gridcolor": "white",
             "linecolor": "white",
             "minorgridcolor": "white",
             "startlinecolor": "#2a3f5f"
            },
            "baxis": {
             "endlinecolor": "#2a3f5f",
             "gridcolor": "white",
             "linecolor": "white",
             "minorgridcolor": "white",
             "startlinecolor": "#2a3f5f"
            },
            "type": "carpet"
           }
          ],
          "choropleth": [
           {
            "colorbar": {
             "outlinewidth": 0,
             "ticks": ""
            },
            "type": "choropleth"
           }
          ],
          "contour": [
           {
            "colorbar": {
             "outlinewidth": 0,
             "ticks": ""
            },
            "colorscale": [
             [
              0,
              "#0d0887"
             ],
             [
              0.1111111111111111,
              "#46039f"
             ],
             [
              0.2222222222222222,
              "#7201a8"
             ],
             [
              0.3333333333333333,
              "#9c179e"
             ],
             [
              0.4444444444444444,
              "#bd3786"
             ],
             [
              0.5555555555555556,
              "#d8576b"
             ],
             [
              0.6666666666666666,
              "#ed7953"
             ],
             [
              0.7777777777777778,
              "#fb9f3a"
             ],
             [
              0.8888888888888888,
              "#fdca26"
             ],
             [
              1,
              "#f0f921"
             ]
            ],
            "type": "contour"
           }
          ],
          "contourcarpet": [
           {
            "colorbar": {
             "outlinewidth": 0,
             "ticks": ""
            },
            "type": "contourcarpet"
           }
          ],
          "heatmap": [
           {
            "colorbar": {
             "outlinewidth": 0,
             "ticks": ""
            },
            "colorscale": [
             [
              0,
              "#0d0887"
             ],
             [
              0.1111111111111111,
              "#46039f"
             ],
             [
              0.2222222222222222,
              "#7201a8"
             ],
             [
              0.3333333333333333,
              "#9c179e"
             ],
             [
              0.4444444444444444,
              "#bd3786"
             ],
             [
              0.5555555555555556,
              "#d8576b"
             ],
             [
              0.6666666666666666,
              "#ed7953"
             ],
             [
              0.7777777777777778,
              "#fb9f3a"
             ],
             [
              0.8888888888888888,
              "#fdca26"
             ],
             [
              1,
              "#f0f921"
             ]
            ],
            "type": "heatmap"
           }
          ],
          "heatmapgl": [
           {
            "colorbar": {
             "outlinewidth": 0,
             "ticks": ""
            },
            "colorscale": [
             [
              0,
              "#0d0887"
             ],
             [
              0.1111111111111111,
              "#46039f"
             ],
             [
              0.2222222222222222,
              "#7201a8"
             ],
             [
              0.3333333333333333,
              "#9c179e"
             ],
             [
              0.4444444444444444,
              "#bd3786"
             ],
             [
              0.5555555555555556,
              "#d8576b"
             ],
             [
              0.6666666666666666,
              "#ed7953"
             ],
             [
              0.7777777777777778,
              "#fb9f3a"
             ],
             [
              0.8888888888888888,
              "#fdca26"
             ],
             [
              1,
              "#f0f921"
             ]
            ],
            "type": "heatmapgl"
           }
          ],
          "histogram": [
           {
            "marker": {
             "pattern": {
              "fillmode": "overlay",
              "size": 10,
              "solidity": 0.2
             }
            },
            "type": "histogram"
           }
          ],
          "histogram2d": [
           {
            "colorbar": {
             "outlinewidth": 0,
             "ticks": ""
            },
            "colorscale": [
             [
              0,
              "#0d0887"
             ],
             [
              0.1111111111111111,
              "#46039f"
             ],
             [
              0.2222222222222222,
              "#7201a8"
             ],
             [
              0.3333333333333333,
              "#9c179e"
             ],
             [
              0.4444444444444444,
              "#bd3786"
             ],
             [
              0.5555555555555556,
              "#d8576b"
             ],
             [
              0.6666666666666666,
              "#ed7953"
             ],
             [
              0.7777777777777778,
              "#fb9f3a"
             ],
             [
              0.8888888888888888,
              "#fdca26"
             ],
             [
              1,
              "#f0f921"
             ]
            ],
            "type": "histogram2d"
           }
          ],
          "histogram2dcontour": [
           {
            "colorbar": {
             "outlinewidth": 0,
             "ticks": ""
            },
            "colorscale": [
             [
              0,
              "#0d0887"
             ],
             [
              0.1111111111111111,
              "#46039f"
             ],
             [
              0.2222222222222222,
              "#7201a8"
             ],
             [
              0.3333333333333333,
              "#9c179e"
             ],
             [
              0.4444444444444444,
              "#bd3786"
             ],
             [
              0.5555555555555556,
              "#d8576b"
             ],
             [
              0.6666666666666666,
              "#ed7953"
             ],
             [
              0.7777777777777778,
              "#fb9f3a"
             ],
             [
              0.8888888888888888,
              "#fdca26"
             ],
             [
              1,
              "#f0f921"
             ]
            ],
            "type": "histogram2dcontour"
           }
          ],
          "mesh3d": [
           {
            "colorbar": {
             "outlinewidth": 0,
             "ticks": ""
            },
            "type": "mesh3d"
           }
          ],
          "parcoords": [
           {
            "line": {
             "colorbar": {
              "outlinewidth": 0,
              "ticks": ""
             }
            },
            "type": "parcoords"
           }
          ],
          "pie": [
           {
            "automargin": true,
            "type": "pie"
           }
          ],
          "scatter": [
           {
            "marker": {
             "colorbar": {
              "outlinewidth": 0,
              "ticks": ""
             }
            },
            "type": "scatter"
           }
          ],
          "scatter3d": [
           {
            "line": {
             "colorbar": {
              "outlinewidth": 0,
              "ticks": ""
             }
            },
            "marker": {
             "colorbar": {
              "outlinewidth": 0,
              "ticks": ""
             }
            },
            "type": "scatter3d"
           }
          ],
          "scattercarpet": [
           {
            "marker": {
             "colorbar": {
              "outlinewidth": 0,
              "ticks": ""
             }
            },
            "type": "scattercarpet"
           }
          ],
          "scattergeo": [
           {
            "marker": {
             "colorbar": {
              "outlinewidth": 0,
              "ticks": ""
             }
            },
            "type": "scattergeo"
           }
          ],
          "scattergl": [
           {
            "marker": {
             "colorbar": {
              "outlinewidth": 0,
              "ticks": ""
             }
            },
            "type": "scattergl"
           }
          ],
          "scattermapbox": [
           {
            "marker": {
             "colorbar": {
              "outlinewidth": 0,
              "ticks": ""
             }
            },
            "type": "scattermapbox"
           }
          ],
          "scatterpolar": [
           {
            "marker": {
             "colorbar": {
              "outlinewidth": 0,
              "ticks": ""
             }
            },
            "type": "scatterpolar"
           }
          ],
          "scatterpolargl": [
           {
            "marker": {
             "colorbar": {
              "outlinewidth": 0,
              "ticks": ""
             }
            },
            "type": "scatterpolargl"
           }
          ],
          "scatterternary": [
           {
            "marker": {
             "colorbar": {
              "outlinewidth": 0,
              "ticks": ""
             }
            },
            "type": "scatterternary"
           }
          ],
          "surface": [
           {
            "colorbar": {
             "outlinewidth": 0,
             "ticks": ""
            },
            "colorscale": [
             [
              0,
              "#0d0887"
             ],
             [
              0.1111111111111111,
              "#46039f"
             ],
             [
              0.2222222222222222,
              "#7201a8"
             ],
             [
              0.3333333333333333,
              "#9c179e"
             ],
             [
              0.4444444444444444,
              "#bd3786"
             ],
             [
              0.5555555555555556,
              "#d8576b"
             ],
             [
              0.6666666666666666,
              "#ed7953"
             ],
             [
              0.7777777777777778,
              "#fb9f3a"
             ],
             [
              0.8888888888888888,
              "#fdca26"
             ],
             [
              1,
              "#f0f921"
             ]
            ],
            "type": "surface"
           }
          ],
          "table": [
           {
            "cells": {
             "fill": {
              "color": "#EBF0F8"
             },
             "line": {
              "color": "white"
             }
            },
            "header": {
             "fill": {
              "color": "#C8D4E3"
             },
             "line": {
              "color": "white"
             }
            },
            "type": "table"
           }
          ]
         },
         "layout": {
          "annotationdefaults": {
           "arrowcolor": "#2a3f5f",
           "arrowhead": 0,
           "arrowwidth": 1
          },
          "autotypenumbers": "strict",
          "coloraxis": {
           "colorbar": {
            "outlinewidth": 0,
            "ticks": ""
           }
          },
          "colorscale": {
           "diverging": [
            [
             0,
             "#8e0152"
            ],
            [
             0.1,
             "#c51b7d"
            ],
            [
             0.2,
             "#de77ae"
            ],
            [
             0.3,
             "#f1b6da"
            ],
            [
             0.4,
             "#fde0ef"
            ],
            [
             0.5,
             "#f7f7f7"
            ],
            [
             0.6,
             "#e6f5d0"
            ],
            [
             0.7,
             "#b8e186"
            ],
            [
             0.8,
             "#7fbc41"
            ],
            [
             0.9,
             "#4d9221"
            ],
            [
             1,
             "#276419"
            ]
           ],
           "sequential": [
            [
             0,
             "#0d0887"
            ],
            [
             0.1111111111111111,
             "#46039f"
            ],
            [
             0.2222222222222222,
             "#7201a8"
            ],
            [
             0.3333333333333333,
             "#9c179e"
            ],
            [
             0.4444444444444444,
             "#bd3786"
            ],
            [
             0.5555555555555556,
             "#d8576b"
            ],
            [
             0.6666666666666666,
             "#ed7953"
            ],
            [
             0.7777777777777778,
             "#fb9f3a"
            ],
            [
             0.8888888888888888,
             "#fdca26"
            ],
            [
             1,
             "#f0f921"
            ]
           ],
           "sequentialminus": [
            [
             0,
             "#0d0887"
            ],
            [
             0.1111111111111111,
             "#46039f"
            ],
            [
             0.2222222222222222,
             "#7201a8"
            ],
            [
             0.3333333333333333,
             "#9c179e"
            ],
            [
             0.4444444444444444,
             "#bd3786"
            ],
            [
             0.5555555555555556,
             "#d8576b"
            ],
            [
             0.6666666666666666,
             "#ed7953"
            ],
            [
             0.7777777777777778,
             "#fb9f3a"
            ],
            [
             0.8888888888888888,
             "#fdca26"
            ],
            [
             1,
             "#f0f921"
            ]
           ]
          },
          "colorway": [
           "#636efa",
           "#EF553B",
           "#00cc96",
           "#ab63fa",
           "#FFA15A",
           "#19d3f3",
           "#FF6692",
           "#B6E880",
           "#FF97FF",
           "#FECB52"
          ],
          "font": {
           "color": "#2a3f5f"
          },
          "geo": {
           "bgcolor": "white",
           "lakecolor": "white",
           "landcolor": "#E5ECF6",
           "showlakes": true,
           "showland": true,
           "subunitcolor": "white"
          },
          "hoverlabel": {
           "align": "left"
          },
          "hovermode": "closest",
          "mapbox": {
           "style": "light"
          },
          "paper_bgcolor": "white",
          "plot_bgcolor": "#E5ECF6",
          "polar": {
           "angularaxis": {
            "gridcolor": "white",
            "linecolor": "white",
            "ticks": ""
           },
           "bgcolor": "#E5ECF6",
           "radialaxis": {
            "gridcolor": "white",
            "linecolor": "white",
            "ticks": ""
           }
          },
          "scene": {
           "xaxis": {
            "backgroundcolor": "#E5ECF6",
            "gridcolor": "white",
            "gridwidth": 2,
            "linecolor": "white",
            "showbackground": true,
            "ticks": "",
            "zerolinecolor": "white"
           },
           "yaxis": {
            "backgroundcolor": "#E5ECF6",
            "gridcolor": "white",
            "gridwidth": 2,
            "linecolor": "white",
            "showbackground": true,
            "ticks": "",
            "zerolinecolor": "white"
           },
           "zaxis": {
            "backgroundcolor": "#E5ECF6",
            "gridcolor": "white",
            "gridwidth": 2,
            "linecolor": "white",
            "showbackground": true,
            "ticks": "",
            "zerolinecolor": "white"
           }
          },
          "shapedefaults": {
           "line": {
            "color": "#2a3f5f"
           }
          },
          "ternary": {
           "aaxis": {
            "gridcolor": "white",
            "linecolor": "white",
            "ticks": ""
           },
           "baxis": {
            "gridcolor": "white",
            "linecolor": "white",
            "ticks": ""
           },
           "bgcolor": "#E5ECF6",
           "caxis": {
            "gridcolor": "white",
            "linecolor": "white",
            "ticks": ""
           }
          },
          "title": {
           "x": 0.05
          },
          "xaxis": {
           "automargin": true,
           "gridcolor": "white",
           "linecolor": "white",
           "ticks": "",
           "title": {
            "standoff": 15
           },
           "zerolinecolor": "white",
           "zerolinewidth": 2
          },
          "yaxis": {
           "automargin": true,
           "gridcolor": "white",
           "linecolor": "white",
           "ticks": "",
           "title": {
            "standoff": 15
           },
           "zerolinecolor": "white",
           "zerolinewidth": 2
          }
         }
        },
        "title": {
         "font": {
          "color": "#4D5663"
         }
        },
        "xaxis": {
         "anchor": "y",
         "domain": [
          0,
          0.2125
         ],
         "gridcolor": "#E1E5ED",
         "showgrid": false,
         "tickfont": {
          "color": "#4D5663"
         },
         "title": {
          "font": {
           "color": "#4D5663"
          },
          "text": ""
         },
         "zerolinecolor": "#E1E5ED"
        },
        "xaxis10": {
         "anchor": "y10",
         "domain": [
          0.2625,
          0.475
         ],
         "gridcolor": "#E1E5ED",
         "showgrid": false,
         "tickfont": {
          "color": "#4D5663"
         },
         "title": {
          "font": {
           "color": "#4D5663"
          },
          "text": ""
         },
         "zerolinecolor": "#E1E5ED"
        },
        "xaxis11": {
         "anchor": "y11",
         "domain": [
          0.525,
          0.7375
         ],
         "gridcolor": "#E1E5ED",
         "showgrid": false,
         "tickfont": {
          "color": "#4D5663"
         },
         "title": {
          "font": {
           "color": "#4D5663"
          },
          "text": ""
         },
         "zerolinecolor": "#E1E5ED"
        },
        "xaxis12": {
         "anchor": "y12",
         "domain": [
          0.7875,
          1
         ],
         "gridcolor": "#E1E5ED",
         "showgrid": false,
         "tickfont": {
          "color": "#4D5663"
         },
         "title": {
          "font": {
           "color": "#4D5663"
          },
          "text": ""
         },
         "zerolinecolor": "#E1E5ED"
        },
        "xaxis13": {
         "anchor": "y13",
         "domain": [
          0,
          0.2125
         ],
         "gridcolor": "#E1E5ED",
         "showgrid": false,
         "tickfont": {
          "color": "#4D5663"
         },
         "title": {
          "font": {
           "color": "#4D5663"
          },
          "text": ""
         },
         "zerolinecolor": "#E1E5ED"
        },
        "xaxis14": {
         "anchor": "y14",
         "domain": [
          0.2625,
          0.475
         ],
         "gridcolor": "#E1E5ED",
         "showgrid": false,
         "tickfont": {
          "color": "#4D5663"
         },
         "title": {
          "font": {
           "color": "#4D5663"
          },
          "text": ""
         },
         "zerolinecolor": "#E1E5ED"
        },
        "xaxis15": {
         "anchor": "y15",
         "domain": [
          0.525,
          0.7375
         ],
         "gridcolor": "#E1E5ED",
         "showgrid": false,
         "tickfont": {
          "color": "#4D5663"
         },
         "title": {
          "font": {
           "color": "#4D5663"
          },
          "text": ""
         },
         "zerolinecolor": "#E1E5ED"
        },
        "xaxis16": {
         "anchor": "y16",
         "domain": [
          0.7875,
          1
         ],
         "gridcolor": "#E1E5ED",
         "showgrid": false,
         "tickfont": {
          "color": "#4D5663"
         },
         "title": {
          "font": {
           "color": "#4D5663"
          },
          "text": ""
         },
         "zerolinecolor": "#E1E5ED"
        },
        "xaxis2": {
         "anchor": "y2",
         "domain": [
          0.2625,
          0.475
         ],
         "gridcolor": "#E1E5ED",
         "showgrid": false,
         "tickfont": {
          "color": "#4D5663"
         },
         "title": {
          "font": {
           "color": "#4D5663"
          },
          "text": ""
         },
         "zerolinecolor": "#E1E5ED"
        },
        "xaxis3": {
         "anchor": "y3",
         "domain": [
          0.525,
          0.7375
         ],
         "gridcolor": "#E1E5ED",
         "showgrid": false,
         "tickfont": {
          "color": "#4D5663"
         },
         "title": {
          "font": {
           "color": "#4D5663"
          },
          "text": ""
         },
         "zerolinecolor": "#E1E5ED"
        },
        "xaxis4": {
         "anchor": "y4",
         "domain": [
          0.7875,
          1
         ],
         "gridcolor": "#E1E5ED",
         "showgrid": false,
         "tickfont": {
          "color": "#4D5663"
         },
         "title": {
          "font": {
           "color": "#4D5663"
          },
          "text": ""
         },
         "zerolinecolor": "#E1E5ED"
        },
        "xaxis5": {
         "anchor": "y5",
         "domain": [
          0,
          0.2125
         ],
         "gridcolor": "#E1E5ED",
         "showgrid": false,
         "tickfont": {
          "color": "#4D5663"
         },
         "title": {
          "font": {
           "color": "#4D5663"
          },
          "text": ""
         },
         "zerolinecolor": "#E1E5ED"
        },
        "xaxis6": {
         "anchor": "y6",
         "domain": [
          0.2625,
          0.475
         ],
         "gridcolor": "#E1E5ED",
         "showgrid": false,
         "tickfont": {
          "color": "#4D5663"
         },
         "title": {
          "font": {
           "color": "#4D5663"
          },
          "text": ""
         },
         "zerolinecolor": "#E1E5ED"
        },
        "xaxis7": {
         "anchor": "y7",
         "domain": [
          0.525,
          0.7375
         ],
         "gridcolor": "#E1E5ED",
         "showgrid": false,
         "tickfont": {
          "color": "#4D5663"
         },
         "title": {
          "font": {
           "color": "#4D5663"
          },
          "text": ""
         },
         "zerolinecolor": "#E1E5ED"
        },
        "xaxis8": {
         "anchor": "y8",
         "domain": [
          0.7875,
          1
         ],
         "gridcolor": "#E1E5ED",
         "showgrid": false,
         "tickfont": {
          "color": "#4D5663"
         },
         "title": {
          "font": {
           "color": "#4D5663"
          },
          "text": ""
         },
         "zerolinecolor": "#E1E5ED"
        },
        "xaxis9": {
         "anchor": "y9",
         "domain": [
          0,
          0.2125
         ],
         "gridcolor": "#E1E5ED",
         "showgrid": false,
         "tickfont": {
          "color": "#4D5663"
         },
         "title": {
          "font": {
           "color": "#4D5663"
          },
          "text": ""
         },
         "zerolinecolor": "#E1E5ED"
        },
        "yaxis": {
         "anchor": "x",
         "domain": [
          0.8025,
          1
         ],
         "gridcolor": "#E1E5ED",
         "showgrid": false,
         "tickfont": {
          "color": "#4D5663"
         },
         "title": {
          "font": {
           "color": "#4D5663"
          },
          "text": ""
         },
         "zerolinecolor": "#E1E5ED"
        },
        "yaxis10": {
         "anchor": "x10",
         "domain": [
          0.2675,
          0.465
         ],
         "gridcolor": "#E1E5ED",
         "showgrid": false,
         "tickfont": {
          "color": "#4D5663"
         },
         "title": {
          "font": {
           "color": "#4D5663"
          },
          "text": ""
         },
         "zerolinecolor": "#E1E5ED"
        },
        "yaxis11": {
         "anchor": "x11",
         "domain": [
          0.2675,
          0.465
         ],
         "gridcolor": "#E1E5ED",
         "showgrid": false,
         "tickfont": {
          "color": "#4D5663"
         },
         "title": {
          "font": {
           "color": "#4D5663"
          },
          "text": ""
         },
         "zerolinecolor": "#E1E5ED"
        },
        "yaxis12": {
         "anchor": "x12",
         "domain": [
          0.2675,
          0.465
         ],
         "gridcolor": "#E1E5ED",
         "showgrid": false,
         "tickfont": {
          "color": "#4D5663"
         },
         "title": {
          "font": {
           "color": "#4D5663"
          },
          "text": ""
         },
         "zerolinecolor": "#E1E5ED"
        },
        "yaxis13": {
         "anchor": "x13",
         "domain": [
          0,
          0.1975
         ],
         "gridcolor": "#E1E5ED",
         "showgrid": false,
         "tickfont": {
          "color": "#4D5663"
         },
         "title": {
          "font": {
           "color": "#4D5663"
          },
          "text": ""
         },
         "zerolinecolor": "#E1E5ED"
        },
        "yaxis14": {
         "anchor": "x14",
         "domain": [
          0,
          0.1975
         ],
         "gridcolor": "#E1E5ED",
         "showgrid": false,
         "tickfont": {
          "color": "#4D5663"
         },
         "title": {
          "font": {
           "color": "#4D5663"
          },
          "text": ""
         },
         "zerolinecolor": "#E1E5ED"
        },
        "yaxis15": {
         "anchor": "x15",
         "domain": [
          0,
          0.1975
         ],
         "gridcolor": "#E1E5ED",
         "showgrid": false,
         "tickfont": {
          "color": "#4D5663"
         },
         "title": {
          "font": {
           "color": "#4D5663"
          },
          "text": ""
         },
         "zerolinecolor": "#E1E5ED"
        },
        "yaxis16": {
         "anchor": "x16",
         "domain": [
          0,
          0.1975
         ],
         "gridcolor": "#E1E5ED",
         "showgrid": false,
         "tickfont": {
          "color": "#4D5663"
         },
         "title": {
          "font": {
           "color": "#4D5663"
          },
          "text": ""
         },
         "zerolinecolor": "#E1E5ED"
        },
        "yaxis2": {
         "anchor": "x2",
         "domain": [
          0.8025,
          1
         ],
         "gridcolor": "#E1E5ED",
         "showgrid": false,
         "tickfont": {
          "color": "#4D5663"
         },
         "title": {
          "font": {
           "color": "#4D5663"
          },
          "text": ""
         },
         "zerolinecolor": "#E1E5ED"
        },
        "yaxis3": {
         "anchor": "x3",
         "domain": [
          0.8025,
          1
         ],
         "gridcolor": "#E1E5ED",
         "showgrid": false,
         "tickfont": {
          "color": "#4D5663"
         },
         "title": {
          "font": {
           "color": "#4D5663"
          },
          "text": ""
         },
         "zerolinecolor": "#E1E5ED"
        },
        "yaxis4": {
         "anchor": "x4",
         "domain": [
          0.8025,
          1
         ],
         "gridcolor": "#E1E5ED",
         "showgrid": false,
         "tickfont": {
          "color": "#4D5663"
         },
         "title": {
          "font": {
           "color": "#4D5663"
          },
          "text": ""
         },
         "zerolinecolor": "#E1E5ED"
        },
        "yaxis5": {
         "anchor": "x5",
         "domain": [
          0.535,
          0.7325
         ],
         "gridcolor": "#E1E5ED",
         "showgrid": false,
         "tickfont": {
          "color": "#4D5663"
         },
         "title": {
          "font": {
           "color": "#4D5663"
          },
          "text": ""
         },
         "zerolinecolor": "#E1E5ED"
        },
        "yaxis6": {
         "anchor": "x6",
         "domain": [
          0.535,
          0.7325
         ],
         "gridcolor": "#E1E5ED",
         "showgrid": false,
         "tickfont": {
          "color": "#4D5663"
         },
         "title": {
          "font": {
           "color": "#4D5663"
          },
          "text": ""
         },
         "zerolinecolor": "#E1E5ED"
        },
        "yaxis7": {
         "anchor": "x7",
         "domain": [
          0.535,
          0.7325
         ],
         "gridcolor": "#E1E5ED",
         "showgrid": false,
         "tickfont": {
          "color": "#4D5663"
         },
         "title": {
          "font": {
           "color": "#4D5663"
          },
          "text": ""
         },
         "zerolinecolor": "#E1E5ED"
        },
        "yaxis8": {
         "anchor": "x8",
         "domain": [
          0.535,
          0.7325
         ],
         "gridcolor": "#E1E5ED",
         "showgrid": false,
         "tickfont": {
          "color": "#4D5663"
         },
         "title": {
          "font": {
           "color": "#4D5663"
          },
          "text": ""
         },
         "zerolinecolor": "#E1E5ED"
        },
        "yaxis9": {
         "anchor": "x9",
         "domain": [
          0.2675,
          0.465
         ],
         "gridcolor": "#E1E5ED",
         "showgrid": false,
         "tickfont": {
          "color": "#4D5663"
         },
         "title": {
          "font": {
           "color": "#4D5663"
          },
          "text": ""
         },
         "zerolinecolor": "#E1E5ED"
        }
       }
      },
      "text/html": [
       "<div>                            <div id=\"fd8e00f0-94dc-43aa-9c3d-08d48155b0e3\" class=\"plotly-graph-div\" style=\"height:525px; width:100%;\"></div>            <script type=\"text/javascript\">                require([\"plotly\"], function(Plotly) {                    window.PLOTLYENV=window.PLOTLYENV || {};\n",
       "                    window.PLOTLYENV.BASE_URL='https://plot.ly';                                    if (document.getElementById(\"fd8e00f0-94dc-43aa-9c3d-08d48155b0e3\")) {                    Plotly.newPlot(                        \"fd8e00f0-94dc-43aa-9c3d-08d48155b0e3\",                        [{\"histfunc\":\"count\",\"histnorm\":\"\",\"marker\":{\"color\":\"rgba(255, 153, 51, 1.0)\",\"line\":{\"color\":\"#4D5663\",\"width\":1.3}},\"name\":\"A\",\"nbinsx\":10,\"opacity\":0.8,\"orientation\":\"v\",\"type\":\"histogram\",\"x\":[0.5816966956153499,0.12316386314759027,-0.22398171843685152,-0.8895932385975902,0.2752188676636905,-0.2043642311215671,0.3948123118583736,0.48645630871897805,1.5739071788301084,2.1488658396531037,-0.31708220249715474,-0.9711842754967692,1.2628175279667635,-1.1834028893365194,1.6944271259868855,-0.5931338474672299,0.0027807338470003007,-0.6818703057681064,0.6628178049410343,0.03540578774837641,0.732895635310974,-0.4275137954232451,1.320181769808673,-1.482472611175471,2.071582002661825,-0.01967219630635455,1.209423427603569,1.6610041759226586,-0.5453412431129742,0.3258745239218415,-0.27722164238155605,0.6478830076709254,0.9950648418037051,-0.48714277801385814,-0.4436228773791175,0.11702106920114262,-0.5740663577799426,2.002122515184173,0.014114137435172026,0.2517242524460662,-0.11235543580606286,0.5375253295601139,-0.5968833989130355,0.048054972651586265,-1.123202596891187,0.004196248013858794,0.661815828049052,-1.2980041274097809,0.3744164921338543,-0.17708144186725294,0.2076525777904713,-1.3025365058856804,-1.5590190180060983,0.6248400236247296,0.7911141185158476,-0.49037525611041033,1.2330545424386792,0.6709923076578755,-0.5331723733231042,0.10228037344181613,-0.1363508547845355,2.218762225844916,0.5446047848971652,-0.08107298699081342,0.585020407460338,0.7651851072247567,0.5140874559311198,-0.5527227666251414,0.328474992492661,1.7157964042871225,-0.4754802351708734,-0.2393856771841323,1.0401174604876424,1.4134185841189972,-0.665029001262137,-1.122798015523656,-0.5260727243464802,-2.6006280522817535,1.0467518800084306,0.39306453239966815,-0.33878690050097,-1.7677071848964492,0.23253039445027843,-0.6199365487060867,1.4471217025997936,-0.507721592541854,0.14885342347303643,0.5986738883632382,0.16912484206819606,0.9555600442980435,-1.0980989001705028,-0.020763816433263235,0.6062071067217284,-0.8319213017686466,1.0144730260507537,1.458043788509651,-1.4586298959821542,-1.3109773870068864,-1.9505596262167764,1.1103572219598006],\"xaxis\":\"x\",\"yaxis\":\"y\"},{\"line\":{\"color\":\"rgba(128, 128, 128, 1.0)\",\"dash\":\"solid\",\"shape\":\"linear\",\"width\":1.3},\"marker\":{\"size\":2,\"symbol\":\"circle\"},\"mode\":\"markers\",\"name\":\"A\",\"text\":\"\",\"type\":\"scatter\",\"x\":[-0.5696383137081489,1.1351734827535165,0.9152001917611036,-0.00844155094580938,-0.06258170188690283,-1.397960774408616,0.3435980433431662,1.9771984759663241,0.7980962552551226,0.5099384295338028,0.6953264740395925,-0.050924092129710836,-0.6895188701915604,0.915616107381015,0.02037246592326186,-1.1576373722887503,-0.2887963256996219,0.4796209590156369,-1.2707481935591634,-1.0331744754868155,-1.6716818578114625,1.2795257614096645,-0.04397638767144347,-1.516411895677526,-0.5005577684774363,0.5504292610693635,0.5207414902462956,-1.0748864153982811,0.42032320246494,1.1925244880627393,-1.1332177751503012,-0.24171705755197975,0.1584254681040101,-0.32122177949433656,1.1041953084365854,0.08917121729266873,1.3853616467346457,-0.3212564324754563,-0.6905917343160966,-1.9487907074894022,-0.31918002995573874,1.0099101012017528,-0.23567285927983872,0.786843177647913,0.3801931489000957,0.06733360341928074,-0.4182380904879572,0.448230605012123,1.1428226019923269,-0.7008002812067107,-0.9528265960823682,0.16921409666104573,-0.2321189369103486,1.4067150981879595,-0.8996080725849857,-0.020364228761414607,-0.6051186814565923,-0.4542178787439367,0.8902985465091476,1.4360863024404278,0.6424637101068639,-0.24572297220482406,-1.144635878568656,-0.3104964171676207,-1.8442320270700612,-0.402890083735357,0.3096071207553138,-1.3247774875957332,-0.5749890046206451,-2.5623083464476264,2.0939381145938447,-1.4627844809059278,-1.04506207721916,-1.1635640272612695,0.8498142990554263,0.5790979612786291,-0.8035121129131575,0.6915682382008483,0.9887753358120481,0.5725170736416944,0.637381534075287,-1.2161750257605888,-0.7287165307989403,-0.5464232876632266,-0.3649806962939663,1.3472364069340996,1.3415149669927902,-0.7423986256356838,0.3235175537655451,0.01830620317089403,-0.21560964163712618,-0.6799803836072068,-1.4445582587569874,1.2488961247500823,0.06940321488678963,0.048331872198486114,-0.9251927212592852,-1.629426086050211,0.9752502823722285,1.2294186690010769],\"xaxis\":\"x2\",\"y\":[0.5816966956153499,0.12316386314759027,-0.22398171843685152,-0.8895932385975902,0.2752188676636905,-0.2043642311215671,0.3948123118583736,0.48645630871897805,1.5739071788301084,2.1488658396531037,-0.31708220249715474,-0.9711842754967692,1.2628175279667635,-1.1834028893365194,1.6944271259868855,-0.5931338474672299,0.0027807338470003007,-0.6818703057681064,0.6628178049410343,0.03540578774837641,0.732895635310974,-0.4275137954232451,1.320181769808673,-1.482472611175471,2.071582002661825,-0.01967219630635455,1.209423427603569,1.6610041759226586,-0.5453412431129742,0.3258745239218415,-0.27722164238155605,0.6478830076709254,0.9950648418037051,-0.48714277801385814,-0.4436228773791175,0.11702106920114262,-0.5740663577799426,2.002122515184173,0.014114137435172026,0.2517242524460662,-0.11235543580606286,0.5375253295601139,-0.5968833989130355,0.048054972651586265,-1.123202596891187,0.004196248013858794,0.661815828049052,-1.2980041274097809,0.3744164921338543,-0.17708144186725294,0.2076525777904713,-1.3025365058856804,-1.5590190180060983,0.6248400236247296,0.7911141185158476,-0.49037525611041033,1.2330545424386792,0.6709923076578755,-0.5331723733231042,0.10228037344181613,-0.1363508547845355,2.218762225844916,0.5446047848971652,-0.08107298699081342,0.585020407460338,0.7651851072247567,0.5140874559311198,-0.5527227666251414,0.328474992492661,1.7157964042871225,-0.4754802351708734,-0.2393856771841323,1.0401174604876424,1.4134185841189972,-0.665029001262137,-1.122798015523656,-0.5260727243464802,-2.6006280522817535,1.0467518800084306,0.39306453239966815,-0.33878690050097,-1.7677071848964492,0.23253039445027843,-0.6199365487060867,1.4471217025997936,-0.507721592541854,0.14885342347303643,0.5986738883632382,0.16912484206819606,0.9555600442980435,-1.0980989001705028,-0.020763816433263235,0.6062071067217284,-0.8319213017686466,1.0144730260507537,1.458043788509651,-1.4586298959821542,-1.3109773870068864,-1.9505596262167764,1.1103572219598006],\"yaxis\":\"y2\"},{\"line\":{\"color\":\"rgba(128, 128, 128, 1.0)\",\"dash\":\"solid\",\"shape\":\"linear\",\"width\":1.3},\"marker\":{\"size\":2,\"symbol\":\"circle\"},\"mode\":\"markers\",\"name\":\"A\",\"text\":\"\",\"type\":\"scatter\",\"x\":[-0.9459269174913192,0.19531141693783344,1.4303855991401946,0.036674790720557564,1.6326923785449838,0.8286045871157671,-0.6481868351097086,3.3916658927148924,-0.23154384282744422,1.5359424592188011,1.1935684228941061,1.8027797241776358,-1.3029711071589536,0.6983580159031979,1.9470600799832063,-0.6548101823073411,-0.20805691104366308,-1.8460005945299778,1.4626668472159017,1.4763952429913119,1.9210846711053138,1.3076687985375077,-3.2567661905590604,-1.6612107230619586,0.4176057096249829,0.42061951190981944,0.3596651067545893,0.13694467232436985,-1.7151734572271393,0.06338432905322991,0.7063361662070474,0.20968216768990333,-0.6271829105879608,-1.2140464658425827,-0.3380145286294853,1.0503729545565748,0.2972746289819503,0.46453433038728964,-0.6709599609392913,0.9079049774175922,0.6509528929577602,-0.4288704871701461,-0.1354137935065262,-0.8781446182484274,-0.009118936141923863,-1.5394821485082721,0.9988622250327465,0.8626156053102499,-0.4094858426901262,0.4761067946376451,-1.6897324420533706,-0.3587935380254397,-0.14877969735308644,0.06727214872836712,-1.0734949787033488,-2.7726853944714307,0.10491033862417087,0.5641612600718001,0.7236960155113175,-0.7038408668181785,0.8495952534911181,-1.1830462402811586,1.0021146824749858,1.1107368011471532,-0.3389152218254186,-0.439484812022148,1.066756487029043,-0.4005847537123203,0.6319762725044623,-0.5380413734209953,-0.08738794666023814,-1.8254551843999103,1.0175681484172752,0.0021127376077187962,-0.7705028546186218,0.06631526524759794,-0.5352360753763258,-1.4559255362244732,0.6814927595357511,0.5107840539439649,0.9796316487643698,-0.21905463173170495,0.08921105080631453,-0.08792361706888079,-0.41923618756050757,-0.4981415546229659,-0.07847535524500188,-0.24018071690368933,-0.38239795722451453,-0.2418035596682951,0.3031425898032398,1.1414566305423526,0.5448674055655569,-0.7664703552982213,-0.1575366576650068,1.3916397672612317,0.8310050728738548,-0.014191793254025784,-0.36244587664514816,-1.6348859125657678],\"xaxis\":\"x3\",\"y\":[0.5816966956153499,0.12316386314759027,-0.22398171843685152,-0.8895932385975902,0.2752188676636905,-0.2043642311215671,0.3948123118583736,0.48645630871897805,1.5739071788301084,2.1488658396531037,-0.31708220249715474,-0.9711842754967692,1.2628175279667635,-1.1834028893365194,1.6944271259868855,-0.5931338474672299,0.0027807338470003007,-0.6818703057681064,0.6628178049410343,0.03540578774837641,0.732895635310974,-0.4275137954232451,1.320181769808673,-1.482472611175471,2.071582002661825,-0.01967219630635455,1.209423427603569,1.6610041759226586,-0.5453412431129742,0.3258745239218415,-0.27722164238155605,0.6478830076709254,0.9950648418037051,-0.48714277801385814,-0.4436228773791175,0.11702106920114262,-0.5740663577799426,2.002122515184173,0.014114137435172026,0.2517242524460662,-0.11235543580606286,0.5375253295601139,-0.5968833989130355,0.048054972651586265,-1.123202596891187,0.004196248013858794,0.661815828049052,-1.2980041274097809,0.3744164921338543,-0.17708144186725294,0.2076525777904713,-1.3025365058856804,-1.5590190180060983,0.6248400236247296,0.7911141185158476,-0.49037525611041033,1.2330545424386792,0.6709923076578755,-0.5331723733231042,0.10228037344181613,-0.1363508547845355,2.218762225844916,0.5446047848971652,-0.08107298699081342,0.585020407460338,0.7651851072247567,0.5140874559311198,-0.5527227666251414,0.328474992492661,1.7157964042871225,-0.4754802351708734,-0.2393856771841323,1.0401174604876424,1.4134185841189972,-0.665029001262137,-1.122798015523656,-0.5260727243464802,-2.6006280522817535,1.0467518800084306,0.39306453239966815,-0.33878690050097,-1.7677071848964492,0.23253039445027843,-0.6199365487060867,1.4471217025997936,-0.507721592541854,0.14885342347303643,0.5986738883632382,0.16912484206819606,0.9555600442980435,-1.0980989001705028,-0.020763816433263235,0.6062071067217284,-0.8319213017686466,1.0144730260507537,1.458043788509651,-1.4586298959821542,-1.3109773870068864,-1.9505596262167764,1.1103572219598006],\"yaxis\":\"y3\"},{\"line\":{\"color\":\"rgba(128, 128, 128, 1.0)\",\"dash\":\"solid\",\"shape\":\"linear\",\"width\":1.3},\"marker\":{\"size\":2,\"symbol\":\"circle\"},\"mode\":\"markers\",\"name\":\"A\",\"text\":\"\",\"type\":\"scatter\",\"x\":[-0.6404112315622998,-1.2036166043389107,-0.26545321366944863,0.7346333548884144,0.48078680404730695,0.05422684339380275,-0.49966150321409286,-0.35421347019870486,1.881331476859132,0.3899522754142814,0.5089092271950661,-0.4032942201657905,0.07509589705458175,-1.0001523874809641,0.10058576147252309,1.2503359025341199,-0.12222233531902106,-0.6465947472710554,-0.12102373860354199,1.665760652611896,-0.2704779995377056,2.7099032561846235,-0.5606662929085504,-0.09189593830619185,1.4596458096663016,0.34168443118914005,1.0223679905549665,-0.7959115689503029,0.7135511703827034,0.9339507623391351,-0.7763600497771335,-0.4428577184276622,-0.36086435401975436,-0.8091761978141375,-1.0720939193957855,0.5162018883739438,-0.4526279649763703,-1.1575681014160044,2.0649448666751122,-0.5682142945678975,0.39511361457906574,-1.2871589804042116,-1.1509207007891296,1.1421519425253968,-1.9671813198861308,0.6666827149967166,0.030219767601846796,-0.6717614488644225,-1.2777657582111945,-0.818040739168885,-0.9472672580307068,-1.7094306873751057,0.08823247868522535,-0.9713362783218384,1.1909251302165311,-1.5864277368053585,0.4210433879345378,-0.3332088572440201,-0.36518229798656426,0.7741998285990774,0.6258155206891973,0.27965045998007354,0.1623426593318974,0.3959902901434726,-0.07276839066216864,-0.5437140184421474,-1.5510141706342768,-0.9788360115750212,-0.27512689218037645,-2.3290172771902546,0.5146476121090945,1.8018496176990066,-0.07522691689864641,-0.0494554751985565,-0.5338208431440795,-0.17314822539444757,0.572036276345299,-1.0268114660962206,0.3582853193530316,2.4797019419531336,1.5630706985459852,-2.785988498132636,-0.27813328931761233,0.43565577181550663,0.3839286453496348,0.4990716288796377,0.02251828966155011,-0.8605405050647003,-1.2100661503805077,0.8513389533495609,-0.41069095401466305,0.007956605216103913,-0.16919967565153948,0.6346036555422729,0.8707563302648257,-0.22978488676347006,-2.2561068330466374,1.2677174057067335,-0.3616913694520314,-0.5220391770856552],\"xaxis\":\"x4\",\"y\":[0.5816966956153499,0.12316386314759027,-0.22398171843685152,-0.8895932385975902,0.2752188676636905,-0.2043642311215671,0.3948123118583736,0.48645630871897805,1.5739071788301084,2.1488658396531037,-0.31708220249715474,-0.9711842754967692,1.2628175279667635,-1.1834028893365194,1.6944271259868855,-0.5931338474672299,0.0027807338470003007,-0.6818703057681064,0.6628178049410343,0.03540578774837641,0.732895635310974,-0.4275137954232451,1.320181769808673,-1.482472611175471,2.071582002661825,-0.01967219630635455,1.209423427603569,1.6610041759226586,-0.5453412431129742,0.3258745239218415,-0.27722164238155605,0.6478830076709254,0.9950648418037051,-0.48714277801385814,-0.4436228773791175,0.11702106920114262,-0.5740663577799426,2.002122515184173,0.014114137435172026,0.2517242524460662,-0.11235543580606286,0.5375253295601139,-0.5968833989130355,0.048054972651586265,-1.123202596891187,0.004196248013858794,0.661815828049052,-1.2980041274097809,0.3744164921338543,-0.17708144186725294,0.2076525777904713,-1.3025365058856804,-1.5590190180060983,0.6248400236247296,0.7911141185158476,-0.49037525611041033,1.2330545424386792,0.6709923076578755,-0.5331723733231042,0.10228037344181613,-0.1363508547845355,2.218762225844916,0.5446047848971652,-0.08107298699081342,0.585020407460338,0.7651851072247567,0.5140874559311198,-0.5527227666251414,0.328474992492661,1.7157964042871225,-0.4754802351708734,-0.2393856771841323,1.0401174604876424,1.4134185841189972,-0.665029001262137,-1.122798015523656,-0.5260727243464802,-2.6006280522817535,1.0467518800084306,0.39306453239966815,-0.33878690050097,-1.7677071848964492,0.23253039445027843,-0.6199365487060867,1.4471217025997936,-0.507721592541854,0.14885342347303643,0.5986738883632382,0.16912484206819606,0.9555600442980435,-1.0980989001705028,-0.020763816433263235,0.6062071067217284,-0.8319213017686466,1.0144730260507537,1.458043788509651,-1.4586298959821542,-1.3109773870068864,-1.9505596262167764,1.1103572219598006],\"yaxis\":\"y4\"},{\"line\":{\"color\":\"rgba(128, 128, 128, 1.0)\",\"dash\":\"solid\",\"shape\":\"linear\",\"width\":1.3},\"marker\":{\"size\":2,\"symbol\":\"circle\"},\"mode\":\"markers\",\"name\":\"B\",\"text\":\"\",\"type\":\"scatter\",\"x\":[0.5816966956153499,0.12316386314759027,-0.22398171843685152,-0.8895932385975902,0.2752188676636905,-0.2043642311215671,0.3948123118583736,0.48645630871897805,1.5739071788301084,2.1488658396531037,-0.31708220249715474,-0.9711842754967692,1.2628175279667635,-1.1834028893365194,1.6944271259868855,-0.5931338474672299,0.0027807338470003007,-0.6818703057681064,0.6628178049410343,0.03540578774837641,0.732895635310974,-0.4275137954232451,1.320181769808673,-1.482472611175471,2.071582002661825,-0.01967219630635455,1.209423427603569,1.6610041759226586,-0.5453412431129742,0.3258745239218415,-0.27722164238155605,0.6478830076709254,0.9950648418037051,-0.48714277801385814,-0.4436228773791175,0.11702106920114262,-0.5740663577799426,2.002122515184173,0.014114137435172026,0.2517242524460662,-0.11235543580606286,0.5375253295601139,-0.5968833989130355,0.048054972651586265,-1.123202596891187,0.004196248013858794,0.661815828049052,-1.2980041274097809,0.3744164921338543,-0.17708144186725294,0.2076525777904713,-1.3025365058856804,-1.5590190180060983,0.6248400236247296,0.7911141185158476,-0.49037525611041033,1.2330545424386792,0.6709923076578755,-0.5331723733231042,0.10228037344181613,-0.1363508547845355,2.218762225844916,0.5446047848971652,-0.08107298699081342,0.585020407460338,0.7651851072247567,0.5140874559311198,-0.5527227666251414,0.328474992492661,1.7157964042871225,-0.4754802351708734,-0.2393856771841323,1.0401174604876424,1.4134185841189972,-0.665029001262137,-1.122798015523656,-0.5260727243464802,-2.6006280522817535,1.0467518800084306,0.39306453239966815,-0.33878690050097,-1.7677071848964492,0.23253039445027843,-0.6199365487060867,1.4471217025997936,-0.507721592541854,0.14885342347303643,0.5986738883632382,0.16912484206819606,0.9555600442980435,-1.0980989001705028,-0.020763816433263235,0.6062071067217284,-0.8319213017686466,1.0144730260507537,1.458043788509651,-1.4586298959821542,-1.3109773870068864,-1.9505596262167764,1.1103572219598006],\"xaxis\":\"x5\",\"y\":[-0.5696383137081489,1.1351734827535165,0.9152001917611036,-0.00844155094580938,-0.06258170188690283,-1.397960774408616,0.3435980433431662,1.9771984759663241,0.7980962552551226,0.5099384295338028,0.6953264740395925,-0.050924092129710836,-0.6895188701915604,0.915616107381015,0.02037246592326186,-1.1576373722887503,-0.2887963256996219,0.4796209590156369,-1.2707481935591634,-1.0331744754868155,-1.6716818578114625,1.2795257614096645,-0.04397638767144347,-1.516411895677526,-0.5005577684774363,0.5504292610693635,0.5207414902462956,-1.0748864153982811,0.42032320246494,1.1925244880627393,-1.1332177751503012,-0.24171705755197975,0.1584254681040101,-0.32122177949433656,1.1041953084365854,0.08917121729266873,1.3853616467346457,-0.3212564324754563,-0.6905917343160966,-1.9487907074894022,-0.31918002995573874,1.0099101012017528,-0.23567285927983872,0.786843177647913,0.3801931489000957,0.06733360341928074,-0.4182380904879572,0.448230605012123,1.1428226019923269,-0.7008002812067107,-0.9528265960823682,0.16921409666104573,-0.2321189369103486,1.4067150981879595,-0.8996080725849857,-0.020364228761414607,-0.6051186814565923,-0.4542178787439367,0.8902985465091476,1.4360863024404278,0.6424637101068639,-0.24572297220482406,-1.144635878568656,-0.3104964171676207,-1.8442320270700612,-0.402890083735357,0.3096071207553138,-1.3247774875957332,-0.5749890046206451,-2.5623083464476264,2.0939381145938447,-1.4627844809059278,-1.04506207721916,-1.1635640272612695,0.8498142990554263,0.5790979612786291,-0.8035121129131575,0.6915682382008483,0.9887753358120481,0.5725170736416944,0.637381534075287,-1.2161750257605888,-0.7287165307989403,-0.5464232876632266,-0.3649806962939663,1.3472364069340996,1.3415149669927902,-0.7423986256356838,0.3235175537655451,0.01830620317089403,-0.21560964163712618,-0.6799803836072068,-1.4445582587569874,1.2488961247500823,0.06940321488678963,0.048331872198486114,-0.9251927212592852,-1.629426086050211,0.9752502823722285,1.2294186690010769],\"yaxis\":\"y5\"},{\"histfunc\":\"count\",\"histnorm\":\"\",\"marker\":{\"color\":\"rgba(55, 128, 191, 1.0)\",\"line\":{\"color\":\"#4D5663\",\"width\":1.3}},\"name\":\"B\",\"nbinsx\":10,\"opacity\":0.8,\"orientation\":\"v\",\"type\":\"histogram\",\"x\":[-0.5696383137081489,1.1351734827535165,0.9152001917611036,-0.00844155094580938,-0.06258170188690283,-1.397960774408616,0.3435980433431662,1.9771984759663241,0.7980962552551226,0.5099384295338028,0.6953264740395925,-0.050924092129710836,-0.6895188701915604,0.915616107381015,0.02037246592326186,-1.1576373722887503,-0.2887963256996219,0.4796209590156369,-1.2707481935591634,-1.0331744754868155,-1.6716818578114625,1.2795257614096645,-0.04397638767144347,-1.516411895677526,-0.5005577684774363,0.5504292610693635,0.5207414902462956,-1.0748864153982811,0.42032320246494,1.1925244880627393,-1.1332177751503012,-0.24171705755197975,0.1584254681040101,-0.32122177949433656,1.1041953084365854,0.08917121729266873,1.3853616467346457,-0.3212564324754563,-0.6905917343160966,-1.9487907074894022,-0.31918002995573874,1.0099101012017528,-0.23567285927983872,0.786843177647913,0.3801931489000957,0.06733360341928074,-0.4182380904879572,0.448230605012123,1.1428226019923269,-0.7008002812067107,-0.9528265960823682,0.16921409666104573,-0.2321189369103486,1.4067150981879595,-0.8996080725849857,-0.020364228761414607,-0.6051186814565923,-0.4542178787439367,0.8902985465091476,1.4360863024404278,0.6424637101068639,-0.24572297220482406,-1.144635878568656,-0.3104964171676207,-1.8442320270700612,-0.402890083735357,0.3096071207553138,-1.3247774875957332,-0.5749890046206451,-2.5623083464476264,2.0939381145938447,-1.4627844809059278,-1.04506207721916,-1.1635640272612695,0.8498142990554263,0.5790979612786291,-0.8035121129131575,0.6915682382008483,0.9887753358120481,0.5725170736416944,0.637381534075287,-1.2161750257605888,-0.7287165307989403,-0.5464232876632266,-0.3649806962939663,1.3472364069340996,1.3415149669927902,-0.7423986256356838,0.3235175537655451,0.01830620317089403,-0.21560964163712618,-0.6799803836072068,-1.4445582587569874,1.2488961247500823,0.06940321488678963,0.048331872198486114,-0.9251927212592852,-1.629426086050211,0.9752502823722285,1.2294186690010769],\"xaxis\":\"x6\",\"yaxis\":\"y6\"},{\"line\":{\"color\":\"rgba(128, 128, 128, 1.0)\",\"dash\":\"solid\",\"shape\":\"linear\",\"width\":1.3},\"marker\":{\"size\":2,\"symbol\":\"circle\"},\"mode\":\"markers\",\"name\":\"B\",\"text\":\"\",\"type\":\"scatter\",\"x\":[-0.9459269174913192,0.19531141693783344,1.4303855991401946,0.036674790720557564,1.6326923785449838,0.8286045871157671,-0.6481868351097086,3.3916658927148924,-0.23154384282744422,1.5359424592188011,1.1935684228941061,1.8027797241776358,-1.3029711071589536,0.6983580159031979,1.9470600799832063,-0.6548101823073411,-0.20805691104366308,-1.8460005945299778,1.4626668472159017,1.4763952429913119,1.9210846711053138,1.3076687985375077,-3.2567661905590604,-1.6612107230619586,0.4176057096249829,0.42061951190981944,0.3596651067545893,0.13694467232436985,-1.7151734572271393,0.06338432905322991,0.7063361662070474,0.20968216768990333,-0.6271829105879608,-1.2140464658425827,-0.3380145286294853,1.0503729545565748,0.2972746289819503,0.46453433038728964,-0.6709599609392913,0.9079049774175922,0.6509528929577602,-0.4288704871701461,-0.1354137935065262,-0.8781446182484274,-0.009118936141923863,-1.5394821485082721,0.9988622250327465,0.8626156053102499,-0.4094858426901262,0.4761067946376451,-1.6897324420533706,-0.3587935380254397,-0.14877969735308644,0.06727214872836712,-1.0734949787033488,-2.7726853944714307,0.10491033862417087,0.5641612600718001,0.7236960155113175,-0.7038408668181785,0.8495952534911181,-1.1830462402811586,1.0021146824749858,1.1107368011471532,-0.3389152218254186,-0.439484812022148,1.066756487029043,-0.4005847537123203,0.6319762725044623,-0.5380413734209953,-0.08738794666023814,-1.8254551843999103,1.0175681484172752,0.0021127376077187962,-0.7705028546186218,0.06631526524759794,-0.5352360753763258,-1.4559255362244732,0.6814927595357511,0.5107840539439649,0.9796316487643698,-0.21905463173170495,0.08921105080631453,-0.08792361706888079,-0.41923618756050757,-0.4981415546229659,-0.07847535524500188,-0.24018071690368933,-0.38239795722451453,-0.2418035596682951,0.3031425898032398,1.1414566305423526,0.5448674055655569,-0.7664703552982213,-0.1575366576650068,1.3916397672612317,0.8310050728738548,-0.014191793254025784,-0.36244587664514816,-1.6348859125657678],\"xaxis\":\"x7\",\"y\":[-0.5696383137081489,1.1351734827535165,0.9152001917611036,-0.00844155094580938,-0.06258170188690283,-1.397960774408616,0.3435980433431662,1.9771984759663241,0.7980962552551226,0.5099384295338028,0.6953264740395925,-0.050924092129710836,-0.6895188701915604,0.915616107381015,0.02037246592326186,-1.1576373722887503,-0.2887963256996219,0.4796209590156369,-1.2707481935591634,-1.0331744754868155,-1.6716818578114625,1.2795257614096645,-0.04397638767144347,-1.516411895677526,-0.5005577684774363,0.5504292610693635,0.5207414902462956,-1.0748864153982811,0.42032320246494,1.1925244880627393,-1.1332177751503012,-0.24171705755197975,0.1584254681040101,-0.32122177949433656,1.1041953084365854,0.08917121729266873,1.3853616467346457,-0.3212564324754563,-0.6905917343160966,-1.9487907074894022,-0.31918002995573874,1.0099101012017528,-0.23567285927983872,0.786843177647913,0.3801931489000957,0.06733360341928074,-0.4182380904879572,0.448230605012123,1.1428226019923269,-0.7008002812067107,-0.9528265960823682,0.16921409666104573,-0.2321189369103486,1.4067150981879595,-0.8996080725849857,-0.020364228761414607,-0.6051186814565923,-0.4542178787439367,0.8902985465091476,1.4360863024404278,0.6424637101068639,-0.24572297220482406,-1.144635878568656,-0.3104964171676207,-1.8442320270700612,-0.402890083735357,0.3096071207553138,-1.3247774875957332,-0.5749890046206451,-2.5623083464476264,2.0939381145938447,-1.4627844809059278,-1.04506207721916,-1.1635640272612695,0.8498142990554263,0.5790979612786291,-0.8035121129131575,0.6915682382008483,0.9887753358120481,0.5725170736416944,0.637381534075287,-1.2161750257605888,-0.7287165307989403,-0.5464232876632266,-0.3649806962939663,1.3472364069340996,1.3415149669927902,-0.7423986256356838,0.3235175537655451,0.01830620317089403,-0.21560964163712618,-0.6799803836072068,-1.4445582587569874,1.2488961247500823,0.06940321488678963,0.048331872198486114,-0.9251927212592852,-1.629426086050211,0.9752502823722285,1.2294186690010769],\"yaxis\":\"y7\"},{\"line\":{\"color\":\"rgba(128, 128, 128, 1.0)\",\"dash\":\"solid\",\"shape\":\"linear\",\"width\":1.3},\"marker\":{\"size\":2,\"symbol\":\"circle\"},\"mode\":\"markers\",\"name\":\"B\",\"text\":\"\",\"type\":\"scatter\",\"x\":[-0.6404112315622998,-1.2036166043389107,-0.26545321366944863,0.7346333548884144,0.48078680404730695,0.05422684339380275,-0.49966150321409286,-0.35421347019870486,1.881331476859132,0.3899522754142814,0.5089092271950661,-0.4032942201657905,0.07509589705458175,-1.0001523874809641,0.10058576147252309,1.2503359025341199,-0.12222233531902106,-0.6465947472710554,-0.12102373860354199,1.665760652611896,-0.2704779995377056,2.7099032561846235,-0.5606662929085504,-0.09189593830619185,1.4596458096663016,0.34168443118914005,1.0223679905549665,-0.7959115689503029,0.7135511703827034,0.9339507623391351,-0.7763600497771335,-0.4428577184276622,-0.36086435401975436,-0.8091761978141375,-1.0720939193957855,0.5162018883739438,-0.4526279649763703,-1.1575681014160044,2.0649448666751122,-0.5682142945678975,0.39511361457906574,-1.2871589804042116,-1.1509207007891296,1.1421519425253968,-1.9671813198861308,0.6666827149967166,0.030219767601846796,-0.6717614488644225,-1.2777657582111945,-0.818040739168885,-0.9472672580307068,-1.7094306873751057,0.08823247868522535,-0.9713362783218384,1.1909251302165311,-1.5864277368053585,0.4210433879345378,-0.3332088572440201,-0.36518229798656426,0.7741998285990774,0.6258155206891973,0.27965045998007354,0.1623426593318974,0.3959902901434726,-0.07276839066216864,-0.5437140184421474,-1.5510141706342768,-0.9788360115750212,-0.27512689218037645,-2.3290172771902546,0.5146476121090945,1.8018496176990066,-0.07522691689864641,-0.0494554751985565,-0.5338208431440795,-0.17314822539444757,0.572036276345299,-1.0268114660962206,0.3582853193530316,2.4797019419531336,1.5630706985459852,-2.785988498132636,-0.27813328931761233,0.43565577181550663,0.3839286453496348,0.4990716288796377,0.02251828966155011,-0.8605405050647003,-1.2100661503805077,0.8513389533495609,-0.41069095401466305,0.007956605216103913,-0.16919967565153948,0.6346036555422729,0.8707563302648257,-0.22978488676347006,-2.2561068330466374,1.2677174057067335,-0.3616913694520314,-0.5220391770856552],\"xaxis\":\"x8\",\"y\":[-0.5696383137081489,1.1351734827535165,0.9152001917611036,-0.00844155094580938,-0.06258170188690283,-1.397960774408616,0.3435980433431662,1.9771984759663241,0.7980962552551226,0.5099384295338028,0.6953264740395925,-0.050924092129710836,-0.6895188701915604,0.915616107381015,0.02037246592326186,-1.1576373722887503,-0.2887963256996219,0.4796209590156369,-1.2707481935591634,-1.0331744754868155,-1.6716818578114625,1.2795257614096645,-0.04397638767144347,-1.516411895677526,-0.5005577684774363,0.5504292610693635,0.5207414902462956,-1.0748864153982811,0.42032320246494,1.1925244880627393,-1.1332177751503012,-0.24171705755197975,0.1584254681040101,-0.32122177949433656,1.1041953084365854,0.08917121729266873,1.3853616467346457,-0.3212564324754563,-0.6905917343160966,-1.9487907074894022,-0.31918002995573874,1.0099101012017528,-0.23567285927983872,0.786843177647913,0.3801931489000957,0.06733360341928074,-0.4182380904879572,0.448230605012123,1.1428226019923269,-0.7008002812067107,-0.9528265960823682,0.16921409666104573,-0.2321189369103486,1.4067150981879595,-0.8996080725849857,-0.020364228761414607,-0.6051186814565923,-0.4542178787439367,0.8902985465091476,1.4360863024404278,0.6424637101068639,-0.24572297220482406,-1.144635878568656,-0.3104964171676207,-1.8442320270700612,-0.402890083735357,0.3096071207553138,-1.3247774875957332,-0.5749890046206451,-2.5623083464476264,2.0939381145938447,-1.4627844809059278,-1.04506207721916,-1.1635640272612695,0.8498142990554263,0.5790979612786291,-0.8035121129131575,0.6915682382008483,0.9887753358120481,0.5725170736416944,0.637381534075287,-1.2161750257605888,-0.7287165307989403,-0.5464232876632266,-0.3649806962939663,1.3472364069340996,1.3415149669927902,-0.7423986256356838,0.3235175537655451,0.01830620317089403,-0.21560964163712618,-0.6799803836072068,-1.4445582587569874,1.2488961247500823,0.06940321488678963,0.048331872198486114,-0.9251927212592852,-1.629426086050211,0.9752502823722285,1.2294186690010769],\"yaxis\":\"y8\"},{\"line\":{\"color\":\"rgba(128, 128, 128, 1.0)\",\"dash\":\"solid\",\"shape\":\"linear\",\"width\":1.3},\"marker\":{\"size\":2,\"symbol\":\"circle\"},\"mode\":\"markers\",\"name\":\"C\",\"text\":\"\",\"type\":\"scatter\",\"x\":[0.5816966956153499,0.12316386314759027,-0.22398171843685152,-0.8895932385975902,0.2752188676636905,-0.2043642311215671,0.3948123118583736,0.48645630871897805,1.5739071788301084,2.1488658396531037,-0.31708220249715474,-0.9711842754967692,1.2628175279667635,-1.1834028893365194,1.6944271259868855,-0.5931338474672299,0.0027807338470003007,-0.6818703057681064,0.6628178049410343,0.03540578774837641,0.732895635310974,-0.4275137954232451,1.320181769808673,-1.482472611175471,2.071582002661825,-0.01967219630635455,1.209423427603569,1.6610041759226586,-0.5453412431129742,0.3258745239218415,-0.27722164238155605,0.6478830076709254,0.9950648418037051,-0.48714277801385814,-0.4436228773791175,0.11702106920114262,-0.5740663577799426,2.002122515184173,0.014114137435172026,0.2517242524460662,-0.11235543580606286,0.5375253295601139,-0.5968833989130355,0.048054972651586265,-1.123202596891187,0.004196248013858794,0.661815828049052,-1.2980041274097809,0.3744164921338543,-0.17708144186725294,0.2076525777904713,-1.3025365058856804,-1.5590190180060983,0.6248400236247296,0.7911141185158476,-0.49037525611041033,1.2330545424386792,0.6709923076578755,-0.5331723733231042,0.10228037344181613,-0.1363508547845355,2.218762225844916,0.5446047848971652,-0.08107298699081342,0.585020407460338,0.7651851072247567,0.5140874559311198,-0.5527227666251414,0.328474992492661,1.7157964042871225,-0.4754802351708734,-0.2393856771841323,1.0401174604876424,1.4134185841189972,-0.665029001262137,-1.122798015523656,-0.5260727243464802,-2.6006280522817535,1.0467518800084306,0.39306453239966815,-0.33878690050097,-1.7677071848964492,0.23253039445027843,-0.6199365487060867,1.4471217025997936,-0.507721592541854,0.14885342347303643,0.5986738883632382,0.16912484206819606,0.9555600442980435,-1.0980989001705028,-0.020763816433263235,0.6062071067217284,-0.8319213017686466,1.0144730260507537,1.458043788509651,-1.4586298959821542,-1.3109773870068864,-1.9505596262167764,1.1103572219598006],\"xaxis\":\"x9\",\"y\":[-0.9459269174913192,0.19531141693783344,1.4303855991401946,0.036674790720557564,1.6326923785449838,0.8286045871157671,-0.6481868351097086,3.3916658927148924,-0.23154384282744422,1.5359424592188011,1.1935684228941061,1.8027797241776358,-1.3029711071589536,0.6983580159031979,1.9470600799832063,-0.6548101823073411,-0.20805691104366308,-1.8460005945299778,1.4626668472159017,1.4763952429913119,1.9210846711053138,1.3076687985375077,-3.2567661905590604,-1.6612107230619586,0.4176057096249829,0.42061951190981944,0.3596651067545893,0.13694467232436985,-1.7151734572271393,0.06338432905322991,0.7063361662070474,0.20968216768990333,-0.6271829105879608,-1.2140464658425827,-0.3380145286294853,1.0503729545565748,0.2972746289819503,0.46453433038728964,-0.6709599609392913,0.9079049774175922,0.6509528929577602,-0.4288704871701461,-0.1354137935065262,-0.8781446182484274,-0.009118936141923863,-1.5394821485082721,0.9988622250327465,0.8626156053102499,-0.4094858426901262,0.4761067946376451,-1.6897324420533706,-0.3587935380254397,-0.14877969735308644,0.06727214872836712,-1.0734949787033488,-2.7726853944714307,0.10491033862417087,0.5641612600718001,0.7236960155113175,-0.7038408668181785,0.8495952534911181,-1.1830462402811586,1.0021146824749858,1.1107368011471532,-0.3389152218254186,-0.439484812022148,1.066756487029043,-0.4005847537123203,0.6319762725044623,-0.5380413734209953,-0.08738794666023814,-1.8254551843999103,1.0175681484172752,0.0021127376077187962,-0.7705028546186218,0.06631526524759794,-0.5352360753763258,-1.4559255362244732,0.6814927595357511,0.5107840539439649,0.9796316487643698,-0.21905463173170495,0.08921105080631453,-0.08792361706888079,-0.41923618756050757,-0.4981415546229659,-0.07847535524500188,-0.24018071690368933,-0.38239795722451453,-0.2418035596682951,0.3031425898032398,1.1414566305423526,0.5448674055655569,-0.7664703552982213,-0.1575366576650068,1.3916397672612317,0.8310050728738548,-0.014191793254025784,-0.36244587664514816,-1.6348859125657678],\"yaxis\":\"y9\"},{\"line\":{\"color\":\"rgba(128, 128, 128, 1.0)\",\"dash\":\"solid\",\"shape\":\"linear\",\"width\":1.3},\"marker\":{\"size\":2,\"symbol\":\"circle\"},\"mode\":\"markers\",\"name\":\"C\",\"text\":\"\",\"type\":\"scatter\",\"x\":[-0.5696383137081489,1.1351734827535165,0.9152001917611036,-0.00844155094580938,-0.06258170188690283,-1.397960774408616,0.3435980433431662,1.9771984759663241,0.7980962552551226,0.5099384295338028,0.6953264740395925,-0.050924092129710836,-0.6895188701915604,0.915616107381015,0.02037246592326186,-1.1576373722887503,-0.2887963256996219,0.4796209590156369,-1.2707481935591634,-1.0331744754868155,-1.6716818578114625,1.2795257614096645,-0.04397638767144347,-1.516411895677526,-0.5005577684774363,0.5504292610693635,0.5207414902462956,-1.0748864153982811,0.42032320246494,1.1925244880627393,-1.1332177751503012,-0.24171705755197975,0.1584254681040101,-0.32122177949433656,1.1041953084365854,0.08917121729266873,1.3853616467346457,-0.3212564324754563,-0.6905917343160966,-1.9487907074894022,-0.31918002995573874,1.0099101012017528,-0.23567285927983872,0.786843177647913,0.3801931489000957,0.06733360341928074,-0.4182380904879572,0.448230605012123,1.1428226019923269,-0.7008002812067107,-0.9528265960823682,0.16921409666104573,-0.2321189369103486,1.4067150981879595,-0.8996080725849857,-0.020364228761414607,-0.6051186814565923,-0.4542178787439367,0.8902985465091476,1.4360863024404278,0.6424637101068639,-0.24572297220482406,-1.144635878568656,-0.3104964171676207,-1.8442320270700612,-0.402890083735357,0.3096071207553138,-1.3247774875957332,-0.5749890046206451,-2.5623083464476264,2.0939381145938447,-1.4627844809059278,-1.04506207721916,-1.1635640272612695,0.8498142990554263,0.5790979612786291,-0.8035121129131575,0.6915682382008483,0.9887753358120481,0.5725170736416944,0.637381534075287,-1.2161750257605888,-0.7287165307989403,-0.5464232876632266,-0.3649806962939663,1.3472364069340996,1.3415149669927902,-0.7423986256356838,0.3235175537655451,0.01830620317089403,-0.21560964163712618,-0.6799803836072068,-1.4445582587569874,1.2488961247500823,0.06940321488678963,0.048331872198486114,-0.9251927212592852,-1.629426086050211,0.9752502823722285,1.2294186690010769],\"xaxis\":\"x10\",\"y\":[-0.9459269174913192,0.19531141693783344,1.4303855991401946,0.036674790720557564,1.6326923785449838,0.8286045871157671,-0.6481868351097086,3.3916658927148924,-0.23154384282744422,1.5359424592188011,1.1935684228941061,1.8027797241776358,-1.3029711071589536,0.6983580159031979,1.9470600799832063,-0.6548101823073411,-0.20805691104366308,-1.8460005945299778,1.4626668472159017,1.4763952429913119,1.9210846711053138,1.3076687985375077,-3.2567661905590604,-1.6612107230619586,0.4176057096249829,0.42061951190981944,0.3596651067545893,0.13694467232436985,-1.7151734572271393,0.06338432905322991,0.7063361662070474,0.20968216768990333,-0.6271829105879608,-1.2140464658425827,-0.3380145286294853,1.0503729545565748,0.2972746289819503,0.46453433038728964,-0.6709599609392913,0.9079049774175922,0.6509528929577602,-0.4288704871701461,-0.1354137935065262,-0.8781446182484274,-0.009118936141923863,-1.5394821485082721,0.9988622250327465,0.8626156053102499,-0.4094858426901262,0.4761067946376451,-1.6897324420533706,-0.3587935380254397,-0.14877969735308644,0.06727214872836712,-1.0734949787033488,-2.7726853944714307,0.10491033862417087,0.5641612600718001,0.7236960155113175,-0.7038408668181785,0.8495952534911181,-1.1830462402811586,1.0021146824749858,1.1107368011471532,-0.3389152218254186,-0.439484812022148,1.066756487029043,-0.4005847537123203,0.6319762725044623,-0.5380413734209953,-0.08738794666023814,-1.8254551843999103,1.0175681484172752,0.0021127376077187962,-0.7705028546186218,0.06631526524759794,-0.5352360753763258,-1.4559255362244732,0.6814927595357511,0.5107840539439649,0.9796316487643698,-0.21905463173170495,0.08921105080631453,-0.08792361706888079,-0.41923618756050757,-0.4981415546229659,-0.07847535524500188,-0.24018071690368933,-0.38239795722451453,-0.2418035596682951,0.3031425898032398,1.1414566305423526,0.5448674055655569,-0.7664703552982213,-0.1575366576650068,1.3916397672612317,0.8310050728738548,-0.014191793254025784,-0.36244587664514816,-1.6348859125657678],\"yaxis\":\"y10\"},{\"histfunc\":\"count\",\"histnorm\":\"\",\"marker\":{\"color\":\"rgba(50, 171, 96, 1.0)\",\"line\":{\"color\":\"#4D5663\",\"width\":1.3}},\"name\":\"C\",\"nbinsx\":10,\"opacity\":0.8,\"orientation\":\"v\",\"type\":\"histogram\",\"x\":[-0.9459269174913192,0.19531141693783344,1.4303855991401946,0.036674790720557564,1.6326923785449838,0.8286045871157671,-0.6481868351097086,3.3916658927148924,-0.23154384282744422,1.5359424592188011,1.1935684228941061,1.8027797241776358,-1.3029711071589536,0.6983580159031979,1.9470600799832063,-0.6548101823073411,-0.20805691104366308,-1.8460005945299778,1.4626668472159017,1.4763952429913119,1.9210846711053138,1.3076687985375077,-3.2567661905590604,-1.6612107230619586,0.4176057096249829,0.42061951190981944,0.3596651067545893,0.13694467232436985,-1.7151734572271393,0.06338432905322991,0.7063361662070474,0.20968216768990333,-0.6271829105879608,-1.2140464658425827,-0.3380145286294853,1.0503729545565748,0.2972746289819503,0.46453433038728964,-0.6709599609392913,0.9079049774175922,0.6509528929577602,-0.4288704871701461,-0.1354137935065262,-0.8781446182484274,-0.009118936141923863,-1.5394821485082721,0.9988622250327465,0.8626156053102499,-0.4094858426901262,0.4761067946376451,-1.6897324420533706,-0.3587935380254397,-0.14877969735308644,0.06727214872836712,-1.0734949787033488,-2.7726853944714307,0.10491033862417087,0.5641612600718001,0.7236960155113175,-0.7038408668181785,0.8495952534911181,-1.1830462402811586,1.0021146824749858,1.1107368011471532,-0.3389152218254186,-0.439484812022148,1.066756487029043,-0.4005847537123203,0.6319762725044623,-0.5380413734209953,-0.08738794666023814,-1.8254551843999103,1.0175681484172752,0.0021127376077187962,-0.7705028546186218,0.06631526524759794,-0.5352360753763258,-1.4559255362244732,0.6814927595357511,0.5107840539439649,0.9796316487643698,-0.21905463173170495,0.08921105080631453,-0.08792361706888079,-0.41923618756050757,-0.4981415546229659,-0.07847535524500188,-0.24018071690368933,-0.38239795722451453,-0.2418035596682951,0.3031425898032398,1.1414566305423526,0.5448674055655569,-0.7664703552982213,-0.1575366576650068,1.3916397672612317,0.8310050728738548,-0.014191793254025784,-0.36244587664514816,-1.6348859125657678],\"xaxis\":\"x11\",\"yaxis\":\"y11\"},{\"line\":{\"color\":\"rgba(128, 128, 128, 1.0)\",\"dash\":\"solid\",\"shape\":\"linear\",\"width\":1.3},\"marker\":{\"size\":2,\"symbol\":\"circle\"},\"mode\":\"markers\",\"name\":\"C\",\"text\":\"\",\"type\":\"scatter\",\"x\":[-0.6404112315622998,-1.2036166043389107,-0.26545321366944863,0.7346333548884144,0.48078680404730695,0.05422684339380275,-0.49966150321409286,-0.35421347019870486,1.881331476859132,0.3899522754142814,0.5089092271950661,-0.4032942201657905,0.07509589705458175,-1.0001523874809641,0.10058576147252309,1.2503359025341199,-0.12222233531902106,-0.6465947472710554,-0.12102373860354199,1.665760652611896,-0.2704779995377056,2.7099032561846235,-0.5606662929085504,-0.09189593830619185,1.4596458096663016,0.34168443118914005,1.0223679905549665,-0.7959115689503029,0.7135511703827034,0.9339507623391351,-0.7763600497771335,-0.4428577184276622,-0.36086435401975436,-0.8091761978141375,-1.0720939193957855,0.5162018883739438,-0.4526279649763703,-1.1575681014160044,2.0649448666751122,-0.5682142945678975,0.39511361457906574,-1.2871589804042116,-1.1509207007891296,1.1421519425253968,-1.9671813198861308,0.6666827149967166,0.030219767601846796,-0.6717614488644225,-1.2777657582111945,-0.818040739168885,-0.9472672580307068,-1.7094306873751057,0.08823247868522535,-0.9713362783218384,1.1909251302165311,-1.5864277368053585,0.4210433879345378,-0.3332088572440201,-0.36518229798656426,0.7741998285990774,0.6258155206891973,0.27965045998007354,0.1623426593318974,0.3959902901434726,-0.07276839066216864,-0.5437140184421474,-1.5510141706342768,-0.9788360115750212,-0.27512689218037645,-2.3290172771902546,0.5146476121090945,1.8018496176990066,-0.07522691689864641,-0.0494554751985565,-0.5338208431440795,-0.17314822539444757,0.572036276345299,-1.0268114660962206,0.3582853193530316,2.4797019419531336,1.5630706985459852,-2.785988498132636,-0.27813328931761233,0.43565577181550663,0.3839286453496348,0.4990716288796377,0.02251828966155011,-0.8605405050647003,-1.2100661503805077,0.8513389533495609,-0.41069095401466305,0.007956605216103913,-0.16919967565153948,0.6346036555422729,0.8707563302648257,-0.22978488676347006,-2.2561068330466374,1.2677174057067335,-0.3616913694520314,-0.5220391770856552],\"xaxis\":\"x12\",\"y\":[-0.9459269174913192,0.19531141693783344,1.4303855991401946,0.036674790720557564,1.6326923785449838,0.8286045871157671,-0.6481868351097086,3.3916658927148924,-0.23154384282744422,1.5359424592188011,1.1935684228941061,1.8027797241776358,-1.3029711071589536,0.6983580159031979,1.9470600799832063,-0.6548101823073411,-0.20805691104366308,-1.8460005945299778,1.4626668472159017,1.4763952429913119,1.9210846711053138,1.3076687985375077,-3.2567661905590604,-1.6612107230619586,0.4176057096249829,0.42061951190981944,0.3596651067545893,0.13694467232436985,-1.7151734572271393,0.06338432905322991,0.7063361662070474,0.20968216768990333,-0.6271829105879608,-1.2140464658425827,-0.3380145286294853,1.0503729545565748,0.2972746289819503,0.46453433038728964,-0.6709599609392913,0.9079049774175922,0.6509528929577602,-0.4288704871701461,-0.1354137935065262,-0.8781446182484274,-0.009118936141923863,-1.5394821485082721,0.9988622250327465,0.8626156053102499,-0.4094858426901262,0.4761067946376451,-1.6897324420533706,-0.3587935380254397,-0.14877969735308644,0.06727214872836712,-1.0734949787033488,-2.7726853944714307,0.10491033862417087,0.5641612600718001,0.7236960155113175,-0.7038408668181785,0.8495952534911181,-1.1830462402811586,1.0021146824749858,1.1107368011471532,-0.3389152218254186,-0.439484812022148,1.066756487029043,-0.4005847537123203,0.6319762725044623,-0.5380413734209953,-0.08738794666023814,-1.8254551843999103,1.0175681484172752,0.0021127376077187962,-0.7705028546186218,0.06631526524759794,-0.5352360753763258,-1.4559255362244732,0.6814927595357511,0.5107840539439649,0.9796316487643698,-0.21905463173170495,0.08921105080631453,-0.08792361706888079,-0.41923618756050757,-0.4981415546229659,-0.07847535524500188,-0.24018071690368933,-0.38239795722451453,-0.2418035596682951,0.3031425898032398,1.1414566305423526,0.5448674055655569,-0.7664703552982213,-0.1575366576650068,1.3916397672612317,0.8310050728738548,-0.014191793254025784,-0.36244587664514816,-1.6348859125657678],\"yaxis\":\"y12\"},{\"line\":{\"color\":\"rgba(128, 128, 128, 1.0)\",\"dash\":\"solid\",\"shape\":\"linear\",\"width\":1.3},\"marker\":{\"size\":2,\"symbol\":\"circle\"},\"mode\":\"markers\",\"name\":\"D\",\"text\":\"\",\"type\":\"scatter\",\"x\":[0.5816966956153499,0.12316386314759027,-0.22398171843685152,-0.8895932385975902,0.2752188676636905,-0.2043642311215671,0.3948123118583736,0.48645630871897805,1.5739071788301084,2.1488658396531037,-0.31708220249715474,-0.9711842754967692,1.2628175279667635,-1.1834028893365194,1.6944271259868855,-0.5931338474672299,0.0027807338470003007,-0.6818703057681064,0.6628178049410343,0.03540578774837641,0.732895635310974,-0.4275137954232451,1.320181769808673,-1.482472611175471,2.071582002661825,-0.01967219630635455,1.209423427603569,1.6610041759226586,-0.5453412431129742,0.3258745239218415,-0.27722164238155605,0.6478830076709254,0.9950648418037051,-0.48714277801385814,-0.4436228773791175,0.11702106920114262,-0.5740663577799426,2.002122515184173,0.014114137435172026,0.2517242524460662,-0.11235543580606286,0.5375253295601139,-0.5968833989130355,0.048054972651586265,-1.123202596891187,0.004196248013858794,0.661815828049052,-1.2980041274097809,0.3744164921338543,-0.17708144186725294,0.2076525777904713,-1.3025365058856804,-1.5590190180060983,0.6248400236247296,0.7911141185158476,-0.49037525611041033,1.2330545424386792,0.6709923076578755,-0.5331723733231042,0.10228037344181613,-0.1363508547845355,2.218762225844916,0.5446047848971652,-0.08107298699081342,0.585020407460338,0.7651851072247567,0.5140874559311198,-0.5527227666251414,0.328474992492661,1.7157964042871225,-0.4754802351708734,-0.2393856771841323,1.0401174604876424,1.4134185841189972,-0.665029001262137,-1.122798015523656,-0.5260727243464802,-2.6006280522817535,1.0467518800084306,0.39306453239966815,-0.33878690050097,-1.7677071848964492,0.23253039445027843,-0.6199365487060867,1.4471217025997936,-0.507721592541854,0.14885342347303643,0.5986738883632382,0.16912484206819606,0.9555600442980435,-1.0980989001705028,-0.020763816433263235,0.6062071067217284,-0.8319213017686466,1.0144730260507537,1.458043788509651,-1.4586298959821542,-1.3109773870068864,-1.9505596262167764,1.1103572219598006],\"xaxis\":\"x13\",\"y\":[-0.6404112315622998,-1.2036166043389107,-0.26545321366944863,0.7346333548884144,0.48078680404730695,0.05422684339380275,-0.49966150321409286,-0.35421347019870486,1.881331476859132,0.3899522754142814,0.5089092271950661,-0.4032942201657905,0.07509589705458175,-1.0001523874809641,0.10058576147252309,1.2503359025341199,-0.12222233531902106,-0.6465947472710554,-0.12102373860354199,1.665760652611896,-0.2704779995377056,2.7099032561846235,-0.5606662929085504,-0.09189593830619185,1.4596458096663016,0.34168443118914005,1.0223679905549665,-0.7959115689503029,0.7135511703827034,0.9339507623391351,-0.7763600497771335,-0.4428577184276622,-0.36086435401975436,-0.8091761978141375,-1.0720939193957855,0.5162018883739438,-0.4526279649763703,-1.1575681014160044,2.0649448666751122,-0.5682142945678975,0.39511361457906574,-1.2871589804042116,-1.1509207007891296,1.1421519425253968,-1.9671813198861308,0.6666827149967166,0.030219767601846796,-0.6717614488644225,-1.2777657582111945,-0.818040739168885,-0.9472672580307068,-1.7094306873751057,0.08823247868522535,-0.9713362783218384,1.1909251302165311,-1.5864277368053585,0.4210433879345378,-0.3332088572440201,-0.36518229798656426,0.7741998285990774,0.6258155206891973,0.27965045998007354,0.1623426593318974,0.3959902901434726,-0.07276839066216864,-0.5437140184421474,-1.5510141706342768,-0.9788360115750212,-0.27512689218037645,-2.3290172771902546,0.5146476121090945,1.8018496176990066,-0.07522691689864641,-0.0494554751985565,-0.5338208431440795,-0.17314822539444757,0.572036276345299,-1.0268114660962206,0.3582853193530316,2.4797019419531336,1.5630706985459852,-2.785988498132636,-0.27813328931761233,0.43565577181550663,0.3839286453496348,0.4990716288796377,0.02251828966155011,-0.8605405050647003,-1.2100661503805077,0.8513389533495609,-0.41069095401466305,0.007956605216103913,-0.16919967565153948,0.6346036555422729,0.8707563302648257,-0.22978488676347006,-2.2561068330466374,1.2677174057067335,-0.3616913694520314,-0.5220391770856552],\"yaxis\":\"y13\"},{\"line\":{\"color\":\"rgba(128, 128, 128, 1.0)\",\"dash\":\"solid\",\"shape\":\"linear\",\"width\":1.3},\"marker\":{\"size\":2,\"symbol\":\"circle\"},\"mode\":\"markers\",\"name\":\"D\",\"text\":\"\",\"type\":\"scatter\",\"x\":[-0.5696383137081489,1.1351734827535165,0.9152001917611036,-0.00844155094580938,-0.06258170188690283,-1.397960774408616,0.3435980433431662,1.9771984759663241,0.7980962552551226,0.5099384295338028,0.6953264740395925,-0.050924092129710836,-0.6895188701915604,0.915616107381015,0.02037246592326186,-1.1576373722887503,-0.2887963256996219,0.4796209590156369,-1.2707481935591634,-1.0331744754868155,-1.6716818578114625,1.2795257614096645,-0.04397638767144347,-1.516411895677526,-0.5005577684774363,0.5504292610693635,0.5207414902462956,-1.0748864153982811,0.42032320246494,1.1925244880627393,-1.1332177751503012,-0.24171705755197975,0.1584254681040101,-0.32122177949433656,1.1041953084365854,0.08917121729266873,1.3853616467346457,-0.3212564324754563,-0.6905917343160966,-1.9487907074894022,-0.31918002995573874,1.0099101012017528,-0.23567285927983872,0.786843177647913,0.3801931489000957,0.06733360341928074,-0.4182380904879572,0.448230605012123,1.1428226019923269,-0.7008002812067107,-0.9528265960823682,0.16921409666104573,-0.2321189369103486,1.4067150981879595,-0.8996080725849857,-0.020364228761414607,-0.6051186814565923,-0.4542178787439367,0.8902985465091476,1.4360863024404278,0.6424637101068639,-0.24572297220482406,-1.144635878568656,-0.3104964171676207,-1.8442320270700612,-0.402890083735357,0.3096071207553138,-1.3247774875957332,-0.5749890046206451,-2.5623083464476264,2.0939381145938447,-1.4627844809059278,-1.04506207721916,-1.1635640272612695,0.8498142990554263,0.5790979612786291,-0.8035121129131575,0.6915682382008483,0.9887753358120481,0.5725170736416944,0.637381534075287,-1.2161750257605888,-0.7287165307989403,-0.5464232876632266,-0.3649806962939663,1.3472364069340996,1.3415149669927902,-0.7423986256356838,0.3235175537655451,0.01830620317089403,-0.21560964163712618,-0.6799803836072068,-1.4445582587569874,1.2488961247500823,0.06940321488678963,0.048331872198486114,-0.9251927212592852,-1.629426086050211,0.9752502823722285,1.2294186690010769],\"xaxis\":\"x14\",\"y\":[-0.6404112315622998,-1.2036166043389107,-0.26545321366944863,0.7346333548884144,0.48078680404730695,0.05422684339380275,-0.49966150321409286,-0.35421347019870486,1.881331476859132,0.3899522754142814,0.5089092271950661,-0.4032942201657905,0.07509589705458175,-1.0001523874809641,0.10058576147252309,1.2503359025341199,-0.12222233531902106,-0.6465947472710554,-0.12102373860354199,1.665760652611896,-0.2704779995377056,2.7099032561846235,-0.5606662929085504,-0.09189593830619185,1.4596458096663016,0.34168443118914005,1.0223679905549665,-0.7959115689503029,0.7135511703827034,0.9339507623391351,-0.7763600497771335,-0.4428577184276622,-0.36086435401975436,-0.8091761978141375,-1.0720939193957855,0.5162018883739438,-0.4526279649763703,-1.1575681014160044,2.0649448666751122,-0.5682142945678975,0.39511361457906574,-1.2871589804042116,-1.1509207007891296,1.1421519425253968,-1.9671813198861308,0.6666827149967166,0.030219767601846796,-0.6717614488644225,-1.2777657582111945,-0.818040739168885,-0.9472672580307068,-1.7094306873751057,0.08823247868522535,-0.9713362783218384,1.1909251302165311,-1.5864277368053585,0.4210433879345378,-0.3332088572440201,-0.36518229798656426,0.7741998285990774,0.6258155206891973,0.27965045998007354,0.1623426593318974,0.3959902901434726,-0.07276839066216864,-0.5437140184421474,-1.5510141706342768,-0.9788360115750212,-0.27512689218037645,-2.3290172771902546,0.5146476121090945,1.8018496176990066,-0.07522691689864641,-0.0494554751985565,-0.5338208431440795,-0.17314822539444757,0.572036276345299,-1.0268114660962206,0.3582853193530316,2.4797019419531336,1.5630706985459852,-2.785988498132636,-0.27813328931761233,0.43565577181550663,0.3839286453496348,0.4990716288796377,0.02251828966155011,-0.8605405050647003,-1.2100661503805077,0.8513389533495609,-0.41069095401466305,0.007956605216103913,-0.16919967565153948,0.6346036555422729,0.8707563302648257,-0.22978488676347006,-2.2561068330466374,1.2677174057067335,-0.3616913694520314,-0.5220391770856552],\"yaxis\":\"y14\"},{\"line\":{\"color\":\"rgba(128, 128, 128, 1.0)\",\"dash\":\"solid\",\"shape\":\"linear\",\"width\":1.3},\"marker\":{\"size\":2,\"symbol\":\"circle\"},\"mode\":\"markers\",\"name\":\"D\",\"text\":\"\",\"type\":\"scatter\",\"x\":[-0.9459269174913192,0.19531141693783344,1.4303855991401946,0.036674790720557564,1.6326923785449838,0.8286045871157671,-0.6481868351097086,3.3916658927148924,-0.23154384282744422,1.5359424592188011,1.1935684228941061,1.8027797241776358,-1.3029711071589536,0.6983580159031979,1.9470600799832063,-0.6548101823073411,-0.20805691104366308,-1.8460005945299778,1.4626668472159017,1.4763952429913119,1.9210846711053138,1.3076687985375077,-3.2567661905590604,-1.6612107230619586,0.4176057096249829,0.42061951190981944,0.3596651067545893,0.13694467232436985,-1.7151734572271393,0.06338432905322991,0.7063361662070474,0.20968216768990333,-0.6271829105879608,-1.2140464658425827,-0.3380145286294853,1.0503729545565748,0.2972746289819503,0.46453433038728964,-0.6709599609392913,0.9079049774175922,0.6509528929577602,-0.4288704871701461,-0.1354137935065262,-0.8781446182484274,-0.009118936141923863,-1.5394821485082721,0.9988622250327465,0.8626156053102499,-0.4094858426901262,0.4761067946376451,-1.6897324420533706,-0.3587935380254397,-0.14877969735308644,0.06727214872836712,-1.0734949787033488,-2.7726853944714307,0.10491033862417087,0.5641612600718001,0.7236960155113175,-0.7038408668181785,0.8495952534911181,-1.1830462402811586,1.0021146824749858,1.1107368011471532,-0.3389152218254186,-0.439484812022148,1.066756487029043,-0.4005847537123203,0.6319762725044623,-0.5380413734209953,-0.08738794666023814,-1.8254551843999103,1.0175681484172752,0.0021127376077187962,-0.7705028546186218,0.06631526524759794,-0.5352360753763258,-1.4559255362244732,0.6814927595357511,0.5107840539439649,0.9796316487643698,-0.21905463173170495,0.08921105080631453,-0.08792361706888079,-0.41923618756050757,-0.4981415546229659,-0.07847535524500188,-0.24018071690368933,-0.38239795722451453,-0.2418035596682951,0.3031425898032398,1.1414566305423526,0.5448674055655569,-0.7664703552982213,-0.1575366576650068,1.3916397672612317,0.8310050728738548,-0.014191793254025784,-0.36244587664514816,-1.6348859125657678],\"xaxis\":\"x15\",\"y\":[-0.6404112315622998,-1.2036166043389107,-0.26545321366944863,0.7346333548884144,0.48078680404730695,0.05422684339380275,-0.49966150321409286,-0.35421347019870486,1.881331476859132,0.3899522754142814,0.5089092271950661,-0.4032942201657905,0.07509589705458175,-1.0001523874809641,0.10058576147252309,1.2503359025341199,-0.12222233531902106,-0.6465947472710554,-0.12102373860354199,1.665760652611896,-0.2704779995377056,2.7099032561846235,-0.5606662929085504,-0.09189593830619185,1.4596458096663016,0.34168443118914005,1.0223679905549665,-0.7959115689503029,0.7135511703827034,0.9339507623391351,-0.7763600497771335,-0.4428577184276622,-0.36086435401975436,-0.8091761978141375,-1.0720939193957855,0.5162018883739438,-0.4526279649763703,-1.1575681014160044,2.0649448666751122,-0.5682142945678975,0.39511361457906574,-1.2871589804042116,-1.1509207007891296,1.1421519425253968,-1.9671813198861308,0.6666827149967166,0.030219767601846796,-0.6717614488644225,-1.2777657582111945,-0.818040739168885,-0.9472672580307068,-1.7094306873751057,0.08823247868522535,-0.9713362783218384,1.1909251302165311,-1.5864277368053585,0.4210433879345378,-0.3332088572440201,-0.36518229798656426,0.7741998285990774,0.6258155206891973,0.27965045998007354,0.1623426593318974,0.3959902901434726,-0.07276839066216864,-0.5437140184421474,-1.5510141706342768,-0.9788360115750212,-0.27512689218037645,-2.3290172771902546,0.5146476121090945,1.8018496176990066,-0.07522691689864641,-0.0494554751985565,-0.5338208431440795,-0.17314822539444757,0.572036276345299,-1.0268114660962206,0.3582853193530316,2.4797019419531336,1.5630706985459852,-2.785988498132636,-0.27813328931761233,0.43565577181550663,0.3839286453496348,0.4990716288796377,0.02251828966155011,-0.8605405050647003,-1.2100661503805077,0.8513389533495609,-0.41069095401466305,0.007956605216103913,-0.16919967565153948,0.6346036555422729,0.8707563302648257,-0.22978488676347006,-2.2561068330466374,1.2677174057067335,-0.3616913694520314,-0.5220391770856552],\"yaxis\":\"y15\"},{\"histfunc\":\"count\",\"histnorm\":\"\",\"marker\":{\"color\":\"rgba(128, 0, 128, 1.0)\",\"line\":{\"color\":\"#4D5663\",\"width\":1.3}},\"name\":\"D\",\"nbinsx\":10,\"opacity\":0.8,\"orientation\":\"v\",\"type\":\"histogram\",\"x\":[-0.6404112315622998,-1.2036166043389107,-0.26545321366944863,0.7346333548884144,0.48078680404730695,0.05422684339380275,-0.49966150321409286,-0.35421347019870486,1.881331476859132,0.3899522754142814,0.5089092271950661,-0.4032942201657905,0.07509589705458175,-1.0001523874809641,0.10058576147252309,1.2503359025341199,-0.12222233531902106,-0.6465947472710554,-0.12102373860354199,1.665760652611896,-0.2704779995377056,2.7099032561846235,-0.5606662929085504,-0.09189593830619185,1.4596458096663016,0.34168443118914005,1.0223679905549665,-0.7959115689503029,0.7135511703827034,0.9339507623391351,-0.7763600497771335,-0.4428577184276622,-0.36086435401975436,-0.8091761978141375,-1.0720939193957855,0.5162018883739438,-0.4526279649763703,-1.1575681014160044,2.0649448666751122,-0.5682142945678975,0.39511361457906574,-1.2871589804042116,-1.1509207007891296,1.1421519425253968,-1.9671813198861308,0.6666827149967166,0.030219767601846796,-0.6717614488644225,-1.2777657582111945,-0.818040739168885,-0.9472672580307068,-1.7094306873751057,0.08823247868522535,-0.9713362783218384,1.1909251302165311,-1.5864277368053585,0.4210433879345378,-0.3332088572440201,-0.36518229798656426,0.7741998285990774,0.6258155206891973,0.27965045998007354,0.1623426593318974,0.3959902901434726,-0.07276839066216864,-0.5437140184421474,-1.5510141706342768,-0.9788360115750212,-0.27512689218037645,-2.3290172771902546,0.5146476121090945,1.8018496176990066,-0.07522691689864641,-0.0494554751985565,-0.5338208431440795,-0.17314822539444757,0.572036276345299,-1.0268114660962206,0.3582853193530316,2.4797019419531336,1.5630706985459852,-2.785988498132636,-0.27813328931761233,0.43565577181550663,0.3839286453496348,0.4990716288796377,0.02251828966155011,-0.8605405050647003,-1.2100661503805077,0.8513389533495609,-0.41069095401466305,0.007956605216103913,-0.16919967565153948,0.6346036555422729,0.8707563302648257,-0.22978488676347006,-2.2561068330466374,1.2677174057067335,-0.3616913694520314,-0.5220391770856552],\"xaxis\":\"x16\",\"yaxis\":\"y16\"}],                        {\"bargap\":0.02,\"legend\":{\"bgcolor\":\"#F5F6F9\",\"font\":{\"color\":\"#4D5663\"}},\"paper_bgcolor\":\"#F5F6F9\",\"plot_bgcolor\":\"#F5F6F9\",\"showlegend\":false,\"template\":{\"data\":{\"bar\":[{\"error_x\":{\"color\":\"#2a3f5f\"},\"error_y\":{\"color\":\"#2a3f5f\"},\"marker\":{\"line\":{\"color\":\"#E5ECF6\",\"width\":0.5},\"pattern\":{\"fillmode\":\"overlay\",\"size\":10,\"solidity\":0.2}},\"type\":\"bar\"}],\"barpolar\":[{\"marker\":{\"line\":{\"color\":\"#E5ECF6\",\"width\":0.5},\"pattern\":{\"fillmode\":\"overlay\",\"size\":10,\"solidity\":0.2}},\"type\":\"barpolar\"}],\"carpet\":[{\"aaxis\":{\"endlinecolor\":\"#2a3f5f\",\"gridcolor\":\"white\",\"linecolor\":\"white\",\"minorgridcolor\":\"white\",\"startlinecolor\":\"#2a3f5f\"},\"baxis\":{\"endlinecolor\":\"#2a3f5f\",\"gridcolor\":\"white\",\"linecolor\":\"white\",\"minorgridcolor\":\"white\",\"startlinecolor\":\"#2a3f5f\"},\"type\":\"carpet\"}],\"choropleth\":[{\"colorbar\":{\"outlinewidth\":0,\"ticks\":\"\"},\"type\":\"choropleth\"}],\"contour\":[{\"colorbar\":{\"outlinewidth\":0,\"ticks\":\"\"},\"colorscale\":[[0.0,\"#0d0887\"],[0.1111111111111111,\"#46039f\"],[0.2222222222222222,\"#7201a8\"],[0.3333333333333333,\"#9c179e\"],[0.4444444444444444,\"#bd3786\"],[0.5555555555555556,\"#d8576b\"],[0.6666666666666666,\"#ed7953\"],[0.7777777777777778,\"#fb9f3a\"],[0.8888888888888888,\"#fdca26\"],[1.0,\"#f0f921\"]],\"type\":\"contour\"}],\"contourcarpet\":[{\"colorbar\":{\"outlinewidth\":0,\"ticks\":\"\"},\"type\":\"contourcarpet\"}],\"heatmap\":[{\"colorbar\":{\"outlinewidth\":0,\"ticks\":\"\"},\"colorscale\":[[0.0,\"#0d0887\"],[0.1111111111111111,\"#46039f\"],[0.2222222222222222,\"#7201a8\"],[0.3333333333333333,\"#9c179e\"],[0.4444444444444444,\"#bd3786\"],[0.5555555555555556,\"#d8576b\"],[0.6666666666666666,\"#ed7953\"],[0.7777777777777778,\"#fb9f3a\"],[0.8888888888888888,\"#fdca26\"],[1.0,\"#f0f921\"]],\"type\":\"heatmap\"}],\"heatmapgl\":[{\"colorbar\":{\"outlinewidth\":0,\"ticks\":\"\"},\"colorscale\":[[0.0,\"#0d0887\"],[0.1111111111111111,\"#46039f\"],[0.2222222222222222,\"#7201a8\"],[0.3333333333333333,\"#9c179e\"],[0.4444444444444444,\"#bd3786\"],[0.5555555555555556,\"#d8576b\"],[0.6666666666666666,\"#ed7953\"],[0.7777777777777778,\"#fb9f3a\"],[0.8888888888888888,\"#fdca26\"],[1.0,\"#f0f921\"]],\"type\":\"heatmapgl\"}],\"histogram\":[{\"marker\":{\"pattern\":{\"fillmode\":\"overlay\",\"size\":10,\"solidity\":0.2}},\"type\":\"histogram\"}],\"histogram2d\":[{\"colorbar\":{\"outlinewidth\":0,\"ticks\":\"\"},\"colorscale\":[[0.0,\"#0d0887\"],[0.1111111111111111,\"#46039f\"],[0.2222222222222222,\"#7201a8\"],[0.3333333333333333,\"#9c179e\"],[0.4444444444444444,\"#bd3786\"],[0.5555555555555556,\"#d8576b\"],[0.6666666666666666,\"#ed7953\"],[0.7777777777777778,\"#fb9f3a\"],[0.8888888888888888,\"#fdca26\"],[1.0,\"#f0f921\"]],\"type\":\"histogram2d\"}],\"histogram2dcontour\":[{\"colorbar\":{\"outlinewidth\":0,\"ticks\":\"\"},\"colorscale\":[[0.0,\"#0d0887\"],[0.1111111111111111,\"#46039f\"],[0.2222222222222222,\"#7201a8\"],[0.3333333333333333,\"#9c179e\"],[0.4444444444444444,\"#bd3786\"],[0.5555555555555556,\"#d8576b\"],[0.6666666666666666,\"#ed7953\"],[0.7777777777777778,\"#fb9f3a\"],[0.8888888888888888,\"#fdca26\"],[1.0,\"#f0f921\"]],\"type\":\"histogram2dcontour\"}],\"mesh3d\":[{\"colorbar\":{\"outlinewidth\":0,\"ticks\":\"\"},\"type\":\"mesh3d\"}],\"parcoords\":[{\"line\":{\"colorbar\":{\"outlinewidth\":0,\"ticks\":\"\"}},\"type\":\"parcoords\"}],\"pie\":[{\"automargin\":true,\"type\":\"pie\"}],\"scatter\":[{\"marker\":{\"colorbar\":{\"outlinewidth\":0,\"ticks\":\"\"}},\"type\":\"scatter\"}],\"scatter3d\":[{\"line\":{\"colorbar\":{\"outlinewidth\":0,\"ticks\":\"\"}},\"marker\":{\"colorbar\":{\"outlinewidth\":0,\"ticks\":\"\"}},\"type\":\"scatter3d\"}],\"scattercarpet\":[{\"marker\":{\"colorbar\":{\"outlinewidth\":0,\"ticks\":\"\"}},\"type\":\"scattercarpet\"}],\"scattergeo\":[{\"marker\":{\"colorbar\":{\"outlinewidth\":0,\"ticks\":\"\"}},\"type\":\"scattergeo\"}],\"scattergl\":[{\"marker\":{\"colorbar\":{\"outlinewidth\":0,\"ticks\":\"\"}},\"type\":\"scattergl\"}],\"scattermapbox\":[{\"marker\":{\"colorbar\":{\"outlinewidth\":0,\"ticks\":\"\"}},\"type\":\"scattermapbox\"}],\"scatterpolar\":[{\"marker\":{\"colorbar\":{\"outlinewidth\":0,\"ticks\":\"\"}},\"type\":\"scatterpolar\"}],\"scatterpolargl\":[{\"marker\":{\"colorbar\":{\"outlinewidth\":0,\"ticks\":\"\"}},\"type\":\"scatterpolargl\"}],\"scatterternary\":[{\"marker\":{\"colorbar\":{\"outlinewidth\":0,\"ticks\":\"\"}},\"type\":\"scatterternary\"}],\"surface\":[{\"colorbar\":{\"outlinewidth\":0,\"ticks\":\"\"},\"colorscale\":[[0.0,\"#0d0887\"],[0.1111111111111111,\"#46039f\"],[0.2222222222222222,\"#7201a8\"],[0.3333333333333333,\"#9c179e\"],[0.4444444444444444,\"#bd3786\"],[0.5555555555555556,\"#d8576b\"],[0.6666666666666666,\"#ed7953\"],[0.7777777777777778,\"#fb9f3a\"],[0.8888888888888888,\"#fdca26\"],[1.0,\"#f0f921\"]],\"type\":\"surface\"}],\"table\":[{\"cells\":{\"fill\":{\"color\":\"#EBF0F8\"},\"line\":{\"color\":\"white\"}},\"header\":{\"fill\":{\"color\":\"#C8D4E3\"},\"line\":{\"color\":\"white\"}},\"type\":\"table\"}]},\"layout\":{\"annotationdefaults\":{\"arrowcolor\":\"#2a3f5f\",\"arrowhead\":0,\"arrowwidth\":1},\"autotypenumbers\":\"strict\",\"coloraxis\":{\"colorbar\":{\"outlinewidth\":0,\"ticks\":\"\"}},\"colorscale\":{\"diverging\":[[0,\"#8e0152\"],[0.1,\"#c51b7d\"],[0.2,\"#de77ae\"],[0.3,\"#f1b6da\"],[0.4,\"#fde0ef\"],[0.5,\"#f7f7f7\"],[0.6,\"#e6f5d0\"],[0.7,\"#b8e186\"],[0.8,\"#7fbc41\"],[0.9,\"#4d9221\"],[1,\"#276419\"]],\"sequential\":[[0.0,\"#0d0887\"],[0.1111111111111111,\"#46039f\"],[0.2222222222222222,\"#7201a8\"],[0.3333333333333333,\"#9c179e\"],[0.4444444444444444,\"#bd3786\"],[0.5555555555555556,\"#d8576b\"],[0.6666666666666666,\"#ed7953\"],[0.7777777777777778,\"#fb9f3a\"],[0.8888888888888888,\"#fdca26\"],[1.0,\"#f0f921\"]],\"sequentialminus\":[[0.0,\"#0d0887\"],[0.1111111111111111,\"#46039f\"],[0.2222222222222222,\"#7201a8\"],[0.3333333333333333,\"#9c179e\"],[0.4444444444444444,\"#bd3786\"],[0.5555555555555556,\"#d8576b\"],[0.6666666666666666,\"#ed7953\"],[0.7777777777777778,\"#fb9f3a\"],[0.8888888888888888,\"#fdca26\"],[1.0,\"#f0f921\"]]},\"colorway\":[\"#636efa\",\"#EF553B\",\"#00cc96\",\"#ab63fa\",\"#FFA15A\",\"#19d3f3\",\"#FF6692\",\"#B6E880\",\"#FF97FF\",\"#FECB52\"],\"font\":{\"color\":\"#2a3f5f\"},\"geo\":{\"bgcolor\":\"white\",\"lakecolor\":\"white\",\"landcolor\":\"#E5ECF6\",\"showlakes\":true,\"showland\":true,\"subunitcolor\":\"white\"},\"hoverlabel\":{\"align\":\"left\"},\"hovermode\":\"closest\",\"mapbox\":{\"style\":\"light\"},\"paper_bgcolor\":\"white\",\"plot_bgcolor\":\"#E5ECF6\",\"polar\":{\"angularaxis\":{\"gridcolor\":\"white\",\"linecolor\":\"white\",\"ticks\":\"\"},\"bgcolor\":\"#E5ECF6\",\"radialaxis\":{\"gridcolor\":\"white\",\"linecolor\":\"white\",\"ticks\":\"\"}},\"scene\":{\"xaxis\":{\"backgroundcolor\":\"#E5ECF6\",\"gridcolor\":\"white\",\"gridwidth\":2,\"linecolor\":\"white\",\"showbackground\":true,\"ticks\":\"\",\"zerolinecolor\":\"white\"},\"yaxis\":{\"backgroundcolor\":\"#E5ECF6\",\"gridcolor\":\"white\",\"gridwidth\":2,\"linecolor\":\"white\",\"showbackground\":true,\"ticks\":\"\",\"zerolinecolor\":\"white\"},\"zaxis\":{\"backgroundcolor\":\"#E5ECF6\",\"gridcolor\":\"white\",\"gridwidth\":2,\"linecolor\":\"white\",\"showbackground\":true,\"ticks\":\"\",\"zerolinecolor\":\"white\"}},\"shapedefaults\":{\"line\":{\"color\":\"#2a3f5f\"}},\"ternary\":{\"aaxis\":{\"gridcolor\":\"white\",\"linecolor\":\"white\",\"ticks\":\"\"},\"baxis\":{\"gridcolor\":\"white\",\"linecolor\":\"white\",\"ticks\":\"\"},\"bgcolor\":\"#E5ECF6\",\"caxis\":{\"gridcolor\":\"white\",\"linecolor\":\"white\",\"ticks\":\"\"}},\"title\":{\"x\":0.05},\"xaxis\":{\"automargin\":true,\"gridcolor\":\"white\",\"linecolor\":\"white\",\"ticks\":\"\",\"title\":{\"standoff\":15},\"zerolinecolor\":\"white\",\"zerolinewidth\":2},\"yaxis\":{\"automargin\":true,\"gridcolor\":\"white\",\"linecolor\":\"white\",\"ticks\":\"\",\"title\":{\"standoff\":15},\"zerolinecolor\":\"white\",\"zerolinewidth\":2}}},\"title\":{\"font\":{\"color\":\"#4D5663\"}},\"xaxis\":{\"anchor\":\"y\",\"domain\":[0.0,0.2125],\"gridcolor\":\"#E1E5ED\",\"showgrid\":false,\"tickfont\":{\"color\":\"#4D5663\"},\"title\":{\"font\":{\"color\":\"#4D5663\"},\"text\":\"\"},\"zerolinecolor\":\"#E1E5ED\"},\"xaxis10\":{\"anchor\":\"y10\",\"domain\":[0.2625,0.475],\"gridcolor\":\"#E1E5ED\",\"showgrid\":false,\"tickfont\":{\"color\":\"#4D5663\"},\"title\":{\"font\":{\"color\":\"#4D5663\"},\"text\":\"\"},\"zerolinecolor\":\"#E1E5ED\"},\"xaxis11\":{\"anchor\":\"y11\",\"domain\":[0.525,0.7375],\"gridcolor\":\"#E1E5ED\",\"showgrid\":false,\"tickfont\":{\"color\":\"#4D5663\"},\"title\":{\"font\":{\"color\":\"#4D5663\"},\"text\":\"\"},\"zerolinecolor\":\"#E1E5ED\"},\"xaxis12\":{\"anchor\":\"y12\",\"domain\":[0.7875,1.0],\"gridcolor\":\"#E1E5ED\",\"showgrid\":false,\"tickfont\":{\"color\":\"#4D5663\"},\"title\":{\"font\":{\"color\":\"#4D5663\"},\"text\":\"\"},\"zerolinecolor\":\"#E1E5ED\"},\"xaxis13\":{\"anchor\":\"y13\",\"domain\":[0.0,0.2125],\"gridcolor\":\"#E1E5ED\",\"showgrid\":false,\"tickfont\":{\"color\":\"#4D5663\"},\"title\":{\"font\":{\"color\":\"#4D5663\"},\"text\":\"\"},\"zerolinecolor\":\"#E1E5ED\"},\"xaxis14\":{\"anchor\":\"y14\",\"domain\":[0.2625,0.475],\"gridcolor\":\"#E1E5ED\",\"showgrid\":false,\"tickfont\":{\"color\":\"#4D5663\"},\"title\":{\"font\":{\"color\":\"#4D5663\"},\"text\":\"\"},\"zerolinecolor\":\"#E1E5ED\"},\"xaxis15\":{\"anchor\":\"y15\",\"domain\":[0.525,0.7375],\"gridcolor\":\"#E1E5ED\",\"showgrid\":false,\"tickfont\":{\"color\":\"#4D5663\"},\"title\":{\"font\":{\"color\":\"#4D5663\"},\"text\":\"\"},\"zerolinecolor\":\"#E1E5ED\"},\"xaxis16\":{\"anchor\":\"y16\",\"domain\":[0.7875,1.0],\"gridcolor\":\"#E1E5ED\",\"showgrid\":false,\"tickfont\":{\"color\":\"#4D5663\"},\"title\":{\"font\":{\"color\":\"#4D5663\"},\"text\":\"\"},\"zerolinecolor\":\"#E1E5ED\"},\"xaxis2\":{\"anchor\":\"y2\",\"domain\":[0.2625,0.475],\"gridcolor\":\"#E1E5ED\",\"showgrid\":false,\"tickfont\":{\"color\":\"#4D5663\"},\"title\":{\"font\":{\"color\":\"#4D5663\"},\"text\":\"\"},\"zerolinecolor\":\"#E1E5ED\"},\"xaxis3\":{\"anchor\":\"y3\",\"domain\":[0.525,0.7375],\"gridcolor\":\"#E1E5ED\",\"showgrid\":false,\"tickfont\":{\"color\":\"#4D5663\"},\"title\":{\"font\":{\"color\":\"#4D5663\"},\"text\":\"\"},\"zerolinecolor\":\"#E1E5ED\"},\"xaxis4\":{\"anchor\":\"y4\",\"domain\":[0.7875,1.0],\"gridcolor\":\"#E1E5ED\",\"showgrid\":false,\"tickfont\":{\"color\":\"#4D5663\"},\"title\":{\"font\":{\"color\":\"#4D5663\"},\"text\":\"\"},\"zerolinecolor\":\"#E1E5ED\"},\"xaxis5\":{\"anchor\":\"y5\",\"domain\":[0.0,0.2125],\"gridcolor\":\"#E1E5ED\",\"showgrid\":false,\"tickfont\":{\"color\":\"#4D5663\"},\"title\":{\"font\":{\"color\":\"#4D5663\"},\"text\":\"\"},\"zerolinecolor\":\"#E1E5ED\"},\"xaxis6\":{\"anchor\":\"y6\",\"domain\":[0.2625,0.475],\"gridcolor\":\"#E1E5ED\",\"showgrid\":false,\"tickfont\":{\"color\":\"#4D5663\"},\"title\":{\"font\":{\"color\":\"#4D5663\"},\"text\":\"\"},\"zerolinecolor\":\"#E1E5ED\"},\"xaxis7\":{\"anchor\":\"y7\",\"domain\":[0.525,0.7375],\"gridcolor\":\"#E1E5ED\",\"showgrid\":false,\"tickfont\":{\"color\":\"#4D5663\"},\"title\":{\"font\":{\"color\":\"#4D5663\"},\"text\":\"\"},\"zerolinecolor\":\"#E1E5ED\"},\"xaxis8\":{\"anchor\":\"y8\",\"domain\":[0.7875,1.0],\"gridcolor\":\"#E1E5ED\",\"showgrid\":false,\"tickfont\":{\"color\":\"#4D5663\"},\"title\":{\"font\":{\"color\":\"#4D5663\"},\"text\":\"\"},\"zerolinecolor\":\"#E1E5ED\"},\"xaxis9\":{\"anchor\":\"y9\",\"domain\":[0.0,0.2125],\"gridcolor\":\"#E1E5ED\",\"showgrid\":false,\"tickfont\":{\"color\":\"#4D5663\"},\"title\":{\"font\":{\"color\":\"#4D5663\"},\"text\":\"\"},\"zerolinecolor\":\"#E1E5ED\"},\"yaxis\":{\"anchor\":\"x\",\"domain\":[0.8025,1.0],\"gridcolor\":\"#E1E5ED\",\"showgrid\":false,\"tickfont\":{\"color\":\"#4D5663\"},\"title\":{\"font\":{\"color\":\"#4D5663\"},\"text\":\"\"},\"zerolinecolor\":\"#E1E5ED\"},\"yaxis10\":{\"anchor\":\"x10\",\"domain\":[0.2675,0.465],\"gridcolor\":\"#E1E5ED\",\"showgrid\":false,\"tickfont\":{\"color\":\"#4D5663\"},\"title\":{\"font\":{\"color\":\"#4D5663\"},\"text\":\"\"},\"zerolinecolor\":\"#E1E5ED\"},\"yaxis11\":{\"anchor\":\"x11\",\"domain\":[0.2675,0.465],\"gridcolor\":\"#E1E5ED\",\"showgrid\":false,\"tickfont\":{\"color\":\"#4D5663\"},\"title\":{\"font\":{\"color\":\"#4D5663\"},\"text\":\"\"},\"zerolinecolor\":\"#E1E5ED\"},\"yaxis12\":{\"anchor\":\"x12\",\"domain\":[0.2675,0.465],\"gridcolor\":\"#E1E5ED\",\"showgrid\":false,\"tickfont\":{\"color\":\"#4D5663\"},\"title\":{\"font\":{\"color\":\"#4D5663\"},\"text\":\"\"},\"zerolinecolor\":\"#E1E5ED\"},\"yaxis13\":{\"anchor\":\"x13\",\"domain\":[0.0,0.1975],\"gridcolor\":\"#E1E5ED\",\"showgrid\":false,\"tickfont\":{\"color\":\"#4D5663\"},\"title\":{\"font\":{\"color\":\"#4D5663\"},\"text\":\"\"},\"zerolinecolor\":\"#E1E5ED\"},\"yaxis14\":{\"anchor\":\"x14\",\"domain\":[0.0,0.1975],\"gridcolor\":\"#E1E5ED\",\"showgrid\":false,\"tickfont\":{\"color\":\"#4D5663\"},\"title\":{\"font\":{\"color\":\"#4D5663\"},\"text\":\"\"},\"zerolinecolor\":\"#E1E5ED\"},\"yaxis15\":{\"anchor\":\"x15\",\"domain\":[0.0,0.1975],\"gridcolor\":\"#E1E5ED\",\"showgrid\":false,\"tickfont\":{\"color\":\"#4D5663\"},\"title\":{\"font\":{\"color\":\"#4D5663\"},\"text\":\"\"},\"zerolinecolor\":\"#E1E5ED\"},\"yaxis16\":{\"anchor\":\"x16\",\"domain\":[0.0,0.1975],\"gridcolor\":\"#E1E5ED\",\"showgrid\":false,\"tickfont\":{\"color\":\"#4D5663\"},\"title\":{\"font\":{\"color\":\"#4D5663\"},\"text\":\"\"},\"zerolinecolor\":\"#E1E5ED\"},\"yaxis2\":{\"anchor\":\"x2\",\"domain\":[0.8025,1.0],\"gridcolor\":\"#E1E5ED\",\"showgrid\":false,\"tickfont\":{\"color\":\"#4D5663\"},\"title\":{\"font\":{\"color\":\"#4D5663\"},\"text\":\"\"},\"zerolinecolor\":\"#E1E5ED\"},\"yaxis3\":{\"anchor\":\"x3\",\"domain\":[0.8025,1.0],\"gridcolor\":\"#E1E5ED\",\"showgrid\":false,\"tickfont\":{\"color\":\"#4D5663\"},\"title\":{\"font\":{\"color\":\"#4D5663\"},\"text\":\"\"},\"zerolinecolor\":\"#E1E5ED\"},\"yaxis4\":{\"anchor\":\"x4\",\"domain\":[0.8025,1.0],\"gridcolor\":\"#E1E5ED\",\"showgrid\":false,\"tickfont\":{\"color\":\"#4D5663\"},\"title\":{\"font\":{\"color\":\"#4D5663\"},\"text\":\"\"},\"zerolinecolor\":\"#E1E5ED\"},\"yaxis5\":{\"anchor\":\"x5\",\"domain\":[0.535,0.7325],\"gridcolor\":\"#E1E5ED\",\"showgrid\":false,\"tickfont\":{\"color\":\"#4D5663\"},\"title\":{\"font\":{\"color\":\"#4D5663\"},\"text\":\"\"},\"zerolinecolor\":\"#E1E5ED\"},\"yaxis6\":{\"anchor\":\"x6\",\"domain\":[0.535,0.7325],\"gridcolor\":\"#E1E5ED\",\"showgrid\":false,\"tickfont\":{\"color\":\"#4D5663\"},\"title\":{\"font\":{\"color\":\"#4D5663\"},\"text\":\"\"},\"zerolinecolor\":\"#E1E5ED\"},\"yaxis7\":{\"anchor\":\"x7\",\"domain\":[0.535,0.7325],\"gridcolor\":\"#E1E5ED\",\"showgrid\":false,\"tickfont\":{\"color\":\"#4D5663\"},\"title\":{\"font\":{\"color\":\"#4D5663\"},\"text\":\"\"},\"zerolinecolor\":\"#E1E5ED\"},\"yaxis8\":{\"anchor\":\"x8\",\"domain\":[0.535,0.7325],\"gridcolor\":\"#E1E5ED\",\"showgrid\":false,\"tickfont\":{\"color\":\"#4D5663\"},\"title\":{\"font\":{\"color\":\"#4D5663\"},\"text\":\"\"},\"zerolinecolor\":\"#E1E5ED\"},\"yaxis9\":{\"anchor\":\"x9\",\"domain\":[0.2675,0.465],\"gridcolor\":\"#E1E5ED\",\"showgrid\":false,\"tickfont\":{\"color\":\"#4D5663\"},\"title\":{\"font\":{\"color\":\"#4D5663\"},\"text\":\"\"},\"zerolinecolor\":\"#E1E5ED\"}},                        {\"showLink\": true, \"linkText\": \"Export to plot.ly\", \"plotlyServerURL\": \"https://plot.ly\", \"responsive\": true}                    ).then(function(){\n",
       "                            \n",
       "var gd = document.getElementById('fd8e00f0-94dc-43aa-9c3d-08d48155b0e3');\n",
       "var x = new MutationObserver(function (mutations, observer) {{\n",
       "        var display = window.getComputedStyle(gd).display;\n",
       "        if (!display || display === 'none') {{\n",
       "            console.log([gd, 'removed!']);\n",
       "            Plotly.purge(gd);\n",
       "            observer.disconnect();\n",
       "        }}\n",
       "}});\n",
       "\n",
       "// Listen for the removal of the full notebook cells\n",
       "var notebookContainer = gd.closest('#notebook-container');\n",
       "if (notebookContainer) {{\n",
       "    x.observe(notebookContainer, {childList: true});\n",
       "}}\n",
       "\n",
       "// Listen for the clearing of the current output cell\n",
       "var outputEl = gd.closest('.output');\n",
       "if (outputEl) {{\n",
       "    x.observe(outputEl, {childList: true});\n",
       "}}\n",
       "\n",
       "                        })                };                });            </script>        </div>"
      ]
     },
     "metadata": {},
     "output_type": "display_data"
    }
   ],
   "source": [
    "df.scatter_matrix()"
   ]
  },
  {
   "cell_type": "code",
   "execution_count": null,
   "id": "583f2c36",
   "metadata": {},
   "outputs": [],
   "source": []
  }
 ],
 "metadata": {
  "kernelspec": {
   "display_name": "Python 3",
   "language": "python",
   "name": "python3"
  },
  "language_info": {
   "codemirror_mode": {
    "name": "ipython",
    "version": 3
   },
   "file_extension": ".py",
   "mimetype": "text/x-python",
   "name": "python",
   "nbconvert_exporter": "python",
   "pygments_lexer": "ipython3",
   "version": "3.8.8"
  }
 },
 "nbformat": 4,
 "nbformat_minor": 5
}
